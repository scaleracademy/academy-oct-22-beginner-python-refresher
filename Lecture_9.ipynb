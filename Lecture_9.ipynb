{
 "cells": [
  {
   "cell_type": "markdown",
   "id": "d12a2854",
   "metadata": {},
   "source": [
    "## Lecture 9 - Lists III"
   ]
  },
  {
   "cell_type": "markdown",
   "id": "7949c4c0",
   "metadata": {},
   "source": [
    "## Problem"
   ]
  },
  {
   "cell_type": "markdown",
   "id": "610ce351",
   "metadata": {},
   "source": [
    "Given two lists and some operations are performed on these, and these a few results are obtained."
   ]
  },
  {
   "cell_type": "code",
   "execution_count": 3,
   "id": "802e15a8",
   "metadata": {},
   "outputs": [],
   "source": [
    "L1 = [1, 2, 3]\n",
    "\n",
    "L2 = [6, 5, 4]"
   ]
  },
  {
   "cell_type": "markdown",
   "id": "c8e13f1a",
   "metadata": {},
   "source": [
    "Results are:\n",
    "\n",
    "1. [1, 2, 3, 6, 5, 4]\n",
    "2. [1, 2, 3, 4, 5, 6]"
   ]
  },
  {
   "cell_type": "code",
   "execution_count": 4,
   "id": "ba54acc7",
   "metadata": {},
   "outputs": [
    {
     "data": {
      "text/plain": [
       "[1, 2, 3, 6, 5, 4]"
      ]
     },
     "execution_count": 4,
     "metadata": {},
     "output_type": "execute_result"
    }
   ],
   "source": [
    "L1 + L2 # res1"
   ]
  },
  {
   "cell_type": "code",
   "execution_count": 5,
   "id": "a1145bc8",
   "metadata": {},
   "outputs": [
    {
     "data": {
      "text/plain": [
       "[4, 5, 6]"
      ]
     },
     "execution_count": 5,
     "metadata": {},
     "output_type": "execute_result"
    }
   ],
   "source": [
    "L2[::-1] # diff list"
   ]
  },
  {
   "cell_type": "code",
   "execution_count": 7,
   "id": "d724591a",
   "metadata": {},
   "outputs": [
    {
     "data": {
      "text/plain": [
       "[1, 2, 3, 4, 5, 6]"
      ]
     },
     "execution_count": 7,
     "metadata": {},
     "output_type": "execute_result"
    }
   ],
   "source": [
    "L1 + L2[::-1] # res2"
   ]
  },
  {
   "cell_type": "markdown",
   "id": "381189e8",
   "metadata": {},
   "source": [
    "## More methods on lists"
   ]
  },
  {
   "cell_type": "code",
   "execution_count": 9,
   "id": "44307240",
   "metadata": {},
   "outputs": [],
   "source": [
    "L = [5, -1, 5, 4, 6, 9, 23, 2]"
   ]
  },
  {
   "cell_type": "code",
   "execution_count": 10,
   "id": "2c2093bc",
   "metadata": {},
   "outputs": [],
   "source": [
    "L.sort()"
   ]
  },
  {
   "cell_type": "code",
   "execution_count": 11,
   "id": "0b9c9738",
   "metadata": {},
   "outputs": [
    {
     "data": {
      "text/plain": [
       "[-1, 2, 4, 5, 5, 6, 9, 23]"
      ]
     },
     "execution_count": 11,
     "metadata": {},
     "output_type": "execute_result"
    }
   ],
   "source": [
    "L"
   ]
  },
  {
   "cell_type": "code",
   "execution_count": 12,
   "id": "c102815e",
   "metadata": {},
   "outputs": [],
   "source": [
    "L.reverse() # reverse the above data"
   ]
  },
  {
   "cell_type": "code",
   "execution_count": 13,
   "id": "21d38fb6",
   "metadata": {},
   "outputs": [
    {
     "data": {
      "text/plain": [
       "[23, 9, 6, 5, 5, 4, 2, -1]"
      ]
     },
     "execution_count": 13,
     "metadata": {},
     "output_type": "execute_result"
    }
   ],
   "source": [
    "L"
   ]
  },
  {
   "cell_type": "code",
   "execution_count": 14,
   "id": "2c3cbd20",
   "metadata": {},
   "outputs": [],
   "source": [
    "L1 = [5, 1, 3, 7]\n",
    "\n",
    "L2 = [1, 2, 3, 6, -1, -2]"
   ]
  },
  {
   "cell_type": "code",
   "execution_count": 15,
   "id": "d4baa45d",
   "metadata": {},
   "outputs": [
    {
     "data": {
      "text/plain": [
       "[5, 1, 3, 7, 1, 2, 3, 6, -1, -2]"
      ]
     },
     "execution_count": 15,
     "metadata": {},
     "output_type": "execute_result"
    }
   ],
   "source": [
    "L1 + L2"
   ]
  },
  {
   "cell_type": "code",
   "execution_count": 16,
   "id": "a00fc8c6",
   "metadata": {},
   "outputs": [
    {
     "data": {
      "text/plain": [
       "[1, 2, 3, 6, -1, -2, 5, 1, 3, 7]"
      ]
     },
     "execution_count": 16,
     "metadata": {},
     "output_type": "execute_result"
    }
   ],
   "source": [
    "L2 + L1"
   ]
  },
  {
   "cell_type": "code",
   "execution_count": 17,
   "id": "c4287f3b",
   "metadata": {},
   "outputs": [
    {
     "data": {
      "text/plain": [
       "[5, 1, 3, 7]"
      ]
     },
     "execution_count": 17,
     "metadata": {},
     "output_type": "execute_result"
    }
   ],
   "source": [
    "L1 # not changed"
   ]
  },
  {
   "cell_type": "code",
   "execution_count": 18,
   "id": "ec5773c5",
   "metadata": {},
   "outputs": [
    {
     "data": {
      "text/plain": [
       "[1, 2, 3, 6, -1, -2]"
      ]
     },
     "execution_count": 18,
     "metadata": {},
     "output_type": "execute_result"
    }
   ],
   "source": [
    "L2 # not changed"
   ]
  },
  {
   "cell_type": "markdown",
   "id": "1874c961",
   "metadata": {},
   "source": [
    "## Problem 2"
   ]
  },
  {
   "cell_type": "markdown",
   "id": "c9216004",
   "metadata": {},
   "source": [
    "Add elements of L2 to L1"
   ]
  },
  {
   "cell_type": "code",
   "execution_count": 19,
   "id": "25589a7e",
   "metadata": {},
   "outputs": [],
   "source": [
    "L1 = L1 + L2"
   ]
  },
  {
   "cell_type": "code",
   "execution_count": 20,
   "id": "030fcc4a",
   "metadata": {},
   "outputs": [
    {
     "name": "stdout",
     "output_type": "stream",
     "text": [
      "[5, 1, 3, 7, 1, 2, 3, 6, -1, -2]\n"
     ]
    }
   ],
   "source": [
    "print(L1)"
   ]
  },
  {
   "cell_type": "code",
   "execution_count": 21,
   "id": "7f58ae0a",
   "metadata": {},
   "outputs": [],
   "source": [
    "L1 = [5, 1, 3, 7]\n",
    "L2 = [2, 3, 6, -1, -2]"
   ]
  },
  {
   "cell_type": "code",
   "execution_count": 22,
   "id": "a85acf2d",
   "metadata": {},
   "outputs": [],
   "source": [
    "L1.append(L2)"
   ]
  },
  {
   "cell_type": "code",
   "execution_count": 23,
   "id": "182ad2a4",
   "metadata": {},
   "outputs": [
    {
     "name": "stdout",
     "output_type": "stream",
     "text": [
      "[5, 1, 3, 7, [2, 3, 6, -1, -2]]\n"
     ]
    }
   ],
   "source": [
    "print(L1) # nested list => 2D"
   ]
  },
  {
   "cell_type": "code",
   "execution_count": 29,
   "id": "e4685f8c",
   "metadata": {},
   "outputs": [
    {
     "data": {
      "text/plain": [
       "[2, 3, 6, -1, -2]"
      ]
     },
     "execution_count": 29,
     "metadata": {},
     "output_type": "execute_result"
    }
   ],
   "source": [
    "L1[4]"
   ]
  },
  {
   "cell_type": "code",
   "execution_count": 30,
   "id": "b2957ba1",
   "metadata": {},
   "outputs": [
    {
     "data": {
      "text/plain": [
       "2"
      ]
     },
     "execution_count": 30,
     "metadata": {},
     "output_type": "execute_result"
    }
   ],
   "source": [
    "L1[4][0]"
   ]
  },
  {
   "cell_type": "code",
   "execution_count": 31,
   "id": "91a3ee42",
   "metadata": {},
   "outputs": [
    {
     "data": {
      "text/plain": [
       "-2"
      ]
     },
     "execution_count": 31,
     "metadata": {},
     "output_type": "execute_result"
    }
   ],
   "source": [
    "L1[4][-1]"
   ]
  },
  {
   "cell_type": "code",
   "execution_count": 38,
   "id": "f06739cb",
   "metadata": {},
   "outputs": [],
   "source": [
    "L1 = [5, 1, 3, 7, [2, 3, 6, -1, -2]]\n",
    "L1[-1].insert(1, [1, 9, 7])"
   ]
  },
  {
   "cell_type": "code",
   "execution_count": 39,
   "id": "79825f4c",
   "metadata": {},
   "outputs": [
    {
     "data": {
      "text/plain": [
       "[5, 1, 3, 7, [2, [1, 9, 7], 3, 6, -1, -2]]"
      ]
     },
     "execution_count": 39,
     "metadata": {},
     "output_type": "execute_result"
    }
   ],
   "source": [
    "L1 # 3D"
   ]
  },
  {
   "cell_type": "code",
   "execution_count": 42,
   "id": "e0ebe5f2",
   "metadata": {},
   "outputs": [
    {
     "data": {
      "text/plain": [
       "9"
      ]
     },
     "execution_count": 42,
     "metadata": {},
     "output_type": "execute_result"
    }
   ],
   "source": [
    "L1[4][1][1]"
   ]
  },
  {
   "cell_type": "markdown",
   "id": "27904593",
   "metadata": {},
   "source": [
    "## extend"
   ]
  },
  {
   "cell_type": "code",
   "execution_count": 43,
   "id": "c78632f8",
   "metadata": {},
   "outputs": [],
   "source": [
    "L1 = [5, 1, 6, -1, 3]"
   ]
  },
  {
   "cell_type": "code",
   "execution_count": 44,
   "id": "dbb0b330",
   "metadata": {},
   "outputs": [],
   "source": [
    "L2 = [1, 9, 2, 3, 7]"
   ]
  },
  {
   "cell_type": "code",
   "execution_count": 45,
   "id": "823d1a1a",
   "metadata": {},
   "outputs": [],
   "source": [
    "L1.extend(L2)"
   ]
  },
  {
   "cell_type": "code",
   "execution_count": 46,
   "id": "73968b5c",
   "metadata": {},
   "outputs": [
    {
     "data": {
      "text/plain": [
       "[5, 1, 6, -1, 3, 1, 9, 2, 3, 7]"
      ]
     },
     "execution_count": 46,
     "metadata": {},
     "output_type": "execute_result"
    }
   ],
   "source": [
    "L1"
   ]
  },
  {
   "cell_type": "code",
   "execution_count": 47,
   "id": "87980efb",
   "metadata": {},
   "outputs": [
    {
     "data": {
      "text/plain": [
       "[1, 9, 2, 3, 7]"
      ]
     },
     "execution_count": 47,
     "metadata": {},
     "output_type": "execute_result"
    }
   ],
   "source": [
    "L2"
   ]
  },
  {
   "cell_type": "markdown",
   "id": "bcdc1395",
   "metadata": {},
   "source": [
    "## Quizzes"
   ]
  },
  {
   "cell_type": "code",
   "execution_count": 48,
   "id": "c88a0c84",
   "metadata": {},
   "outputs": [
    {
     "name": "stdout",
     "output_type": "stream",
     "text": [
      "[120, 30, 50]\n"
     ]
    }
   ],
   "source": [
    "l = []\n",
    "odi = [120, 30, 50]\n",
    "l.extend(odi)\n",
    "print(l)"
   ]
  },
  {
   "cell_type": "code",
   "execution_count": 49,
   "id": "4645b754",
   "metadata": {},
   "outputs": [
    {
     "name": "stdout",
     "output_type": "stream",
     "text": [
      "[[120, 30, 50]]\n"
     ]
    }
   ],
   "source": [
    "l = []\n",
    "odi = [120, 30, 50]\n",
    "l.append(odi)\n",
    "print(l)"
   ]
  },
  {
   "cell_type": "code",
   "execution_count": 50,
   "id": "791903fe",
   "metadata": {},
   "outputs": [
    {
     "name": "stdout",
     "output_type": "stream",
     "text": [
      "2\n"
     ]
    }
   ],
   "source": [
    "l = [[1,2,3] , [5,6] ]\n",
    "print(len(l))"
   ]
  },
  {
   "cell_type": "code",
   "execution_count": 51,
   "id": "97916399",
   "metadata": {},
   "outputs": [
    {
     "data": {
      "text/plain": [
       "[1, 2, 3]"
      ]
     },
     "execution_count": 51,
     "metadata": {},
     "output_type": "execute_result"
    }
   ],
   "source": [
    "l[0]"
   ]
  },
  {
   "cell_type": "code",
   "execution_count": 52,
   "id": "a72de007",
   "metadata": {},
   "outputs": [
    {
     "data": {
      "text/plain": [
       "[5, 6]"
      ]
     },
     "execution_count": 52,
     "metadata": {},
     "output_type": "execute_result"
    }
   ],
   "source": [
    "l[1]"
   ]
  },
  {
   "cell_type": "code",
   "execution_count": 53,
   "id": "91b61219",
   "metadata": {},
   "outputs": [
    {
     "name": "stdout",
     "output_type": "stream",
     "text": [
      "[4, 3, 2, 1, 5]\n"
     ]
    }
   ],
   "source": [
    "l = [1, 2, 3, 4]\n",
    "l.reverse() \n",
    "l.append(5)\n",
    "print(l)"
   ]
  },
  {
   "cell_type": "code",
   "execution_count": 54,
   "id": "bb71f3ff",
   "metadata": {},
   "outputs": [
    {
     "name": "stdout",
     "output_type": "stream",
     "text": [
      "[1, 2, 0, 3, 3]\n"
     ]
    }
   ],
   "source": [
    "L = [1, 2]\n",
    "L.append(0) # [1, 2, 0]\n",
    " \n",
    "l2 = [3]\n",
    "L.extend(l2) # L = [1, 2, 0, 3]\n",
    "L = L + l2 # L = [1, 2, 0, 3, 3]\n",
    "print(L)"
   ]
  },
  {
   "cell_type": "code",
   "execution_count": 55,
   "id": "6bbadbe2",
   "metadata": {},
   "outputs": [
    {
     "name": "stdout",
     "output_type": "stream",
     "text": [
      "8\n"
     ]
    }
   ],
   "source": [
    "l = [1, 2, 3, [4, 5, 6], 7, 8, 9] \n",
    "\n",
    "print(l[0] + l[4])"
   ]
  },
  {
   "cell_type": "markdown",
   "id": "ed491a16",
   "metadata": {},
   "source": [
    "## Break"
   ]
  },
  {
   "cell_type": "markdown",
   "id": "fe133378",
   "metadata": {},
   "source": [
    "## 2d List and Matrices"
   ]
  },
  {
   "cell_type": "code",
   "execution_count": 56,
   "id": "fb6b2068",
   "metadata": {},
   "outputs": [],
   "source": [
    "nums = [[10, 20, 30], [98, 99]]"
   ]
  },
  {
   "cell_type": "code",
   "execution_count": 57,
   "id": "18ce9655",
   "metadata": {},
   "outputs": [
    {
     "data": {
      "text/plain": [
       "2"
      ]
     },
     "execution_count": 57,
     "metadata": {},
     "output_type": "execute_result"
    }
   ],
   "source": [
    "len(nums)"
   ]
  },
  {
   "cell_type": "code",
   "execution_count": 59,
   "id": "e05ee273",
   "metadata": {},
   "outputs": [
    {
     "data": {
      "text/plain": [
       "3"
      ]
     },
     "execution_count": 59,
     "metadata": {},
     "output_type": "execute_result"
    }
   ],
   "source": [
    "len(nums[0])"
   ]
  },
  {
   "cell_type": "code",
   "execution_count": 60,
   "id": "ab31a101",
   "metadata": {},
   "outputs": [
    {
     "data": {
      "text/plain": [
       "2"
      ]
     },
     "execution_count": 60,
     "metadata": {},
     "output_type": "execute_result"
    }
   ],
   "source": [
    "len(nums[1])"
   ]
  },
  {
   "cell_type": "code",
   "execution_count": 61,
   "id": "d6f05578",
   "metadata": {},
   "outputs": [
    {
     "data": {
      "text/plain": [
       "10"
      ]
     },
     "execution_count": 61,
     "metadata": {},
     "output_type": "execute_result"
    }
   ],
   "source": [
    "nums[0][0]"
   ]
  },
  {
   "cell_type": "code",
   "execution_count": 62,
   "id": "93e1766b",
   "metadata": {},
   "outputs": [
    {
     "data": {
      "text/plain": [
       "98"
      ]
     },
     "execution_count": 62,
     "metadata": {},
     "output_type": "execute_result"
    }
   ],
   "source": [
    "nums[1][0]"
   ]
  },
  {
   "cell_type": "markdown",
   "id": "140feefa",
   "metadata": {},
   "source": [
    "## Iteration and find sum"
   ]
  },
  {
   "cell_type": "code",
   "execution_count": 73,
   "id": "6c90b0d8",
   "metadata": {},
   "outputs": [],
   "source": [
    "mat = [[1, 2, 3], # t20\n",
    "       [4, 5, 6], # odi\n",
    "       [7, 8, 9]] # test"
   ]
  },
  {
   "cell_type": "code",
   "execution_count": 64,
   "id": "70548501",
   "metadata": {},
   "outputs": [
    {
     "name": "stdout",
     "output_type": "stream",
     "text": [
      "[[1, 2, 3], [4, 5, 6], [7, 8, 9]]\n"
     ]
    }
   ],
   "source": [
    "print(mat)"
   ]
  },
  {
   "cell_type": "code",
   "execution_count": 65,
   "id": "6b0e97d5",
   "metadata": {},
   "outputs": [
    {
     "name": "stdout",
     "output_type": "stream",
     "text": [
      "[1, 2, 3]\n",
      "[4, 5, 6]\n",
      "[7, 8, 9]\n"
     ]
    }
   ],
   "source": [
    "for i in mat: # i is a list\n",
    "    print(i)"
   ]
  },
  {
   "cell_type": "code",
   "execution_count": 70,
   "id": "c80c6658",
   "metadata": {},
   "outputs": [
    {
     "name": "stdout",
     "output_type": "stream",
     "text": [
      "1 2 3 \n",
      "4 5 6 \n",
      "7 8 9 \n"
     ]
    }
   ],
   "source": [
    "for L in mat: # L is a list\n",
    "    # L is the row\n",
    "    # print(L)\n",
    "    for x in L:\n",
    "        print(x, end=' ')\n",
    "    print() # row end"
   ]
  },
  {
   "cell_type": "code",
   "execution_count": 71,
   "id": "ac35767e",
   "metadata": {},
   "outputs": [
    {
     "name": "stdout",
     "output_type": "stream",
     "text": [
      "45\n"
     ]
    }
   ],
   "source": [
    "ans = 0\n",
    "for L in mat: # L is a list\n",
    "    for x in L: # x is the element\n",
    "        ans += x\n",
    "    \n",
    "print(ans)"
   ]
  },
  {
   "cell_type": "markdown",
   "id": "b588c031",
   "metadata": {},
   "source": [
    "## Maximum of all formats"
   ]
  },
  {
   "cell_type": "code",
   "execution_count": 75,
   "id": "ea87a075",
   "metadata": {},
   "outputs": [],
   "source": [
    "runs = [[120, 30, 50], # t20\n",
    "        [248, 200, 100], # odi\n",
    "        [100, 50, 60]] # test"
   ]
  },
  {
   "cell_type": "code",
   "execution_count": 78,
   "id": "f77d60ee",
   "metadata": {},
   "outputs": [
    {
     "name": "stdout",
     "output_type": "stream",
     "text": [
      "120 248 100 "
     ]
    }
   ],
   "source": [
    "for L in runs:\n",
    "    print(max(L), end=' ')"
   ]
  },
  {
   "cell_type": "code",
   "execution_count": 79,
   "id": "064a7a61",
   "metadata": {},
   "outputs": [
    {
     "name": "stdout",
     "output_type": "stream",
     "text": [
      "120 248 100 "
     ]
    }
   ],
   "source": [
    "for L in runs:\n",
    "    # my own logic\n",
    "    maxi = L[0]\n",
    "    for i in L[1:]:\n",
    "        if i > maxi:\n",
    "            maxi = i\n",
    "    print(maxi, end=' ')"
   ]
  },
  {
   "cell_type": "markdown",
   "id": "05207fdc",
   "metadata": {},
   "source": [
    "## Min in all formats"
   ]
  },
  {
   "cell_type": "code",
   "execution_count": 81,
   "id": "19828c81",
   "metadata": {},
   "outputs": [],
   "source": [
    "runs = [[120, 30, 50], # t20\n",
    "        [248, 200, 100], # odi\n",
    "        [100, 50, 60]] # test"
   ]
  },
  {
   "cell_type": "code",
   "execution_count": 82,
   "id": "8576421f",
   "metadata": {},
   "outputs": [
    {
     "name": "stdout",
     "output_type": "stream",
     "text": [
      "30\n",
      "100\n",
      "50\n"
     ]
    }
   ],
   "source": [
    "for L in runs:\n",
    "    print(min(L))"
   ]
  },
  {
   "cell_type": "markdown",
   "id": "0792f9c3",
   "metadata": {},
   "source": [
    "## Sum of all formats"
   ]
  },
  {
   "cell_type": "code",
   "execution_count": 84,
   "id": "dd09fe71",
   "metadata": {},
   "outputs": [],
   "source": [
    "runs = [\n",
    " [10, 22, 52], # ODI\n",
    " [200, 300, 199], # Test\n",
    " [5, 15, 20] # T20\n",
    "]"
   ]
  },
  {
   "cell_type": "code",
   "execution_count": 85,
   "id": "107013e1",
   "metadata": {},
   "outputs": [
    {
     "name": "stdout",
     "output_type": "stream",
     "text": [
      "84\n",
      "699\n",
      "40\n"
     ]
    }
   ],
   "source": [
    "for L in runs:\n",
    "    print(sum(L))"
   ]
  },
  {
   "cell_type": "markdown",
   "id": "0b25e6b6",
   "metadata": {},
   "source": [
    "## Maximum in career"
   ]
  },
  {
   "cell_type": "code",
   "execution_count": 86,
   "id": "b74aa380",
   "metadata": {},
   "outputs": [],
   "source": [
    "runs = [[120, 30, 50], # t20\n",
    "        [248, 200, 100], # odi\n",
    "        [100, 50, 60]] # test"
   ]
  },
  {
   "cell_type": "code",
   "execution_count": 87,
   "id": "ccbbfc50",
   "metadata": {},
   "outputs": [
    {
     "name": "stdout",
     "output_type": "stream",
     "text": [
      "248\n"
     ]
    }
   ],
   "source": [
    "maxi = runs[0][0]\n",
    "\n",
    "for L in runs: # L is the list\n",
    "    for x in L: # x is the data\n",
    "        # compare and update\n",
    "        if x > maxi:\n",
    "            maxi = x\n",
    "\n",
    "print(maxi)"
   ]
  },
  {
   "cell_type": "markdown",
   "id": "1d917237",
   "metadata": {},
   "source": [
    "## Rotate an image (2D matrix) by 90 degree"
   ]
  },
  {
   "cell_type": "code",
   "execution_count": 88,
   "id": "3f3a5827",
   "metadata": {},
   "outputs": [],
   "source": [
    "mat = [[1, 2, 3],\n",
    "       [4, 5, 6],\n",
    "       [7, 8, 9]]"
   ]
  },
  {
   "cell_type": "code",
   "execution_count": 89,
   "id": "af9316ad",
   "metadata": {},
   "outputs": [
    {
     "name": "stdout",
     "output_type": "stream",
     "text": [
      "7 4 1\n"
     ]
    }
   ],
   "source": [
    "# mat[i][j] => i index is changing\n",
    "print(mat[2][0], mat[1][0], mat[0][0]) # loop for this?"
   ]
  },
  {
   "cell_type": "code",
   "execution_count": 94,
   "id": "ab81d2d3",
   "metadata": {},
   "outputs": [
    {
     "name": "stdout",
     "output_type": "stream",
     "text": [
      "7 4 1 "
     ]
    }
   ],
   "source": [
    "for i in range(2, -1, -1): # 2, 1, 0 => range(2, -1, -1)\n",
    "    # column = 0\n",
    "    print(mat[i][0], end=' ')"
   ]
  },
  {
   "cell_type": "code",
   "execution_count": 90,
   "id": "cf1045a0",
   "metadata": {},
   "outputs": [
    {
     "name": "stdout",
     "output_type": "stream",
     "text": [
      "8 5 2\n"
     ]
    }
   ],
   "source": [
    "print(mat[2][1], mat[1][1], mat[0][1]) # column? 1"
   ]
  },
  {
   "cell_type": "code",
   "execution_count": 95,
   "id": "fa80fe43",
   "metadata": {},
   "outputs": [
    {
     "name": "stdout",
     "output_type": "stream",
     "text": [
      "8 5 2 "
     ]
    }
   ],
   "source": [
    "for i in range(2, -1, -1):\n",
    "    # column = 1\n",
    "    print(mat[i][1], end=' ')"
   ]
  },
  {
   "cell_type": "code",
   "execution_count": 91,
   "id": "5fc2f724",
   "metadata": {},
   "outputs": [
    {
     "name": "stdout",
     "output_type": "stream",
     "text": [
      "9 6 3\n"
     ]
    }
   ],
   "source": [
    "print(mat[2][2], mat[1][2], mat[0][2]) # column? 2"
   ]
  },
  {
   "cell_type": "code",
   "execution_count": 96,
   "id": "9db49ae5",
   "metadata": {},
   "outputs": [
    {
     "name": "stdout",
     "output_type": "stream",
     "text": [
      "9 6 3 "
     ]
    }
   ],
   "source": [
    "# iterate using index\n",
    "for i in range(2, -1, -1):\n",
    "    # column = 2\n",
    "    print(mat[i][2], end=' ')"
   ]
  },
  {
   "cell_type": "code",
   "execution_count": 97,
   "id": "bf489153",
   "metadata": {},
   "outputs": [
    {
     "name": "stdout",
     "output_type": "stream",
     "text": [
      "[[1, 2, 3], [4, 5, 6], [7, 8, 9]]\n"
     ]
    }
   ],
   "source": [
    "print(mat)"
   ]
  },
  {
   "cell_type": "code",
   "execution_count": 98,
   "id": "ae6d2b56",
   "metadata": {},
   "outputs": [
    {
     "name": "stdout",
     "output_type": "stream",
     "text": [
      "7 4 1 \n",
      "8 5 2 \n",
      "9 6 3 \n"
     ]
    }
   ],
   "source": [
    "for j in range(3): # column is changing, first 0, then 1, then 2\n",
    "    # j is same for the loop below\n",
    "    for i in range(2, -1, -1):\n",
    "        print(mat[i][j], end=' ')\n",
    "    print()"
   ]
  },
  {
   "cell_type": "markdown",
   "id": "6d7b1bf3",
   "metadata": {},
   "source": [
    "## Doubts"
   ]
  },
  {
   "cell_type": "code",
   "execution_count": 99,
   "id": "6549f5ca",
   "metadata": {},
   "outputs": [
    {
     "name": "stdout",
     "output_type": "stream",
     "text": [
      "5\n",
      "1 2 3 4 5\n"
     ]
    }
   ],
   "source": [
    "N = input()\n",
    "x = input().split()\n",
    "L = []\n",
    "for i in x:\n",
    "    L.append(int(i))"
   ]
  },
  {
   "cell_type": "code",
   "execution_count": 100,
   "id": "9493b192",
   "metadata": {},
   "outputs": [
    {
     "name": "stdout",
     "output_type": "stream",
     "text": [
      "[1, 2, 3, 4, 5]\n"
     ]
    }
   ],
   "source": [
    "print(L)"
   ]
  },
  {
   "cell_type": "code",
   "execution_count": 103,
   "id": "334f1222",
   "metadata": {},
   "outputs": [],
   "source": [
    "L.sort(reverse=True)"
   ]
  },
  {
   "cell_type": "code",
   "execution_count": 104,
   "id": "af58f298",
   "metadata": {},
   "outputs": [
    {
     "name": "stdout",
     "output_type": "stream",
     "text": [
      "[5, 4, 3, 2, 1]\n"
     ]
    }
   ],
   "source": [
    "print(L)"
   ]
  },
  {
   "cell_type": "markdown",
   "id": "b5922f19",
   "metadata": {},
   "source": [
    "Input in multiple lines"
   ]
  },
  {
   "cell_type": "code",
   "execution_count": 107,
   "id": "99013c80",
   "metadata": {},
   "outputs": [
    {
     "name": "stdout",
     "output_type": "stream",
     "text": [
      "5\n"
     ]
    }
   ],
   "source": [
    "N = int(input())"
   ]
  },
  {
   "cell_type": "code",
   "execution_count": 108,
   "id": "dbe32329",
   "metadata": {},
   "outputs": [
    {
     "name": "stdout",
     "output_type": "stream",
     "text": [
      "1\n",
      "2\n",
      "3\n",
      "4\n",
      "7\n"
     ]
    }
   ],
   "source": [
    "L = []\n",
    "for i in range(N):\n",
    "    x = int(input())\n",
    "    L.append(x)"
   ]
  },
  {
   "cell_type": "code",
   "execution_count": 109,
   "id": "0e6abcb0",
   "metadata": {},
   "outputs": [
    {
     "name": "stdout",
     "output_type": "stream",
     "text": [
      "[1, 2, 3, 4, 7]\n"
     ]
    }
   ],
   "source": [
    "print(L)"
   ]
  },
  {
   "cell_type": "code",
   "execution_count": 110,
   "id": "1998576c",
   "metadata": {},
   "outputs": [
    {
     "name": "stdout",
     "output_type": "stream",
     "text": [
      "2\n",
      "3\n",
      "1 2 3\n",
      "5\n",
      "3 [1, 2, 3] 5\n",
      "5\n",
      "-1 -2 -3 -4 -5\n",
      "7\n",
      "5 [-1, -2, -3, -4, -5] 7\n"
     ]
    }
   ],
   "source": [
    "T = int(input())\n",
    "\n",
    "for i in range(T):\n",
    "    A = int(input())\n",
    "    x = input().split()\n",
    "    B = int(input())\n",
    "    L = []\n",
    "    for j in x:\n",
    "        L.append(int(j))\n",
    "    print(A, L, B)\n",
    "    "
   ]
  },
  {
   "cell_type": "code",
   "execution_count": 111,
   "id": "fbc88575",
   "metadata": {},
   "outputs": [
    {
     "name": "stdout",
     "output_type": "stream",
     "text": [
      "[3, 2, 1]\n"
     ]
    }
   ],
   "source": [
    "l = [1, 2, 3]\n",
    "l.reverse()\n",
    "print(l)"
   ]
  },
  {
   "cell_type": "code",
   "execution_count": 113,
   "id": "8001752e",
   "metadata": {},
   "outputs": [
    {
     "name": "stdout",
     "output_type": "stream",
     "text": [
      "[1, 2, 3]\n",
      "[3, 2, 1]\n"
     ]
    }
   ],
   "source": [
    "l2 = list(reversed(l))\n",
    "print(l2)\n",
    "print(l)"
   ]
  },
  {
   "cell_type": "code",
   "execution_count": null,
   "id": "b7b71fa7",
   "metadata": {},
   "outputs": [],
   "source": []
  }
 ],
 "metadata": {
  "kernelspec": {
   "display_name": "Python 3 (ipykernel)",
   "language": "python",
   "name": "python3"
  },
  "language_info": {
   "codemirror_mode": {
    "name": "ipython",
    "version": 3
   },
   "file_extension": ".py",
   "mimetype": "text/x-python",
   "name": "python",
   "nbconvert_exporter": "python",
   "pygments_lexer": "ipython3",
   "version": "3.9.12"
  }
 },
 "nbformat": 4,
 "nbformat_minor": 5
}
