{
 "cells": [
  {
   "cell_type": "markdown",
   "id": "8385a02d",
   "metadata": {},
   "source": [
    "## Lecture 7 - Lists"
   ]
  },
  {
   "cell_type": "markdown",
   "id": "5c6be546",
   "metadata": {},
   "source": [
    "## Intro to Lists"
   ]
  },
  {
   "cell_type": "code",
   "execution_count": 2,
   "id": "3e400e87",
   "metadata": {},
   "outputs": [],
   "source": [
    "runs1 = 10\n",
    "runs2 = 55\n",
    "runs3 = 4"
   ]
  },
  {
   "cell_type": "code",
   "execution_count": 3,
   "id": "e765b3a4",
   "metadata": {},
   "outputs": [
    {
     "name": "stdout",
     "output_type": "stream",
     "text": [
      "69\n"
     ]
    }
   ],
   "source": [
    "print(runs1 + runs2 + runs3)"
   ]
  },
  {
   "cell_type": "markdown",
   "id": "b6796372",
   "metadata": {},
   "source": [
    "## Creation of List"
   ]
  },
  {
   "cell_type": "code",
   "execution_count": 4,
   "id": "60b3e406",
   "metadata": {},
   "outputs": [],
   "source": [
    "runs = [10, 55, 4, 67, 17]"
   ]
  },
  {
   "cell_type": "code",
   "execution_count": 5,
   "id": "40d88b96",
   "metadata": {},
   "outputs": [
    {
     "name": "stdout",
     "output_type": "stream",
     "text": [
      "[10, 55, 4, 67, 17]\n"
     ]
    }
   ],
   "source": [
    "print(runs)"
   ]
  },
  {
   "cell_type": "code",
   "execution_count": 11,
   "id": "3d5968cc",
   "metadata": {},
   "outputs": [],
   "source": [
    "# list => an ordered collection of heterogeneous data"
   ]
  },
  {
   "cell_type": "code",
   "execution_count": 7,
   "id": "1d069a63",
   "metadata": {},
   "outputs": [],
   "source": [
    "stock_prices = [35.55, 25.522, 35.12, 34.1, 20.1]"
   ]
  },
  {
   "cell_type": "code",
   "execution_count": 8,
   "id": "56628a4d",
   "metadata": {},
   "outputs": [
    {
     "name": "stdout",
     "output_type": "stream",
     "text": [
      "[35.55, 25.522, 35.12, 34.1, 20.1]\n"
     ]
    }
   ],
   "source": [
    "print(stock_prices)\n"
   ]
  },
  {
   "cell_type": "code",
   "execution_count": 9,
   "id": "70caaaaa",
   "metadata": {},
   "outputs": [],
   "source": [
    "my_list = ['aradhana', 1, 'red', True, .001]"
   ]
  },
  {
   "cell_type": "code",
   "execution_count": 10,
   "id": "e6a104ce",
   "metadata": {},
   "outputs": [
    {
     "name": "stdout",
     "output_type": "stream",
     "text": [
      "['aradhana', 1, 'red', True, 0.001]\n"
     ]
    }
   ],
   "source": [
    "print(my_list)"
   ]
  },
  {
   "cell_type": "code",
   "execution_count": null,
   "id": "e080d995",
   "metadata": {},
   "outputs": [],
   "source": []
  },
  {
   "cell_type": "code",
   "execution_count": null,
   "id": "9592835e",
   "metadata": {},
   "outputs": [],
   "source": []
  },
  {
   "cell_type": "code",
   "execution_count": null,
   "id": "80f0d0c5",
   "metadata": {},
   "outputs": [],
   "source": []
  },
  {
   "cell_type": "markdown",
   "id": "fee818d0",
   "metadata": {},
   "source": [
    "## Indexing"
   ]
  },
  {
   "cell_type": "code",
   "execution_count": 12,
   "id": "fb4a4568",
   "metadata": {},
   "outputs": [],
   "source": [
    "# how to access? using index"
   ]
  },
  {
   "cell_type": "code",
   "execution_count": 14,
   "id": "a55e9ed8",
   "metadata": {},
   "outputs": [],
   "source": [
    "runs = [51, 29, 67, 9, 5, 1, 85, 32, 3, 27]"
   ]
  },
  {
   "cell_type": "code",
   "execution_count": 15,
   "id": "871f8320",
   "metadata": {},
   "outputs": [
    {
     "name": "stdout",
     "output_type": "stream",
     "text": [
      "51\n"
     ]
    }
   ],
   "source": [
    "print(runs[0])"
   ]
  },
  {
   "cell_type": "code",
   "execution_count": 16,
   "id": "e6c94163",
   "metadata": {},
   "outputs": [
    {
     "name": "stdout",
     "output_type": "stream",
     "text": [
      "29\n"
     ]
    }
   ],
   "source": [
    "print(runs[1])"
   ]
  },
  {
   "cell_type": "code",
   "execution_count": 17,
   "id": "b7a42137",
   "metadata": {},
   "outputs": [
    {
     "name": "stdout",
     "output_type": "stream",
     "text": [
      "67\n"
     ]
    }
   ],
   "source": [
    "print(runs[2])"
   ]
  },
  {
   "cell_type": "markdown",
   "id": "6a7e2dd9",
   "metadata": {},
   "source": [
    "## len"
   ]
  },
  {
   "cell_type": "code",
   "execution_count": 18,
   "id": "71f54f0e",
   "metadata": {},
   "outputs": [
    {
     "name": "stdout",
     "output_type": "stream",
     "text": [
      "10\n"
     ]
    }
   ],
   "source": [
    "print(len(runs))"
   ]
  },
  {
   "cell_type": "code",
   "execution_count": 19,
   "id": "d16d8bad",
   "metadata": {},
   "outputs": [
    {
     "name": "stdout",
     "output_type": "stream",
     "text": [
      "27\n"
     ]
    }
   ],
   "source": [
    "print(runs[9])"
   ]
  },
  {
   "cell_type": "markdown",
   "id": "661d4633",
   "metadata": {},
   "source": [
    "## Negative indexing"
   ]
  },
  {
   "cell_type": "code",
   "execution_count": 20,
   "id": "34dc93fe",
   "metadata": {},
   "outputs": [
    {
     "name": "stdout",
     "output_type": "stream",
     "text": [
      "[51, 29, 67, 9, 5, 1, 85, 32, 3, 27]\n"
     ]
    }
   ],
   "source": [
    "print(runs)"
   ]
  },
  {
   "cell_type": "code",
   "execution_count": 23,
   "id": "e6875141",
   "metadata": {},
   "outputs": [
    {
     "name": "stdout",
     "output_type": "stream",
     "text": [
      "27\n"
     ]
    }
   ],
   "source": [
    "print(runs[len(runs) - 1])"
   ]
  },
  {
   "cell_type": "code",
   "execution_count": 24,
   "id": "4f55e5e5",
   "metadata": {},
   "outputs": [],
   "source": [
    "# shortcut"
   ]
  },
  {
   "cell_type": "code",
   "execution_count": 25,
   "id": "5bf7707e",
   "metadata": {},
   "outputs": [
    {
     "name": "stdout",
     "output_type": "stream",
     "text": [
      "27\n"
     ]
    }
   ],
   "source": [
    "print(runs[-1])"
   ]
  },
  {
   "cell_type": "code",
   "execution_count": 26,
   "id": "63114499",
   "metadata": {},
   "outputs": [
    {
     "name": "stdout",
     "output_type": "stream",
     "text": [
      "3\n"
     ]
    }
   ],
   "source": [
    "print(runs[-2])"
   ]
  },
  {
   "cell_type": "code",
   "execution_count": 27,
   "id": "56f13e80",
   "metadata": {},
   "outputs": [
    {
     "name": "stdout",
     "output_type": "stream",
     "text": [
      "32\n"
     ]
    }
   ],
   "source": [
    "print(runs[-3])"
   ]
  },
  {
   "cell_type": "code",
   "execution_count": 28,
   "id": "7ca4272c",
   "metadata": {},
   "outputs": [
    {
     "name": "stdout",
     "output_type": "stream",
     "text": [
      "51\n"
     ]
    }
   ],
   "source": [
    "print(runs[-10])"
   ]
  },
  {
   "cell_type": "markdown",
   "id": "0d75623b",
   "metadata": {},
   "source": [
    "## Adding data to the list"
   ]
  },
  {
   "cell_type": "markdown",
   "id": "0c6c9125",
   "metadata": {},
   "source": [
    "### append"
   ]
  },
  {
   "cell_type": "code",
   "execution_count": 30,
   "id": "d27aaa72",
   "metadata": {},
   "outputs": [],
   "source": [
    "hardik_pandya_runs = [1, 3, 5, 7, 9]"
   ]
  },
  {
   "cell_type": "code",
   "execution_count": 32,
   "id": "a9b22b3b",
   "metadata": {},
   "outputs": [],
   "source": [
    "# technically a method (functions that work on objects)\n",
    "# will be covered in OOPS in the Intermediate\n",
    "\n",
    "hardik_pandya_runs.append(27)"
   ]
  },
  {
   "cell_type": "code",
   "execution_count": 33,
   "id": "23f5007f",
   "metadata": {},
   "outputs": [
    {
     "name": "stdout",
     "output_type": "stream",
     "text": [
      "[1, 3, 5, 7, 9, 27]\n"
     ]
    }
   ],
   "source": [
    "print(hardik_pandya_runs)"
   ]
  },
  {
   "cell_type": "code",
   "execution_count": 34,
   "id": "bd1705fd",
   "metadata": {},
   "outputs": [],
   "source": [
    "hardik_pandya_runs.append(99)"
   ]
  },
  {
   "cell_type": "code",
   "execution_count": 35,
   "id": "5cc232c3",
   "metadata": {},
   "outputs": [
    {
     "name": "stdout",
     "output_type": "stream",
     "text": [
      "[1, 3, 5, 7, 9, 27, 99]\n"
     ]
    }
   ],
   "source": [
    "print(hardik_pandya_runs)"
   ]
  },
  {
   "cell_type": "markdown",
   "id": "8aa22e3a",
   "metadata": {},
   "source": [
    "### insert"
   ]
  },
  {
   "cell_type": "code",
   "execution_count": 36,
   "id": "45606c2c",
   "metadata": {},
   "outputs": [],
   "source": [
    "l = [5, 3, 4, 2, 10, 12]"
   ]
  },
  {
   "cell_type": "code",
   "execution_count": 37,
   "id": "51568fa3",
   "metadata": {},
   "outputs": [],
   "source": [
    "# l.insert(pos, data)\n",
    "\n",
    "l.insert(0, 99)"
   ]
  },
  {
   "cell_type": "code",
   "execution_count": 39,
   "id": "4bbaf821",
   "metadata": {},
   "outputs": [
    {
     "name": "stdout",
     "output_type": "stream",
     "text": [
      "[99, 5, 3, 4, 2, 10, 12]\n"
     ]
    }
   ],
   "source": [
    "print(l)"
   ]
  },
  {
   "cell_type": "code",
   "execution_count": 41,
   "id": "825c21be",
   "metadata": {},
   "outputs": [],
   "source": [
    "l.insert(3, 77)"
   ]
  },
  {
   "cell_type": "code",
   "execution_count": 42,
   "id": "d44da28a",
   "metadata": {},
   "outputs": [
    {
     "name": "stdout",
     "output_type": "stream",
     "text": [
      "[99, 5, 3, 77, 4, 2, 10, 12]\n"
     ]
    }
   ],
   "source": [
    "print(l)"
   ]
  },
  {
   "cell_type": "code",
   "execution_count": 43,
   "id": "d49f3d37",
   "metadata": {},
   "outputs": [],
   "source": [
    "l.insert(-1, 100)"
   ]
  },
  {
   "cell_type": "code",
   "execution_count": 44,
   "id": "632c8c17",
   "metadata": {},
   "outputs": [
    {
     "name": "stdout",
     "output_type": "stream",
     "text": [
      "[99, 5, 3, 77, 4, 2, 10, 100, 12]\n"
     ]
    }
   ],
   "source": [
    "print(l)"
   ]
  },
  {
   "cell_type": "markdown",
   "id": "f3eca78d",
   "metadata": {},
   "source": [
    "## Iterating through the list"
   ]
  },
  {
   "cell_type": "code",
   "execution_count": 45,
   "id": "f1edcf87",
   "metadata": {},
   "outputs": [],
   "source": [
    "# total scores made by Dhoni"
   ]
  },
  {
   "cell_type": "code",
   "execution_count": 48,
   "id": "5f54509a",
   "metadata": {},
   "outputs": [
    {
     "name": "stdout",
     "output_type": "stream",
     "text": [
      "1 2 3 4 5 6 7 8 9 "
     ]
    }
   ],
   "source": [
    "# i => iterator\n",
    "# range(1, 10) => iterable\n",
    "for i in range(1, 10):\n",
    "    print(i, end=' ')"
   ]
  },
  {
   "cell_type": "code",
   "execution_count": 49,
   "id": "5ea71e6a",
   "metadata": {},
   "outputs": [],
   "source": [
    "l = [1, 5, 2, 4, 3]"
   ]
  },
  {
   "cell_type": "code",
   "execution_count": 51,
   "id": "7287d82e",
   "metadata": {},
   "outputs": [
    {
     "name": "stdout",
     "output_type": "stream",
     "text": [
      "1\n",
      "5\n",
      "2\n",
      "4\n",
      "3\n"
     ]
    }
   ],
   "source": [
    "for i in l:\n",
    "    print(i)"
   ]
  },
  {
   "cell_type": "code",
   "execution_count": 52,
   "id": "76b6d1c0",
   "metadata": {},
   "outputs": [
    {
     "name": "stdout",
     "output_type": "stream",
     "text": [
      "1 5 2 4 3 "
     ]
    }
   ],
   "source": [
    "for i in l:\n",
    "    print(i, end=' ')"
   ]
  },
  {
   "cell_type": "markdown",
   "id": "585646a1",
   "metadata": {},
   "source": [
    "## Sum of elements"
   ]
  },
  {
   "cell_type": "code",
   "execution_count": 54,
   "id": "8bc1b73a",
   "metadata": {},
   "outputs": [
    {
     "name": "stdout",
     "output_type": "stream",
     "text": [
      "15\n"
     ]
    }
   ],
   "source": [
    "ans = 0\n",
    "# i => actual element in the list\n",
    "for i in l:\n",
    "    ans += i\n",
    "print(ans)"
   ]
  },
  {
   "cell_type": "code",
   "execution_count": null,
   "id": "dd56d6ef",
   "metadata": {},
   "outputs": [],
   "source": []
  },
  {
   "cell_type": "markdown",
   "id": "81894caf",
   "metadata": {},
   "source": [
    "## Challenge: Sum of odd index elements"
   ]
  },
  {
   "cell_type": "code",
   "execution_count": 55,
   "id": "b0bad1bf",
   "metadata": {},
   "outputs": [],
   "source": [
    "runs = [1, 2, 3, 3, 5, 6, 7, 5]"
   ]
  },
  {
   "cell_type": "code",
   "execution_count": 57,
   "id": "87152f11",
   "metadata": {},
   "outputs": [
    {
     "name": "stdout",
     "output_type": "stream",
     "text": [
      "1 3 3 5 7 5 "
     ]
    }
   ],
   "source": [
    "ans = 0\n",
    "for i in runs:\n",
    "    if i % 2 == 1:\n",
    "       print(i, end=' ') "
   ]
  },
  {
   "cell_type": "code",
   "execution_count": 58,
   "id": "8e929013",
   "metadata": {},
   "outputs": [
    {
     "name": "stdout",
     "output_type": "stream",
     "text": [
      "24\n"
     ]
    }
   ],
   "source": [
    "ans = 0\n",
    "for i in runs:\n",
    "    if i % 2 == 1:\n",
    "       ans += i\n",
    "print(ans)"
   ]
  },
  {
   "cell_type": "markdown",
   "id": "90ba0f50",
   "metadata": {},
   "source": [
    "## Iterate on index"
   ]
  },
  {
   "cell_type": "code",
   "execution_count": 65,
   "id": "6a851a72",
   "metadata": {},
   "outputs": [
    {
     "name": "stdout",
     "output_type": "stream",
     "text": [
      "0 1 2 3 4 5 6 7 "
     ]
    }
   ],
   "source": [
    "# i => index in the list\n",
    "for i in range(0, len(runs)):\n",
    "    print(i, end=' ')"
   ]
  },
  {
   "cell_type": "code",
   "execution_count": 60,
   "id": "7809e0e3",
   "metadata": {},
   "outputs": [
    {
     "name": "stdout",
     "output_type": "stream",
     "text": [
      "1 3 5 7 "
     ]
    }
   ],
   "source": [
    "for i in range(0, len(runs)):\n",
    "    if i % 2 == 1:\n",
    "        print(i, end=' ')"
   ]
  },
  {
   "cell_type": "code",
   "execution_count": 62,
   "id": "61f3b838",
   "metadata": {},
   "outputs": [
    {
     "name": "stdout",
     "output_type": "stream",
     "text": [
      "[1, 2, 3, 3, 5, 6, 7, 5]\n"
     ]
    }
   ],
   "source": [
    "print(runs)"
   ]
  },
  {
   "cell_type": "code",
   "execution_count": 61,
   "id": "96624a06",
   "metadata": {},
   "outputs": [
    {
     "name": "stdout",
     "output_type": "stream",
     "text": [
      "2 3 6 5 "
     ]
    }
   ],
   "source": [
    "for i in range(0, len(runs)):\n",
    "    if i % 2 == 1:\n",
    "        print(runs[i], end=' ')"
   ]
  },
  {
   "cell_type": "code",
   "execution_count": 63,
   "id": "afbcc664",
   "metadata": {},
   "outputs": [],
   "source": [
    "ans = 0\n",
    "for i in range(0, len(runs)):\n",
    "    if i % 2 == 1:\n",
    "        ans += runs[i]"
   ]
  },
  {
   "cell_type": "code",
   "execution_count": 64,
   "id": "e10e3f58",
   "metadata": {},
   "outputs": [
    {
     "name": "stdout",
     "output_type": "stream",
     "text": [
      "16\n"
     ]
    }
   ],
   "source": [
    "print(ans)"
   ]
  },
  {
   "cell_type": "code",
   "execution_count": null,
   "id": "17c6a8b9",
   "metadata": {},
   "outputs": [],
   "source": []
  },
  {
   "cell_type": "markdown",
   "id": "b7e582c6",
   "metadata": {},
   "source": [
    "## List Input"
   ]
  },
  {
   "cell_type": "markdown",
   "id": "90bb5a1b",
   "metadata": {},
   "source": [
    "First Line : N\n",
    "\n",
    "Second Line : N numbers separated by space\n",
    "\n",
    "5\n",
    "\n",
    "3 1 2 7 9"
   ]
  },
  {
   "cell_type": "code",
   "execution_count": 67,
   "id": "16421359",
   "metadata": {},
   "outputs": [
    {
     "name": "stdout",
     "output_type": "stream",
     "text": [
      "5\n",
      "The value of N is: 5\n"
     ]
    }
   ],
   "source": [
    "N = int(input())\n",
    "print('The value of N is:', N)"
   ]
  },
  {
   "cell_type": "code",
   "execution_count": 71,
   "id": "caddee37",
   "metadata": {},
   "outputs": [
    {
     "name": "stdout",
     "output_type": "stream",
     "text": [
      "23 1 13 7 9\n"
     ]
    }
   ],
   "source": [
    "x = input() # takes entire line as a string"
   ]
  },
  {
   "cell_type": "code",
   "execution_count": 72,
   "id": "2dd023d1",
   "metadata": {},
   "outputs": [
    {
     "data": {
      "text/plain": [
       "'23 1 13 7 9'"
      ]
     },
     "execution_count": 72,
     "metadata": {},
     "output_type": "execute_result"
    }
   ],
   "source": [
    "x"
   ]
  },
  {
   "cell_type": "code",
   "execution_count": 84,
   "id": "c5465bf7",
   "metadata": {},
   "outputs": [
    {
     "name": "stdout",
     "output_type": "stream",
     "text": [
      "23 1 13 7 9\n",
      "['23', '1', '13', '7', '9']\n"
     ]
    }
   ],
   "source": [
    "# split method => gives us the individual numbers in a list of strings\n",
    "l = x.split()\n",
    "print(x)\n",
    "print(l)"
   ]
  },
  {
   "cell_type": "code",
   "execution_count": 80,
   "id": "32b0cd95",
   "metadata": {},
   "outputs": [],
   "source": [
    "# convert each element to a int => typecasting"
   ]
  },
  {
   "cell_type": "code",
   "execution_count": 82,
   "id": "5ae99da3",
   "metadata": {},
   "outputs": [
    {
     "name": "stdout",
     "output_type": "stream",
     "text": [
      "23 <class 'str'>\n",
      "1 <class 'str'>\n",
      "13 <class 'str'>\n",
      "7 <class 'str'>\n",
      "9 <class 'str'>\n"
     ]
    }
   ],
   "source": [
    "for i in l:\n",
    "    print(i, type(i))"
   ]
  },
  {
   "cell_type": "code",
   "execution_count": 83,
   "id": "9a363da7",
   "metadata": {},
   "outputs": [
    {
     "name": "stdout",
     "output_type": "stream",
     "text": [
      "23 <class 'int'>\n",
      "1 <class 'int'>\n",
      "13 <class 'int'>\n",
      "7 <class 'int'>\n",
      "9 <class 'int'>\n"
     ]
    }
   ],
   "source": [
    "for i in l:\n",
    "    print(int(i), type(int(i)))"
   ]
  },
  {
   "cell_type": "code",
   "execution_count": 85,
   "id": "5a5e37be",
   "metadata": {},
   "outputs": [
    {
     "name": "stdout",
     "output_type": "stream",
     "text": [
      "['23', '1', '13', '7', '9']\n"
     ]
    }
   ],
   "source": [
    "print(l)"
   ]
  },
  {
   "cell_type": "code",
   "execution_count": 86,
   "id": "1d431b99",
   "metadata": {},
   "outputs": [
    {
     "name": "stdout",
     "output_type": "stream",
     "text": [
      "[23, 1, 13, 7, 9]\n"
     ]
    }
   ],
   "source": [
    "res = [] # empty list having no value\n",
    "for i in l:\n",
    "    res.append(int(i))\n",
    "print(res)"
   ]
  },
  {
   "cell_type": "markdown",
   "id": "28a002a0",
   "metadata": {},
   "source": [
    "## Recap"
   ]
  },
  {
   "cell_type": "code",
   "execution_count": 88,
   "id": "7a556004",
   "metadata": {},
   "outputs": [
    {
     "name": "stdout",
     "output_type": "stream",
     "text": [
      "5\n",
      "6 7 235 151055 547433242\n",
      "[6, 7, 235, 151055, 547433242]\n"
     ]
    }
   ],
   "source": [
    "N = int(input())\n",
    "x = input().split() # gives a list of strings\n",
    "res = []\n",
    "for i in x:\n",
    "    res.append(int(i))\n",
    "\n",
    "print(res)"
   ]
  },
  {
   "cell_type": "markdown",
   "id": "a32dff56",
   "metadata": {},
   "source": [
    "## Updating value in list"
   ]
  },
  {
   "cell_type": "code",
   "execution_count": 89,
   "id": "149a2992",
   "metadata": {},
   "outputs": [],
   "source": [
    "runs = [0, 1, 99, 98, 76, 54]"
   ]
  },
  {
   "cell_type": "code",
   "execution_count": 90,
   "id": "574680b7",
   "metadata": {},
   "outputs": [
    {
     "name": "stdout",
     "output_type": "stream",
     "text": [
      "[0, 1, 99, 98, 76, 54]\n"
     ]
    }
   ],
   "source": [
    "print(runs)"
   ]
  },
  {
   "cell_type": "code",
   "execution_count": 91,
   "id": "456b7c5e",
   "metadata": {},
   "outputs": [
    {
     "name": "stdout",
     "output_type": "stream",
     "text": [
      "[0, 1, 99, 198, 76, 54]\n"
     ]
    }
   ],
   "source": [
    "runs[3] = 198\n",
    "print(runs)"
   ]
  },
  {
   "cell_type": "code",
   "execution_count": 92,
   "id": "31a5f771",
   "metadata": {},
   "outputs": [],
   "source": [
    "runs[0] = 1"
   ]
  },
  {
   "cell_type": "code",
   "execution_count": 93,
   "id": "494b1671",
   "metadata": {},
   "outputs": [
    {
     "name": "stdout",
     "output_type": "stream",
     "text": [
      "[1, 1, 99, 198, 76, 54]\n"
     ]
    }
   ],
   "source": [
    "print(runs)"
   ]
  },
  {
   "cell_type": "code",
   "execution_count": 94,
   "id": "46741731",
   "metadata": {},
   "outputs": [],
   "source": [
    "runs[-1] = 200"
   ]
  },
  {
   "cell_type": "code",
   "execution_count": 95,
   "id": "beb9e8e9",
   "metadata": {},
   "outputs": [
    {
     "name": "stdout",
     "output_type": "stream",
     "text": [
      "[1, 1, 99, 198, 76, 200]\n"
     ]
    }
   ],
   "source": [
    "print(runs)"
   ]
  },
  {
   "cell_type": "code",
   "execution_count": 97,
   "id": "b9b039ef",
   "metadata": {},
   "outputs": [],
   "source": [
    "runs[0] = runs[0] + 1"
   ]
  },
  {
   "cell_type": "code",
   "execution_count": 98,
   "id": "bdd4f7ac",
   "metadata": {},
   "outputs": [
    {
     "name": "stdout",
     "output_type": "stream",
     "text": [
      "[2, 1, 99, 198, 76, 200]\n"
     ]
    }
   ],
   "source": [
    "print(runs)"
   ]
  },
  {
   "cell_type": "markdown",
   "id": "317f022e",
   "metadata": {},
   "source": [
    "## Quizzes"
   ]
  },
  {
   "cell_type": "code",
   "execution_count": 99,
   "id": "5b253e2a",
   "metadata": {},
   "outputs": [
    {
     "name": "stdout",
     "output_type": "stream",
     "text": [
      "[2, 5, 10]\n"
     ]
    }
   ],
   "source": [
    "user_values = [2, 5, 9]\n",
    "user_values[2] = user_values[2] + 1\n",
    "\n",
    "print(user_values)"
   ]
  },
  {
   "cell_type": "code",
   "execution_count": 100,
   "id": "8a932819",
   "metadata": {},
   "outputs": [
    {
     "name": "stdout",
     "output_type": "stream",
     "text": [
      "[3, 6, 11]\n"
     ]
    }
   ],
   "source": [
    "user_values = [3, 5, 9]\n",
    "user_values[1] = user_values[1] + 1\n",
    "user_values[2] = user_values[2] + 2\n",
    "\n",
    "print(user_values)"
   ]
  },
  {
   "cell_type": "code",
   "execution_count": 101,
   "id": "d903e628",
   "metadata": {},
   "outputs": [
    {
     "name": "stdout",
     "output_type": "stream",
     "text": [
      "[1, 1, 8]\n"
     ]
    }
   ],
   "source": [
    "user_values = [1, 6, 8]\n",
    "user_values[1] = user_values[0]\n",
    "\n",
    "print(user_values)"
   ]
  },
  {
   "cell_type": "code",
   "execution_count": 102,
   "id": "cc150582",
   "metadata": {},
   "outputs": [
    {
     "name": "stdout",
     "output_type": "stream",
     "text": [
      "[3, 7, 3]\n"
     ]
    }
   ],
   "source": [
    "user_values = [3, 6, 7]\n",
    "user_values[1] = user_values[2]\n",
    "user_values[2] = user_values[0]\n",
    "\n",
    "print(user_values)"
   ]
  },
  {
   "cell_type": "markdown",
   "id": "0b3d993a",
   "metadata": {},
   "source": [
    "## Removing data from list"
   ]
  },
  {
   "cell_type": "markdown",
   "id": "e7231f99",
   "metadata": {},
   "source": [
    "### pop"
   ]
  },
  {
   "cell_type": "code",
   "execution_count": 104,
   "id": "2b3c6e68",
   "metadata": {},
   "outputs": [],
   "source": [
    "l = [51, 29, 67, 9, 5, 1, 85, 32, 3, 27]"
   ]
  },
  {
   "cell_type": "code",
   "execution_count": 105,
   "id": "e17bb7e9",
   "metadata": {},
   "outputs": [
    {
     "data": {
      "text/plain": [
       "27"
      ]
     },
     "execution_count": 105,
     "metadata": {},
     "output_type": "execute_result"
    }
   ],
   "source": [
    "l.pop() # retuns the element"
   ]
  },
  {
   "cell_type": "code",
   "execution_count": 106,
   "id": "403411ab",
   "metadata": {},
   "outputs": [
    {
     "name": "stdout",
     "output_type": "stream",
     "text": [
      "[51, 29, 67, 9, 5, 1, 85, 32, 3]\n"
     ]
    }
   ],
   "source": [
    "print(l)"
   ]
  },
  {
   "cell_type": "code",
   "execution_count": 109,
   "id": "86524962",
   "metadata": {},
   "outputs": [
    {
     "data": {
      "text/plain": [
       "9"
      ]
     },
     "execution_count": 109,
     "metadata": {},
     "output_type": "execute_result"
    }
   ],
   "source": [
    "# index is an optional argument\n",
    "l.pop(3)"
   ]
  },
  {
   "cell_type": "code",
   "execution_count": 108,
   "id": "16e7d7cf",
   "metadata": {},
   "outputs": [],
   "source": [
    "# help(list)"
   ]
  },
  {
   "cell_type": "code",
   "execution_count": 110,
   "id": "1b5f41c8",
   "metadata": {},
   "outputs": [
    {
     "name": "stdout",
     "output_type": "stream",
     "text": [
      "[51, 29, 67, 5, 1, 85, 32, 3]\n"
     ]
    }
   ],
   "source": [
    "print(l)"
   ]
  },
  {
   "cell_type": "markdown",
   "id": "f67097c8",
   "metadata": {},
   "source": [
    "## remove"
   ]
  },
  {
   "cell_type": "code",
   "execution_count": 111,
   "id": "2190f1e3",
   "metadata": {},
   "outputs": [],
   "source": [
    "l = [51, 29, 67, 9, 5, 1, 85, 32]"
   ]
  },
  {
   "cell_type": "code",
   "execution_count": 112,
   "id": "c259e549",
   "metadata": {},
   "outputs": [],
   "source": [
    "l.remove(1)"
   ]
  },
  {
   "cell_type": "code",
   "execution_count": 114,
   "id": "c5a7c41e",
   "metadata": {},
   "outputs": [
    {
     "name": "stdout",
     "output_type": "stream",
     "text": [
      "[51, 29, 67, 9, 5, 85, 32]\n"
     ]
    }
   ],
   "source": [
    "print(l)"
   ]
  },
  {
   "cell_type": "code",
   "execution_count": 115,
   "id": "4de6229b",
   "metadata": {},
   "outputs": [],
   "source": [
    "l.append(51)"
   ]
  },
  {
   "cell_type": "code",
   "execution_count": 117,
   "id": "d8739473",
   "metadata": {},
   "outputs": [
    {
     "name": "stdout",
     "output_type": "stream",
     "text": [
      "[51, 29, 67, 9, 5, 85, 32, 51]\n"
     ]
    }
   ],
   "source": [
    "print(l)"
   ]
  },
  {
   "cell_type": "code",
   "execution_count": 118,
   "id": "05e51ac9",
   "metadata": {},
   "outputs": [],
   "source": [
    "l.remove(51)"
   ]
  },
  {
   "cell_type": "code",
   "execution_count": 119,
   "id": "cbec84af",
   "metadata": {},
   "outputs": [
    {
     "name": "stdout",
     "output_type": "stream",
     "text": [
      "[29, 67, 9, 5, 85, 32, 51]\n"
     ]
    }
   ],
   "source": [
    "print(l)"
   ]
  },
  {
   "cell_type": "markdown",
   "id": "f04746dd",
   "metadata": {},
   "source": [
    "## Challenge: Remove all occurences of a given value"
   ]
  },
  {
   "cell_type": "code",
   "execution_count": 121,
   "id": "3aac8a33",
   "metadata": {},
   "outputs": [],
   "source": [
    "# allowed => remove, pop, loop (for / while)\n",
    "l = [1, 3, 1, 2, 4, 1, 6, 1]"
   ]
  },
  {
   "cell_type": "code",
   "execution_count": 122,
   "id": "ae692560",
   "metadata": {},
   "outputs": [],
   "source": [
    "l.remove(1)"
   ]
  },
  {
   "cell_type": "code",
   "execution_count": 123,
   "id": "50aeaf70",
   "metadata": {},
   "outputs": [
    {
     "name": "stdout",
     "output_type": "stream",
     "text": [
      "[3, 1, 2, 4, 1, 6, 1]\n"
     ]
    }
   ],
   "source": [
    "print(l)"
   ]
  },
  {
   "cell_type": "code",
   "execution_count": 124,
   "id": "96d1a04b",
   "metadata": {},
   "outputs": [],
   "source": [
    "l.remove(1)"
   ]
  },
  {
   "cell_type": "code",
   "execution_count": 125,
   "id": "d55eb71e",
   "metadata": {},
   "outputs": [
    {
     "name": "stdout",
     "output_type": "stream",
     "text": [
      "[3, 2, 4, 1, 6, 1]\n"
     ]
    }
   ],
   "source": [
    "print(l)"
   ]
  },
  {
   "cell_type": "code",
   "execution_count": 126,
   "id": "faac89fb",
   "metadata": {},
   "outputs": [],
   "source": [
    "l.remove(1)"
   ]
  },
  {
   "cell_type": "code",
   "execution_count": 127,
   "id": "aec8b998",
   "metadata": {},
   "outputs": [
    {
     "name": "stdout",
     "output_type": "stream",
     "text": [
      "[3, 2, 4, 6, 1]\n"
     ]
    }
   ],
   "source": [
    "print(l)"
   ]
  },
  {
   "cell_type": "code",
   "execution_count": 128,
   "id": "e4502c1a",
   "metadata": {},
   "outputs": [],
   "source": [
    "l.remove(1)"
   ]
  },
  {
   "cell_type": "code",
   "execution_count": 129,
   "id": "40da781b",
   "metadata": {},
   "outputs": [
    {
     "name": "stdout",
     "output_type": "stream",
     "text": [
      "[3, 2, 4, 6]\n"
     ]
    }
   ],
   "source": [
    "print(l)"
   ]
  },
  {
   "cell_type": "code",
   "execution_count": 130,
   "id": "cf3bfe5c",
   "metadata": {},
   "outputs": [
    {
     "ename": "ValueError",
     "evalue": "list.remove(x): x not in list",
     "output_type": "error",
     "traceback": [
      "\u001b[0;31m---------------------------------------------------------------------------\u001b[0m",
      "\u001b[0;31mValueError\u001b[0m                                Traceback (most recent call last)",
      "Input \u001b[0;32mIn [130]\u001b[0m, in \u001b[0;36m<cell line: 1>\u001b[0;34m()\u001b[0m\n\u001b[0;32m----> 1\u001b[0m \u001b[43ml\u001b[49m\u001b[38;5;241;43m.\u001b[39;49m\u001b[43mremove\u001b[49m\u001b[43m(\u001b[49m\u001b[38;5;241;43m1\u001b[39;49m\u001b[43m)\u001b[49m\n",
      "\u001b[0;31mValueError\u001b[0m: list.remove(x): x not in list"
     ]
    }
   ],
   "source": [
    "l.remove(1)"
   ]
  },
  {
   "cell_type": "markdown",
   "id": "079bf6b6",
   "metadata": {},
   "source": [
    "## Beautiful solution"
   ]
  },
  {
   "cell_type": "code",
   "execution_count": 134,
   "id": "8e4954f9",
   "metadata": {},
   "outputs": [],
   "source": [
    "l = [1, 3, 1, 2, 4, 1, 6, 1]\n",
    "x = 1\n",
    "while (x in l): # membership operator / citizenship operator\n",
    "    l.remove(1)"
   ]
  },
  {
   "cell_type": "code",
   "execution_count": 135,
   "id": "afeda662",
   "metadata": {},
   "outputs": [
    {
     "name": "stdout",
     "output_type": "stream",
     "text": [
      "[3, 2, 4, 6]\n"
     ]
    }
   ],
   "source": [
    "print(l)"
   ]
  },
  {
   "cell_type": "code",
   "execution_count": 136,
   "id": "8a4a3ac2",
   "metadata": {},
   "outputs": [
    {
     "data": {
      "text/plain": [
       "True"
      ]
     },
     "execution_count": 136,
     "metadata": {},
     "output_type": "execute_result"
    }
   ],
   "source": [
    "3 in [1, 2, 3, 4, 5]"
   ]
  },
  {
   "cell_type": "code",
   "execution_count": 137,
   "id": "5c6adac7",
   "metadata": {},
   "outputs": [
    {
     "data": {
      "text/plain": [
       "False"
      ]
     },
     "execution_count": 137,
     "metadata": {},
     "output_type": "execute_result"
    }
   ],
   "source": [
    "3 in [1, 7, 2, 5]"
   ]
  },
  {
   "cell_type": "code",
   "execution_count": 138,
   "id": "251a70a3",
   "metadata": {},
   "outputs": [
    {
     "data": {
      "text/plain": [
       "False"
      ]
     },
     "execution_count": 138,
     "metadata": {},
     "output_type": "execute_result"
    }
   ],
   "source": [
    "3.5 in [3.55, 124.56, 5.3]"
   ]
  },
  {
   "cell_type": "code",
   "execution_count": 139,
   "id": "61f853f6",
   "metadata": {},
   "outputs": [
    {
     "data": {
      "text/plain": [
       "True"
      ]
     },
     "execution_count": 139,
     "metadata": {},
     "output_type": "execute_result"
    }
   ],
   "source": [
    "3.5 in [3.151, 3.25, 3.5, 4.6]"
   ]
  },
  {
   "cell_type": "code",
   "execution_count": 140,
   "id": "20cdda60",
   "metadata": {},
   "outputs": [
    {
     "ename": "ValueError",
     "evalue": "list.remove(x): x not in list",
     "output_type": "error",
     "traceback": [
      "\u001b[0;31m---------------------------------------------------------------------------\u001b[0m",
      "\u001b[0;31mValueError\u001b[0m                                Traceback (most recent call last)",
      "Input \u001b[0;32mIn [140]\u001b[0m, in \u001b[0;36m<cell line: 3>\u001b[0;34m()\u001b[0m\n\u001b[1;32m      1\u001b[0m x\u001b[38;5;241m=\u001b[39m [\u001b[38;5;241m1\u001b[39m,\u001b[38;5;241m3\u001b[39m,\u001b[38;5;241m1\u001b[39m,\u001b[38;5;241m2\u001b[39m,\u001b[38;5;241m3\u001b[39m,\u001b[38;5;241m1\u001b[39m,\u001b[38;5;241m6\u001b[39m,\u001b[38;5;241m1\u001b[39m]\n\u001b[1;32m      3\u001b[0m \u001b[38;5;28;01mfor\u001b[39;00m i \u001b[38;5;129;01min\u001b[39;00m \u001b[38;5;28mrange\u001b[39m(\u001b[38;5;28mlen\u001b[39m(x)):\n\u001b[0;32m----> 4\u001b[0m     \u001b[43mx\u001b[49m\u001b[38;5;241;43m.\u001b[39;49m\u001b[43mremove\u001b[49m\u001b[43m(\u001b[49m\u001b[38;5;241;43m1\u001b[39;49m\u001b[43m)\u001b[49m\n",
      "\u001b[0;31mValueError\u001b[0m: list.remove(x): x not in list"
     ]
    }
   ],
   "source": [
    "x= [1,3,1,2,3,1,6,1]\n",
    "\n",
    "for i in range(len(x)):\n",
    "    x.remove(1)"
   ]
  },
  {
   "cell_type": "markdown",
   "id": "84c7e3dd",
   "metadata": {},
   "source": [
    "## Doubts"
   ]
  },
  {
   "cell_type": "code",
   "execution_count": 141,
   "id": "ba83ad88",
   "metadata": {},
   "outputs": [
    {
     "name": "stdout",
     "output_type": "stream",
     "text": [
      "[3, 2, 4, 6]\n"
     ]
    }
   ],
   "source": [
    "print(l)"
   ]
  },
  {
   "cell_type": "code",
   "execution_count": 142,
   "id": "169a136b",
   "metadata": {},
   "outputs": [
    {
     "data": {
      "text/plain": [
       "1"
      ]
     },
     "execution_count": 142,
     "metadata": {},
     "output_type": "execute_result"
    }
   ],
   "source": [
    "l.index(2)"
   ]
  },
  {
   "cell_type": "code",
   "execution_count": 143,
   "id": "a138cb15",
   "metadata": {},
   "outputs": [],
   "source": [
    "l.insert(-1, 7)"
   ]
  },
  {
   "cell_type": "code",
   "execution_count": 144,
   "id": "af58a3ce",
   "metadata": {},
   "outputs": [
    {
     "name": "stdout",
     "output_type": "stream",
     "text": [
      "[3, 2, 4, 7, 6]\n"
     ]
    }
   ],
   "source": [
    "print(l)"
   ]
  },
  {
   "cell_type": "code",
   "execution_count": 146,
   "id": "10ffa7de",
   "metadata": {},
   "outputs": [],
   "source": [
    "l.append(100)"
   ]
  },
  {
   "cell_type": "code",
   "execution_count": 147,
   "id": "04684ebe",
   "metadata": {},
   "outputs": [
    {
     "name": "stdout",
     "output_type": "stream",
     "text": [
      "[3, 2, 4, 7, 6, 100]\n"
     ]
    }
   ],
   "source": [
    "print(l)"
   ]
  },
  {
   "cell_type": "code",
   "execution_count": 149,
   "id": "2ba256ad",
   "metadata": {},
   "outputs": [
    {
     "name": "stdout",
     "output_type": "stream",
     "text": [
      "7\n",
      "225 15 324 242 5 8 1\n",
      "[225, 15, 324, 242, 5, 8, 1]\n"
     ]
    }
   ],
   "source": [
    "N = int(input())\n",
    "x = input().split()\n",
    "res = []\n",
    "for i in x:\n",
    "    res.append(int(i))\n",
    "print(res)"
   ]
  },
  {
   "cell_type": "code",
   "execution_count": 150,
   "id": "6db2bbf4",
   "metadata": {},
   "outputs": [],
   "source": [
    "# sum of odd index elements"
   ]
  },
  {
   "cell_type": "code",
   "execution_count": 152,
   "id": "a36f862a",
   "metadata": {},
   "outputs": [
    {
     "name": "stdout",
     "output_type": "stream",
     "text": [
      "1 4 7 "
     ]
    }
   ],
   "source": [
    "l = [5, 1, 2, 4, 6, 7, 1]\n",
    "\n",
    "for i in range(0, len(l)):\n",
    "    if i % 2 == 1:\n",
    "        print(l[i], end=' ')"
   ]
  },
  {
   "cell_type": "code",
   "execution_count": 153,
   "id": "ac30294e",
   "metadata": {},
   "outputs": [
    {
     "name": "stdout",
     "output_type": "stream",
     "text": [
      "5 1 2 4 6 7 1 Done\n"
     ]
    }
   ],
   "source": [
    "for i in range(0, len(l)):\n",
    "    print(l[i], end=' ')\n",
    "else:\n",
    "    # when the loop is completed\n",
    "    print(\"Done\")"
   ]
  },
  {
   "cell_type": "code",
   "execution_count": 155,
   "id": "0a4fe894",
   "metadata": {},
   "outputs": [
    {
     "name": "stdout",
     "output_type": "stream",
     "text": [
      "1 2 3 4 5 6 7 8 Done\n"
     ]
    }
   ],
   "source": [
    "l = [1, 2, 3, 4, 5, 6, 7, 8]\n",
    "i = 0\n",
    "while i <= 7:\n",
    "    print(l[i], end=' ')\n",
    "    i += 1\n",
    "else:\n",
    "    print('Done')\n",
    "    "
   ]
  },
  {
   "cell_type": "code",
   "execution_count": 157,
   "id": "37ea305c",
   "metadata": {},
   "outputs": [
    {
     "name": "stdout",
     "output_type": "stream",
     "text": [
      "1 2 3 4 5 6 7 8 We are inside if\n"
     ]
    }
   ],
   "source": [
    "l = [1, 2, 3, 4, 5, 6, 7, 8]\n",
    "i = 0\n",
    "while i <= 7:\n",
    "    print(l[i], end=' ')\n",
    "    i += 1\n",
    "if True:\n",
    "    print('We are inside if')\n",
    "else:\n",
    "    print('Done')\n",
    "    "
   ]
  },
  {
   "cell_type": "code",
   "execution_count": 159,
   "id": "df59cc28",
   "metadata": {},
   "outputs": [
    {
     "name": "stdout",
     "output_type": "stream",
     "text": [
      "1 2 "
     ]
    }
   ],
   "source": [
    "for i in range(0, len(l)):\n",
    "    if i == 2:\n",
    "        break\n",
    "    print(l[i], end=' ')\n",
    "else:\n",
    "    # when the loop is completed (not terminated by a break)\n",
    "    print(\"Done\")"
   ]
  },
  {
   "cell_type": "code",
   "execution_count": null,
   "id": "88843d07",
   "metadata": {},
   "outputs": [],
   "source": []
  }
 ],
 "metadata": {
  "kernelspec": {
   "display_name": "Python 3 (ipykernel)",
   "language": "python",
   "name": "python3"
  },
  "language_info": {
   "codemirror_mode": {
    "name": "ipython",
    "version": 3
   },
   "file_extension": ".py",
   "mimetype": "text/x-python",
   "name": "python",
   "nbconvert_exporter": "python",
   "pygments_lexer": "ipython3",
   "version": "3.9.12"
  }
 },
 "nbformat": 4,
 "nbformat_minor": 5
}
