{
 "cells": [
  {
   "cell_type": "markdown",
   "id": "1fa1605e",
   "metadata": {},
   "source": [
    "## Lecture 8 - Lists II"
   ]
  },
  {
   "cell_type": "markdown",
   "id": "44792d44",
   "metadata": {},
   "source": [
    "## Recap"
   ]
  },
  {
   "cell_type": "markdown",
   "id": "7795aa6e",
   "metadata": {},
   "source": [
    "- create a list\n",
    "- indexing\n",
    "- add data\n",
    "- update data\n",
    "- remove data\n",
    "- citizenship operator"
   ]
  },
  {
   "cell_type": "markdown",
   "id": "4ce0ae31",
   "metadata": {},
   "source": [
    "## Recap - code"
   ]
  },
  {
   "cell_type": "code",
   "execution_count": 9,
   "id": "097c53d7",
   "metadata": {},
   "outputs": [],
   "source": [
    "l = [1, 3.56, True, \"shubham\"]"
   ]
  },
  {
   "cell_type": "code",
   "execution_count": 10,
   "id": "025d680a",
   "metadata": {},
   "outputs": [
    {
     "name": "stdout",
     "output_type": "stream",
     "text": [
      "[1, 3.56, True, 'shubham']\n"
     ]
    }
   ],
   "source": [
    "print(l)"
   ]
  },
  {
   "cell_type": "code",
   "execution_count": 11,
   "id": "a94e518a",
   "metadata": {},
   "outputs": [],
   "source": [
    "magic_list = [1, 3.56, True, print]"
   ]
  },
  {
   "cell_type": "code",
   "execution_count": 12,
   "id": "dc8122de",
   "metadata": {},
   "outputs": [
    {
     "name": "stdout",
     "output_type": "stream",
     "text": [
      "[1, 3.56, True, <built-in function print>]\n"
     ]
    }
   ],
   "source": [
    "print(magic_list)"
   ]
  },
  {
   "cell_type": "code",
   "execution_count": 13,
   "id": "c7775fba",
   "metadata": {},
   "outputs": [],
   "source": [
    "# everything is objects, list => collection of objects"
   ]
  },
  {
   "cell_type": "code",
   "execution_count": 14,
   "id": "a9479d57",
   "metadata": {},
   "outputs": [
    {
     "data": {
      "text/plain": [
       "<function print>"
      ]
     },
     "execution_count": 14,
     "metadata": {},
     "output_type": "execute_result"
    }
   ],
   "source": [
    "magic_list[-1]"
   ]
  },
  {
   "cell_type": "code",
   "execution_count": 15,
   "id": "ce6146bc",
   "metadata": {},
   "outputs": [
    {
     "name": "stdout",
     "output_type": "stream",
     "text": [
      "Print Vini's name here!!\n"
     ]
    }
   ],
   "source": [
    "magic_list[-1](\"Print Vini's name here!!\")"
   ]
  },
  {
   "cell_type": "code",
   "execution_count": 16,
   "id": "12dcabc2",
   "metadata": {},
   "outputs": [
    {
     "data": {
      "text/plain": [
       "1"
      ]
     },
     "execution_count": 16,
     "metadata": {},
     "output_type": "execute_result"
    }
   ],
   "source": [
    "magic_list[0]"
   ]
  },
  {
   "cell_type": "code",
   "execution_count": 17,
   "id": "d59eb4cf",
   "metadata": {},
   "outputs": [
    {
     "data": {
      "text/plain": [
       "3.56"
      ]
     },
     "execution_count": 17,
     "metadata": {},
     "output_type": "execute_result"
    }
   ],
   "source": [
    "magic_list[1]"
   ]
  },
  {
   "cell_type": "code",
   "execution_count": 22,
   "id": "ddaf01e8",
   "metadata": {},
   "outputs": [],
   "source": [
    "x = [] # empty list"
   ]
  },
  {
   "cell_type": "code",
   "execution_count": 23,
   "id": "2210d21b",
   "metadata": {},
   "outputs": [],
   "source": [
    "x.append(5) # end"
   ]
  },
  {
   "cell_type": "code",
   "execution_count": 24,
   "id": "fb185157",
   "metadata": {},
   "outputs": [
    {
     "name": "stdout",
     "output_type": "stream",
     "text": [
      "[5]\n"
     ]
    }
   ],
   "source": [
    "print(x)"
   ]
  },
  {
   "cell_type": "code",
   "execution_count": 25,
   "id": "f22c5953",
   "metadata": {},
   "outputs": [],
   "source": [
    "x.insert(0, 9) # insert 9 before index 0 => add in the beginning"
   ]
  },
  {
   "cell_type": "code",
   "execution_count": 26,
   "id": "ee1b5677",
   "metadata": {},
   "outputs": [
    {
     "name": "stdout",
     "output_type": "stream",
     "text": [
      "[9, 5]\n"
     ]
    }
   ],
   "source": [
    "print(x)"
   ]
  },
  {
   "cell_type": "code",
   "execution_count": 27,
   "id": "0052e24e",
   "metadata": {},
   "outputs": [],
   "source": [
    "x[1] = 7"
   ]
  },
  {
   "cell_type": "code",
   "execution_count": 28,
   "id": "0d708839",
   "metadata": {},
   "outputs": [
    {
     "name": "stdout",
     "output_type": "stream",
     "text": [
      "[9, 7]\n"
     ]
    }
   ],
   "source": [
    "print(x)"
   ]
  },
  {
   "cell_type": "code",
   "execution_count": 30,
   "id": "8bf1b2db",
   "metadata": {},
   "outputs": [],
   "source": [
    "x.append(99)"
   ]
  },
  {
   "cell_type": "code",
   "execution_count": 31,
   "id": "7b6af18c",
   "metadata": {},
   "outputs": [
    {
     "name": "stdout",
     "output_type": "stream",
     "text": [
      "[9, 7, 99]\n"
     ]
    }
   ],
   "source": [
    "print(x)"
   ]
  },
  {
   "cell_type": "markdown",
   "id": "2123363b",
   "metadata": {},
   "source": [
    "## Removing the data"
   ]
  },
  {
   "cell_type": "code",
   "execution_count": 32,
   "id": "1789f2eb",
   "metadata": {},
   "outputs": [
    {
     "data": {
      "text/plain": [
       "99"
      ]
     },
     "execution_count": 32,
     "metadata": {},
     "output_type": "execute_result"
    }
   ],
   "source": [
    "x.pop() # does it also return the value deleted?"
   ]
  },
  {
   "cell_type": "code",
   "execution_count": 33,
   "id": "7b73a374",
   "metadata": {},
   "outputs": [
    {
     "name": "stdout",
     "output_type": "stream",
     "text": [
      "[9, 7]\n"
     ]
    }
   ],
   "source": [
    "print(x)"
   ]
  },
  {
   "cell_type": "code",
   "execution_count": 34,
   "id": "5ea79c2a",
   "metadata": {},
   "outputs": [],
   "source": [
    "l = [1, 2, 3, 4, 5, 6, 1, 12, 3, 56]"
   ]
  },
  {
   "cell_type": "code",
   "execution_count": 35,
   "id": "915298fa",
   "metadata": {},
   "outputs": [],
   "source": [
    "l.remove(12) # delete the 1st occurrence of 12"
   ]
  },
  {
   "cell_type": "code",
   "execution_count": 36,
   "id": "d05e914b",
   "metadata": {},
   "outputs": [
    {
     "name": "stdout",
     "output_type": "stream",
     "text": [
      "[1, 2, 3, 4, 5, 6, 1, 3, 56]\n"
     ]
    }
   ],
   "source": [
    "print(l)"
   ]
  },
  {
   "cell_type": "code",
   "execution_count": 37,
   "id": "177b473e",
   "metadata": {},
   "outputs": [
    {
     "data": {
      "text/plain": [
       "6"
      ]
     },
     "execution_count": 37,
     "metadata": {},
     "output_type": "execute_result"
    }
   ],
   "source": [
    "l.pop(5) # will remove the 5th index value"
   ]
  },
  {
   "cell_type": "code",
   "execution_count": 38,
   "id": "110ea558",
   "metadata": {},
   "outputs": [
    {
     "name": "stdout",
     "output_type": "stream",
     "text": [
      "[1, 2, 3, 4, 5, 1, 3, 56]\n"
     ]
    }
   ],
   "source": [
    "print(l)"
   ]
  },
  {
   "cell_type": "markdown",
   "id": "1f51da70",
   "metadata": {},
   "source": [
    "## Citizenship operator => membership operator"
   ]
  },
  {
   "cell_type": "code",
   "execution_count": 39,
   "id": "cb8f1255",
   "metadata": {},
   "outputs": [
    {
     "data": {
      "text/plain": [
       "True"
      ]
     },
     "execution_count": 39,
     "metadata": {},
     "output_type": "execute_result"
    }
   ],
   "source": [
    "5 in l"
   ]
  },
  {
   "cell_type": "code",
   "execution_count": 40,
   "id": "d0474b42",
   "metadata": {},
   "outputs": [
    {
     "data": {
      "text/plain": [
       "False"
      ]
     },
     "execution_count": 40,
     "metadata": {},
     "output_type": "execute_result"
    }
   ],
   "source": [
    "57 in l"
   ]
  },
  {
   "cell_type": "markdown",
   "id": "576fbeaa",
   "metadata": {},
   "source": [
    "## del operator"
   ]
  },
  {
   "cell_type": "code",
   "execution_count": 41,
   "id": "b477977f",
   "metadata": {},
   "outputs": [],
   "source": [
    "l = [1, 2, 3, 6, 1, 2, -45, 25, -6]"
   ]
  },
  {
   "cell_type": "code",
   "execution_count": 42,
   "id": "e2d85512",
   "metadata": {},
   "outputs": [],
   "source": [
    "# tell the listname[index]\n",
    "del l[-3]"
   ]
  },
  {
   "cell_type": "code",
   "execution_count": 43,
   "id": "cecc4439",
   "metadata": {},
   "outputs": [
    {
     "name": "stdout",
     "output_type": "stream",
     "text": [
      "[1, 2, 3, 6, 1, 2, 25, -6]\n"
     ]
    }
   ],
   "source": [
    "print(l)"
   ]
  },
  {
   "cell_type": "code",
   "execution_count": 44,
   "id": "55112929",
   "metadata": {},
   "outputs": [],
   "source": [
    "del l[3]"
   ]
  },
  {
   "cell_type": "code",
   "execution_count": 45,
   "id": "685f27d5",
   "metadata": {},
   "outputs": [
    {
     "name": "stdout",
     "output_type": "stream",
     "text": [
      "[1, 2, 3, 1, 2, 25, -6]\n"
     ]
    }
   ],
   "source": [
    "print(l)"
   ]
  },
  {
   "cell_type": "code",
   "execution_count": 48,
   "id": "ab48ddbf",
   "metadata": {},
   "outputs": [],
   "source": [
    "l = [1, 5, 7]\n",
    "x = 2"
   ]
  },
  {
   "cell_type": "code",
   "execution_count": 49,
   "id": "991fcf83",
   "metadata": {},
   "outputs": [
    {
     "data": {
      "text/plain": [
       "5"
      ]
     },
     "execution_count": 49,
     "metadata": {},
     "output_type": "execute_result"
    }
   ],
   "source": [
    "l.pop(x-1)"
   ]
  },
  {
   "cell_type": "code",
   "execution_count": 50,
   "id": "5400cb06",
   "metadata": {},
   "outputs": [
    {
     "name": "stdout",
     "output_type": "stream",
     "text": [
      "[1, 7]\n"
     ]
    }
   ],
   "source": [
    "print(l)"
   ]
  },
  {
   "cell_type": "code",
   "execution_count": 51,
   "id": "02f6382c",
   "metadata": {},
   "outputs": [],
   "source": [
    "l = [1, 5, 7]\n",
    "x = 2\n",
    "\n",
    "del l[x-1] # it does not return any value"
   ]
  },
  {
   "cell_type": "code",
   "execution_count": 52,
   "id": "9016fd24",
   "metadata": {},
   "outputs": [
    {
     "name": "stdout",
     "output_type": "stream",
     "text": [
      "[1, 7]\n"
     ]
    }
   ],
   "source": [
    "print(l)"
   ]
  },
  {
   "cell_type": "markdown",
   "id": "f2fb89ce",
   "metadata": {},
   "source": [
    "## Searching"
   ]
  },
  {
   "cell_type": "code",
   "execution_count": 53,
   "id": "9fcb90bc",
   "metadata": {},
   "outputs": [],
   "source": [
    "runs = [100, 6, 22, 45, 15, 17, 29, 53, 6]"
   ]
  },
  {
   "cell_type": "code",
   "execution_count": 54,
   "id": "66b568c7",
   "metadata": {},
   "outputs": [
    {
     "data": {
      "text/plain": [
       "9"
      ]
     },
     "execution_count": 54,
     "metadata": {},
     "output_type": "execute_result"
    }
   ],
   "source": [
    "len(runs)"
   ]
  },
  {
   "cell_type": "code",
   "execution_count": 55,
   "id": "a9147548",
   "metadata": {},
   "outputs": [],
   "source": [
    "# find the match in which Dhoni scored 100"
   ]
  },
  {
   "cell_type": "code",
   "execution_count": 56,
   "id": "061a3bc6",
   "metadata": {},
   "outputs": [],
   "source": [
    "runs = [0, 1, 55, 67, 99, 120, 200]"
   ]
  },
  {
   "cell_type": "code",
   "execution_count": 64,
   "id": "581701a3",
   "metadata": {},
   "outputs": [],
   "source": [
    "# runs = [0, 1, 59, 96, 69, 67, 98, 120, 98,109, 89]"
   ]
  },
  {
   "cell_type": "code",
   "execution_count": 61,
   "id": "c8372d2e",
   "metadata": {},
   "outputs": [],
   "source": [
    "runs = [0, 1, 55, 67, 99, 120, 200]"
   ]
  },
  {
   "cell_type": "code",
   "execution_count": 62,
   "id": "1eebaeda",
   "metadata": {},
   "outputs": [
    {
     "name": "stdout",
     "output_type": "stream",
     "text": [
      "Found at index: 4\n"
     ]
    }
   ],
   "source": [
    "target = 99\n",
    "found = False\n",
    "for i in range(len(runs)):\n",
    "    # compare\n",
    "    if runs[i] == target:\n",
    "        found = True\n",
    "        print('Found at index:', i)\n",
    "        break"
   ]
  },
  {
   "cell_type": "code",
   "execution_count": 63,
   "id": "258e1301",
   "metadata": {},
   "outputs": [],
   "source": [
    "if not found: # found is False only\n",
    "    print('Not found')\n"
   ]
  },
  {
   "cell_type": "code",
   "execution_count": 66,
   "id": "4c21360c",
   "metadata": {},
   "outputs": [],
   "source": [
    "runs = [1, 2, 3, 4]"
   ]
  },
  {
   "cell_type": "code",
   "execution_count": 67,
   "id": "6827ab42",
   "metadata": {},
   "outputs": [
    {
     "name": "stdout",
     "output_type": "stream",
     "text": [
      "Not found\n"
     ]
    }
   ],
   "source": [
    "# pythonic way\n",
    "target = 99\n",
    "for i in range(len(runs)):\n",
    "    # compare\n",
    "    if runs[i] == target:\n",
    "        print('Found at index:', i)\n",
    "        break\n",
    "else:\n",
    "    # this runs only when loop did not break\n",
    "    print('Not found')"
   ]
  },
  {
   "cell_type": "code",
   "execution_count": 68,
   "id": "6e5f6c5d",
   "metadata": {},
   "outputs": [],
   "source": [
    "# python function"
   ]
  },
  {
   "cell_type": "code",
   "execution_count": 72,
   "id": "d73f0aa6",
   "metadata": {},
   "outputs": [],
   "source": [
    "runs = [100, 6, 22, 45, 15, 17, 29, 53, 6, 100]"
   ]
  },
  {
   "cell_type": "code",
   "execution_count": 73,
   "id": "a100f3d3",
   "metadata": {},
   "outputs": [
    {
     "data": {
      "text/plain": [
       "0"
      ]
     },
     "execution_count": 73,
     "metadata": {},
     "output_type": "execute_result"
    }
   ],
   "source": [
    "runs.index(100)"
   ]
  },
  {
   "cell_type": "code",
   "execution_count": 74,
   "id": "9fc32db9",
   "metadata": {},
   "outputs": [
    {
     "data": {
      "text/plain": [
       "3"
      ]
     },
     "execution_count": 74,
     "metadata": {},
     "output_type": "execute_result"
    }
   ],
   "source": [
    "runs.index(45)"
   ]
  },
  {
   "cell_type": "code",
   "execution_count": 75,
   "id": "e51ec391",
   "metadata": {},
   "outputs": [
    {
     "ename": "ValueError",
     "evalue": "200 is not in list",
     "output_type": "error",
     "traceback": [
      "\u001b[0;31m---------------------------------------------------------------------------\u001b[0m",
      "\u001b[0;31mValueError\u001b[0m                                Traceback (most recent call last)",
      "Input \u001b[0;32mIn [75]\u001b[0m, in \u001b[0;36m<cell line: 1>\u001b[0;34m()\u001b[0m\n\u001b[0;32m----> 1\u001b[0m \u001b[43mruns\u001b[49m\u001b[38;5;241;43m.\u001b[39;49m\u001b[43mindex\u001b[49m\u001b[43m(\u001b[49m\u001b[38;5;241;43m200\u001b[39;49m\u001b[43m)\u001b[49m\n",
      "\u001b[0;31mValueError\u001b[0m: 200 is not in list"
     ]
    }
   ],
   "source": [
    "runs.index(200) # python index function gives an error\n",
    "# how can I avoid the error"
   ]
  },
  {
   "cell_type": "code",
   "execution_count": 76,
   "id": "0634465b",
   "metadata": {},
   "outputs": [
    {
     "name": "stdout",
     "output_type": "stream",
     "text": [
      "Not found\n"
     ]
    }
   ],
   "source": [
    "# HW: Write your own function to check if an element is present or not\n",
    "\n",
    "if 200 in runs: # True if it is present\n",
    "    print(runs.index(200))\n",
    "else:\n",
    "    print('Not found')"
   ]
  },
  {
   "cell_type": "markdown",
   "id": "0233ffb8",
   "metadata": {},
   "source": [
    "## Counting"
   ]
  },
  {
   "cell_type": "code",
   "execution_count": 77,
   "id": "7c37a900",
   "metadata": {},
   "outputs": [],
   "source": [
    "# write a function to count how many times a particular value appears\n",
    "# in the list"
   ]
  },
  {
   "cell_type": "code",
   "execution_count": 86,
   "id": "f80e42f4",
   "metadata": {},
   "outputs": [],
   "source": [
    "runs = [0, 99, 1, 99, 23, 99, 98, 100, 200, 199]"
   ]
  },
  {
   "cell_type": "code",
   "execution_count": 87,
   "id": "fe7768ef",
   "metadata": {},
   "outputs": [],
   "source": [
    "def my_count(L, target=99):\n",
    "    res = 0\n",
    "    for i in L: # why NOT on the index??\n",
    "        if i == target:\n",
    "            res += 1\n",
    "    return res"
   ]
  },
  {
   "cell_type": "code",
   "execution_count": 88,
   "id": "2cb2fe9f",
   "metadata": {},
   "outputs": [
    {
     "data": {
      "text/plain": [
       "3"
      ]
     },
     "execution_count": 88,
     "metadata": {},
     "output_type": "execute_result"
    }
   ],
   "source": [
    "my_count(runs)"
   ]
  },
  {
   "cell_type": "code",
   "execution_count": 89,
   "id": "0ecad700",
   "metadata": {},
   "outputs": [
    {
     "data": {
      "text/plain": [
       "1"
      ]
     },
     "execution_count": 89,
     "metadata": {},
     "output_type": "execute_result"
    }
   ],
   "source": [
    "my_count(runs, 200)"
   ]
  },
  {
   "cell_type": "code",
   "execution_count": 90,
   "id": "eaefe1fb",
   "metadata": {},
   "outputs": [
    {
     "data": {
      "text/plain": [
       "0"
      ]
     },
     "execution_count": 90,
     "metadata": {},
     "output_type": "execute_result"
    }
   ],
   "source": [
    "my_count(runs, 300)"
   ]
  },
  {
   "cell_type": "code",
   "execution_count": 95,
   "id": "1a1bdd75",
   "metadata": {},
   "outputs": [
    {
     "data": {
      "text/plain": [
       "[0, 99, 1, 99, 23, 99, 98, 100, 200, 199]"
      ]
     },
     "execution_count": 95,
     "metadata": {},
     "output_type": "execute_result"
    }
   ],
   "source": [
    "runs"
   ]
  },
  {
   "cell_type": "code",
   "execution_count": 96,
   "id": "b8e5e1f3",
   "metadata": {},
   "outputs": [
    {
     "data": {
      "text/plain": [
       "3"
      ]
     },
     "execution_count": 96,
     "metadata": {},
     "output_type": "execute_result"
    }
   ],
   "source": [
    "runs.count(99) # inbuilt"
   ]
  },
  {
   "cell_type": "markdown",
   "id": "626a3289",
   "metadata": {},
   "source": [
    "## Max"
   ]
  },
  {
   "cell_type": "code",
   "execution_count": 84,
   "id": "ed6ea40c",
   "metadata": {},
   "outputs": [],
   "source": [
    "runs = [0, 99, 1, 99, 23, 99, 98, 100, 200, 199]"
   ]
  },
  {
   "cell_type": "code",
   "execution_count": 92,
   "id": "815709b4",
   "metadata": {},
   "outputs": [
    {
     "name": "stdout",
     "output_type": "stream",
     "text": [
      "200\n"
     ]
    }
   ],
   "source": [
    "maxi = runs[0]\n",
    "for i in range(1, len(runs)):\n",
    "    if runs[i] > maxi:\n",
    "        maxi = runs[i]\n",
    "#     print(maxi, end=' ')\n",
    "\n",
    "print(maxi)"
   ]
  },
  {
   "cell_type": "code",
   "execution_count": 94,
   "id": "8194a2a9",
   "metadata": {},
   "outputs": [
    {
     "name": "stdout",
     "output_type": "stream",
     "text": [
      "200\n"
     ]
    }
   ],
   "source": [
    "maxi = runs[0]\n",
    "for i in runs: # can directly iterate on the values\n",
    "    if i > maxi:\n",
    "        maxi = i\n",
    "\n",
    "print(maxi)"
   ]
  },
  {
   "cell_type": "code",
   "execution_count": 97,
   "id": "2e81bfda",
   "metadata": {},
   "outputs": [
    {
     "data": {
      "text/plain": [
       "[0, 99, 1, 99, 23, 99, 98, 100, 200, 199]"
      ]
     },
     "execution_count": 97,
     "metadata": {},
     "output_type": "execute_result"
    }
   ],
   "source": [
    "runs"
   ]
  },
  {
   "cell_type": "code",
   "execution_count": 98,
   "id": "c62449d9",
   "metadata": {},
   "outputs": [
    {
     "data": {
      "text/plain": [
       "200"
      ]
     },
     "execution_count": 98,
     "metadata": {},
     "output_type": "execute_result"
    }
   ],
   "source": [
    "max(runs)"
   ]
  },
  {
   "cell_type": "code",
   "execution_count": 99,
   "id": "4006eae4",
   "metadata": {},
   "outputs": [
    {
     "data": {
      "text/plain": [
       "918"
      ]
     },
     "execution_count": 99,
     "metadata": {},
     "output_type": "execute_result"
    }
   ],
   "source": [
    "sum(runs)"
   ]
  },
  {
   "cell_type": "code",
   "execution_count": 100,
   "id": "aff1034b",
   "metadata": {},
   "outputs": [
    {
     "data": {
      "text/plain": [
       "0"
      ]
     },
     "execution_count": 100,
     "metadata": {},
     "output_type": "execute_result"
    }
   ],
   "source": [
    "min(runs)"
   ]
  },
  {
   "cell_type": "code",
   "execution_count": 101,
   "id": "554e305e",
   "metadata": {},
   "outputs": [
    {
     "data": {
      "text/plain": [
       "91.8"
      ]
     },
     "execution_count": 101,
     "metadata": {},
     "output_type": "execute_result"
    }
   ],
   "source": [
    "sum(runs) / len(runs)"
   ]
  },
  {
   "cell_type": "markdown",
   "id": "c5c298d3",
   "metadata": {},
   "source": [
    "## Quiz"
   ]
  },
  {
   "cell_type": "code",
   "execution_count": 103,
   "id": "17d12c03",
   "metadata": {},
   "outputs": [
    {
     "name": "stdout",
     "output_type": "stream",
     "text": [
      "0 2 2 "
     ]
    }
   ],
   "source": [
    "nums = [12, 2, 1, 22, 22, 23, 36]\n",
    " \n",
    "print(nums.count(4), end=' ')\n",
    "print(nums.count(22), end=' ')\n",
    "print(nums.index(1), end=' ')"
   ]
  },
  {
   "cell_type": "code",
   "execution_count": 104,
   "id": "2bfed984",
   "metadata": {},
   "outputs": [
    {
     "name": "stdout",
     "output_type": "stream",
     "text": [
      "0 2 3 "
     ]
    }
   ],
   "source": [
    "nums = [12, 2, 1, 22, 22, 23, 36]\n",
    " \n",
    "print(nums.count(4), end=' ') # 0\n",
    "print(nums.count(22), end=' ') # 2\n",
    "print(nums.index(22), end=' ') # 3"
   ]
  },
  {
   "cell_type": "code",
   "execution_count": 105,
   "id": "9c051e62",
   "metadata": {},
   "outputs": [
    {
     "name": "stdout",
     "output_type": "stream",
     "text": [
      "36 1 96 "
     ]
    }
   ],
   "source": [
    "nums = [12, 2, 1, 22, 23, 36]\n",
    "\n",
    "print(max(nums), end=' ') # 36\n",
    "print(min(nums), end=' ') # 1\n",
    "print(sum(nums), end=' ') # 96"
   ]
  },
  {
   "cell_type": "markdown",
   "id": "10cd7515",
   "metadata": {},
   "source": [
    "## List Slicing"
   ]
  },
  {
   "cell_type": "code",
   "execution_count": 107,
   "id": "9bf218b3",
   "metadata": {},
   "outputs": [],
   "source": [
    "L = [5, 1, 2, 7, 4, 3, 9, 8, 1, 3]"
   ]
  },
  {
   "cell_type": "code",
   "execution_count": 108,
   "id": "04f2b0af",
   "metadata": {},
   "outputs": [
    {
     "data": {
      "text/plain": [
       "[5, 1, 2, 7, 4]"
      ]
     },
     "execution_count": 108,
     "metadata": {},
     "output_type": "execute_result"
    }
   ],
   "source": [
    "L[:5] # the first 5"
   ]
  },
  {
   "cell_type": "code",
   "execution_count": 109,
   "id": "ca2cf93a",
   "metadata": {},
   "outputs": [
    {
     "data": {
      "text/plain": [
       "[8, 1, 3]"
      ]
     },
     "execution_count": 109,
     "metadata": {},
     "output_type": "execute_result"
    }
   ],
   "source": [
    "L[-3:] # the last 3"
   ]
  },
  {
   "cell_type": "code",
   "execution_count": 111,
   "id": "3150d6b3",
   "metadata": {},
   "outputs": [
    {
     "data": {
      "text/plain": [
       "[1, 7, 3, 8, 3]"
      ]
     },
     "execution_count": 111,
     "metadata": {},
     "output_type": "execute_result"
    }
   ],
   "source": [
    "L[1::2] # all the odd index"
   ]
  },
  {
   "cell_type": "code",
   "execution_count": 112,
   "id": "23f60a71",
   "metadata": {},
   "outputs": [
    {
     "data": {
      "text/plain": [
       "[5, 2, 4, 9, 1]"
      ]
     },
     "execution_count": 112,
     "metadata": {},
     "output_type": "execute_result"
    }
   ],
   "source": [
    "L[::2] # all the even index"
   ]
  },
  {
   "cell_type": "code",
   "execution_count": 113,
   "id": "8d034cc4",
   "metadata": {},
   "outputs": [
    {
     "data": {
      "text/plain": [
       "[3, 1, 8, 9, 3, 4, 7, 2, 1, 5]"
      ]
     },
     "execution_count": 113,
     "metadata": {},
     "output_type": "execute_result"
    }
   ],
   "source": [
    "L[::-1] # reverse"
   ]
  },
  {
   "cell_type": "code",
   "execution_count": null,
   "id": "d97d53ba",
   "metadata": {},
   "outputs": [],
   "source": []
  },
  {
   "cell_type": "code",
   "execution_count": 114,
   "id": "449cd2dc",
   "metadata": {},
   "outputs": [],
   "source": [
    "L = [5, 1, 2, 7, 6, 3, 4]"
   ]
  },
  {
   "cell_type": "code",
   "execution_count": 115,
   "id": "ed31280f",
   "metadata": {},
   "outputs": [
    {
     "name": "stdout",
     "output_type": "stream",
     "text": [
      "[5, 1, 2, 7, 6]\n"
     ]
    }
   ],
   "source": [
    "print(L[0:5:1])"
   ]
  },
  {
   "cell_type": "code",
   "execution_count": 116,
   "id": "9d671d34",
   "metadata": {},
   "outputs": [
    {
     "name": "stdout",
     "output_type": "stream",
     "text": [
      "[5, 2, 6]\n"
     ]
    }
   ],
   "source": [
    "print(L[0:5:2])"
   ]
  },
  {
   "cell_type": "code",
   "execution_count": 117,
   "id": "afce4695",
   "metadata": {},
   "outputs": [
    {
     "name": "stdout",
     "output_type": "stream",
     "text": [
      "[10, 5, 6]\n"
     ]
    }
   ],
   "source": [
    "L = [10, 2, 5, 3, 6]\n",
    "print(L[0:5:2])"
   ]
  },
  {
   "cell_type": "code",
   "execution_count": 118,
   "id": "613cc1d2",
   "metadata": {},
   "outputs": [
    {
     "name": "stdout",
     "output_type": "stream",
     "text": [
      "[2, 7, 6, 3]\n"
     ]
    }
   ],
   "source": [
    "L = [5, 1, 2, 7, 6, 3, 4]\n",
    "\n",
    "print(L[-5:-1:1])"
   ]
  },
  {
   "cell_type": "code",
   "execution_count": 119,
   "id": "8c62a1a7",
   "metadata": {},
   "outputs": [
    {
     "name": "stdout",
     "output_type": "stream",
     "text": [
      "[6, 5]\n"
     ]
    }
   ],
   "source": [
    "L = [10, 2, 5, 3, 6]\n",
    "\n",
    "print(L[-1:0:-2])"
   ]
  },
  {
   "cell_type": "markdown",
   "id": "a9502258",
   "metadata": {},
   "source": [
    "## Problems using list slicing\n",
    "- first 5\n",
    "- last 5\n",
    "- odd index / even index\n",
    "- reversing"
   ]
  },
  {
   "cell_type": "markdown",
   "id": "c040d357",
   "metadata": {},
   "source": [
    "default start = 0,\n",
    "\n",
    "default increment = +1\n",
    "\n",
    "default end = len(L) = N"
   ]
  },
  {
   "cell_type": "code",
   "execution_count": 120,
   "id": "c85e6c12",
   "metadata": {},
   "outputs": [
    {
     "name": "stdout",
     "output_type": "stream",
     "text": [
      "[1, 1, 2, 3, 5]\n"
     ]
    }
   ],
   "source": [
    "nums = [1, 1, 2, 3, 5, 8, 13] \n",
    "\n",
    "print(nums[0:5:1])"
   ]
  },
  {
   "cell_type": "code",
   "execution_count": 121,
   "id": "f449f0b0",
   "metadata": {},
   "outputs": [
    {
     "name": "stdout",
     "output_type": "stream",
     "text": [
      "[1, 1, 2, 3, 5]\n"
     ]
    }
   ],
   "source": [
    "print(nums[:5:1])"
   ]
  },
  {
   "cell_type": "code",
   "execution_count": 122,
   "id": "bc49b657",
   "metadata": {},
   "outputs": [
    {
     "name": "stdout",
     "output_type": "stream",
     "text": [
      "[1, 1, 2, 3, 5]\n"
     ]
    }
   ],
   "source": [
    "print(nums[:5:])"
   ]
  },
  {
   "cell_type": "code",
   "execution_count": 124,
   "id": "be504a50",
   "metadata": {},
   "outputs": [
    {
     "name": "stdout",
     "output_type": "stream",
     "text": [
      "[1, 1, 2, 3, 5]\n"
     ]
    }
   ],
   "source": [
    "print(nums[:5]) # default start = 0, default inc +1"
   ]
  },
  {
   "cell_type": "code",
   "execution_count": 125,
   "id": "1d2e7928",
   "metadata": {},
   "outputs": [
    {
     "name": "stdout",
     "output_type": "stream",
     "text": [
      "[1, 1, 2, 3, 5, 8, 13]\n"
     ]
    }
   ],
   "source": [
    "print(nums)"
   ]
  },
  {
   "cell_type": "code",
   "execution_count": 126,
   "id": "a3500565",
   "metadata": {},
   "outputs": [
    {
     "name": "stdout",
     "output_type": "stream",
     "text": [
      "[2, 3, 5, 8, 13]\n"
     ]
    }
   ],
   "source": [
    "print(nums[-5:len(nums):1])"
   ]
  },
  {
   "cell_type": "code",
   "execution_count": 127,
   "id": "588a0b7a",
   "metadata": {},
   "outputs": [
    {
     "name": "stdout",
     "output_type": "stream",
     "text": [
      "[2, 3, 5, 8, 13]\n"
     ]
    }
   ],
   "source": [
    "print(nums[-5:len(nums)])"
   ]
  },
  {
   "cell_type": "code",
   "execution_count": 128,
   "id": "8156280e",
   "metadata": {},
   "outputs": [
    {
     "name": "stdout",
     "output_type": "stream",
     "text": [
      "[2, 3, 5, 8, 13]\n"
     ]
    }
   ],
   "source": [
    "print(nums[-5:])"
   ]
  },
  {
   "cell_type": "code",
   "execution_count": 129,
   "id": "0ccce278",
   "metadata": {},
   "outputs": [
    {
     "name": "stdout",
     "output_type": "stream",
     "text": [
      "[3, 2, 1, 7]\n"
     ]
    }
   ],
   "source": [
    "L = [7, 1, 2, 3]\n",
    "\n",
    "print(L[-1:-5:-1])"
   ]
  },
  {
   "cell_type": "code",
   "execution_count": 130,
   "id": "211e2e33",
   "metadata": {},
   "outputs": [
    {
     "name": "stdout",
     "output_type": "stream",
     "text": [
      "[3, 2, 1, 7]\n"
     ]
    }
   ],
   "source": [
    "print(L[:-5:-1]) # default start = -1 for inc = -ve"
   ]
  },
  {
   "cell_type": "code",
   "execution_count": 131,
   "id": "dfa102a6",
   "metadata": {},
   "outputs": [
    {
     "name": "stdout",
     "output_type": "stream",
     "text": [
      "[7, 1, 2]\n"
     ]
    }
   ],
   "source": [
    "print(L[:-1]) # can I skip default end = -(N+1) here like this?"
   ]
  },
  {
   "cell_type": "code",
   "execution_count": 132,
   "id": "47956bc8",
   "metadata": {},
   "outputs": [],
   "source": [
    "# it considers start = 0, end=-1, jump= +1 (Default)"
   ]
  },
  {
   "cell_type": "code",
   "execution_count": 133,
   "id": "82cf8b42",
   "metadata": {},
   "outputs": [
    {
     "name": "stdout",
     "output_type": "stream",
     "text": [
      "[3, 2, 1, 7]\n"
     ]
    }
   ],
   "source": [
    "print(L[::-1]) # default start = -1, default end = -(N+1)"
   ]
  },
  {
   "cell_type": "code",
   "execution_count": null,
   "id": "aa2cee8a",
   "metadata": {},
   "outputs": [],
   "source": []
  },
  {
   "cell_type": "markdown",
   "id": "a738343a",
   "metadata": {},
   "source": [
    "## Inbuilt Methods"
   ]
  },
  {
   "cell_type": "code",
   "execution_count": null,
   "id": "e6ce8e03",
   "metadata": {},
   "outputs": [],
   "source": []
  },
  {
   "cell_type": "code",
   "execution_count": null,
   "id": "de2d9738",
   "metadata": {},
   "outputs": [],
   "source": []
  },
  {
   "cell_type": "code",
   "execution_count": null,
   "id": "0e0a1946",
   "metadata": {},
   "outputs": [],
   "source": []
  },
  {
   "cell_type": "code",
   "execution_count": null,
   "id": "6f40911d",
   "metadata": {},
   "outputs": [],
   "source": []
  },
  {
   "cell_type": "code",
   "execution_count": null,
   "id": "05a48898",
   "metadata": {},
   "outputs": [],
   "source": []
  },
  {
   "cell_type": "code",
   "execution_count": null,
   "id": "390be3c2",
   "metadata": {},
   "outputs": [],
   "source": []
  },
  {
   "cell_type": "code",
   "execution_count": null,
   "id": "89a323a0",
   "metadata": {},
   "outputs": [],
   "source": []
  },
  {
   "cell_type": "code",
   "execution_count": null,
   "id": "567769b5",
   "metadata": {},
   "outputs": [],
   "source": []
  },
  {
   "cell_type": "code",
   "execution_count": null,
   "id": "bdf5ab25",
   "metadata": {},
   "outputs": [],
   "source": []
  },
  {
   "cell_type": "code",
   "execution_count": null,
   "id": "6dd10ed2",
   "metadata": {},
   "outputs": [],
   "source": []
  },
  {
   "cell_type": "code",
   "execution_count": null,
   "id": "3514f5e5",
   "metadata": {},
   "outputs": [],
   "source": []
  },
  {
   "cell_type": "code",
   "execution_count": null,
   "id": "ba26fada",
   "metadata": {},
   "outputs": [],
   "source": []
  },
  {
   "cell_type": "code",
   "execution_count": null,
   "id": "a954a134",
   "metadata": {},
   "outputs": [],
   "source": []
  },
  {
   "cell_type": "code",
   "execution_count": null,
   "id": "04a34f6b",
   "metadata": {},
   "outputs": [],
   "source": []
  },
  {
   "cell_type": "markdown",
   "id": "b9018423",
   "metadata": {},
   "source": [
    "## More Methods"
   ]
  },
  {
   "cell_type": "code",
   "execution_count": null,
   "id": "0d23d56d",
   "metadata": {},
   "outputs": [],
   "source": []
  },
  {
   "cell_type": "code",
   "execution_count": null,
   "id": "d3f3cf20",
   "metadata": {},
   "outputs": [],
   "source": []
  },
  {
   "cell_type": "code",
   "execution_count": null,
   "id": "e2f469e4",
   "metadata": {},
   "outputs": [],
   "source": []
  },
  {
   "cell_type": "code",
   "execution_count": null,
   "id": "e9a2cfb4",
   "metadata": {},
   "outputs": [],
   "source": []
  },
  {
   "cell_type": "code",
   "execution_count": null,
   "id": "6083cb77",
   "metadata": {},
   "outputs": [],
   "source": []
  },
  {
   "cell_type": "code",
   "execution_count": null,
   "id": "9e83934a",
   "metadata": {},
   "outputs": [],
   "source": []
  },
  {
   "cell_type": "code",
   "execution_count": null,
   "id": "1ec084d7",
   "metadata": {},
   "outputs": [],
   "source": []
  },
  {
   "cell_type": "code",
   "execution_count": null,
   "id": "870d6442",
   "metadata": {},
   "outputs": [],
   "source": []
  },
  {
   "cell_type": "code",
   "execution_count": null,
   "id": "3c4ff733",
   "metadata": {},
   "outputs": [],
   "source": []
  },
  {
   "cell_type": "code",
   "execution_count": null,
   "id": "1291691e",
   "metadata": {},
   "outputs": [],
   "source": []
  },
  {
   "cell_type": "markdown",
   "id": "fc5bb26c",
   "metadata": {},
   "source": [
    "## Doubts"
   ]
  },
  {
   "cell_type": "code",
   "execution_count": null,
   "id": "2d899900",
   "metadata": {},
   "outputs": [],
   "source": []
  },
  {
   "cell_type": "code",
   "execution_count": 134,
   "id": "bb277b8c",
   "metadata": {},
   "outputs": [
    {
     "name": "stdout",
     "output_type": "stream",
     "text": [
      "5\n",
      "12 45 2 6 -1\n"
     ]
    }
   ],
   "source": [
    "N = int(input())\n",
    "X = input().split()\n",
    "res = []\n",
    "for i in X:\n",
    "    res.append(int(i))"
   ]
  },
  {
   "cell_type": "code",
   "execution_count": 135,
   "id": "703e4b01",
   "metadata": {},
   "outputs": [
    {
     "name": "stdout",
     "output_type": "stream",
     "text": [
      "[12, 45, 2, 6, -1]\n"
     ]
    }
   ],
   "source": [
    "print(res)"
   ]
  },
  {
   "cell_type": "code",
   "execution_count": 136,
   "id": "1f3c6019",
   "metadata": {},
   "outputs": [
    {
     "name": "stdout",
     "output_type": "stream",
     "text": [
      "[]\n"
     ]
    }
   ],
   "source": [
    "LL=[1,2,3,4,5,6,7]\n",
    "L=LL[-5:-7:1]\n",
    "\n",
    "print(L)"
   ]
  },
  {
   "cell_type": "code",
   "execution_count": 137,
   "id": "1e3201d6",
   "metadata": {},
   "outputs": [],
   "source": [
    "L = [1, 2, 3, 4, 5, 6]"
   ]
  },
  {
   "cell_type": "code",
   "execution_count": 138,
   "id": "482860e5",
   "metadata": {},
   "outputs": [
    {
     "name": "stdout",
     "output_type": "stream",
     "text": [
      "[1, 2, 5, 6]\n"
     ]
    }
   ],
   "source": [
    "del L[2:4:1]\n",
    "print(L)"
   ]
  },
  {
   "cell_type": "code",
   "execution_count": null,
   "id": "0fdbaad6",
   "metadata": {},
   "outputs": [],
   "source": []
  },
  {
   "cell_type": "code",
   "execution_count": null,
   "id": "31458b4c",
   "metadata": {},
   "outputs": [],
   "source": []
  }
 ],
 "metadata": {
  "kernelspec": {
   "display_name": "Python 3 (ipykernel)",
   "language": "python",
   "name": "python3"
  },
  "language_info": {
   "codemirror_mode": {
    "name": "ipython",
    "version": 3
   },
   "file_extension": ".py",
   "mimetype": "text/x-python",
   "name": "python",
   "nbconvert_exporter": "python",
   "pygments_lexer": "ipython3",
   "version": "3.9.12"
  }
 },
 "nbformat": 4,
 "nbformat_minor": 5
}
