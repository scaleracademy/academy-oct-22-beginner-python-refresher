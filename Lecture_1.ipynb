{
 "cells": [
  {
   "cell_type": "markdown",
   "id": "fffa3e7d",
   "metadata": {},
   "source": [
    "## Python - Data Types and Input"
   ]
  },
  {
   "cell_type": "markdown",
   "id": "c554bb51",
   "metadata": {},
   "source": [
    "a. 0.3\n",
    "\n",
    "b. .2\n",
    "\n",
    "c. \"2.3\"\n",
    "\n",
    "d. 1.0\n",
    "\n",
    "e. \"3.14\"\n",
    "\n",
    "f. -3\n",
    "\n",
    "g. 5."
   ]
  },
  {
   "cell_type": "code",
   "execution_count": 1,
   "id": "017f867c",
   "metadata": {},
   "outputs": [
    {
     "name": "stdout",
     "output_type": "stream",
     "text": [
      "Hello world\n"
     ]
    }
   ],
   "source": [
    "print(\"Hello world\")"
   ]
  },
  {
   "cell_type": "code",
   "execution_count": 4,
   "id": "0ee57701",
   "metadata": {},
   "outputs": [
    {
     "name": "stdout",
     "output_type": "stream",
     "text": [
      "45\n"
     ]
    }
   ],
   "source": [
    "print(45) # this is an int"
   ]
  },
  {
   "cell_type": "code",
   "execution_count": 5,
   "id": "f70ee57a",
   "metadata": {},
   "outputs": [
    {
     "name": "stdout",
     "output_type": "stream",
     "text": [
      "0.463\n"
     ]
    }
   ],
   "source": [
    "print(0.463) # this is a float"
   ]
  },
  {
   "cell_type": "code",
   "execution_count": 6,
   "id": "99ab9578",
   "metadata": {},
   "outputs": [],
   "source": [
    "# jayesh"
   ]
  },
  {
   "cell_type": "code",
   "execution_count": 7,
   "id": "ab4ddf58",
   "metadata": {},
   "outputs": [
    {
     "ename": "NameError",
     "evalue": "name 'jayesh' is not defined",
     "output_type": "error",
     "traceback": [
      "\u001b[0;31m---------------------------------------------------------------------------\u001b[0m",
      "\u001b[0;31mNameError\u001b[0m                                 Traceback (most recent call last)",
      "Input \u001b[0;32mIn [7]\u001b[0m, in \u001b[0;36m<cell line: 1>\u001b[0;34m()\u001b[0m\n\u001b[0;32m----> 1\u001b[0m \u001b[43mjayesh\u001b[49m\n",
      "\u001b[0;31mNameError\u001b[0m: name 'jayesh' is not defined"
     ]
    }
   ],
   "source": [
    "jayesh"
   ]
  },
  {
   "cell_type": "markdown",
   "id": "f3d07f5f",
   "metadata": {},
   "source": [
    "a. 0.3\n",
    "\n",
    "b. .2\n",
    "\n",
    "c. \"2.3\"\n",
    "\n",
    "d. 1.0\n",
    "\n",
    "e. \"3.14\"\n",
    "\n",
    "f. -3\n",
    "\n",
    "g. 5."
   ]
  },
  {
   "cell_type": "code",
   "execution_count": 8,
   "id": "ccb956d7",
   "metadata": {},
   "outputs": [
    {
     "name": "stdout",
     "output_type": "stream",
     "text": [
      "0.3\n"
     ]
    }
   ],
   "source": [
    "print(0.3)"
   ]
  },
  {
   "cell_type": "code",
   "execution_count": 9,
   "id": "64059877",
   "metadata": {},
   "outputs": [
    {
     "name": "stdout",
     "output_type": "stream",
     "text": [
      "0.2\n"
     ]
    }
   ],
   "source": [
    "print(.2)"
   ]
  },
  {
   "cell_type": "code",
   "execution_count": 10,
   "id": "99d46ff2",
   "metadata": {},
   "outputs": [
    {
     "name": "stdout",
     "output_type": "stream",
     "text": [
      "2.3\n"
     ]
    }
   ],
   "source": [
    "print(\"2.3\")"
   ]
  },
  {
   "cell_type": "markdown",
   "id": "0ca669e9",
   "metadata": {},
   "source": [
    "## type function"
   ]
  },
  {
   "cell_type": "code",
   "execution_count": 11,
   "id": "8550ce9d",
   "metadata": {},
   "outputs": [
    {
     "data": {
      "text/plain": [
       "float"
      ]
     },
     "execution_count": 11,
     "metadata": {},
     "output_type": "execute_result"
    }
   ],
   "source": [
    "type(0.3)"
   ]
  },
  {
   "cell_type": "code",
   "execution_count": 12,
   "id": "ea09dccb",
   "metadata": {},
   "outputs": [
    {
     "data": {
      "text/plain": [
       "str"
      ]
     },
     "execution_count": 12,
     "metadata": {},
     "output_type": "execute_result"
    }
   ],
   "source": [
    "type(\"2.3\")"
   ]
  },
  {
   "cell_type": "code",
   "execution_count": 13,
   "id": "1fa05e7a",
   "metadata": {},
   "outputs": [
    {
     "data": {
      "text/plain": [
       "int"
      ]
     },
     "execution_count": 13,
     "metadata": {},
     "output_type": "execute_result"
    }
   ],
   "source": [
    "type(343)"
   ]
  },
  {
   "cell_type": "code",
   "execution_count": 14,
   "id": "611b3c62",
   "metadata": {},
   "outputs": [
    {
     "data": {
      "text/plain": [
       "bool"
      ]
     },
     "execution_count": 14,
     "metadata": {},
     "output_type": "execute_result"
    }
   ],
   "source": [
    "type(True)"
   ]
  },
  {
   "cell_type": "code",
   "execution_count": 15,
   "id": "e2a6a257",
   "metadata": {},
   "outputs": [
    {
     "data": {
      "text/plain": [
       "bool"
      ]
     },
     "execution_count": 15,
     "metadata": {},
     "output_type": "execute_result"
    }
   ],
   "source": [
    "type(False)"
   ]
  },
  {
   "cell_type": "code",
   "execution_count": 17,
   "id": "ca4350bf",
   "metadata": {},
   "outputs": [],
   "source": [
    "# type(true) # ---> error"
   ]
  },
  {
   "cell_type": "code",
   "execution_count": 18,
   "id": "a26e9ce0",
   "metadata": {},
   "outputs": [
    {
     "name": "stdout",
     "output_type": "stream",
     "text": [
      "5.0\n"
     ]
    }
   ],
   "source": [
    "print(5.)"
   ]
  },
  {
   "cell_type": "code",
   "execution_count": 19,
   "id": "3e47fbdb",
   "metadata": {},
   "outputs": [
    {
     "data": {
      "text/plain": [
       "float"
      ]
     },
     "execution_count": 19,
     "metadata": {},
     "output_type": "execute_result"
    }
   ],
   "source": [
    "type(5.)"
   ]
  },
  {
   "cell_type": "code",
   "execution_count": 20,
   "id": "beacd29d",
   "metadata": {},
   "outputs": [
    {
     "name": "stdout",
     "output_type": "stream",
     "text": [
      "<class 'int'>\n"
     ]
    }
   ],
   "source": [
    "print(type(3))"
   ]
  },
  {
   "cell_type": "markdown",
   "id": "7feccae8",
   "metadata": {},
   "source": [
    "## Variables"
   ]
  },
  {
   "cell_type": "code",
   "execution_count": 21,
   "id": "b51bcd4a",
   "metadata": {},
   "outputs": [],
   "source": [
    "x = 3"
   ]
  },
  {
   "cell_type": "code",
   "execution_count": 22,
   "id": "bfe3cfe6",
   "metadata": {},
   "outputs": [
    {
     "name": "stdout",
     "output_type": "stream",
     "text": [
      "3\n"
     ]
    }
   ],
   "source": [
    "print(x)"
   ]
  },
  {
   "cell_type": "code",
   "execution_count": 23,
   "id": "c277b4d2",
   "metadata": {},
   "outputs": [],
   "source": [
    "x=5"
   ]
  },
  {
   "cell_type": "code",
   "execution_count": 24,
   "id": "3c94a483",
   "metadata": {},
   "outputs": [
    {
     "name": "stdout",
     "output_type": "stream",
     "text": [
      "5\n"
     ]
    }
   ],
   "source": [
    "print(x)"
   ]
  },
  {
   "cell_type": "code",
   "execution_count": 25,
   "id": "702cfb45",
   "metadata": {},
   "outputs": [
    {
     "data": {
      "text/plain": [
       "int"
      ]
     },
     "execution_count": 25,
     "metadata": {},
     "output_type": "execute_result"
    }
   ],
   "source": [
    "type(x)"
   ]
  },
  {
   "cell_type": "code",
   "execution_count": 26,
   "id": "bffa410d",
   "metadata": {},
   "outputs": [
    {
     "name": "stdout",
     "output_type": "stream",
     "text": [
      "10\n"
     ]
    }
   ],
   "source": [
    "print(x + 5)"
   ]
  },
  {
   "cell_type": "code",
   "execution_count": 29,
   "id": "b17c9385",
   "metadata": {},
   "outputs": [
    {
     "name": "stdout",
     "output_type": "stream",
     "text": [
      "hello\n"
     ]
    }
   ],
   "source": [
    "y = 'hello' # in python you can either use single quotes or double quotes\n",
    "print(y)"
   ]
  },
  {
   "cell_type": "code",
   "execution_count": 30,
   "id": "9fd2b551",
   "metadata": {},
   "outputs": [
    {
     "name": "stdout",
     "output_type": "stream",
     "text": [
      "123.5416161413214\n"
     ]
    }
   ],
   "source": [
    "z = 123.5416161413214\n",
    "print(z)"
   ]
  },
  {
   "cell_type": "code",
   "execution_count": 31,
   "id": "f49c472a",
   "metadata": {},
   "outputs": [
    {
     "name": "stdout",
     "output_type": "stream",
     "text": [
      "This is a valid string\n"
     ]
    }
   ],
   "source": [
    "print(\"This is a valid string\")"
   ]
  },
  {
   "cell_type": "code",
   "execution_count": 32,
   "id": "cc4f18a3",
   "metadata": {},
   "outputs": [
    {
     "name": "stdout",
     "output_type": "stream",
     "text": [
      "This is a valid string\n"
     ]
    }
   ],
   "source": [
    "print('This is a valid string')"
   ]
  },
  {
   "cell_type": "code",
   "execution_count": 33,
   "id": "062488a8",
   "metadata": {},
   "outputs": [
    {
     "ename": "SyntaxError",
     "evalue": "EOL while scanning string literal (1107795960.py, line 1)",
     "output_type": "error",
     "traceback": [
      "\u001b[0;36m  Input \u001b[0;32mIn [33]\u001b[0;36m\u001b[0m\n\u001b[0;31m    print(\"This is an invalid string')\u001b[0m\n\u001b[0m                                      ^\u001b[0m\n\u001b[0;31mSyntaxError\u001b[0m\u001b[0;31m:\u001b[0m EOL while scanning string literal\n"
     ]
    }
   ],
   "source": [
    "print(\"This is an invalid string')"
   ]
  },
  {
   "cell_type": "code",
   "execution_count": 34,
   "id": "56617469",
   "metadata": {},
   "outputs": [],
   "source": [
    "# data storage"
   ]
  },
  {
   "cell_type": "code",
   "execution_count": 36,
   "id": "ff22e042",
   "metadata": {},
   "outputs": [
    {
     "name": "stdout",
     "output_type": "stream",
     "text": [
      "140560992102768\n"
     ]
    }
   ],
   "source": [
    "x = 3\n",
    "\n",
    "print(id(x)) # unique identifier for the object"
   ]
  },
  {
   "cell_type": "code",
   "execution_count": 37,
   "id": "ea669b0c",
   "metadata": {},
   "outputs": [
    {
     "name": "stdout",
     "output_type": "stream",
     "text": [
      "140560992102832\n"
     ]
    }
   ],
   "source": [
    "x = 5\n",
    "\n",
    "print(id(x))"
   ]
  },
  {
   "cell_type": "code",
   "execution_count": 38,
   "id": "a6e407b1",
   "metadata": {},
   "outputs": [
    {
     "name": "stdout",
     "output_type": "stream",
     "text": [
      "3\n",
      "hello\n"
     ]
    }
   ],
   "source": [
    "x = 3\n",
    "y = 'hello'\n",
    "print(x)\n",
    "print(y)"
   ]
  },
  {
   "cell_type": "code",
   "execution_count": 39,
   "id": "a08e3d2e",
   "metadata": {},
   "outputs": [
    {
     "name": "stdout",
     "output_type": "stream",
     "text": [
      "3\n",
      "5\n"
     ]
    }
   ],
   "source": [
    "print(3)\n",
    "print(5)"
   ]
  },
  {
   "cell_type": "markdown",
   "id": "ed55ea9d",
   "metadata": {},
   "source": [
    "## Print multiple variables in one line"
   ]
  },
  {
   "cell_type": "code",
   "execution_count": 40,
   "id": "ea2b881f",
   "metadata": {},
   "outputs": [
    {
     "name": "stdout",
     "output_type": "stream",
     "text": [
      "3 5\n"
     ]
    }
   ],
   "source": [
    "x = 3\n",
    "y = 5\n",
    "print(x, y)"
   ]
  },
  {
   "cell_type": "code",
   "execution_count": 42,
   "id": "ee3d77dc",
   "metadata": {},
   "outputs": [
    {
     "name": "stdout",
     "output_type": "stream",
     "text": [
      "hello 5 True 24.611\n",
      "this is after\n"
     ]
    }
   ],
   "source": [
    "print('hello', 5, True, 24.611)\n",
    "print('this is after')"
   ]
  },
  {
   "cell_type": "code",
   "execution_count": 43,
   "id": "7d1f1b45",
   "metadata": {},
   "outputs": [
    {
     "name": "stdout",
     "output_type": "stream",
     "text": [
      "abc 123\n"
     ]
    }
   ],
   "source": [
    "print('abc', 123)"
   ]
  },
  {
   "cell_type": "code",
   "execution_count": 44,
   "id": "4c0fa830",
   "metadata": {},
   "outputs": [
    {
     "name": "stdout",
     "output_type": "stream",
     "text": [
      "abc+123\n"
     ]
    }
   ],
   "source": [
    "print('abc', 123, sep='+')"
   ]
  },
  {
   "cell_type": "code",
   "execution_count": 45,
   "id": "1001e3b5",
   "metadata": {},
   "outputs": [
    {
     "name": "stdout",
     "output_type": "stream",
     "text": [
      "abc/123\n"
     ]
    }
   ],
   "source": [
    "print('abc', 123, sep='/')"
   ]
  },
  {
   "cell_type": "code",
   "execution_count": 46,
   "id": "04783657",
   "metadata": {},
   "outputs": [
    {
     "name": "stdout",
     "output_type": "stream",
     "text": [
      "abcthis is the separator123\n"
     ]
    }
   ],
   "source": [
    "print('abc', 123, sep='this is the separator')"
   ]
  },
  {
   "cell_type": "code",
   "execution_count": 47,
   "id": "d1e5a642",
   "metadata": {},
   "outputs": [
    {
     "ename": "NameError",
     "evalue": "name 'abc' is not defined",
     "output_type": "error",
     "traceback": [
      "\u001b[0;31m---------------------------------------------------------------------------\u001b[0m",
      "\u001b[0;31mNameError\u001b[0m                                 Traceback (most recent call last)",
      "Input \u001b[0;32mIn [47]\u001b[0m, in \u001b[0;36m<cell line: 1>\u001b[0;34m()\u001b[0m\n\u001b[0;32m----> 1\u001b[0m \u001b[38;5;28mprint\u001b[39m(\u001b[43mabc\u001b[49m, \u001b[38;5;241m123\u001b[39m, sep\u001b[38;5;241m=\u001b[39m\u001b[38;5;124m'\u001b[39m\u001b[38;5;130;01m\\n\u001b[39;00m\u001b[38;5;124m'\u001b[39m)\n",
      "\u001b[0;31mNameError\u001b[0m: name 'abc' is not defined"
     ]
    }
   ],
   "source": [
    "print(abc, 123, sep='\\n')"
   ]
  },
  {
   "cell_type": "code",
   "execution_count": 48,
   "id": "f1540902",
   "metadata": {},
   "outputs": [
    {
     "name": "stdout",
     "output_type": "stream",
     "text": [
      "abc\n",
      "123\n"
     ]
    }
   ],
   "source": [
    "print('abc', 123, sep='\\n')"
   ]
  },
  {
   "cell_type": "code",
   "execution_count": 50,
   "id": "a9bff5c9",
   "metadata": {},
   "outputs": [
    {
     "name": "stdout",
     "output_type": "stream",
     "text": [
      "abc\n",
      "123\n"
     ]
    }
   ],
   "source": [
    "print('abc', end='\\n')\n",
    "print(123)"
   ]
  },
  {
   "cell_type": "code",
   "execution_count": 51,
   "id": "8ab88d2c",
   "metadata": {},
   "outputs": [
    {
     "name": "stdout",
     "output_type": "stream",
     "text": [
      "abc 123\n"
     ]
    }
   ],
   "source": [
    "print('abc', end=' ')\n",
    "print(123)"
   ]
  },
  {
   "cell_type": "markdown",
   "id": "611922ce",
   "metadata": {},
   "source": [
    "## Quiz"
   ]
  },
  {
   "cell_type": "code",
   "execution_count": null,
   "id": "f4c3b508",
   "metadata": {},
   "outputs": [],
   "source": [
    "print('1', '2', sep='+', end='-')\n",
    "print('1', '2', end='+', sep='-')"
   ]
  },
  {
   "cell_type": "code",
   "execution_count": 52,
   "id": "fc359d4c",
   "metadata": {},
   "outputs": [
    {
     "name": "stdout",
     "output_type": "stream",
     "text": [
      "Rahul Rohit Emma watson\n",
      "Yash KGF\n"
     ]
    }
   ],
   "source": [
    "print(\"Rahul\", \"Rohit\", \"Emma watson\", sep = \" \")\n",
    "print(\"Yash KGF\")"
   ]
  },
  {
   "cell_type": "code",
   "execution_count": 56,
   "id": "1153c591",
   "metadata": {},
   "outputs": [
    {
     "name": "stdout",
     "output_type": "stream",
     "text": [
      "1,\n",
      "2,\n",
      "3,\n",
      "4\n"
     ]
    }
   ],
   "source": [
    "print(1, 2, 3, 4, sep=\",\\n\")"
   ]
  },
  {
   "cell_type": "markdown",
   "id": "41670113",
   "metadata": {},
   "source": [
    "## Variables - 2"
   ]
  },
  {
   "cell_type": "code",
   "execution_count": 57,
   "id": "4e88787f",
   "metadata": {},
   "outputs": [
    {
     "name": "stdout",
     "output_type": "stream",
     "text": [
      "hello\n"
     ]
    }
   ],
   "source": [
    "y = 'hello'\n",
    "num = y\n",
    "\n",
    "print(num)"
   ]
  },
  {
   "cell_type": "code",
   "execution_count": 58,
   "id": "c2fb291b",
   "metadata": {},
   "outputs": [
    {
     "name": "stdout",
     "output_type": "stream",
     "text": [
      "140561017396656\n"
     ]
    }
   ],
   "source": [
    "print(id(num))"
   ]
  },
  {
   "cell_type": "code",
   "execution_count": 59,
   "id": "8f59bfa5",
   "metadata": {},
   "outputs": [
    {
     "name": "stdout",
     "output_type": "stream",
     "text": [
      "140561017396656\n"
     ]
    }
   ],
   "source": [
    "print(id(y))"
   ]
  },
  {
   "cell_type": "code",
   "execution_count": 60,
   "id": "8c6baa93",
   "metadata": {},
   "outputs": [],
   "source": [
    "x = 3\n",
    "y = 'hello'\n",
    "num = y"
   ]
  },
  {
   "cell_type": "code",
   "execution_count": 61,
   "id": "49c9e258",
   "metadata": {},
   "outputs": [
    {
     "name": "stdout",
     "output_type": "stream",
     "text": [
      "3 hello hello\n"
     ]
    }
   ],
   "source": [
    "print(x, y, num)"
   ]
  },
  {
   "cell_type": "code",
   "execution_count": 62,
   "id": "3b19c514",
   "metadata": {},
   "outputs": [
    {
     "name": "stdout",
     "output_type": "stream",
     "text": [
      "3 3 hello\n"
     ]
    }
   ],
   "source": [
    "y = x\n",
    "print(x, y, num)"
   ]
  },
  {
   "cell_type": "code",
   "execution_count": 63,
   "id": "c94bdd66",
   "metadata": {},
   "outputs": [
    {
     "name": "stdout",
     "output_type": "stream",
     "text": [
      "140560992102768\n"
     ]
    }
   ],
   "source": [
    "print(id(x))"
   ]
  },
  {
   "cell_type": "code",
   "execution_count": 64,
   "id": "5f0c51d5",
   "metadata": {},
   "outputs": [
    {
     "name": "stdout",
     "output_type": "stream",
     "text": [
      "140560992102768\n"
     ]
    }
   ],
   "source": [
    "print(id(y))"
   ]
  },
  {
   "cell_type": "code",
   "execution_count": 65,
   "id": "871b94d1",
   "metadata": {},
   "outputs": [
    {
     "name": "stdout",
     "output_type": "stream",
     "text": [
      "140561017396656\n"
     ]
    }
   ],
   "source": [
    "print(id(num))"
   ]
  },
  {
   "cell_type": "markdown",
   "id": "7854c4c6",
   "metadata": {},
   "source": [
    "## Variables are case sensitive"
   ]
  },
  {
   "cell_type": "code",
   "execution_count": 66,
   "id": "ad4251a4",
   "metadata": {},
   "outputs": [
    {
     "ename": "NameError",
     "evalue": "name 'Name' is not defined",
     "output_type": "error",
     "traceback": [
      "\u001b[0;31m---------------------------------------------------------------------------\u001b[0m",
      "\u001b[0;31mNameError\u001b[0m                                 Traceback (most recent call last)",
      "Input \u001b[0;32mIn [66]\u001b[0m, in \u001b[0;36m<cell line: 2>\u001b[0;34m()\u001b[0m\n\u001b[1;32m      1\u001b[0m name\u001b[38;5;241m=\u001b[39m\u001b[38;5;124m'\u001b[39m\u001b[38;5;124mSahil\u001b[39m\u001b[38;5;124m'\u001b[39m\n\u001b[0;32m----> 2\u001b[0m \u001b[38;5;28mprint\u001b[39m(\u001b[43mName\u001b[49m)\n",
      "\u001b[0;31mNameError\u001b[0m: name 'Name' is not defined"
     ]
    }
   ],
   "source": [
    "name='Sahil'\n",
    "print(Name)"
   ]
  },
  {
   "cell_type": "code",
   "execution_count": 67,
   "id": "1f762dc7",
   "metadata": {},
   "outputs": [
    {
     "name": "stdout",
     "output_type": "stream",
     "text": [
      "Sahil\n"
     ]
    }
   ],
   "source": [
    "print(name)"
   ]
  },
  {
   "cell_type": "markdown",
   "id": "0b9e64ed",
   "metadata": {},
   "source": [
    "## Quiz"
   ]
  },
  {
   "cell_type": "code",
   "execution_count": 68,
   "id": "abbc902f",
   "metadata": {},
   "outputs": [
    {
     "name": "stdout",
     "output_type": "stream",
     "text": [
      "hello 5\n"
     ]
    }
   ],
   "source": [
    "x = 3\n",
    "y = 'hello'\n",
    "num = y\n",
    "y = 5\n",
    "print(num, y)\n"
   ]
  },
  {
   "cell_type": "markdown",
   "id": "2f750532",
   "metadata": {},
   "source": [
    "## Magic with underscore variable name"
   ]
  },
  {
   "cell_type": "code",
   "execution_count": 1,
   "id": "95a3ac40",
   "metadata": {},
   "outputs": [
    {
     "data": {
      "text/plain": [
       "8"
      ]
     },
     "execution_count": 1,
     "metadata": {},
     "output_type": "execute_result"
    }
   ],
   "source": [
    "3 + 5"
   ]
  },
  {
   "cell_type": "code",
   "execution_count": 2,
   "id": "da7d0f0f",
   "metadata": {},
   "outputs": [
    {
     "name": "stdout",
     "output_type": "stream",
     "text": [
      "8\n"
     ]
    }
   ],
   "source": [
    "print(_)"
   ]
  },
  {
   "cell_type": "code",
   "execution_count": 3,
   "id": "aed6848c",
   "metadata": {},
   "outputs": [
    {
     "data": {
      "text/plain": [
       "30"
      ]
     },
     "execution_count": 3,
     "metadata": {},
     "output_type": "execute_result"
    }
   ],
   "source": [
    "5*6"
   ]
  },
  {
   "cell_type": "code",
   "execution_count": 4,
   "id": "c238ded5",
   "metadata": {},
   "outputs": [
    {
     "name": "stdout",
     "output_type": "stream",
     "text": [
      "30\n"
     ]
    }
   ],
   "source": [
    "print(_)"
   ]
  },
  {
   "cell_type": "code",
   "execution_count": 5,
   "id": "288b7bc1",
   "metadata": {},
   "outputs": [
    {
     "data": {
      "text/plain": [
       "3.0"
      ]
     },
     "execution_count": 5,
     "metadata": {},
     "output_type": "execute_result"
    }
   ],
   "source": [
    "9 / 3"
   ]
  },
  {
   "cell_type": "code",
   "execution_count": 6,
   "id": "db33ad1b",
   "metadata": {},
   "outputs": [
    {
     "name": "stdout",
     "output_type": "stream",
     "text": [
      "3.0\n"
     ]
    }
   ],
   "source": [
    "print(_)"
   ]
  },
  {
   "cell_type": "markdown",
   "id": "55f89049",
   "metadata": {},
   "source": [
    "## Variable Naming Quiz"
   ]
  },
  {
   "cell_type": "code",
   "execution_count": 7,
   "id": "a1160199",
   "metadata": {},
   "outputs": [
    {
     "ename": "SyntaxError",
     "evalue": "EOL while scanning string literal (2001507064.py, line 2)",
     "output_type": "error",
     "traceback": [
      "\u001b[0;36m  Input \u001b[0;32mIn [7]\u001b[0;36m\u001b[0m\n\u001b[0;31m    print(\"1')\u001b[0m\n\u001b[0m              ^\u001b[0m\n\u001b[0;31mSyntaxError\u001b[0m\u001b[0;31m:\u001b[0m EOL while scanning string literal\n"
     ]
    }
   ],
   "source": [
    "x21354y = 1\n",
    "print(\"1')"
   ]
  },
  {
   "cell_type": "code",
   "execution_count": 9,
   "id": "3a259318",
   "metadata": {},
   "outputs": [
    {
     "name": "stdout",
     "output_type": "stream",
     "text": [
      "1\n"
     ]
    }
   ],
   "source": [
    "x21354y = 1\n",
    "print(x21354y)"
   ]
  },
  {
   "cell_type": "markdown",
   "id": "715bc864",
   "metadata": {},
   "source": [
    "`hELLO`\n",
    "\n",
    "`1_name_Input`\n",
    "\n",
    "`a*b*c`\n",
    "\n",
    "`Cod3$#`\n",
    "\n"
   ]
  },
  {
   "cell_type": "code",
   "execution_count": 12,
   "id": "b64352ab",
   "metadata": {},
   "outputs": [
    {
     "name": "stdout",
     "output_type": "stream",
     "text": [
      "242\n"
     ]
    }
   ],
   "source": [
    "hELLO = '242'\n",
    "print(hELLO)"
   ]
  },
  {
   "cell_type": "code",
   "execution_count": 13,
   "id": "2f6a2ac8",
   "metadata": {},
   "outputs": [
    {
     "ename": "SyntaxError",
     "evalue": "invalid decimal literal (1179921185.py, line 1)",
     "output_type": "error",
     "traceback": [
      "\u001b[0;36m  Input \u001b[0;32mIn [13]\u001b[0;36m\u001b[0m\n\u001b[0;31m    1_name_Input = 324\u001b[0m\n\u001b[0m     ^\u001b[0m\n\u001b[0;31mSyntaxError\u001b[0m\u001b[0;31m:\u001b[0m invalid decimal literal\n"
     ]
    }
   ],
   "source": [
    "1_name_Input = 324"
   ]
  },
  {
   "cell_type": "code",
   "execution_count": 15,
   "id": "af8fbc7a",
   "metadata": {},
   "outputs": [
    {
     "ename": "SyntaxError",
     "evalue": "cannot assign to operator (257198617.py, line 1)",
     "output_type": "error",
     "traceback": [
      "\u001b[0;36m  Input \u001b[0;32mIn [15]\u001b[0;36m\u001b[0m\n\u001b[0;31m    a*b*c = 'q'\u001b[0m\n\u001b[0m    ^\u001b[0m\n\u001b[0;31mSyntaxError\u001b[0m\u001b[0;31m:\u001b[0m cannot assign to operator\n"
     ]
    }
   ],
   "source": [
    "a*b*c = 'q'"
   ]
  },
  {
   "cell_type": "code",
   "execution_count": 17,
   "id": "1deba851",
   "metadata": {},
   "outputs": [
    {
     "ename": "SyntaxError",
     "evalue": "invalid syntax (2656265391.py, line 1)",
     "output_type": "error",
     "traceback": [
      "\u001b[0;36m  Input \u001b[0;32mIn [17]\u001b[0;36m\u001b[0m\n\u001b[0;31m    Cod3$# = 242\u001b[0m\n\u001b[0m        ^\u001b[0m\n\u001b[0;31mSyntaxError\u001b[0m\u001b[0;31m:\u001b[0m invalid syntax\n"
     ]
    }
   ],
   "source": [
    "Cod3$# = 242"
   ]
  },
  {
   "cell_type": "markdown",
   "id": "2528d6d8",
   "metadata": {},
   "source": [
    "## Take input from user"
   ]
  },
  {
   "cell_type": "code",
   "execution_count": 18,
   "id": "b3d431c6",
   "metadata": {},
   "outputs": [
    {
     "name": "stdout",
     "output_type": "stream",
     "text": [
      "Please enter your name:Sahil Bansal\n"
     ]
    },
    {
     "data": {
      "text/plain": [
       "'Sahil Bansal'"
      ]
     },
     "execution_count": 18,
     "metadata": {},
     "output_type": "execute_result"
    }
   ],
   "source": [
    "input('Please enter your name:')"
   ]
  },
  {
   "cell_type": "code",
   "execution_count": 19,
   "id": "5b0db2f5",
   "metadata": {},
   "outputs": [
    {
     "name": "stdout",
     "output_type": "stream",
     "text": [
      "Please enter your age:23\n"
     ]
    },
    {
     "data": {
      "text/plain": [
       "'23'"
      ]
     },
     "execution_count": 19,
     "metadata": {},
     "output_type": "execute_result"
    }
   ],
   "source": [
    "input('Please enter your age:')"
   ]
  },
  {
   "cell_type": "markdown",
   "id": "19078a12",
   "metadata": {},
   "source": [
    "## Number addition by input from user"
   ]
  },
  {
   "cell_type": "code",
   "execution_count": 20,
   "id": "b889d7da",
   "metadata": {},
   "outputs": [
    {
     "name": "stdout",
     "output_type": "stream",
     "text": [
      "5\n"
     ]
    },
    {
     "data": {
      "text/plain": [
       "'5'"
      ]
     },
     "execution_count": 20,
     "metadata": {},
     "output_type": "execute_result"
    }
   ],
   "source": [
    "input()"
   ]
  },
  {
   "cell_type": "code",
   "execution_count": 21,
   "id": "ab4ee58b",
   "metadata": {},
   "outputs": [
    {
     "name": "stdout",
     "output_type": "stream",
     "text": [
      "6\n"
     ]
    },
    {
     "data": {
      "text/plain": [
       "'6'"
      ]
     },
     "execution_count": 21,
     "metadata": {},
     "output_type": "execute_result"
    }
   ],
   "source": [
    "input()"
   ]
  },
  {
   "cell_type": "markdown",
   "id": "5766cb14",
   "metadata": {},
   "source": [
    "1. store the data in a variable"
   ]
  },
  {
   "cell_type": "code",
   "execution_count": 22,
   "id": "aba8675d",
   "metadata": {},
   "outputs": [
    {
     "name": "stdout",
     "output_type": "stream",
     "text": [
      "5\n"
     ]
    }
   ],
   "source": [
    "x = input()"
   ]
  },
  {
   "cell_type": "code",
   "execution_count": 23,
   "id": "e45c462d",
   "metadata": {},
   "outputs": [
    {
     "name": "stdout",
     "output_type": "stream",
     "text": [
      "5\n"
     ]
    }
   ],
   "source": [
    "print(x)"
   ]
  },
  {
   "cell_type": "code",
   "execution_count": 24,
   "id": "246700fc",
   "metadata": {},
   "outputs": [
    {
     "data": {
      "text/plain": [
       "str"
      ]
     },
     "execution_count": 24,
     "metadata": {},
     "output_type": "execute_result"
    }
   ],
   "source": [
    "type(x)"
   ]
  },
  {
   "cell_type": "markdown",
   "id": "178c8da8",
   "metadata": {},
   "source": [
    "## 2 variables input"
   ]
  },
  {
   "cell_type": "code",
   "execution_count": 27,
   "id": "2cd5915b",
   "metadata": {},
   "outputs": [
    {
     "name": "stdout",
     "output_type": "stream",
     "text": [
      "5\n",
      "6\n"
     ]
    }
   ],
   "source": [
    "x = input()\n",
    "y = input()"
   ]
  },
  {
   "cell_type": "code",
   "execution_count": 29,
   "id": "4cfbd460",
   "metadata": {},
   "outputs": [
    {
     "name": "stdout",
     "output_type": "stream",
     "text": [
      "<class 'str'>\n",
      "<class 'str'>\n"
     ]
    }
   ],
   "source": [
    "print(type(x))\n",
    "print(type(y))"
   ]
  },
  {
   "cell_type": "code",
   "execution_count": 31,
   "id": "632eb680",
   "metadata": {},
   "outputs": [
    {
     "name": "stdout",
     "output_type": "stream",
     "text": [
      "56\n"
     ]
    }
   ],
   "source": [
    "print(x + y) # string addition => combine the 2 strings"
   ]
  },
  {
   "cell_type": "code",
   "execution_count": 32,
   "id": "221750e8",
   "metadata": {},
   "outputs": [
    {
     "name": "stdout",
     "output_type": "stream",
     "text": [
      "helloworld\n"
     ]
    }
   ],
   "source": [
    "print(\"hello\" + \"world\")"
   ]
  },
  {
   "cell_type": "code",
   "execution_count": 33,
   "id": "00bd8a93",
   "metadata": {},
   "outputs": [
    {
     "name": "stdout",
     "output_type": "stream",
     "text": [
      "56\n"
     ]
    }
   ],
   "source": [
    "print('5' + '6')"
   ]
  },
  {
   "cell_type": "code",
   "execution_count": 34,
   "id": "4b5be2ab",
   "metadata": {},
   "outputs": [
    {
     "name": "stdout",
     "output_type": "stream",
     "text": [
      "11\n"
     ]
    }
   ],
   "source": [
    "print(5 + 6)"
   ]
  },
  {
   "cell_type": "markdown",
   "id": "0a14cadd",
   "metadata": {},
   "source": [
    "## Typecasting"
   ]
  },
  {
   "cell_type": "code",
   "execution_count": 35,
   "id": "d49e289e",
   "metadata": {},
   "outputs": [
    {
     "name": "stdout",
     "output_type": "stream",
     "text": [
      "5\n",
      "<class 'int'>\n"
     ]
    }
   ],
   "source": [
    "x = '5'\n",
    "y = int(x)\n",
    "print(y)\n",
    "print(type(y))"
   ]
  },
  {
   "cell_type": "markdown",
   "id": "c5b56ad6",
   "metadata": {},
   "source": [
    "## Adding 2 nums"
   ]
  },
  {
   "cell_type": "code",
   "execution_count": 41,
   "id": "09b0b23a",
   "metadata": {},
   "outputs": [
    {
     "name": "stdout",
     "output_type": "stream",
     "text": [
      "5\n",
      "6\n",
      "11\n"
     ]
    }
   ],
   "source": [
    "x = input()\n",
    "y = input()\n",
    "\n",
    "a = int(x)\n",
    "b = int(y)\n",
    "\n",
    "print(a + b)"
   ]
  },
  {
   "cell_type": "code",
   "execution_count": 42,
   "id": "6c816df2",
   "metadata": {},
   "outputs": [
    {
     "name": "stdout",
     "output_type": "stream",
     "text": [
      "102437184717031902141413141\n",
      "1240751517517\n",
      "102437184717033142892930658\n"
     ]
    }
   ],
   "source": [
    "x = input()\n",
    "y = input()\n",
    "\n",
    "a = int(x)\n",
    "b = int(y)\n",
    "\n",
    "print(a + b)"
   ]
  },
  {
   "cell_type": "code",
   "execution_count": 43,
   "id": "9ad5c26a",
   "metadata": {},
   "outputs": [
    {
     "name": "stdout",
     "output_type": "stream",
     "text": [
      "abc12314\n",
      "2342134\n"
     ]
    },
    {
     "ename": "ValueError",
     "evalue": "invalid literal for int() with base 10: 'abc12314'",
     "output_type": "error",
     "traceback": [
      "\u001b[0;31m---------------------------------------------------------------------------\u001b[0m",
      "\u001b[0;31mValueError\u001b[0m                                Traceback (most recent call last)",
      "Input \u001b[0;32mIn [43]\u001b[0m, in \u001b[0;36m<cell line: 4>\u001b[0;34m()\u001b[0m\n\u001b[1;32m      1\u001b[0m x \u001b[38;5;241m=\u001b[39m \u001b[38;5;28minput\u001b[39m()\n\u001b[1;32m      2\u001b[0m y \u001b[38;5;241m=\u001b[39m \u001b[38;5;28minput\u001b[39m()\n\u001b[0;32m----> 4\u001b[0m a \u001b[38;5;241m=\u001b[39m \u001b[38;5;28;43mint\u001b[39;49m\u001b[43m(\u001b[49m\u001b[43mx\u001b[49m\u001b[43m)\u001b[49m\n\u001b[1;32m      5\u001b[0m b \u001b[38;5;241m=\u001b[39m \u001b[38;5;28mint\u001b[39m(y)\n\u001b[1;32m      7\u001b[0m \u001b[38;5;28mprint\u001b[39m(a \u001b[38;5;241m+\u001b[39m b)\n",
      "\u001b[0;31mValueError\u001b[0m: invalid literal for int() with base 10: 'abc12314'"
     ]
    }
   ],
   "source": [
    "x = input()\n",
    "y = input()\n",
    "\n",
    "a = int(x)\n",
    "b = int(y)\n",
    "\n",
    "print(a + b)"
   ]
  },
  {
   "cell_type": "code",
   "execution_count": 44,
   "id": "82a19e67",
   "metadata": {},
   "outputs": [
    {
     "data": {
      "text/plain": [
       "2412341"
      ]
     },
     "execution_count": 44,
     "metadata": {},
     "output_type": "execute_result"
    }
   ],
   "source": [
    "int('2412341')"
   ]
  },
  {
   "cell_type": "code",
   "execution_count": 45,
   "id": "e8f52206",
   "metadata": {},
   "outputs": [
    {
     "ename": "ValueError",
     "evalue": "invalid literal for int() with base 10: '12314adaefafa'",
     "output_type": "error",
     "traceback": [
      "\u001b[0;31m---------------------------------------------------------------------------\u001b[0m",
      "\u001b[0;31mValueError\u001b[0m                                Traceback (most recent call last)",
      "Input \u001b[0;32mIn [45]\u001b[0m, in \u001b[0;36m<cell line: 1>\u001b[0;34m()\u001b[0m\n\u001b[0;32m----> 1\u001b[0m \u001b[38;5;28;43mint\u001b[39;49m\u001b[43m(\u001b[49m\u001b[38;5;124;43m'\u001b[39;49m\u001b[38;5;124;43m12314adaefafa\u001b[39;49m\u001b[38;5;124;43m'\u001b[39;49m\u001b[43m)\u001b[49m\n",
      "\u001b[0;31mValueError\u001b[0m: invalid literal for int() with base 10: '12314adaefafa'"
     ]
    }
   ],
   "source": [
    "int('12314adaefafa')"
   ]
  },
  {
   "cell_type": "code",
   "execution_count": null,
   "id": "c7778c33",
   "metadata": {},
   "outputs": [],
   "source": []
  }
 ],
 "metadata": {
  "kernelspec": {
   "display_name": "Python 3 (ipykernel)",
   "language": "python",
   "name": "python3"
  },
  "language_info": {
   "codemirror_mode": {
    "name": "ipython",
    "version": 3
   },
   "file_extension": ".py",
   "mimetype": "text/x-python",
   "name": "python",
   "nbconvert_exporter": "python",
   "pygments_lexer": "ipython3",
   "version": "3.9.12"
  }
 },
 "nbformat": 4,
 "nbformat_minor": 5
}
