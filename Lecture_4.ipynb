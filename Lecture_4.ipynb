{
 "cells": [
  {
   "cell_type": "markdown",
   "id": "17d3bead",
   "metadata": {},
   "source": [
    "## Iteration - 1"
   ]
  },
  {
   "cell_type": "markdown",
   "id": "246299c0",
   "metadata": {},
   "source": [
    "## FizzBuZZ"
   ]
  },
  {
   "cell_type": "code",
   "execution_count": 12,
   "id": "bbb22a8a",
   "metadata": {},
   "outputs": [
    {
     "name": "stdout",
     "output_type": "stream",
     "text": [
      "18\n"
     ]
    }
   ],
   "source": [
    "N = int(input())"
   ]
  },
  {
   "cell_type": "code",
   "execution_count": 13,
   "id": "b0ff99c8",
   "metadata": {},
   "outputs": [
    {
     "name": "stdout",
     "output_type": "stream",
     "text": [
      "Fizz\n"
     ]
    }
   ],
   "source": [
    "if N % 3 == 0 and N % 5 == 0:\n",
    "    print('FizzBuzz')\n",
    "elif N % 5 == 0:\n",
    "    print('Buzz')\n",
    "elif N % 3 == 0:\n",
    "    print('Fizz')"
   ]
  },
  {
   "cell_type": "markdown",
   "id": "24ab0ca3",
   "metadata": {},
   "source": [
    "### Quiz"
   ]
  },
  {
   "cell_type": "code",
   "execution_count": 17,
   "id": "24daf9a1",
   "metadata": {},
   "outputs": [
    {
     "name": "stdout",
     "output_type": "stream",
     "text": [
      "ML is fun\n",
      "I love DS\n"
     ]
    }
   ],
   "source": [
    "a = 1\n",
    "b = 0\n",
    "c = 1\n",
    "if (a and b):\n",
    "    print(\"Scaler is awesome\")\n",
    "elif (a and c): # true\n",
    "    print(\"ML is fun\")\n",
    "if (a and b and c):\n",
    "    print(\"Python is amazing\")\n",
    "if (a or b or c): # true\n",
    "    print(\"I love DS\")"
   ]
  },
  {
   "cell_type": "code",
   "execution_count": 14,
   "id": "a499a530",
   "metadata": {},
   "outputs": [
    {
     "data": {
      "text/plain": [
       "True"
      ]
     },
     "execution_count": 14,
     "metadata": {},
     "output_type": "execute_result"
    }
   ],
   "source": [
    "bool(1)"
   ]
  },
  {
   "cell_type": "code",
   "execution_count": 15,
   "id": "5e2deb55",
   "metadata": {},
   "outputs": [
    {
     "data": {
      "text/plain": [
       "False"
      ]
     },
     "execution_count": 15,
     "metadata": {},
     "output_type": "execute_result"
    }
   ],
   "source": [
    "bool(0)"
   ]
  },
  {
   "cell_type": "code",
   "execution_count": 18,
   "id": "5e8da00c",
   "metadata": {},
   "outputs": [
    {
     "name": "stdout",
     "output_type": "stream",
     "text": [
      "Machine Learning\n"
     ]
    }
   ],
   "source": [
    "if False:\n",
    "    print(\"Artificial Intelligence\")\n",
    "elif True:\n",
    "    print(\"Machine Learning\")\n",
    "elif True:\n",
    "    print(\"Data Science\")\n",
    "else:\n",
    "    print(\"Deep Learning\")"
   ]
  },
  {
   "cell_type": "markdown",
   "id": "e3247ec6",
   "metadata": {},
   "source": [
    "## Iteration"
   ]
  },
  {
   "cell_type": "markdown",
   "id": "23673a8d",
   "metadata": {},
   "source": [
    "### Print numbers from 1 to 10"
   ]
  },
  {
   "cell_type": "code",
   "execution_count": 19,
   "id": "05ff9dd4",
   "metadata": {},
   "outputs": [],
   "source": [
    "# while loop"
   ]
  },
  {
   "cell_type": "code",
   "execution_count": 20,
   "id": "404252b8",
   "metadata": {},
   "outputs": [
    {
     "name": "stdout",
     "output_type": "stream",
     "text": [
      "1\n",
      "2\n",
      "3\n",
      "4\n",
      "5\n",
      "6\n",
      "7\n",
      "8\n",
      "9\n",
      "10\n"
     ]
    }
   ],
   "source": [
    "i = 1\n",
    "while i <= 10:\n",
    "    print(i)\n",
    "    i += 1"
   ]
  },
  {
   "cell_type": "markdown",
   "id": "1f4094be",
   "metadata": {},
   "source": [
    "### Bowl an over"
   ]
  },
  {
   "cell_type": "code",
   "execution_count": 21,
   "id": "1ec10e0a",
   "metadata": {},
   "outputs": [],
   "source": [
    "# print 1 2 3 4 5 6 in a single line"
   ]
  },
  {
   "cell_type": "code",
   "execution_count": 25,
   "id": "99749e29",
   "metadata": {},
   "outputs": [
    {
     "name": "stdout",
     "output_type": "stream",
     "text": [
      "1\n",
      "2\n",
      "3\n",
      "4\n",
      "5\n",
      "6\n"
     ]
    }
   ],
   "source": [
    "i = 1\n",
    "while i <= 6:\n",
    "    print(i)\n",
    "    i += 1"
   ]
  },
  {
   "cell_type": "code",
   "execution_count": 23,
   "id": "5d87357a",
   "metadata": {},
   "outputs": [
    {
     "name": "stdout",
     "output_type": "stream",
     "text": [
      "1\n",
      "2\n"
     ]
    }
   ],
   "source": [
    "print(1)\n",
    "print(2)"
   ]
  },
  {
   "cell_type": "code",
   "execution_count": 24,
   "id": "ea7d11d7",
   "metadata": {},
   "outputs": [
    {
     "name": "stdout",
     "output_type": "stream",
     "text": [
      "1 2 "
     ]
    }
   ],
   "source": [
    "print(1, end=' ')\n",
    "print(2, end=' ')"
   ]
  },
  {
   "cell_type": "code",
   "execution_count": 26,
   "id": "6bcaf053",
   "metadata": {},
   "outputs": [
    {
     "name": "stdout",
     "output_type": "stream",
     "text": [
      "1 2 3 4 5 6 "
     ]
    }
   ],
   "source": [
    "i = 1\n",
    "while i <= 6:\n",
    "    # end with a space\n",
    "    print(i, end=' ')\n",
    "    i += 1"
   ]
  },
  {
   "cell_type": "markdown",
   "id": "c80b5bc4",
   "metadata": {},
   "source": [
    "### Quiz"
   ]
  },
  {
   "cell_type": "code",
   "execution_count": 28,
   "id": "f41bb63f",
   "metadata": {},
   "outputs": [
    {
     "name": "stdout",
     "output_type": "stream",
     "text": [
      "1\n",
      "2\n",
      "5\n"
     ]
    }
   ],
   "source": [
    "N = 2\n",
    "i = 1\n",
    "while i <= N:\n",
    "    print(i)\n",
    "    i += 1\n",
    "\n",
    "print(5)"
   ]
  },
  {
   "cell_type": "code",
   "execution_count": 29,
   "id": "7579501a",
   "metadata": {},
   "outputs": [
    {
     "name": "stdout",
     "output_type": "stream",
     "text": [
      "2\n",
      "4\n"
     ]
    }
   ],
   "source": [
    "N = 5\n",
    "i = 2\n",
    "while i <= N:\n",
    "    if i % 2 == 0:\n",
    "        print(i)\n",
    "    i += 1"
   ]
  },
  {
   "cell_type": "code",
   "execution_count": 32,
   "id": "3ee76543",
   "metadata": {},
   "outputs": [
    {
     "name": "stdout",
     "output_type": "stream",
     "text": [
      "2\n",
      "4\n",
      "6\n",
      "8\n",
      "10\n",
      "12\n",
      "14\n",
      "16\n",
      "18\n",
      "20\n",
      "22\n",
      "24\n",
      "26\n",
      "28\n"
     ]
    }
   ],
   "source": [
    "N = 28\n",
    "i = 2\n",
    "while i <= N:\n",
    "    # multiples of 2 => even numbers\n",
    "    if i % 2 == 0:\n",
    "        print(i)\n",
    "    i += 1"
   ]
  },
  {
   "cell_type": "code",
   "execution_count": 33,
   "id": "243c670b",
   "metadata": {},
   "outputs": [],
   "source": [
    "# HW: Try to print numbers from N (input) to 1 \n",
    "\n",
    "# eg, N = 5\n",
    "# Output:\n",
    "# 5 4 3 2 1"
   ]
  },
  {
   "cell_type": "markdown",
   "id": "260c61c2",
   "metadata": {},
   "source": [
    "### Print N to 1"
   ]
  },
  {
   "cell_type": "code",
   "execution_count": 37,
   "id": "a96cbc7d",
   "metadata": {},
   "outputs": [
    {
     "name": "stdout",
     "output_type": "stream",
     "text": [
      "5\n",
      "5 4 3 2 1 \n",
      "Done\n"
     ]
    }
   ],
   "source": [
    "N = int(input())\n",
    "\n",
    "i = N\n",
    "while i >= 1:\n",
    "    print(i, end=' ')\n",
    "    i -= 1\n",
    "\n",
    "print()\n",
    "print('Done')"
   ]
  },
  {
   "cell_type": "markdown",
   "id": "598e3c0b",
   "metadata": {},
   "source": [
    "### Print all odd from 1 to N"
   ]
  },
  {
   "cell_type": "code",
   "execution_count": 38,
   "id": "183fd422",
   "metadata": {},
   "outputs": [
    {
     "name": "stdout",
     "output_type": "stream",
     "text": [
      "1\n"
     ]
    }
   ],
   "source": [
    "print(3 % 2)"
   ]
  },
  {
   "cell_type": "code",
   "execution_count": 39,
   "id": "121b345f",
   "metadata": {},
   "outputs": [
    {
     "name": "stdout",
     "output_type": "stream",
     "text": [
      "7\n",
      "1\n",
      "3\n",
      "5\n",
      "7\n",
      "Done\n"
     ]
    }
   ],
   "source": [
    "N = int(input())\n",
    "\n",
    "i = 1\n",
    "while i <= N:\n",
    "    # not divisble by 2 => odd\n",
    "    if i % 2 == 1:\n",
    "        print(i)\n",
    "    i += 1\n",
    "print('Done')"
   ]
  },
  {
   "cell_type": "markdown",
   "id": "02b498bb",
   "metadata": {},
   "source": [
    "## range function"
   ]
  },
  {
   "cell_type": "code",
   "execution_count": 41,
   "id": "730836b4",
   "metadata": {},
   "outputs": [
    {
     "data": {
      "text/plain": [
       "range(0, 5)"
      ]
     },
     "execution_count": 41,
     "metadata": {},
     "output_type": "execute_result"
    }
   ],
   "source": [
    "range(5) # start = 0, end = 5 (not included), jump = 1"
   ]
  },
  {
   "cell_type": "code",
   "execution_count": 42,
   "id": "661fbe10",
   "metadata": {},
   "outputs": [
    {
     "data": {
      "text/plain": [
       "range(1, 5)"
      ]
     },
     "execution_count": 42,
     "metadata": {},
     "output_type": "execute_result"
    }
   ],
   "source": [
    "range(1, 5)"
   ]
  },
  {
   "cell_type": "code",
   "execution_count": 43,
   "id": "6a92e742",
   "metadata": {},
   "outputs": [
    {
     "data": {
      "text/plain": [
       "range(1, 10, 2)"
      ]
     },
     "execution_count": 43,
     "metadata": {},
     "output_type": "execute_result"
    }
   ],
   "source": [
    "range(1, 10, 2)"
   ]
  },
  {
   "cell_type": "code",
   "execution_count": 44,
   "id": "755c1084",
   "metadata": {},
   "outputs": [
    {
     "name": "stdout",
     "output_type": "stream",
     "text": [
      "range(0, 5)\n"
     ]
    }
   ],
   "source": [
    "print(range(5))"
   ]
  },
  {
   "cell_type": "markdown",
   "id": "6a305f3d",
   "metadata": {},
   "source": [
    "## for loop"
   ]
  },
  {
   "cell_type": "code",
   "execution_count": 50,
   "id": "f260d916",
   "metadata": {},
   "outputs": [
    {
     "name": "stdout",
     "output_type": "stream",
     "text": [
      "0 1 2 3 4 "
     ]
    }
   ],
   "source": [
    "# end = 5 is not included\n",
    "for i in range(5):\n",
    "    print(i, end=' ')"
   ]
  },
  {
   "cell_type": "code",
   "execution_count": 51,
   "id": "59337360",
   "metadata": {},
   "outputs": [
    {
     "name": "stdout",
     "output_type": "stream",
     "text": [
      "1 2 3 4 5 6 7 8 9 10 "
     ]
    }
   ],
   "source": [
    "# end = 11 is not included\n",
    "for i in range(1, 11):\n",
    "    print(i, end=' ')"
   ]
  },
  {
   "cell_type": "code",
   "execution_count": 52,
   "id": "cf8b8f00",
   "metadata": {},
   "outputs": [
    {
     "name": "stdout",
     "output_type": "stream",
     "text": [
      "0 1 2 3 4 5 6 7 8 9 10 "
     ]
    }
   ],
   "source": [
    "for i in range(11):\n",
    "    print(i, end=' ')"
   ]
  },
  {
   "cell_type": "markdown",
   "id": "94286bcc",
   "metadata": {},
   "source": [
    "### Print all numbers from 1 to N"
   ]
  },
  {
   "cell_type": "code",
   "execution_count": 53,
   "id": "9692c4c1",
   "metadata": {},
   "outputs": [
    {
     "name": "stdout",
     "output_type": "stream",
     "text": [
      "5\n",
      "1 2 3 4 "
     ]
    }
   ],
   "source": [
    "N = int(input())\n",
    "\n",
    "for i in range(1, N):\n",
    "    print(i, end=' ')"
   ]
  },
  {
   "cell_type": "code",
   "execution_count": 54,
   "id": "2b246d77",
   "metadata": {},
   "outputs": [
    {
     "name": "stdout",
     "output_type": "stream",
     "text": [
      "5\n",
      "1 2 3 4 5 "
     ]
    }
   ],
   "source": [
    "N = int(input())\n",
    "\n",
    "for i in range(1, N+1):\n",
    "    print(i, end=' ')"
   ]
  },
  {
   "cell_type": "markdown",
   "id": "d9a6c9b3",
   "metadata": {},
   "source": [
    "### range with 3 args"
   ]
  },
  {
   "cell_type": "code",
   "execution_count": 55,
   "id": "697e83a6",
   "metadata": {},
   "outputs": [
    {
     "name": "stdout",
     "output_type": "stream",
     "text": [
      "1 3 5 7 9 "
     ]
    }
   ],
   "source": [
    "for i in range(1, 10, 2):\n",
    "    print(i, end=' ')"
   ]
  },
  {
   "cell_type": "markdown",
   "id": "201341eb",
   "metadata": {},
   "source": [
    "### Print all odd numbers from 1 to N"
   ]
  },
  {
   "cell_type": "code",
   "execution_count": 59,
   "id": "b88035dd",
   "metadata": {},
   "outputs": [
    {
     "name": "stdout",
     "output_type": "stream",
     "text": [
      "1 3 5 "
     ]
    }
   ],
   "source": [
    "N = 6\n",
    "\n",
    "for i in range(1, N+1, 2):\n",
    "    print(i, end=' ')"
   ]
  },
  {
   "cell_type": "code",
   "execution_count": 60,
   "id": "31fe62f0",
   "metadata": {},
   "outputs": [
    {
     "name": "stdout",
     "output_type": "stream",
     "text": [
      "1 3 5 7 "
     ]
    }
   ],
   "source": [
    "N = 7\n",
    "\n",
    "for i in range(1, N+1, 2):\n",
    "    print(i, end=' ')"
   ]
  },
  {
   "cell_type": "markdown",
   "id": "44de8c35",
   "metadata": {},
   "source": [
    "## Find the sum of all even numbers from 1 to N"
   ]
  },
  {
   "cell_type": "code",
   "execution_count": 61,
   "id": "f0153032",
   "metadata": {},
   "outputs": [
    {
     "name": "stdout",
     "output_type": "stream",
     "text": [
      "2 4 6 "
     ]
    }
   ],
   "source": [
    "N = 6\n",
    "\n",
    "for i in range(2, N + 1, 2):\n",
    "    print(i, end=' ')"
   ]
  },
  {
   "cell_type": "code",
   "execution_count": 62,
   "id": "6eace4a1",
   "metadata": {},
   "outputs": [
    {
     "name": "stdout",
     "output_type": "stream",
     "text": [
      "0 2 4 6 "
     ]
    }
   ],
   "source": [
    "N = 6\n",
    "\n",
    "for i in range(0, N + 1, 2):\n",
    "    print(i, end=' ')"
   ]
  },
  {
   "cell_type": "code",
   "execution_count": 66,
   "id": "db94619f",
   "metadata": {},
   "outputs": [
    {
     "name": "stdout",
     "output_type": "stream",
     "text": [
      "0 0\n",
      "2 2\n",
      "4 6\n",
      "6 12\n",
      "8 20\n"
     ]
    }
   ],
   "source": [
    "N = 8\n",
    "\n",
    "res = 0\n",
    "for i in range(0, N + 1, 2):\n",
    "    res += i\n",
    "    print(i, res)"
   ]
  },
  {
   "cell_type": "code",
   "execution_count": 67,
   "id": "077dd023",
   "metadata": {},
   "outputs": [
    {
     "name": "stdout",
     "output_type": "stream",
     "text": [
      "20\n"
     ]
    }
   ],
   "source": [
    "print(res)"
   ]
  },
  {
   "cell_type": "code",
   "execution_count": 71,
   "id": "24fd2ae5",
   "metadata": {},
   "outputs": [
    {
     "name": "stdout",
     "output_type": "stream",
     "text": [
      "8\n",
      "20\n"
     ]
    }
   ],
   "source": [
    "N = int(input())\n",
    "\n",
    "res = 0 # because we want to add\n",
    "for i in range(0, N+1, 2):\n",
    "    res += i\n",
    "print(res)"
   ]
  },
  {
   "cell_type": "markdown",
   "id": "b9395027",
   "metadata": {},
   "source": [
    "### Challenge Problem:\n",
    "\n",
    "Given a number N, print all its digits from right to left.\n",
    "\n",
    "N = 453 =>\n",
    "\n",
    "3\n",
    "5\n",
    "4\n",
    "\n",
    "N = 98131\n",
    "\n",
    "1\n",
    "3\n",
    "1\n",
    "8\n",
    "9"
   ]
  },
  {
   "cell_type": "code",
   "execution_count": 79,
   "id": "1d8077e5",
   "metadata": {},
   "outputs": [
    {
     "name": "stdout",
     "output_type": "stream",
     "text": [
      "453\n"
     ]
    }
   ],
   "source": [
    "N = int(input())"
   ]
  },
  {
   "cell_type": "code",
   "execution_count": 80,
   "id": "bf2e8fa4",
   "metadata": {},
   "outputs": [
    {
     "name": "stdout",
     "output_type": "stream",
     "text": [
      "this is the digit: 3\n",
      "45\n"
     ]
    }
   ],
   "source": [
    "print('this is the digit:', N % 10)\n",
    "N = N // 10\n",
    "print(N)"
   ]
  },
  {
   "cell_type": "code",
   "execution_count": 81,
   "id": "1d26da8d",
   "metadata": {},
   "outputs": [
    {
     "name": "stdout",
     "output_type": "stream",
     "text": [
      "this is the digit: 5\n",
      "4\n"
     ]
    }
   ],
   "source": [
    "print('this is the digit:', N % 10)\n",
    "N = N // 10\n",
    "print(N)"
   ]
  },
  {
   "cell_type": "code",
   "execution_count": 82,
   "id": "e4639483",
   "metadata": {},
   "outputs": [
    {
     "name": "stdout",
     "output_type": "stream",
     "text": [
      "this is the digit: 4\n",
      "0\n"
     ]
    }
   ],
   "source": [
    "print('this is the digit:', N % 10)\n",
    "N = N // 10\n",
    "print(N)"
   ]
  },
  {
   "cell_type": "code",
   "execution_count": 85,
   "id": "bd4fc06c",
   "metadata": {},
   "outputs": [
    {
     "name": "stdout",
     "output_type": "stream",
     "text": [
      "3 5 4 "
     ]
    }
   ],
   "source": [
    "N = 453\n",
    "while N > 0:\n",
    "    print(N % 10, end=' ')\n",
    "    N = N // 10 # some operation"
   ]
  },
  {
   "cell_type": "code",
   "execution_count": 86,
   "id": "409611f6",
   "metadata": {},
   "outputs": [
    {
     "name": "stdout",
     "output_type": "stream",
     "text": [
      "1 3 1 8 9 "
     ]
    }
   ],
   "source": [
    "N = 98131\n",
    "while N > 0:\n",
    "    print(N % 10, end=' ')\n",
    "    N = N // 10"
   ]
  },
  {
   "cell_type": "markdown",
   "id": "0ce9145d",
   "metadata": {},
   "source": [
    "## Reverse"
   ]
  },
  {
   "cell_type": "code",
   "execution_count": 87,
   "id": "3a5d3fc6",
   "metadata": {},
   "outputs": [
    {
     "name": "stdout",
     "output_type": "stream",
     "text": [
      "354"
     ]
    }
   ],
   "source": [
    "N = 453\n",
    "while N > 0:\n",
    "    print(N % 10, end='')\n",
    "    N = N // 10"
   ]
  },
  {
   "cell_type": "code",
   "execution_count": 88,
   "id": "75a9dac6",
   "metadata": {},
   "outputs": [
    {
     "name": "stdout",
     "output_type": "stream",
     "text": [
      "13189"
     ]
    }
   ],
   "source": [
    "N = 98131\n",
    "while N > 0:\n",
    "    print(N % 10, end='')\n",
    "    N = N // 10"
   ]
  },
  {
   "cell_type": "markdown",
   "id": "ebe6650d",
   "metadata": {},
   "source": [
    "HW: Try to do it in a integer => store the final result in number"
   ]
  },
  {
   "cell_type": "markdown",
   "id": "916e144f",
   "metadata": {},
   "source": [
    "## Doubts - in 2 min"
   ]
  },
  {
   "cell_type": "code",
   "execution_count": 89,
   "id": "5db97ffb",
   "metadata": {},
   "outputs": [
    {
     "name": "stdout",
     "output_type": "stream",
     "text": [
      "False\n"
     ]
    }
   ],
   "source": [
    "a = -1\n",
    "b = -1\n",
    "c = 1\n",
    "x = a < b < c\n",
    "print(x)"
   ]
  },
  {
   "cell_type": "code",
   "execution_count": 90,
   "id": "dc8e5535",
   "metadata": {},
   "outputs": [
    {
     "name": "stdout",
     "output_type": "stream",
     "text": [
      "True\n"
     ]
    }
   ],
   "source": [
    "x = a < b + c\n",
    "print(x)"
   ]
  },
  {
   "cell_type": "code",
   "execution_count": 92,
   "id": "618a821f",
   "metadata": {},
   "outputs": [
    {
     "data": {
      "text/plain": [
       "True"
      ]
     },
     "execution_count": 92,
     "metadata": {},
     "output_type": "execute_result"
    }
   ],
   "source": [
    "a < b+c"
   ]
  },
  {
   "cell_type": "code",
   "execution_count": 94,
   "id": "1a05b07b",
   "metadata": {},
   "outputs": [
    {
     "name": "stdout",
     "output_type": "stream",
     "text": [
      "A\n",
      " B C\n",
      " D\n",
      " E\n"
     ]
    }
   ],
   "source": [
    "print(\"A\\n\",\"B\",\"C\\n\",\"D\\n\",\"E\")"
   ]
  },
  {
   "cell_type": "code",
   "execution_count": 97,
   "id": "afd99e8d",
   "metadata": {},
   "outputs": [
    {
     "name": "stdout",
     "output_type": "stream",
     "text": [
      "5\n"
     ]
    }
   ],
   "source": [
    "x = 5 if True else 7\n",
    "print(x)"
   ]
  },
  {
   "cell_type": "code",
   "execution_count": 98,
   "id": "a5a3a0d1",
   "metadata": {},
   "outputs": [
    {
     "name": "stdout",
     "output_type": "stream",
     "text": [
      "7\n"
     ]
    }
   ],
   "source": [
    "x = 5 if False else 7\n",
    "print(x)"
   ]
  },
  {
   "cell_type": "code",
   "execution_count": 99,
   "id": "22c7a859",
   "metadata": {},
   "outputs": [
    {
     "name": "stdout",
     "output_type": "stream",
     "text": [
      "A\n",
      " B\n",
      " C\n",
      " D\n",
      " E\n"
     ]
    }
   ],
   "source": [
    "print (\"A\\n\",\"B\\n\",\"C\\n\",\"D\\n\",\"E\")"
   ]
  },
  {
   "cell_type": "code",
   "execution_count": 100,
   "id": "e0704781",
   "metadata": {},
   "outputs": [
    {
     "name": "stdout",
     "output_type": "stream",
     "text": [
      "5\n",
      "4\n",
      "3\n",
      "2\n",
      "1\n",
      "0\n"
     ]
    }
   ],
   "source": [
    "for i in range(5,-1,-1):\n",
    "    print(i)"
   ]
  },
  {
   "cell_type": "code",
   "execution_count": null,
   "id": "7b51c11c",
   "metadata": {},
   "outputs": [],
   "source": []
  }
 ],
 "metadata": {
  "kernelspec": {
   "display_name": "Python 3 (ipykernel)",
   "language": "python",
   "name": "python3"
  },
  "language_info": {
   "codemirror_mode": {
    "name": "ipython",
    "version": 3
   },
   "file_extension": ".py",
   "mimetype": "text/x-python",
   "name": "python",
   "nbconvert_exporter": "python",
   "pygments_lexer": "ipython3",
   "version": "3.9.12"
  }
 },
 "nbformat": 4,
 "nbformat_minor": 5
}
