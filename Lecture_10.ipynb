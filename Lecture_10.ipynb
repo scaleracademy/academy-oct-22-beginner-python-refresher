{
 "cells": [
  {
   "cell_type": "code",
   "execution_count": 1,
   "id": "51086bbd",
   "metadata": {},
   "outputs": [],
   "source": [
    "planets = ['Mercury', 'Venus', 'Earth', 'Mars',\n",
    "          'Jupiter', 'Saturn',' Uranus', 'Neptune']"
   ]
  },
  {
   "cell_type": "code",
   "execution_count": 2,
   "id": "39b2cdcb",
   "metadata": {},
   "outputs": [],
   "source": [
    "planets[2] = 'Jadoo Planet'"
   ]
  },
  {
   "cell_type": "code",
   "execution_count": 3,
   "id": "94a05ae0",
   "metadata": {},
   "outputs": [
    {
     "name": "stdout",
     "output_type": "stream",
     "text": [
      "['Mercury', 'Venus', 'Jadoo Planet', 'Mars', 'Jupiter', 'Saturn', ' Uranus', 'Neptune']\n"
     ]
    }
   ],
   "source": [
    "print(planets)"
   ]
  },
  {
   "cell_type": "code",
   "execution_count": 4,
   "id": "5aed7884",
   "metadata": {},
   "outputs": [
    {
     "name": "stdout",
     "output_type": "stream",
     "text": [
      "[5, 3, 5, 2]\n"
     ]
    }
   ],
   "source": [
    "a = [1, 3, 5, 2]\n",
    "a[0] = 5\n",
    "# can update data within the list\n",
    "print(a)"
   ]
  },
  {
   "cell_type": "markdown",
   "id": "e301eeb1",
   "metadata": {},
   "source": [
    "## Tuples"
   ]
  },
  {
   "cell_type": "code",
   "execution_count": 5,
   "id": "e39b561f",
   "metadata": {},
   "outputs": [],
   "source": [
    "# cannot be changed further\n",
    "x = (1, 3, 5, 2)"
   ]
  },
  {
   "cell_type": "code",
   "execution_count": 6,
   "id": "b6de87d2",
   "metadata": {},
   "outputs": [
    {
     "name": "stdout",
     "output_type": "stream",
     "text": [
      "(1, 3, 5, 2)\n"
     ]
    }
   ],
   "source": [
    "print(x)"
   ]
  },
  {
   "cell_type": "code",
   "execution_count": 8,
   "id": "b7c97814",
   "metadata": {},
   "outputs": [
    {
     "name": "stdout",
     "output_type": "stream",
     "text": [
      "1\n"
     ]
    }
   ],
   "source": [
    "# can do all operations excect ones which change\n",
    "# the data\n",
    "print(x[0])"
   ]
  },
  {
   "cell_type": "code",
   "execution_count": 13,
   "id": "1f7a0899",
   "metadata": {},
   "outputs": [],
   "source": [
    "# x.remove(4)\n",
    "# x.pop()\n",
    "# x.sort()\n",
    "# x.insert(...)\n",
    "# x.append(5)\n",
    "\n",
    "# all above operations not supported"
   ]
  },
  {
   "cell_type": "code",
   "execution_count": 14,
   "id": "46c33220",
   "metadata": {},
   "outputs": [],
   "source": [
    "planets = ('Mercury', 'Venus', 'Earth', 'Mars',\n",
    "          'Jupiter', 'Saturn',' Uranus', 'Neptune')"
   ]
  },
  {
   "cell_type": "code",
   "execution_count": 16,
   "id": "4d31fe85",
   "metadata": {},
   "outputs": [],
   "source": [
    "# planets[2] = \"Jadoo Planet\""
   ]
  },
  {
   "cell_type": "code",
   "execution_count": null,
   "id": "bd2d5fc5",
   "metadata": {},
   "outputs": [],
   "source": [
    "# tuples are faster than lists => because of\n",
    "# how they are stored in the memory"
   ]
  },
  {
   "cell_type": "code",
   "execution_count": 17,
   "id": "11a1f29d",
   "metadata": {},
   "outputs": [],
   "source": [
    "x = (1 + 5 - 2)"
   ]
  },
  {
   "cell_type": "code",
   "execution_count": 18,
   "id": "a578cf87",
   "metadata": {},
   "outputs": [
    {
     "name": "stdout",
     "output_type": "stream",
     "text": [
      "4\n"
     ]
    }
   ],
   "source": [
    "print(x)"
   ]
  },
  {
   "cell_type": "code",
   "execution_count": 19,
   "id": "e89e654f",
   "metadata": {},
   "outputs": [
    {
     "data": {
      "text/plain": [
       "int"
      ]
     },
     "execution_count": 19,
     "metadata": {},
     "output_type": "execute_result"
    }
   ],
   "source": [
    "type(x)"
   ]
  },
  {
   "cell_type": "code",
   "execution_count": 20,
   "id": "59e6659a",
   "metadata": {},
   "outputs": [
    {
     "name": "stdout",
     "output_type": "stream",
     "text": [
      "Sahil\n"
     ]
    }
   ],
   "source": [
    "t = (\"Sahil\")\n",
    "print(t)"
   ]
  },
  {
   "cell_type": "code",
   "execution_count": 21,
   "id": "dd52e956",
   "metadata": {},
   "outputs": [
    {
     "data": {
      "text/plain": [
       "str"
      ]
     },
     "execution_count": 21,
     "metadata": {},
     "output_type": "execute_result"
    }
   ],
   "source": [
    "type(t)"
   ]
  },
  {
   "cell_type": "markdown",
   "id": "bfaadcfd",
   "metadata": {},
   "source": [
    "## Tuple with 1 element"
   ]
  },
  {
   "cell_type": "code",
   "execution_count": 28,
   "id": "57f3e56b",
   "metadata": {},
   "outputs": [],
   "source": [
    "t = (\"Sahil\",)"
   ]
  },
  {
   "cell_type": "code",
   "execution_count": 23,
   "id": "6133c9b7",
   "metadata": {},
   "outputs": [
    {
     "name": "stdout",
     "output_type": "stream",
     "text": [
      "('Sahil',)\n"
     ]
    }
   ],
   "source": [
    "print(t)"
   ]
  },
  {
   "cell_type": "code",
   "execution_count": 24,
   "id": "4a5cfb04",
   "metadata": {},
   "outputs": [
    {
     "data": {
      "text/plain": [
       "tuple"
      ]
     },
     "execution_count": 24,
     "metadata": {},
     "output_type": "execute_result"
    }
   ],
   "source": [
    "type(t)"
   ]
  },
  {
   "cell_type": "code",
   "execution_count": 25,
   "id": "2b041515",
   "metadata": {},
   "outputs": [],
   "source": [
    "t = (5,)"
   ]
  },
  {
   "cell_type": "code",
   "execution_count": 26,
   "id": "91f5e988",
   "metadata": {},
   "outputs": [
    {
     "name": "stdout",
     "output_type": "stream",
     "text": [
      "(5,)\n"
     ]
    }
   ],
   "source": [
    "print(t)"
   ]
  },
  {
   "cell_type": "code",
   "execution_count": 27,
   "id": "68c9f673",
   "metadata": {},
   "outputs": [
    {
     "data": {
      "text/plain": [
       "tuple"
      ]
     },
     "execution_count": 27,
     "metadata": {},
     "output_type": "execute_result"
    }
   ],
   "source": [
    "type(t)"
   ]
  },
  {
   "cell_type": "code",
   "execution_count": 30,
   "id": "6109d8a2",
   "metadata": {},
   "outputs": [
    {
     "name": "stdout",
     "output_type": "stream",
     "text": [
      "<class 'tuple'>\n"
     ]
    }
   ],
   "source": [
    "print(type((1,2,3)))"
   ]
  },
  {
   "cell_type": "markdown",
   "id": "0f15da2e",
   "metadata": {},
   "source": [
    "## Empty tuple"
   ]
  },
  {
   "cell_type": "code",
   "execution_count": 31,
   "id": "64f56176",
   "metadata": {},
   "outputs": [
    {
     "data": {
      "text/plain": [
       "tuple"
      ]
     },
     "execution_count": 31,
     "metadata": {},
     "output_type": "execute_result"
    }
   ],
   "source": [
    "t = ()\n",
    "type(t)"
   ]
  },
  {
   "cell_type": "code",
   "execution_count": 32,
   "id": "b269675c",
   "metadata": {},
   "outputs": [
    {
     "data": {
      "text/plain": [
       "list"
      ]
     },
     "execution_count": 32,
     "metadata": {},
     "output_type": "execute_result"
    }
   ],
   "source": [
    "L = []\n",
    "type(L)"
   ]
  },
  {
   "cell_type": "code",
   "execution_count": 34,
   "id": "0dcec7be",
   "metadata": {},
   "outputs": [
    {
     "name": "stdout",
     "output_type": "stream",
     "text": [
      "6\n"
     ]
    }
   ],
   "source": [
    "T1 = (1)  # int\n",
    "T2 = (3, 4)  # tuple\n",
    "T1 += 5\n",
    "print(T1)"
   ]
  },
  {
   "cell_type": "code",
   "execution_count": 36,
   "id": "a43f0bed",
   "metadata": {},
   "outputs": [],
   "source": [
    "T1 = (1,)\n",
    "# T1 += 5 "
   ]
  },
  {
   "cell_type": "markdown",
   "id": "484aa565",
   "metadata": {},
   "source": [
    "## List and Tuple conversions"
   ]
  },
  {
   "cell_type": "code",
   "execution_count": 38,
   "id": "32beb288",
   "metadata": {},
   "outputs": [
    {
     "name": "stdout",
     "output_type": "stream",
     "text": [
      "['mercury', 'venus', 'earth', 'mars', 'jupiter', 'saturn', 'neptune']\n"
     ]
    }
   ],
   "source": [
    "t = (\"mercury\", \"venus\", \"earth\", \"mars\",\n",
    "     \"jupiter\", \"saturn\", \"neptune\")\n",
    "\n",
    "# t.append(\"Pluto\")\n",
    "\n",
    "# convert tuple t to a list L\n",
    "L = list(t)\n",
    "print(L)"
   ]
  },
  {
   "cell_type": "code",
   "execution_count": 39,
   "id": "6485e323",
   "metadata": {},
   "outputs": [
    {
     "name": "stdout",
     "output_type": "stream",
     "text": [
      "['mercury', 'venus', 'earth', 'mars', 'jupiter', 'saturn', 'neptune', 'Pluto']\n"
     ]
    }
   ],
   "source": [
    "L.append(\"Pluto\")\n",
    "print(L)"
   ]
  },
  {
   "cell_type": "code",
   "execution_count": 40,
   "id": "a54a37c4",
   "metadata": {},
   "outputs": [
    {
     "name": "stdout",
     "output_type": "stream",
     "text": [
      "('mercury', 'venus', 'earth', 'mars', 'jupiter', 'saturn', 'neptune', 'Pluto')\n"
     ]
    }
   ],
   "source": [
    "# convert list L to a tuple t2\n",
    "t2 = tuple(L)\n",
    "print(t2)"
   ]
  },
  {
   "cell_type": "code",
   "execution_count": 41,
   "id": "49117d8a",
   "metadata": {},
   "outputs": [
    {
     "name": "stdout",
     "output_type": "stream",
     "text": [
      "('mercury', 'venus', 'earth', 'mars', 'jupiter', 'saturn', 'neptune')\n"
     ]
    }
   ],
   "source": [
    "print(t)"
   ]
  },
  {
   "cell_type": "markdown",
   "id": "43073328",
   "metadata": {},
   "source": [
    "## Tuple Slicing"
   ]
  },
  {
   "cell_type": "code",
   "execution_count": 42,
   "id": "dc7ef178",
   "metadata": {},
   "outputs": [
    {
     "name": "stdout",
     "output_type": "stream",
     "text": [
      "(3, 6, 3)\n"
     ]
    }
   ],
   "source": [
    "t = (3, 4, 6, 7, 3)\n",
    "t2 = t[::2]\n",
    "\n",
    "print(t2)"
   ]
  },
  {
   "cell_type": "markdown",
   "id": "81180bb0",
   "metadata": {},
   "source": [
    "## Other read functions"
   ]
  },
  {
   "cell_type": "code",
   "execution_count": 43,
   "id": "439b740f",
   "metadata": {},
   "outputs": [
    {
     "data": {
      "text/plain": [
       "(3, 4, 6, 7, 3)"
      ]
     },
     "execution_count": 43,
     "metadata": {},
     "output_type": "execute_result"
    }
   ],
   "source": [
    "t"
   ]
  },
  {
   "cell_type": "code",
   "execution_count": 44,
   "id": "16b641bc",
   "metadata": {},
   "outputs": [
    {
     "data": {
      "text/plain": [
       "5"
      ]
     },
     "execution_count": 44,
     "metadata": {},
     "output_type": "execute_result"
    }
   ],
   "source": [
    "len(t)"
   ]
  },
  {
   "cell_type": "code",
   "execution_count": 45,
   "id": "5a399822",
   "metadata": {},
   "outputs": [
    {
     "data": {
      "text/plain": [
       "7"
      ]
     },
     "execution_count": 45,
     "metadata": {},
     "output_type": "execute_result"
    }
   ],
   "source": [
    "max(t)"
   ]
  },
  {
   "cell_type": "code",
   "execution_count": 46,
   "id": "cf40cf5a",
   "metadata": {},
   "outputs": [
    {
     "data": {
      "text/plain": [
       "3"
      ]
     },
     "execution_count": 46,
     "metadata": {},
     "output_type": "execute_result"
    }
   ],
   "source": [
    "min(t)"
   ]
  },
  {
   "cell_type": "code",
   "execution_count": 47,
   "id": "1bc0f9f8",
   "metadata": {},
   "outputs": [
    {
     "data": {
      "text/plain": [
       "23"
      ]
     },
     "execution_count": 47,
     "metadata": {},
     "output_type": "execute_result"
    }
   ],
   "source": [
    "sum(t)"
   ]
  },
  {
   "cell_type": "code",
   "execution_count": 48,
   "id": "4349c4ee",
   "metadata": {},
   "outputs": [
    {
     "data": {
      "text/plain": [
       "0"
      ]
     },
     "execution_count": 48,
     "metadata": {},
     "output_type": "execute_result"
    }
   ],
   "source": [
    "t.count(5)"
   ]
  },
  {
   "cell_type": "code",
   "execution_count": 49,
   "id": "c7a3e15d",
   "metadata": {},
   "outputs": [
    {
     "data": {
      "text/plain": [
       "2"
      ]
     },
     "execution_count": 49,
     "metadata": {},
     "output_type": "execute_result"
    }
   ],
   "source": [
    "t.count(3)"
   ]
  },
  {
   "cell_type": "code",
   "execution_count": 50,
   "id": "54656994",
   "metadata": {},
   "outputs": [
    {
     "data": {
      "text/plain": [
       "0"
      ]
     },
     "execution_count": 50,
     "metadata": {},
     "output_type": "execute_result"
    }
   ],
   "source": [
    "t.index(3)"
   ]
  },
  {
   "cell_type": "code",
   "execution_count": 52,
   "id": "851b07bf",
   "metadata": {},
   "outputs": [
    {
     "data": {
      "text/plain": [
       "3"
      ]
     },
     "execution_count": 52,
     "metadata": {},
     "output_type": "execute_result"
    }
   ],
   "source": [
    "t.index(7)"
   ]
  },
  {
   "cell_type": "code",
   "execution_count": 53,
   "id": "d6a7c98a",
   "metadata": {},
   "outputs": [
    {
     "data": {
      "text/plain": [
       "True"
      ]
     },
     "execution_count": 53,
     "metadata": {},
     "output_type": "execute_result"
    }
   ],
   "source": [
    "7 in t"
   ]
  },
  {
   "cell_type": "code",
   "execution_count": 54,
   "id": "82cd6460",
   "metadata": {},
   "outputs": [
    {
     "data": {
      "text/plain": [
       "True"
      ]
     },
     "execution_count": 54,
     "metadata": {},
     "output_type": "execute_result"
    }
   ],
   "source": [
    "3 in t"
   ]
  },
  {
   "cell_type": "code",
   "execution_count": 55,
   "id": "a7b4ffcb",
   "metadata": {},
   "outputs": [
    {
     "data": {
      "text/plain": [
       "False"
      ]
     },
     "execution_count": 55,
     "metadata": {},
     "output_type": "execute_result"
    }
   ],
   "source": [
    "5 in t"
   ]
  },
  {
   "cell_type": "markdown",
   "id": "be2ae035",
   "metadata": {},
   "source": [
    "## Nesting"
   ]
  },
  {
   "cell_type": "code",
   "execution_count": 56,
   "id": "6d5083d8",
   "metadata": {},
   "outputs": [],
   "source": [
    "t = ((1, 2, 3), (4, 5))"
   ]
  },
  {
   "cell_type": "code",
   "execution_count": 57,
   "id": "e37dbd7c",
   "metadata": {},
   "outputs": [
    {
     "data": {
      "text/plain": [
       "2"
      ]
     },
     "execution_count": 57,
     "metadata": {},
     "output_type": "execute_result"
    }
   ],
   "source": [
    "len(t)"
   ]
  },
  {
   "cell_type": "code",
   "execution_count": 58,
   "id": "429f3d4c",
   "metadata": {},
   "outputs": [
    {
     "data": {
      "text/plain": [
       "(1, 2, 3)"
      ]
     },
     "execution_count": 58,
     "metadata": {},
     "output_type": "execute_result"
    }
   ],
   "source": [
    "t[0]"
   ]
  },
  {
   "cell_type": "code",
   "execution_count": 59,
   "id": "6651e763",
   "metadata": {},
   "outputs": [
    {
     "data": {
      "text/plain": [
       "(4, 5)"
      ]
     },
     "execution_count": 59,
     "metadata": {},
     "output_type": "execute_result"
    }
   ],
   "source": [
    "t[1]"
   ]
  },
  {
   "cell_type": "code",
   "execution_count": 61,
   "id": "33b6e702",
   "metadata": {},
   "outputs": [],
   "source": [
    "t = (1, 2, 3, 4, 5, 6)"
   ]
  },
  {
   "cell_type": "code",
   "execution_count": 62,
   "id": "8e241891",
   "metadata": {},
   "outputs": [
    {
     "name": "stdout",
     "output_type": "stream",
     "text": [
      "1 2 3 4 5 6 "
     ]
    }
   ],
   "source": [
    "for i in t:\n",
    "    print(i, end=' ')"
   ]
  },
  {
   "cell_type": "code",
   "execution_count": 63,
   "id": "b9145279",
   "metadata": {},
   "outputs": [],
   "source": [
    "t = (\"roopa\", 123, 5.6, True)"
   ]
  },
  {
   "cell_type": "code",
   "execution_count": 64,
   "id": "85724168",
   "metadata": {},
   "outputs": [
    {
     "name": "stdout",
     "output_type": "stream",
     "text": [
      "('roopa', 123, 5.6, True)\n"
     ]
    }
   ],
   "source": [
    "print(t)"
   ]
  },
  {
   "cell_type": "markdown",
   "id": "41543750",
   "metadata": {},
   "source": [
    "## Strings"
   ]
  },
  {
   "cell_type": "code",
   "execution_count": 65,
   "id": "bfae05b6",
   "metadata": {},
   "outputs": [],
   "source": [
    "a = \"@rahul\""
   ]
  },
  {
   "cell_type": "code",
   "execution_count": 66,
   "id": "8f386ea3",
   "metadata": {},
   "outputs": [
    {
     "name": "stdout",
     "output_type": "stream",
     "text": [
      "@rahul\n"
     ]
    }
   ],
   "source": [
    "print(a)"
   ]
  },
  {
   "cell_type": "code",
   "execution_count": 67,
   "id": "07813be3",
   "metadata": {},
   "outputs": [
    {
     "ename": "SyntaxError",
     "evalue": "EOL while scanning string literal (19309913.py, line 1)",
     "output_type": "error",
     "traceback": [
      "\u001b[0;36m  Input \u001b[0;32mIn [67]\u001b[0;36m\u001b[0m\n\u001b[0;31m    a = 'Tuna123\"\u001b[0m\n\u001b[0m                 ^\u001b[0m\n\u001b[0;31mSyntaxError\u001b[0m\u001b[0;31m:\u001b[0m EOL while scanning string literal\n"
     ]
    }
   ],
   "source": [
    "a = 'Tuna123\""
   ]
  },
  {
   "cell_type": "code",
   "execution_count": 68,
   "id": "80a83759",
   "metadata": {},
   "outputs": [
    {
     "ename": "SyntaxError",
     "evalue": "EOL while scanning string literal (775975705.py, line 1)",
     "output_type": "error",
     "traceback": [
      "\u001b[0;36m  Input \u001b[0;32mIn [68]\u001b[0;36m\u001b[0m\n\u001b[0;31m    a = \"Rahul12'\u001b[0m\n\u001b[0m                 ^\u001b[0m\n\u001b[0;31mSyntaxError\u001b[0m\u001b[0;31m:\u001b[0m EOL while scanning string literal\n"
     ]
    }
   ],
   "source": [
    "a = \"Rahul12'"
   ]
  },
  {
   "cell_type": "markdown",
   "id": "34ae0766",
   "metadata": {},
   "source": [
    "## Are strings mutable or immutable?"
   ]
  },
  {
   "cell_type": "code",
   "execution_count": 69,
   "id": "b2db2f9b",
   "metadata": {},
   "outputs": [],
   "source": [
    "s = \"this is a string\""
   ]
  },
  {
   "cell_type": "code",
   "execution_count": 70,
   "id": "9de5b43e",
   "metadata": {},
   "outputs": [
    {
     "name": "stdout",
     "output_type": "stream",
     "text": [
      "this is a string\n"
     ]
    }
   ],
   "source": [
    "print(s)"
   ]
  },
  {
   "cell_type": "code",
   "execution_count": 72,
   "id": "65c250e0",
   "metadata": {},
   "outputs": [
    {
     "data": {
      "text/plain": [
       "'t'"
      ]
     },
     "execution_count": 72,
     "metadata": {},
     "output_type": "execute_result"
    }
   ],
   "source": [
    "s[0]"
   ]
  },
  {
   "cell_type": "code",
   "execution_count": 73,
   "id": "db316227",
   "metadata": {},
   "outputs": [
    {
     "data": {
      "text/plain": [
       "'g'"
      ]
     },
     "execution_count": 73,
     "metadata": {},
     "output_type": "execute_result"
    }
   ],
   "source": [
    "s[-1]"
   ]
  },
  {
   "cell_type": "code",
   "execution_count": 75,
   "id": "8d8214d4",
   "metadata": {},
   "outputs": [
    {
     "ename": "TypeError",
     "evalue": "'str' object does not support item assignment",
     "output_type": "error",
     "traceback": [
      "\u001b[0;31m---------------------------------------------------------------------------\u001b[0m",
      "\u001b[0;31mTypeError\u001b[0m                                 Traceback (most recent call last)",
      "Input \u001b[0;32mIn [75]\u001b[0m, in \u001b[0;36m<cell line: 1>\u001b[0;34m()\u001b[0m\n\u001b[0;32m----> 1\u001b[0m s[\u001b[38;5;241m0\u001b[39m] \u001b[38;5;241m=\u001b[39m \u001b[38;5;124m'\u001b[39m\u001b[38;5;124ma\u001b[39m\u001b[38;5;124m'\u001b[39m\n",
      "\u001b[0;31mTypeError\u001b[0m: 'str' object does not support item assignment"
     ]
    }
   ],
   "source": [
    "s[0] = 'a' # strings are immutable"
   ]
  },
  {
   "cell_type": "code",
   "execution_count": 77,
   "id": "68b9a7c0",
   "metadata": {},
   "outputs": [],
   "source": [
    "s1 = \"abhishek\""
   ]
  },
  {
   "cell_type": "code",
   "execution_count": 78,
   "id": "fb4d4453",
   "metadata": {},
   "outputs": [],
   "source": [
    "s2 = \"asodaria\""
   ]
  },
  {
   "cell_type": "code",
   "execution_count": 80,
   "id": "1c7c1bc6",
   "metadata": {},
   "outputs": [],
   "source": [
    "s = s1 + \" \" + s2 # concatenation of strings"
   ]
  },
  {
   "cell_type": "code",
   "execution_count": 81,
   "id": "4d42998e",
   "metadata": {},
   "outputs": [
    {
     "name": "stdout",
     "output_type": "stream",
     "text": [
      "abhishek asodaria\n"
     ]
    }
   ],
   "source": [
    "print(s)"
   ]
  },
  {
   "cell_type": "code",
   "execution_count": 82,
   "id": "5694d135",
   "metadata": {},
   "outputs": [
    {
     "data": {
      "text/plain": [
       "'abhishek'"
      ]
     },
     "execution_count": 82,
     "metadata": {},
     "output_type": "execute_result"
    }
   ],
   "source": [
    "s1"
   ]
  },
  {
   "cell_type": "code",
   "execution_count": 83,
   "id": "70692fed",
   "metadata": {},
   "outputs": [],
   "source": [
    "s1 += s2 # original string s1 not changed,\n",
    "# s1 replaced with a new string"
   ]
  },
  {
   "cell_type": "code",
   "execution_count": 84,
   "id": "138982c5",
   "metadata": {},
   "outputs": [
    {
     "name": "stdout",
     "output_type": "stream",
     "text": [
      "abhishekasodaria\n"
     ]
    }
   ],
   "source": [
    "print(s1)"
   ]
  },
  {
   "cell_type": "markdown",
   "id": "b715f566",
   "metadata": {},
   "source": [
    "## Quiz"
   ]
  },
  {
   "cell_type": "code",
   "execution_count": 85,
   "id": "0e88ceec",
   "metadata": {},
   "outputs": [
    {
     "name": "stdout",
     "output_type": "stream",
     "text": [
      "False\n"
     ]
    }
   ],
   "source": [
    "print(100 == \"100\")"
   ]
  },
  {
   "cell_type": "code",
   "execution_count": 86,
   "id": "8efd4542",
   "metadata": {},
   "outputs": [
    {
     "data": {
      "text/plain": [
       "int"
      ]
     },
     "execution_count": 86,
     "metadata": {},
     "output_type": "execute_result"
    }
   ],
   "source": [
    "type(100)"
   ]
  },
  {
   "cell_type": "code",
   "execution_count": 87,
   "id": "2526bc6c",
   "metadata": {},
   "outputs": [
    {
     "data": {
      "text/plain": [
       "str"
      ]
     },
     "execution_count": 87,
     "metadata": {},
     "output_type": "execute_result"
    }
   ],
   "source": [
    "type(\"100\")"
   ]
  },
  {
   "cell_type": "code",
   "execution_count": 88,
   "id": "31d7fccc",
   "metadata": {},
   "outputs": [
    {
     "data": {
      "text/plain": [
       "300"
      ]
     },
     "execution_count": 88,
     "metadata": {},
     "output_type": "execute_result"
    }
   ],
   "source": [
    "100 + 200"
   ]
  },
  {
   "cell_type": "code",
   "execution_count": 89,
   "id": "f4f28940",
   "metadata": {},
   "outputs": [
    {
     "data": {
      "text/plain": [
       "'100200'"
      ]
     },
     "execution_count": 89,
     "metadata": {},
     "output_type": "execute_result"
    }
   ],
   "source": [
    "\"100\" + \"200\""
   ]
  },
  {
   "cell_type": "markdown",
   "id": "eb56b01b",
   "metadata": {},
   "source": [
    "## Problem Solving on Strings"
   ]
  },
  {
   "cell_type": "markdown",
   "id": "8e388448",
   "metadata": {},
   "source": [
    "## Get the ASCII value"
   ]
  },
  {
   "cell_type": "code",
   "execution_count": 90,
   "id": "57e49d46",
   "metadata": {},
   "outputs": [
    {
     "data": {
      "text/plain": [
       "65"
      ]
     },
     "execution_count": 90,
     "metadata": {},
     "output_type": "execute_result"
    }
   ],
   "source": [
    "# standard / ordinal value\n",
    "ord('A')"
   ]
  },
  {
   "cell_type": "code",
   "execution_count": 91,
   "id": "06b30845",
   "metadata": {},
   "outputs": [
    {
     "data": {
      "text/plain": [
       "97"
      ]
     },
     "execution_count": 91,
     "metadata": {},
     "output_type": "execute_result"
    }
   ],
   "source": [
    "ord('a')"
   ]
  },
  {
   "cell_type": "code",
   "execution_count": 92,
   "id": "dd4dfece",
   "metadata": {},
   "outputs": [
    {
     "data": {
      "text/plain": [
       "122"
      ]
     },
     "execution_count": 92,
     "metadata": {},
     "output_type": "execute_result"
    }
   ],
   "source": [
    "ord('z')"
   ]
  },
  {
   "cell_type": "code",
   "execution_count": 93,
   "id": "a558606d",
   "metadata": {},
   "outputs": [
    {
     "data": {
      "text/plain": [
       "48"
      ]
     },
     "execution_count": 93,
     "metadata": {},
     "output_type": "execute_result"
    }
   ],
   "source": [
    "ord('0')"
   ]
  },
  {
   "cell_type": "code",
   "execution_count": 94,
   "id": "c858a069",
   "metadata": {},
   "outputs": [
    {
     "data": {
      "text/plain": [
       "128513"
      ]
     },
     "execution_count": 94,
     "metadata": {},
     "output_type": "execute_result"
    }
   ],
   "source": [
    "ord('😁') # unicode = extended version of ASCII"
   ]
  },
  {
   "cell_type": "code",
   "execution_count": 95,
   "id": "6a4d77bb",
   "metadata": {},
   "outputs": [
    {
     "data": {
      "text/plain": [
       "22909"
      ]
     },
     "execution_count": 95,
     "metadata": {},
     "output_type": "execute_result"
    }
   ],
   "source": [
    "ord('好')"
   ]
  },
  {
   "cell_type": "code",
   "execution_count": 96,
   "id": "a92a4da4",
   "metadata": {},
   "outputs": [
    {
     "data": {
      "text/plain": [
       "43"
      ]
     },
     "execution_count": 96,
     "metadata": {},
     "output_type": "execute_result"
    }
   ],
   "source": [
    "ord('+')"
   ]
  },
  {
   "cell_type": "code",
   "execution_count": 97,
   "id": "a7f50697",
   "metadata": {},
   "outputs": [
    {
     "data": {
      "text/plain": [
       "63"
      ]
     },
     "execution_count": 97,
     "metadata": {},
     "output_type": "execute_result"
    }
   ],
   "source": [
    "ord('?')"
   ]
  },
  {
   "cell_type": "code",
   "execution_count": 98,
   "id": "12ef6338",
   "metadata": {},
   "outputs": [
    {
     "data": {
      "text/plain": [
       "32"
      ]
     },
     "execution_count": 98,
     "metadata": {},
     "output_type": "execute_result"
    }
   ],
   "source": [
    "ord(\" \")"
   ]
  },
  {
   "cell_type": "markdown",
   "id": "5f970836",
   "metadata": {},
   "source": [
    "## Character from ascii value"
   ]
  },
  {
   "cell_type": "code",
   "execution_count": 101,
   "id": "6f22fbf5",
   "metadata": {},
   "outputs": [
    {
     "data": {
      "text/plain": [
       "'a'"
      ]
     },
     "execution_count": 101,
     "metadata": {},
     "output_type": "execute_result"
    }
   ],
   "source": [
    "chr(97)"
   ]
  },
  {
   "cell_type": "code",
   "execution_count": 102,
   "id": "0b46f857",
   "metadata": {},
   "outputs": [
    {
     "data": {
      "text/plain": [
       "'A'"
      ]
     },
     "execution_count": 102,
     "metadata": {},
     "output_type": "execute_result"
    }
   ],
   "source": [
    "chr(65)"
   ]
  },
  {
   "cell_type": "code",
   "execution_count": 103,
   "id": "ade3fff9",
   "metadata": {},
   "outputs": [
    {
     "data": {
      "text/plain": [
       "'z'"
      ]
     },
     "execution_count": 103,
     "metadata": {},
     "output_type": "execute_result"
    }
   ],
   "source": [
    "chr(122)"
   ]
  },
  {
   "cell_type": "code",
   "execution_count": 104,
   "id": "992dccf0",
   "metadata": {},
   "outputs": [
    {
     "data": {
      "text/plain": [
       "'9'"
      ]
     },
     "execution_count": 104,
     "metadata": {},
     "output_type": "execute_result"
    }
   ],
   "source": [
    "chr(57)"
   ]
  },
  {
   "cell_type": "markdown",
   "id": "2cfec4ff",
   "metadata": {},
   "source": [
    "## Challenge 1"
   ]
  },
  {
   "cell_type": "markdown",
   "id": "1f0621eb",
   "metadata": {},
   "source": [
    "Take a string as input and print all the characters in a newline.\n",
    "\n",
    "Input:\n",
    "\"India\"\n",
    "\n",
    "Output:\n",
    "\n",
    "I\n",
    "\n",
    "n\n",
    "\n",
    "d\n",
    "\n",
    "i\n",
    "\n",
    "a\n"
   ]
  },
  {
   "cell_type": "code",
   "execution_count": 109,
   "id": "f9f0e9ea",
   "metadata": {},
   "outputs": [
    {
     "name": "stdout",
     "output_type": "stream",
     "text": [
      "India\n"
     ]
    }
   ],
   "source": [
    "s = input()"
   ]
  },
  {
   "cell_type": "code",
   "execution_count": 110,
   "id": "55a399d4",
   "metadata": {},
   "outputs": [
    {
     "name": "stdout",
     "output_type": "stream",
     "text": [
      "I\n",
      "n\n",
      "d\n",
      "i\n",
      "a\n"
     ]
    }
   ],
   "source": [
    "for i in s:\n",
    "    print(i)"
   ]
  },
  {
   "cell_type": "code",
   "execution_count": 111,
   "id": "0e9ec0e1",
   "metadata": {},
   "outputs": [
    {
     "name": "stdout",
     "output_type": "stream",
     "text": [
      "73\n",
      "110\n",
      "100\n",
      "105\n",
      "97\n"
     ]
    }
   ],
   "source": [
    "for i in s:\n",
    "    print(ord(i))"
   ]
  },
  {
   "cell_type": "markdown",
   "id": "5fbe960a",
   "metadata": {},
   "source": [
    "## Challenge 2: First and last character"
   ]
  },
  {
   "cell_type": "code",
   "execution_count": 112,
   "id": "2cfaeb32",
   "metadata": {},
   "outputs": [
    {
     "data": {
      "text/plain": [
       "'India'"
      ]
     },
     "execution_count": 112,
     "metadata": {},
     "output_type": "execute_result"
    }
   ],
   "source": [
    "s"
   ]
  },
  {
   "cell_type": "code",
   "execution_count": 113,
   "id": "ea0ae77b",
   "metadata": {},
   "outputs": [
    {
     "data": {
      "text/plain": [
       "'I'"
      ]
     },
     "execution_count": 113,
     "metadata": {},
     "output_type": "execute_result"
    }
   ],
   "source": [
    "s[0]"
   ]
  },
  {
   "cell_type": "code",
   "execution_count": 114,
   "id": "c631527c",
   "metadata": {},
   "outputs": [
    {
     "data": {
      "text/plain": [
       "'a'"
      ]
     },
     "execution_count": 114,
     "metadata": {},
     "output_type": "execute_result"
    }
   ],
   "source": [
    "s[-1]"
   ]
  },
  {
   "cell_type": "markdown",
   "id": "f5056b24",
   "metadata": {},
   "source": [
    "## String Slicing"
   ]
  },
  {
   "cell_type": "code",
   "execution_count": 115,
   "id": "39acedf7",
   "metadata": {},
   "outputs": [],
   "source": [
    "s = \"My_country_is_India\""
   ]
  },
  {
   "cell_type": "code",
   "execution_count": 116,
   "id": "dd02a1d2",
   "metadata": {},
   "outputs": [
    {
     "data": {
      "text/plain": [
       "'My_country'"
      ]
     },
     "execution_count": 116,
     "metadata": {},
     "output_type": "execute_result"
    }
   ],
   "source": [
    "s[:10]"
   ]
  },
  {
   "cell_type": "code",
   "execution_count": 117,
   "id": "ea06f3c6",
   "metadata": {},
   "outputs": [
    {
     "data": {
      "text/plain": [
       "'My_country_'"
      ]
     },
     "execution_count": 117,
     "metadata": {},
     "output_type": "execute_result"
    }
   ],
   "source": [
    "s[:11]"
   ]
  },
  {
   "cell_type": "code",
   "execution_count": 118,
   "id": "24f81359",
   "metadata": {},
   "outputs": [
    {
     "data": {
      "text/plain": [
       "'India'"
      ]
     },
     "execution_count": 118,
     "metadata": {},
     "output_type": "execute_result"
    }
   ],
   "source": [
    "s[-5:]"
   ]
  },
  {
   "cell_type": "markdown",
   "id": "a06f0982",
   "metadata": {},
   "source": [
    "## Challenge 3: Given a string, reverse it"
   ]
  },
  {
   "cell_type": "code",
   "execution_count": 119,
   "id": "e8090071",
   "metadata": {},
   "outputs": [],
   "source": [
    "s = \"I like python\""
   ]
  },
  {
   "cell_type": "code",
   "execution_count": 120,
   "id": "dcb070d4",
   "metadata": {},
   "outputs": [
    {
     "data": {
      "text/plain": [
       "'nohtyp ekil I'"
      ]
     },
     "execution_count": 120,
     "metadata": {},
     "output_type": "execute_result"
    }
   ],
   "source": [
    "s[::-1]"
   ]
  },
  {
   "cell_type": "code",
   "execution_count": 123,
   "id": "5012fd23",
   "metadata": {},
   "outputs": [],
   "source": [
    "s = \"python\""
   ]
  },
  {
   "cell_type": "code",
   "execution_count": 124,
   "id": "fdb53cb3",
   "metadata": {},
   "outputs": [
    {
     "data": {
      "text/plain": [
       "'nohtyp'"
      ]
     },
     "execution_count": 124,
     "metadata": {},
     "output_type": "execute_result"
    }
   ],
   "source": [
    "s[::-1]"
   ]
  },
  {
   "cell_type": "code",
   "execution_count": 121,
   "id": "a73ae8da",
   "metadata": {},
   "outputs": [],
   "source": [
    "res = \"\"\n",
    "res += 'n'\n",
    "res += 'o'\n",
    "res += 'h'\n",
    "res += 't'\n",
    "res += 'y'\n",
    "res += 'p'"
   ]
  },
  {
   "cell_type": "code",
   "execution_count": 122,
   "id": "ef88b93a",
   "metadata": {},
   "outputs": [
    {
     "name": "stdout",
     "output_type": "stream",
     "text": [
      "nohtyp\n"
     ]
    }
   ],
   "source": [
    "print(res)"
   ]
  },
  {
   "cell_type": "code",
   "execution_count": 125,
   "id": "8354b386",
   "metadata": {},
   "outputs": [
    {
     "data": {
      "text/plain": [
       "6"
      ]
     },
     "execution_count": 125,
     "metadata": {},
     "output_type": "execute_result"
    }
   ],
   "source": [
    "len(res)"
   ]
  },
  {
   "cell_type": "code",
   "execution_count": 132,
   "id": "8442c392",
   "metadata": {},
   "outputs": [
    {
     "name": "stdout",
     "output_type": "stream",
     "text": [
      "5 4 3 2 1 0 "
     ]
    }
   ],
   "source": [
    "for i in range(len(s) - 1, -1, -1):\n",
    "    print(i, end=' ')"
   ]
  },
  {
   "cell_type": "code",
   "execution_count": 131,
   "id": "7ec15da0",
   "metadata": {},
   "outputs": [
    {
     "name": "stdout",
     "output_type": "stream",
     "text": [
      "n o h t y p "
     ]
    }
   ],
   "source": [
    "for i in range(len(s) - 1, -1, -1):\n",
    "    print(s[i], end=' ')"
   ]
  },
  {
   "cell_type": "code",
   "execution_count": null,
   "id": "76a22bde",
   "metadata": {},
   "outputs": [],
   "source": []
  },
  {
   "cell_type": "code",
   "execution_count": 133,
   "id": "4c66add7",
   "metadata": {},
   "outputs": [
    {
     "name": "stdout",
     "output_type": "stream",
     "text": [
      "n no noh noht nohty nohtyp "
     ]
    }
   ],
   "source": [
    "res = ''\n",
    "for i in range(len(s) - 1, -1, -1):\n",
    "    res += s[i]\n",
    "    print(res, end=' ')    "
   ]
  },
  {
   "cell_type": "markdown",
   "id": "84bc2cca",
   "metadata": {},
   "source": [
    "## Challenge 4: Check palindrome"
   ]
  },
  {
   "cell_type": "markdown",
   "id": "b9ecf7e9",
   "metadata": {},
   "source": [
    "a = 'radar'\n",
    "b = 'level'\n",
    "c = 'rahul'"
   ]
  },
  {
   "cell_type": "code",
   "execution_count": 134,
   "id": "d8da0081",
   "metadata": {},
   "outputs": [],
   "source": [
    "a = 'radar'"
   ]
  },
  {
   "cell_type": "code",
   "execution_count": 135,
   "id": "61ef057f",
   "metadata": {},
   "outputs": [
    {
     "data": {
      "text/plain": [
       "'radar'"
      ]
     },
     "execution_count": 135,
     "metadata": {},
     "output_type": "execute_result"
    }
   ],
   "source": [
    "a[::-1]"
   ]
  },
  {
   "cell_type": "code",
   "execution_count": 136,
   "id": "e565d968",
   "metadata": {},
   "outputs": [],
   "source": [
    "b = 'level'"
   ]
  },
  {
   "cell_type": "code",
   "execution_count": 137,
   "id": "c2e28fa7",
   "metadata": {},
   "outputs": [
    {
     "data": {
      "text/plain": [
       "'level'"
      ]
     },
     "execution_count": 137,
     "metadata": {},
     "output_type": "execute_result"
    }
   ],
   "source": [
    "b[::-1]"
   ]
  },
  {
   "cell_type": "code",
   "execution_count": 138,
   "id": "3ba992dc",
   "metadata": {},
   "outputs": [],
   "source": [
    "c = 'rahul'"
   ]
  },
  {
   "cell_type": "code",
   "execution_count": 139,
   "id": "a7e6aae7",
   "metadata": {},
   "outputs": [
    {
     "data": {
      "text/plain": [
       "'luhar'"
      ]
     },
     "execution_count": 139,
     "metadata": {},
     "output_type": "execute_result"
    }
   ],
   "source": [
    "c[::-1]"
   ]
  },
  {
   "cell_type": "markdown",
   "id": "8f426ea0",
   "metadata": {},
   "source": [
    "Reverse and compare"
   ]
  },
  {
   "cell_type": "code",
   "execution_count": 142,
   "id": "5e69d8dd",
   "metadata": {},
   "outputs": [
    {
     "name": "stdout",
     "output_type": "stream",
     "text": [
      "madam\n"
     ]
    }
   ],
   "source": [
    "a = input()"
   ]
  },
  {
   "cell_type": "code",
   "execution_count": 143,
   "id": "1e6db65c",
   "metadata": {},
   "outputs": [
    {
     "data": {
      "text/plain": [
       "True"
      ]
     },
     "execution_count": 143,
     "metadata": {},
     "output_type": "execute_result"
    }
   ],
   "source": [
    "a == a[::-1]"
   ]
  },
  {
   "cell_type": "markdown",
   "id": "d6f23a31",
   "metadata": {},
   "source": [
    "## Quizzes"
   ]
  },
  {
   "cell_type": "code",
   "execution_count": 144,
   "id": "75d92625",
   "metadata": {},
   "outputs": [
    {
     "data": {
      "text/plain": [
       "'PhoenixPhoenixPhoenix'"
      ]
     },
     "execution_count": 144,
     "metadata": {},
     "output_type": "execute_result"
    }
   ],
   "source": [
    "city = \"Phoenix\"\n",
    "\n",
    "city + city + city"
   ]
  },
  {
   "cell_type": "code",
   "execution_count": 145,
   "id": "38a84a54",
   "metadata": {},
   "outputs": [
    {
     "data": {
      "text/plain": [
       "'PhoenixPhoenixPhoenix'"
      ]
     },
     "execution_count": 145,
     "metadata": {},
     "output_type": "execute_result"
    }
   ],
   "source": [
    "city * 3"
   ]
  },
  {
   "cell_type": "code",
   "execution_count": 146,
   "id": "3cff0dbb",
   "metadata": {},
   "outputs": [
    {
     "name": "stdout",
     "output_type": "stream",
     "text": [
      "21\n"
     ]
    }
   ],
   "source": [
    "print(len(city*3))"
   ]
  },
  {
   "cell_type": "markdown",
   "id": "df004e35",
   "metadata": {},
   "source": [
    "## Count upper case characters"
   ]
  },
  {
   "cell_type": "code",
   "execution_count": 147,
   "id": "f7f18fab",
   "metadata": {},
   "outputs": [],
   "source": [
    "s = \"IndiaRocks\""
   ]
  },
  {
   "cell_type": "code",
   "execution_count": 148,
   "id": "0f0798c7",
   "metadata": {},
   "outputs": [
    {
     "name": "stdout",
     "output_type": "stream",
     "text": [
      "I n d i a R o c k s "
     ]
    }
   ],
   "source": [
    "for i in s:\n",
    "    print(i, end=' ')"
   ]
  },
  {
   "cell_type": "code",
   "execution_count": 149,
   "id": "ca2b3ddb",
   "metadata": {},
   "outputs": [
    {
     "name": "stdout",
     "output_type": "stream",
     "text": [
      "73 110 100 105 97 82 111 99 107 115 "
     ]
    }
   ],
   "source": [
    "for i in s:\n",
    "    print(ord(i), end=' ')"
   ]
  },
  {
   "cell_type": "code",
   "execution_count": 150,
   "id": "8f520b7c",
   "metadata": {},
   "outputs": [
    {
     "name": "stdout",
     "output_type": "stream",
     "text": [
      "I\n",
      "R\n"
     ]
    }
   ],
   "source": [
    "# A = 65\n",
    "for i in s:\n",
    "    if ord(i) >= 65 and ord(i) <= 90:\n",
    "        print(i)"
   ]
  },
  {
   "cell_type": "code",
   "execution_count": 152,
   "id": "9f10e6b0",
   "metadata": {},
   "outputs": [
    {
     "name": "stdout",
     "output_type": "stream",
     "text": [
      "2\n"
     ]
    }
   ],
   "source": [
    "# A = 65\n",
    "# count upper case\n",
    "res = 0\n",
    "for i in s:\n",
    "    if ord(i) >= 65 and ord(i) <= 90: # upper?\n",
    "        res += 1\n",
    "        \n",
    "print(res)"
   ]
  },
  {
   "cell_type": "markdown",
   "id": "007c47c0",
   "metadata": {},
   "source": [
    "## Check lower case / upper case "
   ]
  },
  {
   "cell_type": "code",
   "execution_count": 153,
   "id": "89bde712",
   "metadata": {},
   "outputs": [
    {
     "data": {
      "text/plain": [
       "False"
      ]
     },
     "execution_count": 153,
     "metadata": {},
     "output_type": "execute_result"
    }
   ],
   "source": [
    "'a'.isupper()"
   ]
  },
  {
   "cell_type": "code",
   "execution_count": 154,
   "id": "1624d730",
   "metadata": {},
   "outputs": [
    {
     "data": {
      "text/plain": [
       "True"
      ]
     },
     "execution_count": 154,
     "metadata": {},
     "output_type": "execute_result"
    }
   ],
   "source": [
    "'A'.isupper()"
   ]
  },
  {
   "cell_type": "code",
   "execution_count": 155,
   "id": "b8ad4d6a",
   "metadata": {},
   "outputs": [
    {
     "data": {
      "text/plain": [
       "True"
      ]
     },
     "execution_count": 155,
     "metadata": {},
     "output_type": "execute_result"
    }
   ],
   "source": [
    "'b'.islower()"
   ]
  },
  {
   "cell_type": "code",
   "execution_count": 156,
   "id": "783e08e7",
   "metadata": {},
   "outputs": [
    {
     "data": {
      "text/plain": [
       "False"
      ]
     },
     "execution_count": 156,
     "metadata": {},
     "output_type": "execute_result"
    }
   ],
   "source": [
    "'B'.islower()"
   ]
  },
  {
   "cell_type": "markdown",
   "id": "cbefd990",
   "metadata": {},
   "source": [
    "## Quizzes"
   ]
  },
  {
   "cell_type": "code",
   "execution_count": 157,
   "id": "b8d122a6",
   "metadata": {},
   "outputs": [],
   "source": [
    "s = \"this is a string\""
   ]
  },
  {
   "cell_type": "code",
   "execution_count": 158,
   "id": "a3192dcb",
   "metadata": {},
   "outputs": [
    {
     "ename": "TypeError",
     "evalue": "'str' object does not support item assignment",
     "output_type": "error",
     "traceback": [
      "\u001b[0;31m---------------------------------------------------------------------------\u001b[0m",
      "\u001b[0;31mTypeError\u001b[0m                                 Traceback (most recent call last)",
      "Input \u001b[0;32mIn [158]\u001b[0m, in \u001b[0;36m<cell line: 1>\u001b[0;34m()\u001b[0m\n\u001b[0;32m----> 1\u001b[0m s[\u001b[38;5;241m0\u001b[39m] \u001b[38;5;241m=\u001b[39m \u001b[38;5;124m'\u001b[39m\u001b[38;5;124ma\u001b[39m\u001b[38;5;124m'\u001b[39m\n",
      "\u001b[0;31mTypeError\u001b[0m: 'str' object does not support item assignment"
     ]
    }
   ],
   "source": [
    "s[0] = 'a'"
   ]
  },
  {
   "cell_type": "code",
   "execution_count": 159,
   "id": "7321add9",
   "metadata": {},
   "outputs": [
    {
     "name": "stdout",
     "output_type": "stream",
     "text": [
      "sahil\n"
     ]
    }
   ],
   "source": [
    "L = [\"sahil\", \"bansal\"]\n",
    "\n",
    "print(L[0])"
   ]
  },
  {
   "cell_type": "code",
   "execution_count": 161,
   "id": "58a04351",
   "metadata": {},
   "outputs": [
    {
     "name": "stdout",
     "output_type": "stream",
     "text": [
      "l\n"
     ]
    }
   ],
   "source": [
    "print(L[0][-1])"
   ]
  },
  {
   "cell_type": "code",
   "execution_count": 163,
   "id": "8d7bf4f0",
   "metadata": {},
   "outputs": [],
   "source": [
    "def mystery(s):\n",
    "    i = len(s)//2\n",
    "    a = s[:i]\n",
    "    b = s[i:]\n",
    "    return a+ b"
   ]
  },
  {
   "cell_type": "code",
   "execution_count": 165,
   "id": "1a45427f",
   "metadata": {},
   "outputs": [
    {
     "data": {
      "text/plain": [
       "'abracadabra'"
      ]
     },
     "execution_count": 165,
     "metadata": {},
     "output_type": "execute_result"
    }
   ],
   "source": [
    "mystery(\"abracadabra\")"
   ]
  },
  {
   "cell_type": "code",
   "execution_count": 166,
   "id": "59714ab7",
   "metadata": {},
   "outputs": [],
   "source": [
    "s = \"abracadabra\""
   ]
  },
  {
   "cell_type": "code",
   "execution_count": 171,
   "id": "10e16895",
   "metadata": {},
   "outputs": [
    {
     "data": {
      "text/plain": [
       "'abra'"
      ]
     },
     "execution_count": 171,
     "metadata": {},
     "output_type": "execute_result"
    }
   ],
   "source": [
    "s[:4] "
   ]
  },
  {
   "cell_type": "code",
   "execution_count": 172,
   "id": "a132c1ed",
   "metadata": {},
   "outputs": [
    {
     "data": {
      "text/plain": [
       "'cadabra'"
      ]
     },
     "execution_count": 172,
     "metadata": {},
     "output_type": "execute_result"
    }
   ],
   "source": [
    "s[4:]"
   ]
  },
  {
   "cell_type": "code",
   "execution_count": 173,
   "id": "0aa1e96d",
   "metadata": {},
   "outputs": [
    {
     "data": {
      "text/plain": [
       "'abracadabra'"
      ]
     },
     "execution_count": 173,
     "metadata": {},
     "output_type": "execute_result"
    }
   ],
   "source": [
    "s[:4] + s[4:]"
   ]
  },
  {
   "cell_type": "code",
   "execution_count": 174,
   "id": "88c2302a",
   "metadata": {},
   "outputs": [
    {
     "data": {
      "text/plain": [
       "False"
      ]
     },
     "execution_count": 174,
     "metadata": {},
     "output_type": "execute_result"
    }
   ],
   "source": [
    "def mystery(s):\n",
    "    i = len(s)//2\n",
    "    a = s[:i]\n",
    "    b = s[i:]\n",
    "    return a[0].isupper()\n",
    "\n",
    "mystery(\"abracadabra\")"
   ]
  },
  {
   "cell_type": "code",
   "execution_count": 176,
   "id": "89471a41",
   "metadata": {},
   "outputs": [
    {
     "name": "stdout",
     "output_type": "stream",
     "text": [
      "abrac\n"
     ]
    }
   ],
   "source": [
    "a = s[:5]\n",
    "print(a)"
   ]
  },
  {
   "cell_type": "code",
   "execution_count": 177,
   "id": "d5e57a5b",
   "metadata": {},
   "outputs": [
    {
     "data": {
      "text/plain": [
       "'a'"
      ]
     },
     "execution_count": 177,
     "metadata": {},
     "output_type": "execute_result"
    }
   ],
   "source": [
    "a[0]"
   ]
  },
  {
   "cell_type": "code",
   "execution_count": 178,
   "id": "db8f3d87",
   "metadata": {},
   "outputs": [
    {
     "data": {
      "text/plain": [
       "False"
      ]
     },
     "execution_count": 178,
     "metadata": {},
     "output_type": "execute_result"
    }
   ],
   "source": [
    "a[0].isupper()"
   ]
  },
  {
   "cell_type": "markdown",
   "id": "3d209d16",
   "metadata": {},
   "source": [
    "## HW: Convert lower case to upper case"
   ]
  },
  {
   "cell_type": "markdown",
   "id": "d5150277",
   "metadata": {},
   "source": [
    "## Doubts"
   ]
  },
  {
   "cell_type": "code",
   "execution_count": 179,
   "id": "1c8b35a9",
   "metadata": {},
   "outputs": [
    {
     "name": "stdout",
     "output_type": "stream",
     "text": [
      "5\n",
      "1 2 3 4 5\n",
      "3\n"
     ]
    }
   ],
   "source": [
    "N = int(input())\n",
    "\n",
    "X = input().split()\n",
    "res = []\n",
    "for i in X:\n",
    "    res.append(int(i))\n",
    "\n",
    "pos= int(input())"
   ]
  },
  {
   "cell_type": "code",
   "execution_count": 180,
   "id": "e4aafce4",
   "metadata": {},
   "outputs": [
    {
     "name": "stdout",
     "output_type": "stream",
     "text": [
      "5\n"
     ]
    }
   ],
   "source": [
    "print(N)"
   ]
  },
  {
   "cell_type": "code",
   "execution_count": 181,
   "id": "d35c9d5f",
   "metadata": {},
   "outputs": [
    {
     "name": "stdout",
     "output_type": "stream",
     "text": [
      "[1, 2, 3, 4, 5]\n"
     ]
    }
   ],
   "source": [
    "print(res)"
   ]
  },
  {
   "cell_type": "code",
   "execution_count": 182,
   "id": "11bd0fbe",
   "metadata": {},
   "outputs": [
    {
     "name": "stdout",
     "output_type": "stream",
     "text": [
      "3\n"
     ]
    }
   ],
   "source": [
    "print(pos)"
   ]
  },
  {
   "cell_type": "code",
   "execution_count": 183,
   "id": "4c49d578",
   "metadata": {},
   "outputs": [
    {
     "data": {
      "text/plain": [
       "3"
      ]
     },
     "execution_count": 183,
     "metadata": {},
     "output_type": "execute_result"
    }
   ],
   "source": [
    "res.pop(pos - 1)"
   ]
  },
  {
   "cell_type": "code",
   "execution_count": 184,
   "id": "e79e1c78",
   "metadata": {},
   "outputs": [
    {
     "name": "stdout",
     "output_type": "stream",
     "text": [
      "1 2 4 5 "
     ]
    }
   ],
   "source": [
    "for i in res:\n",
    "    print(i, end=' ')"
   ]
  },
  {
   "cell_type": "code",
   "execution_count": null,
   "id": "b8ce37e2",
   "metadata": {},
   "outputs": [],
   "source": []
  }
 ],
 "metadata": {
  "kernelspec": {
   "display_name": "Python 3 (ipykernel)",
   "language": "python",
   "name": "python3"
  },
  "language_info": {
   "codemirror_mode": {
    "name": "ipython",
    "version": 3
   },
   "file_extension": ".py",
   "mimetype": "text/x-python",
   "name": "python",
   "nbconvert_exporter": "python",
   "pygments_lexer": "ipython3",
   "version": "3.9.12"
  }
 },
 "nbformat": 4,
 "nbformat_minor": 5
}
