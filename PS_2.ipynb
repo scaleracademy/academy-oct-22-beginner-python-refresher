{
 "cells": [
  {
   "cell_type": "markdown",
   "id": "4718e21f",
   "metadata": {},
   "source": [
    "## Problem Solving - 2"
   ]
  },
  {
   "cell_type": "code",
   "execution_count": 1,
   "id": "f102a78c",
   "metadata": {},
   "outputs": [
    {
     "data": {
      "text/plain": [
       "[0, 0, 0]"
      ]
     },
     "execution_count": 1,
     "metadata": {},
     "output_type": "execute_result"
    }
   ],
   "source": [
    "[0] * 3\n"
   ]
  },
  {
   "cell_type": "code",
   "execution_count": 4,
   "id": "691cd02b",
   "metadata": {},
   "outputs": [
    {
     "data": {
      "text/plain": [
       "[[0, 0, 0], [0, 0, 0], [0, 0, 0], [0, 0, 0]]"
      ]
     },
     "execution_count": 4,
     "metadata": {},
     "output_type": "execute_result"
    }
   ],
   "source": [
    "[[0] * 3]*4\n",
    "\n",
    "# 4 rows, 3 cols"
   ]
  },
  {
   "cell_type": "code",
   "execution_count": 5,
   "id": "2170fff1",
   "metadata": {},
   "outputs": [
    {
     "data": {
      "text/plain": [
       "[[0, 0, 0, 0, 0], [0, 0, 0, 0, 0], [0, 0, 0, 0, 0]]"
      ]
     },
     "execution_count": 5,
     "metadata": {},
     "output_type": "execute_result"
    }
   ],
   "source": [
    "N = 3\n",
    "M = 5\n",
    "\n",
    "[[0] * 5]*3"
   ]
  },
  {
   "cell_type": "markdown",
   "id": "8e11e0d3",
   "metadata": {},
   "source": [
    "## Matrix subtraction"
   ]
  },
  {
   "cell_type": "code",
   "execution_count": 22,
   "id": "9f02a67c",
   "metadata": {},
   "outputs": [],
   "source": [
    "A = [[1, 2], [4, 5]]\n",
    "B = [[3, 1], [7, 2]]"
   ]
  },
  {
   "cell_type": "code",
   "execution_count": 23,
   "id": "b7416ce6",
   "metadata": {},
   "outputs": [
    {
     "name": "stdout",
     "output_type": "stream",
     "text": [
      "[[1, 2], [4, 5]]\n"
     ]
    }
   ],
   "source": [
    "print(A)"
   ]
  },
  {
   "cell_type": "code",
   "execution_count": 24,
   "id": "8d7386c3",
   "metadata": {},
   "outputs": [
    {
     "name": "stdout",
     "output_type": "stream",
     "text": [
      "[[3, 1], [7, 2]]\n"
     ]
    }
   ],
   "source": [
    "print(B)"
   ]
  },
  {
   "cell_type": "code",
   "execution_count": 25,
   "id": "41e3f578",
   "metadata": {},
   "outputs": [
    {
     "name": "stdout",
     "output_type": "stream",
     "text": [
      "2\n"
     ]
    }
   ],
   "source": [
    "N = len(A) # rows\n",
    "print(N)"
   ]
  },
  {
   "cell_type": "code",
   "execution_count": 26,
   "id": "19d10696",
   "metadata": {},
   "outputs": [
    {
     "name": "stdout",
     "output_type": "stream",
     "text": [
      "2\n"
     ]
    }
   ],
   "source": [
    "M = len(A[0]) # cols\n",
    "print(M)"
   ]
  },
  {
   "cell_type": "code",
   "execution_count": 37,
   "id": "7d8d0357",
   "metadata": {},
   "outputs": [],
   "source": [
    "res = []"
   ]
  },
  {
   "cell_type": "code",
   "execution_count": 38,
   "id": "61ac6c13",
   "metadata": {},
   "outputs": [
    {
     "name": "stdout",
     "output_type": "stream",
     "text": [
      "[[-2, 1], [-3, 3]]\n"
     ]
    }
   ],
   "source": [
    "for i in range(N):\n",
    "    currow = []\n",
    "    for j in range(M):\n",
    "        val = A[i][j] - B[i][j]\n",
    "        currow.append(val)\n",
    "        # print(A[i][j] - B[i][j], end=' ')\n",
    "    res.append(currow)\n",
    "print(res)"
   ]
  },
  {
   "cell_type": "code",
   "execution_count": 39,
   "id": "cde1c410",
   "metadata": {},
   "outputs": [],
   "source": [
    "A = [[1, 2, 3], [4, 5, 6]]"
   ]
  },
  {
   "cell_type": "code",
   "execution_count": 40,
   "id": "816f47c0",
   "metadata": {},
   "outputs": [
    {
     "data": {
      "text/plain": [
       "2"
      ]
     },
     "execution_count": 40,
     "metadata": {},
     "output_type": "execute_result"
    }
   ],
   "source": [
    "len(A) # N"
   ]
  },
  {
   "cell_type": "code",
   "execution_count": 42,
   "id": "fd662cfa",
   "metadata": {},
   "outputs": [
    {
     "data": {
      "text/plain": [
       "3"
      ]
     },
     "execution_count": 42,
     "metadata": {},
     "output_type": "execute_result"
    }
   ],
   "source": [
    "len(A[0]) # M"
   ]
  },
  {
   "cell_type": "code",
   "execution_count": 43,
   "id": "2c93a43b",
   "metadata": {},
   "outputs": [],
   "source": [
    "# 2*3 matrix"
   ]
  },
  {
   "cell_type": "code",
   "execution_count": 44,
   "id": "e40969c2",
   "metadata": {},
   "outputs": [
    {
     "data": {
      "text/plain": [
       "[0, 0, 0]"
      ]
     },
     "execution_count": 44,
     "metadata": {},
     "output_type": "execute_result"
    }
   ],
   "source": [
    "[0] * 3"
   ]
  },
  {
   "cell_type": "markdown",
   "id": "308076fd",
   "metadata": {},
   "source": [
    "## Input 2D matrix"
   ]
  },
  {
   "cell_type": "markdown",
   "id": "cd237506",
   "metadata": {},
   "source": [
    "3 3 1 2 3 4 5 6 7 8 9\n",
    "\n",
    "3 3 9 8 7 6 5 4 3 2 1"
   ]
  },
  {
   "cell_type": "code",
   "execution_count": 45,
   "id": "5c88c7e9",
   "metadata": {},
   "outputs": [
    {
     "name": "stdout",
     "output_type": "stream",
     "text": [
      "3 3 1 2 3 4 5 6 7 8 9\n",
      "['3', '3', '1', '2', '3', '4', '5', '6', '7', '8', '9']\n"
     ]
    }
   ],
   "source": [
    "A = input().split()\n",
    "print(A)"
   ]
  },
  {
   "cell_type": "code",
   "execution_count": 58,
   "id": "9458f0c8",
   "metadata": {},
   "outputs": [],
   "source": [
    "resA = []\n",
    "for i in A:\n",
    "    resA.append(int(i))"
   ]
  },
  {
   "cell_type": "code",
   "execution_count": 59,
   "id": "ecaca959",
   "metadata": {},
   "outputs": [
    {
     "name": "stdout",
     "output_type": "stream",
     "text": [
      "[3, 3, 1, 2, 3, 4, 5, 6, 7, 8, 9]\n"
     ]
    }
   ],
   "source": [
    "print(resA)"
   ]
  },
  {
   "cell_type": "code",
   "execution_count": 60,
   "id": "7b8ef8dd",
   "metadata": {},
   "outputs": [],
   "source": [
    "R = resA.pop(0)\n",
    "C = resA.pop(0)"
   ]
  },
  {
   "cell_type": "code",
   "execution_count": 61,
   "id": "d19bf403",
   "metadata": {},
   "outputs": [
    {
     "name": "stdout",
     "output_type": "stream",
     "text": [
      "3 3\n"
     ]
    }
   ],
   "source": [
    "print(R, C)"
   ]
  },
  {
   "cell_type": "code",
   "execution_count": 62,
   "id": "19ae79f7",
   "metadata": {},
   "outputs": [
    {
     "name": "stdout",
     "output_type": "stream",
     "text": [
      "[1, 2, 3, 4, 5, 6, 7, 8, 9]\n"
     ]
    }
   ],
   "source": [
    "print(resA)"
   ]
  },
  {
   "cell_type": "code",
   "execution_count": 64,
   "id": "67f72e9d",
   "metadata": {},
   "outputs": [
    {
     "name": "stdout",
     "output_type": "stream",
     "text": [
      "[1, 2, 3]\n",
      "[4, 5, 6]\n",
      "[7, 8, 9]\n"
     ]
    }
   ],
   "source": [
    "k = 0\n",
    "res = []\n",
    "for i in range(R):\n",
    "    currow = []\n",
    "    for j in range(C):\n",
    "        currow.append(resA[k])\n",
    "        k += 1\n",
    "    print(currow)\n",
    "    res.append(currow)"
   ]
  },
  {
   "cell_type": "code",
   "execution_count": 65,
   "id": "c995a0b9",
   "metadata": {},
   "outputs": [
    {
     "name": "stdout",
     "output_type": "stream",
     "text": [
      "[[1, 2, 3], [4, 5, 6], [7, 8, 9]]\n"
     ]
    }
   ],
   "source": [
    "print(res)"
   ]
  },
  {
   "cell_type": "markdown",
   "id": "a1135958",
   "metadata": {},
   "source": [
    "## Wave Matrix"
   ]
  },
  {
   "cell_type": "markdown",
   "id": "1cef5ddb",
   "metadata": {},
   "source": [
    "3\n",
    "\n",
    "4 1 2 \n",
    "\n",
    "7 4 4 \n",
    "\n",
    "3 7 4 "
   ]
  },
  {
   "cell_type": "code",
   "execution_count": 67,
   "id": "c7b0006a",
   "metadata": {},
   "outputs": [
    {
     "name": "stdout",
     "output_type": "stream",
     "text": [
      "3\n"
     ]
    }
   ],
   "source": [
    "N = int(input())"
   ]
  },
  {
   "cell_type": "code",
   "execution_count": 79,
   "id": "a2486d09",
   "metadata": {},
   "outputs": [
    {
     "name": "stdout",
     "output_type": "stream",
     "text": [
      "4 1 2 \n",
      " 7 4 4 \n",
      "3 7 4 \n"
     ]
    }
   ],
   "source": [
    "res = []\n",
    "for i in range(N):\n",
    "    currow = input().split()\n",
    "    for j in range(N):\n",
    "        currow[j] = int(currow[j])\n",
    "#     print(currow)\n",
    "    res.append(currow)"
   ]
  },
  {
   "cell_type": "code",
   "execution_count": 80,
   "id": "acbf979f",
   "metadata": {},
   "outputs": [
    {
     "name": "stdout",
     "output_type": "stream",
     "text": [
      "[[4, 1, 2], [7, 4, 4], [3, 7, 4]]\n"
     ]
    }
   ],
   "source": [
    "print(res)"
   ]
  },
  {
   "cell_type": "markdown",
   "id": "afce3eff",
   "metadata": {},
   "source": [
    "## Wave Print (Column wise)"
   ]
  },
  {
   "cell_type": "code",
   "execution_count": 81,
   "id": "0f18e2c0",
   "metadata": {},
   "outputs": [
    {
     "name": "stdout",
     "output_type": "stream",
     "text": [
      "4 7 3 \n",
      "1 4 7 \n",
      "2 4 4 \n"
     ]
    }
   ],
   "source": [
    "for j in range(N): # cols\n",
    "    for i in range(N): # rows\n",
    "        print(res[i][j], end=' ')\n",
    "    print()"
   ]
  },
  {
   "cell_type": "code",
   "execution_count": 82,
   "id": "2cf151d0",
   "metadata": {},
   "outputs": [
    {
     "name": "stdout",
     "output_type": "stream",
     "text": [
      "4 7 3 \n",
      "1 4 7 \n",
      "2 4 4 \n"
     ]
    }
   ],
   "source": [
    "for j in range(N): # cols, j = 0\n",
    "    for i in range(N): # rows, i = 0, 1, 2\n",
    "        print(res[i][j], end=' ') # j fixed here\n",
    "    print()"
   ]
  },
  {
   "cell_type": "code",
   "execution_count": 83,
   "id": "3a03a082",
   "metadata": {},
   "outputs": [
    {
     "name": "stdout",
     "output_type": "stream",
     "text": [
      "4 1 2 \n",
      "7 4 4 \n",
      "3 7 4 \n"
     ]
    }
   ],
   "source": [
    "for i in range(N): # rows, i = 0\n",
    "    for j in range(N): # cols, j = 0, 1, 2\n",
    "        print(res[i][j], end=' ') # i fixed here\n",
    "    print()"
   ]
  },
  {
   "cell_type": "markdown",
   "id": "266e7130",
   "metadata": {},
   "source": [
    "## Finally"
   ]
  },
  {
   "cell_type": "code",
   "execution_count": 84,
   "id": "f83c3a4e",
   "metadata": {},
   "outputs": [
    {
     "name": "stdout",
     "output_type": "stream",
     "text": [
      "4 7 3 \n",
      "7 4 1 \n",
      "2 4 4 \n"
     ]
    }
   ],
   "source": [
    "for j in range(N): # cols, j = 0\n",
    "    if j % 2 == 0:\n",
    "        for i in range(N): # rows, i = 0, 1, 2\n",
    "            print(res[i][j], end=' ') # j fixed here\n",
    "        print()\n",
    "    else:\n",
    "        for i in range(N - 1, -1, -1):\n",
    "            print(res[i][j], end=' ')\n",
    "        print()"
   ]
  },
  {
   "cell_type": "code",
   "execution_count": 85,
   "id": "405ab730",
   "metadata": {},
   "outputs": [
    {
     "name": "stdout",
     "output_type": "stream",
     "text": [
      "4 7 3 7 4 1 2 4 4 "
     ]
    }
   ],
   "source": [
    "for j in range(N): # cols, j = 0\n",
    "    if j % 2 == 0:\n",
    "        for i in range(N): # rows, i = 0, 1, 2\n",
    "            print(res[i][j], end=' ') # j fixed here\n",
    "    else:\n",
    "        for i in range(N - 1, -1, -1):\n",
    "            print(res[i][j], end=' ')"
   ]
  },
  {
   "cell_type": "code",
   "execution_count": null,
   "id": "39ef31f2",
   "metadata": {},
   "outputs": [],
   "source": []
  },
  {
   "cell_type": "markdown",
   "id": "7ff60dff",
   "metadata": {},
   "source": [
    "## Transpose"
   ]
  },
  {
   "cell_type": "code",
   "execution_count": 87,
   "id": "27e38479",
   "metadata": {},
   "outputs": [],
   "source": [
    "A = [[1, 2], [3, 4], [5, 6]]"
   ]
  },
  {
   "cell_type": "code",
   "execution_count": 89,
   "id": "2354aba3",
   "metadata": {},
   "outputs": [
    {
     "name": "stdout",
     "output_type": "stream",
     "text": [
      "[[1, 3, 5], [2, 4, 6]]\n"
     ]
    }
   ],
   "source": [
    "R = len(A)\n",
    "C = len(A[0])\n",
    "res = []\n",
    "# outer loop => columns\n",
    "for j in range(C):\n",
    "    currow = []\n",
    "    # inner loop => rows\n",
    "    for i in range(R):\n",
    "        currow.append(A[i][j])\n",
    "    # res\n",
    "    res.append(currow)\n",
    "print(res)"
   ]
  },
  {
   "cell_type": "markdown",
   "id": "82397f08",
   "metadata": {},
   "source": [
    "## String Modification"
   ]
  },
  {
   "cell_type": "code",
   "execution_count": 94,
   "id": "e587be2c",
   "metadata": {},
   "outputs": [],
   "source": [
    "def modify(s):\n",
    "    '''Input: s is the string\n",
    "       Output:return the resultant string with described modifications'''\n",
    "    # YOUR CODE GOES HERE\n",
    "    if len(s) < 3:\n",
    "        return s\n",
    "    \n",
    "    if s[-3:] != \"ing\":\n",
    "        # does not end with ing\n",
    "        return s + \"ing\"\n",
    "    else:\n",
    "        # ends with ing\n",
    "        return s + \"ly\""
   ]
  },
  {
   "cell_type": "code",
   "execution_count": 91,
   "id": "81a89564",
   "metadata": {},
   "outputs": [
    {
     "data": {
      "text/plain": [
       "'Am'"
      ]
     },
     "execution_count": 91,
     "metadata": {},
     "output_type": "execute_result"
    }
   ],
   "source": [
    "modify(\"Am\")"
   ]
  },
  {
   "cell_type": "code",
   "execution_count": 92,
   "id": "b7294698",
   "metadata": {},
   "outputs": [
    {
     "data": {
      "text/plain": [
       "'Stringly'"
      ]
     },
     "execution_count": 92,
     "metadata": {},
     "output_type": "execute_result"
    }
   ],
   "source": [
    "modify(\"String\")"
   ]
  },
  {
   "cell_type": "code",
   "execution_count": 93,
   "id": "7d44764a",
   "metadata": {},
   "outputs": [
    {
     "data": {
      "text/plain": [
       "'Sowing'"
      ]
     },
     "execution_count": 93,
     "metadata": {},
     "output_type": "execute_result"
    }
   ],
   "source": [
    "modify(\"Sow\")"
   ]
  },
  {
   "cell_type": "markdown",
   "id": "658171dc",
   "metadata": {},
   "source": [
    "## Character Swap"
   ]
  },
  {
   "cell_type": "code",
   "execution_count": 95,
   "id": "c55c1683",
   "metadata": {},
   "outputs": [],
   "source": [
    "\n",
    "def swap(s1, s2):\n",
    "    \n",
    "    '''Input: s1,s2 two strings takes the string as input\n",
    "       Output: str return the resultant string'''\n",
    "    # YOUR CODE GOES HERE\n",
    "    \n",
    "    str = s2[:2] + s1[2:] + ' ' + s1[:2] + s2[2:]\n",
    "    \n",
    "    return str\n"
   ]
  },
  {
   "cell_type": "code",
   "execution_count": 96,
   "id": "1433caee",
   "metadata": {},
   "outputs": [
    {
     "data": {
      "text/plain": [
       "'xyc abz'"
      ]
     },
     "execution_count": 96,
     "metadata": {},
     "output_type": "execute_result"
    }
   ],
   "source": [
    "swap(\"abc\", \"xyz\")"
   ]
  },
  {
   "cell_type": "code",
   "execution_count": 97,
   "id": "d4daa5db",
   "metadata": {},
   "outputs": [
    {
     "data": {
      "text/plain": [
       "'bahil sansal'"
      ]
     },
     "execution_count": 97,
     "metadata": {},
     "output_type": "execute_result"
    }
   ],
   "source": [
    "swap(\"sahil\", \"bansal\")"
   ]
  },
  {
   "cell_type": "markdown",
   "id": "662338ae",
   "metadata": {},
   "source": [
    "## Mirror String"
   ]
  },
  {
   "cell_type": "code",
   "execution_count": 98,
   "id": "9942533e",
   "metadata": {},
   "outputs": [],
   "source": [
    "def StringMirror(string):\n",
    "    '''Input: string takes the string as input\n",
    "       Output:return the resultant mirror string'''\n",
    "\n",
    "    # YOUR CODE GOES HERE\n",
    "    return string + string[::-1]\n"
   ]
  },
  {
   "cell_type": "code",
   "execution_count": 99,
   "id": "cb7a267a",
   "metadata": {},
   "outputs": [
    {
     "data": {
      "text/plain": [
       "'redder'"
      ]
     },
     "execution_count": 99,
     "metadata": {},
     "output_type": "execute_result"
    }
   ],
   "source": [
    "StringMirror(\"red\")"
   ]
  },
  {
   "cell_type": "code",
   "execution_count": 100,
   "id": "f35c396a",
   "metadata": {},
   "outputs": [
    {
     "data": {
      "text/plain": [
       "'sahillihas'"
      ]
     },
     "execution_count": 100,
     "metadata": {},
     "output_type": "execute_result"
    }
   ],
   "source": [
    "StringMirror(\"sahil\")"
   ]
  },
  {
   "cell_type": "markdown",
   "id": "879f53ad",
   "metadata": {},
   "source": [
    "## Other Questions"
   ]
  },
  {
   "cell_type": "markdown",
   "id": "78244af0",
   "metadata": {},
   "source": [
    "## Right Shift"
   ]
  },
  {
   "cell_type": "code",
   "execution_count": 102,
   "id": "9e855082",
   "metadata": {},
   "outputs": [],
   "source": [
    "L = [1, 2, 3, 4, 5]"
   ]
  },
  {
   "cell_type": "code",
   "execution_count": 103,
   "id": "542e8e25",
   "metadata": {},
   "outputs": [
    {
     "data": {
      "text/plain": [
       "5"
      ]
     },
     "execution_count": 103,
     "metadata": {},
     "output_type": "execute_result"
    }
   ],
   "source": [
    "L[-1]"
   ]
  },
  {
   "cell_type": "code",
   "execution_count": 104,
   "id": "ef142814",
   "metadata": {},
   "outputs": [
    {
     "data": {
      "text/plain": [
       "[5]"
      ]
     },
     "execution_count": 104,
     "metadata": {},
     "output_type": "execute_result"
    }
   ],
   "source": [
    "[L[-1]]"
   ]
  },
  {
   "cell_type": "code",
   "execution_count": 105,
   "id": "5378dbe5",
   "metadata": {},
   "outputs": [
    {
     "data": {
      "text/plain": [
       "[1, 2, 3, 4]"
      ]
     },
     "execution_count": 105,
     "metadata": {},
     "output_type": "execute_result"
    }
   ],
   "source": [
    "L[:-1]"
   ]
  },
  {
   "cell_type": "code",
   "execution_count": 106,
   "id": "b6551b46",
   "metadata": {},
   "outputs": [
    {
     "data": {
      "text/plain": [
       "[5, 1, 2, 3, 4]"
      ]
     },
     "execution_count": 106,
     "metadata": {},
     "output_type": "execute_result"
    }
   ],
   "source": [
    "[L[-1]] + L[:-1]"
   ]
  },
  {
   "cell_type": "markdown",
   "id": "a78c5142",
   "metadata": {},
   "source": [
    "## Change occurrences except first"
   ]
  },
  {
   "cell_type": "code",
   "execution_count": 118,
   "id": "f865e48a",
   "metadata": {},
   "outputs": [],
   "source": [
    "s = \"anirudh suresh\"\n",
    "# r to $"
   ]
  },
  {
   "cell_type": "code",
   "execution_count": 119,
   "id": "1d32fc48",
   "metadata": {},
   "outputs": [
    {
     "data": {
      "text/plain": [
       "'ani$udh su$esh'"
      ]
     },
     "execution_count": 119,
     "metadata": {},
     "output_type": "execute_result"
    }
   ],
   "source": [
    "s.replace('r', '$')"
   ]
  },
  {
   "cell_type": "code",
   "execution_count": 120,
   "id": "59daca71",
   "metadata": {},
   "outputs": [
    {
     "name": "stdout",
     "output_type": "stream",
     "text": [
      "3\n"
     ]
    }
   ],
   "source": [
    "i = s.index('r')\n",
    "print(i)"
   ]
  },
  {
   "cell_type": "code",
   "execution_count": 121,
   "id": "49281528",
   "metadata": {},
   "outputs": [
    {
     "data": {
      "text/plain": [
       "'udh suresh'"
      ]
     },
     "execution_count": 121,
     "metadata": {},
     "output_type": "execute_result"
    }
   ],
   "source": [
    "s[(i+1):] # after this first index"
   ]
  },
  {
   "cell_type": "code",
   "execution_count": 122,
   "id": "8dbf2f62",
   "metadata": {},
   "outputs": [
    {
     "data": {
      "text/plain": [
       "'udh su$esh'"
      ]
     },
     "execution_count": 122,
     "metadata": {},
     "output_type": "execute_result"
    }
   ],
   "source": [
    "s[(i+1):].replace('r', '$')"
   ]
  },
  {
   "cell_type": "code",
   "execution_count": 123,
   "id": "41b3aef2",
   "metadata": {},
   "outputs": [
    {
     "data": {
      "text/plain": [
       "'anir'"
      ]
     },
     "execution_count": 123,
     "metadata": {},
     "output_type": "execute_result"
    }
   ],
   "source": [
    "s[:(i+1)]"
   ]
  },
  {
   "cell_type": "code",
   "execution_count": 124,
   "id": "ae27ba8a",
   "metadata": {},
   "outputs": [
    {
     "data": {
      "text/plain": [
       "'anirudh su$esh'"
      ]
     },
     "execution_count": 124,
     "metadata": {},
     "output_type": "execute_result"
    }
   ],
   "source": [
    "s[:(i+1)] + s[(i+1):].replace('r', '$')"
   ]
  },
  {
   "cell_type": "markdown",
   "id": "591d5866",
   "metadata": {},
   "source": [
    "## Doubts"
   ]
  },
  {
   "cell_type": "code",
   "execution_count": 129,
   "id": "e98dd978",
   "metadata": {},
   "outputs": [
    {
     "name": "stdout",
     "output_type": "stream",
     "text": [
      "[[1, 2], [3, 4], [5, 6]]\n"
     ]
    }
   ],
   "source": [
    "A = [[1, 2], [3, 4], [5, 6]]\n",
    "print(A)"
   ]
  },
  {
   "cell_type": "code",
   "execution_count": 128,
   "id": "02e3a2f5",
   "metadata": {},
   "outputs": [
    {
     "name": "stdout",
     "output_type": "stream",
     "text": [
      "[[3, 1], [7, 2], [1, 1]]\n"
     ]
    }
   ],
   "source": [
    "B = [[3, 1], [7, 2], [1, 1]]\n",
    "print(B)"
   ]
  },
  {
   "cell_type": "code",
   "execution_count": 130,
   "id": "946665b5",
   "metadata": {},
   "outputs": [
    {
     "name": "stdout",
     "output_type": "stream",
     "text": [
      "[[-2, 1], [-4, 2], [4, 5]]\n"
     ]
    }
   ],
   "source": [
    "for i in range(len(A)):\n",
    "    for j in range(len(A[0])):\n",
    "        A[i][j] -= B[i][j]\n",
    "print(A)"
   ]
  },
  {
   "cell_type": "code",
   "execution_count": 131,
   "id": "a6eefe0c",
   "metadata": {},
   "outputs": [
    {
     "name": "stdout",
     "output_type": "stream",
     "text": [
      "[[-2, 1], [-4, 2], [4, 5]]\n"
     ]
    }
   ],
   "source": [
    "print(A) # your input has changed"
   ]
  },
  {
   "cell_type": "code",
   "execution_count": 134,
   "id": "92adb570",
   "metadata": {},
   "outputs": [
    {
     "name": "stdout",
     "output_type": "stream",
     "text": [
      "7 4 1 \n",
      "8 5 2 \n",
      "9 6 3 \n"
     ]
    }
   ],
   "source": [
    "res = [[1, 2, 3], [4, 5, 6], [7, 8, 9]]\n",
    "\n",
    "# every column => down to top\n",
    "for j in range(N): # cols, j = 0\n",
    "    for i in range(N - 1, -1, -1):\n",
    "        print(res[i][j], end=' ')\n",
    "    print()"
   ]
  },
  {
   "cell_type": "code",
   "execution_count": 135,
   "id": "c32223d2",
   "metadata": {},
   "outputs": [],
   "source": [
    "t = (10, 8, 5, 2, 10, 15, 10, 8, 5, 8, 8, 2)"
   ]
  },
  {
   "cell_type": "code",
   "execution_count": 136,
   "id": "b6a81a21",
   "metadata": {},
   "outputs": [
    {
     "name": "stdout",
     "output_type": "stream",
     "text": [
      "{10: 3, 8: 4, 5: 2, 2: 2, 15: 1}\n"
     ]
    }
   ],
   "source": [
    "res = {}\n",
    "\n",
    "for i in t:\n",
    "    if i in res:\n",
    "        res[i] += 1\n",
    "    else:\n",
    "        res[i] = 1\n",
    "print(res)"
   ]
  },
  {
   "cell_type": "code",
   "execution_count": null,
   "id": "2d9a19c3",
   "metadata": {},
   "outputs": [],
   "source": []
  }
 ],
 "metadata": {
  "kernelspec": {
   "display_name": "Python 3 (ipykernel)",
   "language": "python",
   "name": "python3"
  },
  "language_info": {
   "codemirror_mode": {
    "name": "ipython",
    "version": 3
   },
   "file_extension": ".py",
   "mimetype": "text/x-python",
   "name": "python",
   "nbconvert_exporter": "python",
   "pygments_lexer": "ipython3",
   "version": "3.9.12"
  }
 },
 "nbformat": 4,
 "nbformat_minor": 5
}
