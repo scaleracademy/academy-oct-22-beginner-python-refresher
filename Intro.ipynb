{
 "cells": [
  {
   "cell_type": "markdown",
   "id": "a05e2228",
   "metadata": {},
   "source": [
    "## Introduction to Python"
   ]
  },
  {
   "cell_type": "code",
   "execution_count": 1,
   "id": "f3a60b10",
   "metadata": {},
   "outputs": [
    {
     "name": "stdout",
     "output_type": "stream",
     "text": [
      "29\n"
     ]
    }
   ],
   "source": [
    "print(29)"
   ]
  },
  {
   "cell_type": "code",
   "execution_count": 2,
   "id": "1ba24106",
   "metadata": {},
   "outputs": [
    {
     "name": "stdout",
     "output_type": "stream",
     "text": [
      "121414\n"
     ]
    }
   ],
   "source": [
    "print(121414)"
   ]
  },
  {
   "cell_type": "markdown",
   "id": "10dd601e",
   "metadata": {},
   "source": [
    "## Quizzes"
   ]
  },
  {
   "cell_type": "code",
   "execution_count": 3,
   "id": "3cae00bb",
   "metadata": {},
   "outputs": [
    {
     "name": "stdout",
     "output_type": "stream",
     "text": [
      "50\n"
     ]
    }
   ],
   "source": [
    "print(20 + 30)"
   ]
  },
  {
   "cell_type": "code",
   "execution_count": 4,
   "id": "d3945ac9",
   "metadata": {},
   "outputs": [
    {
     "name": "stdout",
     "output_type": "stream",
     "text": [
      "50\n"
     ]
    }
   ],
   "source": [
    "print(20+30)"
   ]
  },
  {
   "cell_type": "code",
   "execution_count": 5,
   "id": "8a039231",
   "metadata": {},
   "outputs": [
    {
     "name": "stdout",
     "output_type": "stream",
     "text": [
      "3\n"
     ]
    }
   ],
   "source": [
    "print(8-5)"
   ]
  },
  {
   "cell_type": "code",
   "execution_count": 6,
   "id": "3303edc7",
   "metadata": {},
   "outputs": [
    {
     "name": "stdout",
     "output_type": "stream",
     "text": [
      "3\n"
     ]
    }
   ],
   "source": [
    "print(8 - 5)"
   ]
  },
  {
   "cell_type": "code",
   "execution_count": 7,
   "id": "713fce4a",
   "metadata": {},
   "outputs": [
    {
     "name": "stdout",
     "output_type": "stream",
     "text": [
      "36\n"
     ]
    }
   ],
   "source": [
    "print(4*9)"
   ]
  },
  {
   "cell_type": "code",
   "execution_count": 8,
   "id": "649f973a",
   "metadata": {},
   "outputs": [
    {
     "name": "stdout",
     "output_type": "stream",
     "text": [
      "36\n"
     ]
    }
   ],
   "source": [
    "print(9 * 4)"
   ]
  },
  {
   "cell_type": "code",
   "execution_count": 9,
   "id": "6dc6b8fa",
   "metadata": {},
   "outputs": [
    {
     "name": "stdout",
     "output_type": "stream",
     "text": [
      "10\n"
     ]
    }
   ],
   "source": [
    "print(\"10\")"
   ]
  },
  {
   "cell_type": "code",
   "execution_count": 11,
   "id": "6d3adf76",
   "metadata": {},
   "outputs": [
    {
     "name": "stdout",
     "output_type": "stream",
     "text": [
      "Pavithran Ambur\n"
     ]
    }
   ],
   "source": [
    "print(\"Pavithran Ambur\")"
   ]
  },
  {
   "cell_type": "code",
   "execution_count": 12,
   "id": "570e9ed3",
   "metadata": {},
   "outputs": [
    {
     "name": "stdout",
     "output_type": "stream",
     "text": [
      "Hello world!!!\n"
     ]
    }
   ],
   "source": [
    "print(\"Hello world!!!\")"
   ]
  },
  {
   "cell_type": "code",
   "execution_count": 13,
   "id": "03a332c5",
   "metadata": {},
   "outputs": [
    {
     "name": "stdout",
     "output_type": "stream",
     "text": [
      "I can print anything over here @1461++++-------...???\n"
     ]
    }
   ],
   "source": [
    "print(\"I can print anything over here @1461++++-------...???\")"
   ]
  },
  {
   "cell_type": "code",
   "execution_count": 14,
   "id": "3ee5a281",
   "metadata": {},
   "outputs": [
    {
     "ename": "NameError",
     "evalue": "name 'Print' is not defined",
     "output_type": "error",
     "traceback": [
      "\u001b[0;31m---------------------------------------------------------------------------\u001b[0m",
      "\u001b[0;31mNameError\u001b[0m                                 Traceback (most recent call last)",
      "Input \u001b[0;32mIn [14]\u001b[0m, in \u001b[0;36m<cell line: 1>\u001b[0;34m()\u001b[0m\n\u001b[0;32m----> 1\u001b[0m \u001b[43mPrint\u001b[49m(\u001b[38;5;124m\"\u001b[39m\u001b[38;5;124m5+10\u001b[39m\u001b[38;5;124m\"\u001b[39m)\n",
      "\u001b[0;31mNameError\u001b[0m: name 'Print' is not defined"
     ]
    }
   ],
   "source": [
    "Print(\"5+10\")"
   ]
  },
  {
   "cell_type": "code",
   "execution_count": 15,
   "id": "820c37ab",
   "metadata": {},
   "outputs": [
    {
     "name": "stdout",
     "output_type": "stream",
     "text": [
      "5+10\n"
     ]
    }
   ],
   "source": [
    "print(\"5+10\")"
   ]
  },
  {
   "cell_type": "code",
   "execution_count": 16,
   "id": "727927b5",
   "metadata": {},
   "outputs": [
    {
     "name": "stdout",
     "output_type": "stream",
     "text": [
      "5 + 10\n"
     ]
    }
   ],
   "source": [
    "print(\"5 + 10\")"
   ]
  },
  {
   "cell_type": "code",
   "execution_count": 17,
   "id": "b3211c25",
   "metadata": {},
   "outputs": [
    {
     "name": "stdout",
     "output_type": "stream",
     "text": [
      "5           +        10\n"
     ]
    }
   ],
   "source": [
    "print(\"5           +        10\")"
   ]
  },
  {
   "cell_type": "code",
   "execution_count": 18,
   "id": "913a9199",
   "metadata": {},
   "outputs": [
    {
     "name": "stdout",
     "output_type": "stream",
     "text": [
      "10+10\n"
     ]
    }
   ],
   "source": [
    "print(\"10+10\")"
   ]
  },
  {
   "cell_type": "code",
   "execution_count": null,
   "id": "df404b2a",
   "metadata": {},
   "outputs": [],
   "source": []
  }
 ],
 "metadata": {
  "kernelspec": {
   "display_name": "Python 3 (ipykernel)",
   "language": "python",
   "name": "python3"
  },
  "language_info": {
   "codemirror_mode": {
    "name": "ipython",
    "version": 3
   },
   "file_extension": ".py",
   "mimetype": "text/x-python",
   "name": "python",
   "nbconvert_exporter": "python",
   "pygments_lexer": "ipython3",
   "version": "3.9.12"
  }
 },
 "nbformat": 4,
 "nbformat_minor": 5
}
