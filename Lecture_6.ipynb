{
 "cells": [
  {
   "cell_type": "markdown",
   "id": "d9375e58",
   "metadata": {},
   "source": [
    "## Lecture 6 - Functions"
   ]
  },
  {
   "cell_type": "markdown",
   "id": "19e5ee0f",
   "metadata": {},
   "source": [
    "## Intro"
   ]
  },
  {
   "cell_type": "code",
   "execution_count": null,
   "id": "b7b91c67",
   "metadata": {},
   "outputs": [],
   "source": []
  },
  {
   "cell_type": "code",
   "execution_count": 1,
   "id": "661d2d7d",
   "metadata": {},
   "outputs": [
    {
     "ename": "NameError",
     "evalue": "name 'move' is not defined",
     "output_type": "error",
     "traceback": [
      "\u001b[0;31m---------------------------------------------------------------------------\u001b[0m",
      "\u001b[0;31mNameError\u001b[0m                                 Traceback (most recent call last)",
      "Input \u001b[0;32mIn [1]\u001b[0m, in \u001b[0;36m<cell line: 1>\u001b[0;34m()\u001b[0m\n\u001b[0;32m----> 1\u001b[0m \u001b[43mmove\u001b[49m()\n\u001b[1;32m      3\u001b[0m turn_left()\n\u001b[1;32m      5\u001b[0m move()\n",
      "\u001b[0;31mNameError\u001b[0m: name 'move' is not defined"
     ]
    }
   ],
   "source": [
    "move()\n",
    "\n",
    "turn_left()\n",
    "\n",
    "move()\n",
    "move()\n",
    "\n",
    "# turn right\n",
    "turn_left()\n",
    "turn_left()\n",
    "turn_left()\n",
    "\n",
    "move()\n",
    "move()\n",
    "\n",
    "# turn right\n",
    "turn_left()\n",
    "turn_left()\n",
    "turn_left()\n",
    "\n",
    "move()\n",
    "move()\n",
    "\n",
    "# turn right\n",
    "turn_left()\n",
    "turn_left()\n",
    "turn_left()\n",
    "\n",
    "move()\n",
    "move()\n",
    "\n"
   ]
  },
  {
   "cell_type": "code",
   "execution_count": 2,
   "id": "b3734af6",
   "metadata": {},
   "outputs": [
    {
     "ename": "NameError",
     "evalue": "name 'move' is not defined",
     "output_type": "error",
     "traceback": [
      "\u001b[0;31m---------------------------------------------------------------------------\u001b[0m",
      "\u001b[0;31mNameError\u001b[0m                                 Traceback (most recent call last)",
      "Input \u001b[0;32mIn [2]\u001b[0m, in \u001b[0;36m<cell line: 6>\u001b[0;34m()\u001b[0m\n\u001b[1;32m      3\u001b[0m     turn_left()\n\u001b[1;32m      4\u001b[0m     turn_left()\n\u001b[0;32m----> 6\u001b[0m \u001b[43mmove\u001b[49m()\n\u001b[1;32m      7\u001b[0m turn_left()\n\u001b[1;32m      8\u001b[0m move()\n",
      "\u001b[0;31mNameError\u001b[0m: name 'move' is not defined"
     ]
    }
   ],
   "source": [
    "def turn_right():\n",
    "    turn_left()\n",
    "    turn_left()\n",
    "    turn_left()\n",
    "\n",
    "move()\n",
    "turn_left()\n",
    "move()\n",
    "move()\n",
    "\n",
    "turn_right()\n",
    "\n",
    "move()\n",
    "move()\n",
    "\n",
    "turn_right()\n",
    "\n",
    "move()\n",
    "move()\n",
    "\n",
    "turn_right()\n",
    "move()\n",
    "move()"
   ]
  },
  {
   "cell_type": "markdown",
   "id": "d2b9ee77",
   "metadata": {},
   "source": [
    "## Greet function"
   ]
  },
  {
   "cell_type": "code",
   "execution_count": 3,
   "id": "d41fa233",
   "metadata": {},
   "outputs": [],
   "source": [
    "# this is how we define a function\n",
    "def sheldon_knock():\n",
    "    print('Knock Knock Knock')\n",
    "    print('Knock Knock Knock')\n",
    "    print('Knock Knock Knock')"
   ]
  },
  {
   "cell_type": "code",
   "execution_count": 4,
   "id": "b8c36520",
   "metadata": {},
   "outputs": [],
   "source": [
    "# call the function to run it"
   ]
  },
  {
   "cell_type": "code",
   "execution_count": 6,
   "id": "e4b2f93b",
   "metadata": {},
   "outputs": [
    {
     "name": "stdout",
     "output_type": "stream",
     "text": [
      "Knock Knock Knock\n",
      "Knock Knock Knock\n",
      "Knock Knock Knock\n"
     ]
    }
   ],
   "source": [
    "sheldon_knock()"
   ]
  },
  {
   "cell_type": "code",
   "execution_count": 5,
   "id": "98a076d3",
   "metadata": {},
   "outputs": [
    {
     "name": "stdout",
     "output_type": "stream",
     "text": [
      "This is printing\n"
     ]
    }
   ],
   "source": [
    "print(\"This is printing\")"
   ]
  },
  {
   "cell_type": "markdown",
   "id": "fc640073",
   "metadata": {},
   "source": [
    "## Pass parameters to the function"
   ]
  },
  {
   "cell_type": "code",
   "execution_count": 7,
   "id": "8862f14e",
   "metadata": {},
   "outputs": [],
   "source": [
    "\n",
    "def sheldon_knock(name):\n",
    "    print('Knock Knock Knock', name)\n",
    "    print('Knock Knock Knock', name)\n",
    "    print('Knock Knock Knock', name)"
   ]
  },
  {
   "cell_type": "code",
   "execution_count": 8,
   "id": "90ba2182",
   "metadata": {},
   "outputs": [
    {
     "ename": "TypeError",
     "evalue": "sheldon_knock() missing 1 required positional argument: 'name'",
     "output_type": "error",
     "traceback": [
      "\u001b[0;31m---------------------------------------------------------------------------\u001b[0m",
      "\u001b[0;31mTypeError\u001b[0m                                 Traceback (most recent call last)",
      "Input \u001b[0;32mIn [8]\u001b[0m, in \u001b[0;36m<cell line: 1>\u001b[0;34m()\u001b[0m\n\u001b[0;32m----> 1\u001b[0m \u001b[43msheldon_knock\u001b[49m\u001b[43m(\u001b[49m\u001b[43m)\u001b[49m\n",
      "\u001b[0;31mTypeError\u001b[0m: sheldon_knock() missing 1 required positional argument: 'name'"
     ]
    }
   ],
   "source": [
    "sheldon_knock()"
   ]
  },
  {
   "cell_type": "code",
   "execution_count": 9,
   "id": "58cb6b3d",
   "metadata": {},
   "outputs": [
    {
     "name": "stdout",
     "output_type": "stream",
     "text": [
      "Knock Knock Knock Penny\n",
      "Knock Knock Knock Penny\n",
      "Knock Knock Knock Penny\n"
     ]
    }
   ],
   "source": [
    "sheldon_knock(\"Penny\")"
   ]
  },
  {
   "cell_type": "code",
   "execution_count": 10,
   "id": "657373bc",
   "metadata": {},
   "outputs": [
    {
     "name": "stdout",
     "output_type": "stream",
     "text": [
      "Knock Knock Knock Leonard\n",
      "Knock Knock Knock Leonard\n",
      "Knock Knock Knock Leonard\n"
     ]
    }
   ],
   "source": [
    "sheldon_knock(\"Leonard\")"
   ]
  },
  {
   "cell_type": "code",
   "execution_count": 13,
   "id": "a90826d9",
   "metadata": {},
   "outputs": [],
   "source": [
    "def greet(name):\n",
    "    print(\"Hi\", name, \"How are you doing?\")\n",
    "    print(\"Isn't it a nice weather today?\")"
   ]
  },
  {
   "cell_type": "code",
   "execution_count": 15,
   "id": "015cc479",
   "metadata": {},
   "outputs": [
    {
     "name": "stdout",
     "output_type": "stream",
     "text": [
      "Hi Krishan How are you doing?\n",
      "Isn't it a nice weather today?\n"
     ]
    }
   ],
   "source": [
    "greet(\"Krishan\")"
   ]
  },
  {
   "cell_type": "markdown",
   "id": "0b30b1de",
   "metadata": {},
   "source": [
    "## Function with multiple inputs"
   ]
  },
  {
   "cell_type": "code",
   "execution_count": 20,
   "id": "53b9f383",
   "metadata": {},
   "outputs": [],
   "source": [
    "# name and location are 2 parameters\n",
    "def greet(name, location):\n",
    "    print(\"Hi\", name, \"How are you doing?\")\n",
    "    print(\"Isn't it a nice weather today at\", location, \"?\")"
   ]
  },
  {
   "cell_type": "code",
   "execution_count": 21,
   "id": "b8ba646e",
   "metadata": {},
   "outputs": [
    {
     "ename": "TypeError",
     "evalue": "greet() missing 1 required positional argument: 'location'",
     "output_type": "error",
     "traceback": [
      "\u001b[0;31m---------------------------------------------------------------------------\u001b[0m",
      "\u001b[0;31mTypeError\u001b[0m                                 Traceback (most recent call last)",
      "Input \u001b[0;32mIn [21]\u001b[0m, in \u001b[0;36m<cell line: 1>\u001b[0;34m()\u001b[0m\n\u001b[0;32m----> 1\u001b[0m \u001b[43mgreet\u001b[49m\u001b[43m(\u001b[49m\u001b[38;5;124;43m\"\u001b[39;49m\u001b[38;5;124;43mKrishan\u001b[39;49m\u001b[38;5;124;43m\"\u001b[39;49m\u001b[43m)\u001b[49m\n",
      "\u001b[0;31mTypeError\u001b[0m: greet() missing 1 required positional argument: 'location'"
     ]
    }
   ],
   "source": [
    "greet(\"Krishan\")"
   ]
  },
  {
   "cell_type": "code",
   "execution_count": 22,
   "id": "f271b0e6",
   "metadata": {},
   "outputs": [
    {
     "name": "stdout",
     "output_type": "stream",
     "text": [
      "Hi Krishan How are you doing?\n",
      "Isn't it a nice weather today at Mathura ?\n"
     ]
    }
   ],
   "source": [
    "greet(\"Krishan\", \"Mathura\")"
   ]
  },
  {
   "cell_type": "code",
   "execution_count": 23,
   "id": "c6021cf5",
   "metadata": {},
   "outputs": [],
   "source": [
    "# name and location are 2 parameters\n",
    "def greet(name, location):\n",
    "    print(\"Hi\", name, \"How are you doing?\")\n",
    "    print(\"Isn't it a nice weather today at\", location, \"?\")"
   ]
  },
  {
   "cell_type": "code",
   "execution_count": 24,
   "id": "a8bd6f53",
   "metadata": {},
   "outputs": [
    {
     "name": "stdout",
     "output_type": "stream",
     "text": [
      "Hi Nowhere How are you doing?\n",
      "Isn't it a nice weather today at Krishan ?\n"
     ]
    }
   ],
   "source": [
    "# does the position matters in the arguments?\n",
    "greet(\"Nowhere\", \"Krishan\")"
   ]
  },
  {
   "cell_type": "markdown",
   "id": "2b3edf7a",
   "metadata": {},
   "source": [
    "## Keyword arguments"
   ]
  },
  {
   "cell_type": "code",
   "execution_count": null,
   "id": "c7186dcb",
   "metadata": {},
   "outputs": [],
   "source": [
    "# name and location are 2 parameters\n",
    "def greet(name, location):\n",
    "    print(\"Hi\", name, \"How are you doing?\")\n",
    "    print(\"Isn't it a nice weather today at\", location, \"?\")"
   ]
  },
  {
   "cell_type": "code",
   "execution_count": 25,
   "id": "04e3d7b6",
   "metadata": {},
   "outputs": [
    {
     "name": "stdout",
     "output_type": "stream",
     "text": [
      "Hi Krishan How are you doing?\n",
      "Isn't it a nice weather today at Nowhere ?\n"
     ]
    }
   ],
   "source": [
    "# does the position matters in the arguments?\n",
    "greet(location=\"Nowhere\", name=\"Krishan\")"
   ]
  },
  {
   "cell_type": "code",
   "execution_count": 26,
   "id": "f71f07d5",
   "metadata": {},
   "outputs": [],
   "source": [
    "# we might forget the position in which values are to be passed"
   ]
  },
  {
   "cell_type": "code",
   "execution_count": 27,
   "id": "f3a1616c",
   "metadata": {},
   "outputs": [
    {
     "ename": "TypeError",
     "evalue": "greet() missing 1 required positional argument: 'name'",
     "output_type": "error",
     "traceback": [
      "\u001b[0;31m---------------------------------------------------------------------------\u001b[0m",
      "\u001b[0;31mTypeError\u001b[0m                                 Traceback (most recent call last)",
      "Input \u001b[0;32mIn [27]\u001b[0m, in \u001b[0;36m<cell line: 1>\u001b[0;34m()\u001b[0m\n\u001b[0;32m----> 1\u001b[0m \u001b[43mgreet\u001b[49m\u001b[43m(\u001b[49m\u001b[43mlocation\u001b[49m\u001b[38;5;241;43m=\u001b[39;49m\u001b[38;5;124;43m\"\u001b[39;49m\u001b[38;5;124;43mNowhere\u001b[39;49m\u001b[38;5;124;43m\"\u001b[39;49m\u001b[43m)\u001b[49m\n",
      "\u001b[0;31mTypeError\u001b[0m: greet() missing 1 required positional argument: 'name'"
     ]
    }
   ],
   "source": [
    "greet(location=\"Nowhere\")"
   ]
  },
  {
   "cell_type": "code",
   "execution_count": 28,
   "id": "d404ed6e",
   "metadata": {},
   "outputs": [
    {
     "ename": "TypeError",
     "evalue": "greet() got an unexpected keyword argument 'other'",
     "output_type": "error",
     "traceback": [
      "\u001b[0;31m---------------------------------------------------------------------------\u001b[0m",
      "\u001b[0;31mTypeError\u001b[0m                                 Traceback (most recent call last)",
      "Input \u001b[0;32mIn [28]\u001b[0m, in \u001b[0;36m<cell line: 1>\u001b[0;34m()\u001b[0m\n\u001b[0;32m----> 1\u001b[0m \u001b[43mgreet\u001b[49m\u001b[43m(\u001b[49m\u001b[43mlocation\u001b[49m\u001b[38;5;241;43m=\u001b[39;49m\u001b[38;5;124;43m\"\u001b[39;49m\u001b[38;5;124;43mNowhere\u001b[39;49m\u001b[38;5;124;43m\"\u001b[39;49m\u001b[43m,\u001b[49m\u001b[43m \u001b[49m\u001b[43mname\u001b[49m\u001b[38;5;241;43m=\u001b[39;49m\u001b[38;5;124;43m'\u001b[39;49m\u001b[38;5;124;43mKarthik\u001b[39;49m\u001b[38;5;124;43m'\u001b[39;49m\u001b[43m,\u001b[49m\u001b[43m \u001b[49m\u001b[43mother\u001b[49m\u001b[38;5;241;43m=\u001b[39;49m\u001b[38;5;124;43m'\u001b[39;49m\u001b[38;5;124;43mSudha\u001b[39;49m\u001b[38;5;124;43m'\u001b[39;49m\u001b[43m)\u001b[49m\n",
      "\u001b[0;31mTypeError\u001b[0m: greet() got an unexpected keyword argument 'other'"
     ]
    }
   ],
   "source": [
    "greet(location=\"Nowhere\", name='Karthik', other='Sudha')"
   ]
  },
  {
   "cell_type": "markdown",
   "id": "1e451c6b",
   "metadata": {},
   "source": [
    "## Quizzes"
   ]
  },
  {
   "cell_type": "code",
   "execution_count": 29,
   "id": "d0334556",
   "metadata": {},
   "outputs": [
    {
     "name": "stdout",
     "output_type": "stream",
     "text": [
      "5.0\n"
     ]
    }
   ],
   "source": [
    "def f(a, b, c):\n",
    "    print((a + b + c)/3)\n",
    "    \n",
    "f(3, 5, 7)"
   ]
  },
  {
   "cell_type": "code",
   "execution_count": 30,
   "id": "17b9293e",
   "metadata": {},
   "outputs": [
    {
     "ename": "TypeError",
     "evalue": "f() missing 1 required positional argument: 'c'",
     "output_type": "error",
     "traceback": [
      "\u001b[0;31m---------------------------------------------------------------------------\u001b[0m",
      "\u001b[0;31mTypeError\u001b[0m                                 Traceback (most recent call last)",
      "Input \u001b[0;32mIn [30]\u001b[0m, in \u001b[0;36m<cell line: 7>\u001b[0;34m()\u001b[0m\n\u001b[1;32m      4\u001b[0m     \u001b[38;5;28mprint\u001b[39m(\u001b[38;5;124m'\u001b[39m\u001b[38;5;124mThird number: \u001b[39m\u001b[38;5;124m'\u001b[39m, c)\n\u001b[1;32m      5\u001b[0m     \u001b[38;5;28mprint\u001b[39m(\u001b[38;5;124m'\u001b[39m\u001b[38;5;124mThe result is: \u001b[39m\u001b[38;5;124m'\u001b[39m, \u001b[38;5;241m2\u001b[39m\u001b[38;5;241m*\u001b[39ma \u001b[38;5;241m+\u001b[39m b \u001b[38;5;241m-\u001b[39m \u001b[38;5;241m3\u001b[39m\u001b[38;5;241m*\u001b[39mc)\n\u001b[0;32m----> 7\u001b[0m \u001b[43mf\u001b[49m\u001b[43m(\u001b[49m\u001b[38;5;241;43m1\u001b[39;49m\u001b[43m,\u001b[49m\u001b[43m \u001b[49m\u001b[38;5;241;43m2\u001b[39;49m\u001b[43m)\u001b[49m\n",
      "\u001b[0;31mTypeError\u001b[0m: f() missing 1 required positional argument: 'c'"
     ]
    }
   ],
   "source": [
    "def f(a, b, c):\n",
    "    print('First number: ', a)\n",
    "    print('Second number: ', b)\n",
    "    print('Third number: ', c)\n",
    "    print('The result is: ', 2*a + b - 3*c)\n",
    "\n",
    "f(1, 2)"
   ]
  },
  {
   "cell_type": "code",
   "execution_count": 31,
   "id": "9f0a7681",
   "metadata": {},
   "outputs": [
    {
     "name": "stdout",
     "output_type": "stream",
     "text": [
      "Even\n"
     ]
    }
   ],
   "source": [
    "def check(a):\n",
    "    print(\"Even\" if a % 2 == 0 else \"Odd\")\n",
    "   \n",
    "check(12)"
   ]
  },
  {
   "cell_type": "code",
   "execution_count": null,
   "id": "b8cd4151",
   "metadata": {},
   "outputs": [],
   "source": []
  },
  {
   "cell_type": "code",
   "execution_count": null,
   "id": "5d2bfcd3",
   "metadata": {},
   "outputs": [],
   "source": []
  },
  {
   "cell_type": "markdown",
   "id": "208ea2ad",
   "metadata": {},
   "source": [
    "## Power function"
   ]
  },
  {
   "cell_type": "code",
   "execution_count": 32,
   "id": "2bbf8c5f",
   "metadata": {},
   "outputs": [
    {
     "name": "stdout",
     "output_type": "stream",
     "text": [
      "9\n"
     ]
    }
   ],
   "source": [
    "def power(number,exponent):\n",
    "    print(number**exponent)\n",
    "\n",
    "power(3, 2)"
   ]
  },
  {
   "cell_type": "code",
   "execution_count": null,
   "id": "b103bf57",
   "metadata": {},
   "outputs": [],
   "source": [
    "def power(number,exponent):\n",
    "    print(number**exponent)\n",
    "\n",
    "power(exponent=2,number=3)"
   ]
  },
  {
   "cell_type": "code",
   "execution_count": null,
   "id": "1b08bc36",
   "metadata": {},
   "outputs": [],
   "source": []
  },
  {
   "cell_type": "code",
   "execution_count": null,
   "id": "d38a9f3d",
   "metadata": {},
   "outputs": [],
   "source": []
  },
  {
   "cell_type": "code",
   "execution_count": null,
   "id": "717c2188",
   "metadata": {},
   "outputs": [],
   "source": []
  },
  {
   "cell_type": "code",
   "execution_count": null,
   "id": "d2f5d9e8",
   "metadata": {},
   "outputs": [],
   "source": []
  },
  {
   "cell_type": "code",
   "execution_count": null,
   "id": "a79eaf18",
   "metadata": {},
   "outputs": [],
   "source": []
  },
  {
   "cell_type": "code",
   "execution_count": null,
   "id": "c22b0473",
   "metadata": {},
   "outputs": [],
   "source": []
  },
  {
   "cell_type": "markdown",
   "id": "9cc4f213",
   "metadata": {},
   "source": [
    "## Default arguments"
   ]
  },
  {
   "cell_type": "code",
   "execution_count": null,
   "id": "e0198ea6",
   "metadata": {},
   "outputs": [],
   "source": []
  },
  {
   "cell_type": "code",
   "execution_count": null,
   "id": "ae29595c",
   "metadata": {},
   "outputs": [],
   "source": []
  },
  {
   "cell_type": "code",
   "execution_count": null,
   "id": "d38d5948",
   "metadata": {},
   "outputs": [],
   "source": []
  },
  {
   "cell_type": "code",
   "execution_count": null,
   "id": "c6fa118e",
   "metadata": {},
   "outputs": [],
   "source": []
  },
  {
   "cell_type": "code",
   "execution_count": null,
   "id": "b7080f75",
   "metadata": {},
   "outputs": [],
   "source": []
  },
  {
   "cell_type": "code",
   "execution_count": null,
   "id": "fe462efe",
   "metadata": {},
   "outputs": [],
   "source": []
  },
  {
   "cell_type": "code",
   "execution_count": null,
   "id": "8a534618",
   "metadata": {},
   "outputs": [],
   "source": []
  },
  {
   "cell_type": "code",
   "execution_count": null,
   "id": "b885d518",
   "metadata": {},
   "outputs": [],
   "source": []
  },
  {
   "cell_type": "markdown",
   "id": "c58ffb73",
   "metadata": {},
   "source": [
    "## Rules"
   ]
  },
  {
   "cell_type": "code",
   "execution_count": null,
   "id": "4e015c48",
   "metadata": {},
   "outputs": [],
   "source": []
  },
  {
   "cell_type": "code",
   "execution_count": null,
   "id": "4c654ae9",
   "metadata": {},
   "outputs": [],
   "source": []
  },
  {
   "cell_type": "code",
   "execution_count": null,
   "id": "419db3c8",
   "metadata": {},
   "outputs": [],
   "source": []
  },
  {
   "cell_type": "code",
   "execution_count": null,
   "id": "78b93cdd",
   "metadata": {},
   "outputs": [],
   "source": []
  },
  {
   "cell_type": "code",
   "execution_count": null,
   "id": "e0959d0d",
   "metadata": {},
   "outputs": [],
   "source": []
  },
  {
   "cell_type": "code",
   "execution_count": null,
   "id": "377d7588",
   "metadata": {},
   "outputs": [],
   "source": []
  },
  {
   "cell_type": "code",
   "execution_count": null,
   "id": "f913dcb4",
   "metadata": {},
   "outputs": [],
   "source": []
  },
  {
   "cell_type": "code",
   "execution_count": null,
   "id": "ab98967d",
   "metadata": {},
   "outputs": [],
   "source": []
  },
  {
   "cell_type": "markdown",
   "id": "4036b8ae",
   "metadata": {},
   "source": [
    "## return statement"
   ]
  },
  {
   "cell_type": "code",
   "execution_count": null,
   "id": "cddb7b8e",
   "metadata": {},
   "outputs": [],
   "source": []
  },
  {
   "cell_type": "code",
   "execution_count": null,
   "id": "e18055c9",
   "metadata": {},
   "outputs": [],
   "source": []
  },
  {
   "cell_type": "code",
   "execution_count": null,
   "id": "53c2e69e",
   "metadata": {},
   "outputs": [],
   "source": []
  },
  {
   "cell_type": "code",
   "execution_count": null,
   "id": "1bf94b7e",
   "metadata": {},
   "outputs": [],
   "source": []
  },
  {
   "cell_type": "code",
   "execution_count": null,
   "id": "100d709b",
   "metadata": {},
   "outputs": [],
   "source": []
  },
  {
   "cell_type": "code",
   "execution_count": null,
   "id": "2341e8fd",
   "metadata": {},
   "outputs": [],
   "source": []
  },
  {
   "cell_type": "code",
   "execution_count": null,
   "id": "0c5347a1",
   "metadata": {},
   "outputs": [],
   "source": []
  },
  {
   "cell_type": "markdown",
   "id": "daf613fc",
   "metadata": {},
   "source": [
    "## Flow of function"
   ]
  },
  {
   "cell_type": "code",
   "execution_count": null,
   "id": "e4054804",
   "metadata": {},
   "outputs": [],
   "source": []
  },
  {
   "cell_type": "code",
   "execution_count": null,
   "id": "9aa468b7",
   "metadata": {},
   "outputs": [],
   "source": []
  },
  {
   "cell_type": "code",
   "execution_count": null,
   "id": "2c8b969b",
   "metadata": {},
   "outputs": [],
   "source": []
  },
  {
   "cell_type": "code",
   "execution_count": null,
   "id": "64087c79",
   "metadata": {},
   "outputs": [],
   "source": []
  },
  {
   "cell_type": "code",
   "execution_count": null,
   "id": "165218bb",
   "metadata": {},
   "outputs": [],
   "source": []
  },
  {
   "cell_type": "code",
   "execution_count": null,
   "id": "3070b2a3",
   "metadata": {},
   "outputs": [],
   "source": []
  },
  {
   "cell_type": "markdown",
   "id": "e323e051",
   "metadata": {},
   "source": [
    "## Challenge problem"
   ]
  },
  {
   "cell_type": "code",
   "execution_count": null,
   "id": "50fe52a4",
   "metadata": {},
   "outputs": [],
   "source": []
  },
  {
   "cell_type": "code",
   "execution_count": null,
   "id": "f6c6e2fc",
   "metadata": {},
   "outputs": [],
   "source": []
  },
  {
   "cell_type": "code",
   "execution_count": null,
   "id": "637ee901",
   "metadata": {},
   "outputs": [],
   "source": []
  },
  {
   "cell_type": "code",
   "execution_count": null,
   "id": "b5bdd7a3",
   "metadata": {},
   "outputs": [],
   "source": []
  },
  {
   "cell_type": "code",
   "execution_count": null,
   "id": "d6e43233",
   "metadata": {},
   "outputs": [],
   "source": []
  },
  {
   "cell_type": "code",
   "execution_count": null,
   "id": "a363baea",
   "metadata": {},
   "outputs": [],
   "source": []
  },
  {
   "cell_type": "code",
   "execution_count": null,
   "id": "a7cb15c2",
   "metadata": {},
   "outputs": [],
   "source": []
  },
  {
   "cell_type": "code",
   "execution_count": null,
   "id": "80065a10",
   "metadata": {},
   "outputs": [],
   "source": []
  },
  {
   "cell_type": "markdown",
   "id": "22ca791a",
   "metadata": {},
   "source": [
    "## Doubts"
   ]
  },
  {
   "cell_type": "code",
   "execution_count": null,
   "id": "51f3f1cb",
   "metadata": {},
   "outputs": [],
   "source": []
  },
  {
   "cell_type": "code",
   "execution_count": null,
   "id": "58ea8ccf",
   "metadata": {},
   "outputs": [],
   "source": []
  },
  {
   "cell_type": "code",
   "execution_count": null,
   "id": "7f487dd8",
   "metadata": {},
   "outputs": [],
   "source": []
  },
  {
   "cell_type": "code",
   "execution_count": null,
   "id": "0a17ebc9",
   "metadata": {},
   "outputs": [],
   "source": []
  },
  {
   "cell_type": "code",
   "execution_count": null,
   "id": "47e3fd76",
   "metadata": {},
   "outputs": [],
   "source": []
  },
  {
   "cell_type": "code",
   "execution_count": null,
   "id": "faa77901",
   "metadata": {},
   "outputs": [],
   "source": []
  }
 ],
 "metadata": {
  "kernelspec": {
   "display_name": "Python 3 (ipykernel)",
   "language": "python",
   "name": "python3"
  },
  "language_info": {
   "codemirror_mode": {
    "name": "ipython",
    "version": 3
   },
   "file_extension": ".py",
   "mimetype": "text/x-python",
   "name": "python",
   "nbconvert_exporter": "python",
   "pygments_lexer": "ipython3",
   "version": "3.9.12"
  }
 },
 "nbformat": 4,
 "nbformat_minor": 5
}
