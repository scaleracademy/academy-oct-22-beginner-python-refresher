{
 "cells": [
  {
   "cell_type": "markdown",
   "id": "d9375e58",
   "metadata": {},
   "source": [
    "## Lecture 6 - Functions"
   ]
  },
  {
   "cell_type": "markdown",
   "id": "19e5ee0f",
   "metadata": {},
   "source": [
    "## Intro"
   ]
  },
  {
   "cell_type": "code",
   "execution_count": null,
   "id": "24236366",
   "metadata": {},
   "outputs": [],
   "source": []
  },
  {
   "cell_type": "code",
   "execution_count": 1,
   "id": "7f98f6a2",
   "metadata": {},
   "outputs": [
    {
     "ename": "NameError",
     "evalue": "name 'move' is not defined",
     "output_type": "error",
     "traceback": [
      "\u001b[0;31m---------------------------------------------------------------------------\u001b[0m",
      "\u001b[0;31mNameError\u001b[0m                                 Traceback (most recent call last)",
      "Input \u001b[0;32mIn [1]\u001b[0m, in \u001b[0;36m<cell line: 1>\u001b[0;34m()\u001b[0m\n\u001b[0;32m----> 1\u001b[0m \u001b[43mmove\u001b[49m()\n\u001b[1;32m      3\u001b[0m turn_left()\n\u001b[1;32m      5\u001b[0m move()\n",
      "\u001b[0;31mNameError\u001b[0m: name 'move' is not defined"
     ]
    }
   ],
   "source": [
    "move()\n",
    "\n",
    "turn_left()\n",
    "\n",
    "move()\n",
    "move()\n",
    "\n",
    "# turn right\n",
    "turn_left()\n",
    "turn_left()\n",
    "turn_left()\n",
    "\n",
    "move()\n",
    "move()\n",
    "\n",
    "# turn right\n",
    "turn_left()\n",
    "turn_left()\n",
    "turn_left()\n",
    "\n",
    "move()\n",
    "move()\n",
    "\n",
    "# turn right\n",
    "turn_left()\n",
    "turn_left()\n",
    "turn_left()\n",
    "\n",
    "move()\n",
    "move()\n",
    "\n"
   ]
  },
  {
   "cell_type": "code",
   "execution_count": 2,
   "id": "b3734af6",
   "metadata": {},
   "outputs": [
    {
     "ename": "NameError",
     "evalue": "name 'move' is not defined",
     "output_type": "error",
     "traceback": [
      "\u001b[0;31m---------------------------------------------------------------------------\u001b[0m",
      "\u001b[0;31mNameError\u001b[0m                                 Traceback (most recent call last)",
      "Input \u001b[0;32mIn [2]\u001b[0m, in \u001b[0;36m<cell line: 6>\u001b[0;34m()\u001b[0m\n\u001b[1;32m      3\u001b[0m     turn_left()\n\u001b[1;32m      4\u001b[0m     turn_left()\n\u001b[0;32m----> 6\u001b[0m \u001b[43mmove\u001b[49m()\n\u001b[1;32m      7\u001b[0m turn_left()\n\u001b[1;32m      8\u001b[0m move()\n",
      "\u001b[0;31mNameError\u001b[0m: name 'move' is not defined"
     ]
    }
   ],
   "source": [
    "def turn_right():\n",
    "    turn_left()\n",
    "    turn_left()\n",
    "    turn_left()\n",
    "\n",
    "move()\n",
    "turn_left()\n",
    "move()\n",
    "move()\n",
    "\n",
    "turn_right()\n",
    "\n",
    "move()\n",
    "move()\n",
    "\n",
    "turn_right()\n",
    "\n",
    "move()\n",
    "move()\n",
    "\n",
    "turn_right()\n",
    "move()\n",
    "move()"
   ]
  },
  {
   "cell_type": "markdown",
   "id": "d2b9ee77",
   "metadata": {},
   "source": [
    "## Greet function"
   ]
  },
  {
   "cell_type": "code",
   "execution_count": 3,
   "id": "d41fa233",
   "metadata": {},
   "outputs": [],
   "source": [
    "# this is how we define a function\n",
    "def sheldon_knock():\n",
    "    print('Knock Knock Knock')\n",
    "    print('Knock Knock Knock')\n",
    "    print('Knock Knock Knock')"
   ]
  },
  {
   "cell_type": "code",
   "execution_count": 4,
   "id": "b8c36520",
   "metadata": {},
   "outputs": [],
   "source": [
    "# call the function to run it"
   ]
  },
  {
   "cell_type": "code",
   "execution_count": 6,
   "id": "e4b2f93b",
   "metadata": {},
   "outputs": [
    {
     "name": "stdout",
     "output_type": "stream",
     "text": [
      "Knock Knock Knock\n",
      "Knock Knock Knock\n",
      "Knock Knock Knock\n"
     ]
    }
   ],
   "source": [
    "sheldon_knock()"
   ]
  },
  {
   "cell_type": "code",
   "execution_count": 5,
   "id": "98a076d3",
   "metadata": {},
   "outputs": [
    {
     "name": "stdout",
     "output_type": "stream",
     "text": [
      "This is printing\n"
     ]
    }
   ],
   "source": [
    "print(\"This is printing\")"
   ]
  },
  {
   "cell_type": "markdown",
   "id": "02083394",
   "metadata": {},
   "source": [
    "## Pass parameters to the function"
   ]
  },
  {
   "cell_type": "code",
   "execution_count": 7,
   "id": "8862f14e",
   "metadata": {},
   "outputs": [],
   "source": [
    "\n",
    "def sheldon_knock(name):\n",
    "    print('Knock Knock Knock', name)\n",
    "    print('Knock Knock Knock', name)\n",
    "    print('Knock Knock Knock', name)"
   ]
  },
  {
   "cell_type": "code",
   "execution_count": 8,
   "id": "90ba2182",
   "metadata": {},
   "outputs": [
    {
     "ename": "TypeError",
     "evalue": "sheldon_knock() missing 1 required positional argument: 'name'",
     "output_type": "error",
     "traceback": [
      "\u001b[0;31m---------------------------------------------------------------------------\u001b[0m",
      "\u001b[0;31mTypeError\u001b[0m                                 Traceback (most recent call last)",
      "Input \u001b[0;32mIn [8]\u001b[0m, in \u001b[0;36m<cell line: 1>\u001b[0;34m()\u001b[0m\n\u001b[0;32m----> 1\u001b[0m \u001b[43msheldon_knock\u001b[49m\u001b[43m(\u001b[49m\u001b[43m)\u001b[49m\n",
      "\u001b[0;31mTypeError\u001b[0m: sheldon_knock() missing 1 required positional argument: 'name'"
     ]
    }
   ],
   "source": [
    "sheldon_knock()"
   ]
  },
  {
   "cell_type": "code",
   "execution_count": 9,
   "id": "58cb6b3d",
   "metadata": {},
   "outputs": [
    {
     "name": "stdout",
     "output_type": "stream",
     "text": [
      "Knock Knock Knock Penny\n",
      "Knock Knock Knock Penny\n",
      "Knock Knock Knock Penny\n"
     ]
    }
   ],
   "source": [
    "sheldon_knock(\"Penny\")"
   ]
  },
  {
   "cell_type": "code",
   "execution_count": 10,
   "id": "657373bc",
   "metadata": {},
   "outputs": [
    {
     "name": "stdout",
     "output_type": "stream",
     "text": [
      "Knock Knock Knock Leonard\n",
      "Knock Knock Knock Leonard\n",
      "Knock Knock Knock Leonard\n"
     ]
    }
   ],
   "source": [
    "sheldon_knock(\"Leonard\")"
   ]
  },
  {
   "cell_type": "code",
   "execution_count": 13,
   "id": "a90826d9",
   "metadata": {},
   "outputs": [],
   "source": [
    "def greet(name):\n",
    "    print(\"Hi\", name, \"How are you doing?\")\n",
    "    print(\"Isn't it a nice weather today?\")"
   ]
  },
  {
   "cell_type": "code",
   "execution_count": 15,
   "id": "015cc479",
   "metadata": {},
   "outputs": [
    {
     "name": "stdout",
     "output_type": "stream",
     "text": [
      "Hi Krishan How are you doing?\n",
      "Isn't it a nice weather today?\n"
     ]
    }
   ],
   "source": [
    "greet(\"Krishan\")"
   ]
  },
  {
   "cell_type": "markdown",
   "id": "da024379",
   "metadata": {},
   "source": [
    "## Function with multiple inputs"
   ]
  },
  {
   "cell_type": "code",
   "execution_count": 20,
   "id": "53b9f383",
   "metadata": {},
   "outputs": [],
   "source": [
    "# name and location are 2 parameters\n",
    "def greet(name, location):\n",
    "    print(\"Hi\", name, \"How are you doing?\")\n",
    "    print(\"Isn't it a nice weather today at\", location, \"?\")"
   ]
  },
  {
   "cell_type": "code",
   "execution_count": 21,
   "id": "b8ba646e",
   "metadata": {},
   "outputs": [
    {
     "ename": "TypeError",
     "evalue": "greet() missing 1 required positional argument: 'location'",
     "output_type": "error",
     "traceback": [
      "\u001b[0;31m---------------------------------------------------------------------------\u001b[0m",
      "\u001b[0;31mTypeError\u001b[0m                                 Traceback (most recent call last)",
      "Input \u001b[0;32mIn [21]\u001b[0m, in \u001b[0;36m<cell line: 1>\u001b[0;34m()\u001b[0m\n\u001b[0;32m----> 1\u001b[0m \u001b[43mgreet\u001b[49m\u001b[43m(\u001b[49m\u001b[38;5;124;43m\"\u001b[39;49m\u001b[38;5;124;43mKrishan\u001b[39;49m\u001b[38;5;124;43m\"\u001b[39;49m\u001b[43m)\u001b[49m\n",
      "\u001b[0;31mTypeError\u001b[0m: greet() missing 1 required positional argument: 'location'"
     ]
    }
   ],
   "source": [
    "greet(\"Krishan\")"
   ]
  },
  {
   "cell_type": "code",
   "execution_count": 22,
   "id": "f271b0e6",
   "metadata": {},
   "outputs": [
    {
     "name": "stdout",
     "output_type": "stream",
     "text": [
      "Hi Krishan How are you doing?\n",
      "Isn't it a nice weather today at Mathura ?\n"
     ]
    }
   ],
   "source": [
    "greet(\"Krishan\", \"Mathura\")"
   ]
  },
  {
   "cell_type": "code",
   "execution_count": 23,
   "id": "8ad5a42c",
   "metadata": {},
   "outputs": [],
   "source": [
    "# name and location are 2 parameters\n",
    "def greet(name, location):\n",
    "    print(\"Hi\", name, \"How are you doing?\")\n",
    "    print(\"Isn't it a nice weather today at\", location, \"?\")"
   ]
  },
  {
   "cell_type": "code",
   "execution_count": 24,
   "id": "e5f04615",
   "metadata": {},
   "outputs": [
    {
     "name": "stdout",
     "output_type": "stream",
     "text": [
      "Hi Nowhere How are you doing?\n",
      "Isn't it a nice weather today at Krishan ?\n"
     ]
    }
   ],
   "source": [
    "# does the position matters in the arguments?\n",
    "greet(\"Nowhere\", \"Krishan\")"
   ]
  },
  {
   "cell_type": "markdown",
   "id": "2b3edf7a",
   "metadata": {},
   "source": [
    "## Keyword arguments"
   ]
  },
  {
   "cell_type": "code",
   "execution_count": null,
   "id": "c7186dcb",
   "metadata": {},
   "outputs": [],
   "source": [
    "# name and location are 2 parameters\n",
    "def greet(name, location):\n",
    "    print(\"Hi\", name, \"How are you doing?\")\n",
    "    print(\"Isn't it a nice weather today at\", location, \"?\")"
   ]
  },
  {
   "cell_type": "code",
   "execution_count": 25,
   "id": "04e3d7b6",
   "metadata": {},
   "outputs": [
    {
     "name": "stdout",
     "output_type": "stream",
     "text": [
      "Hi Krishan How are you doing?\n",
      "Isn't it a nice weather today at Nowhere ?\n"
     ]
    }
   ],
   "source": [
    "# does the position matters in the arguments?\n",
    "greet(location=\"Nowhere\", name=\"Krishan\")"
   ]
  },
  {
   "cell_type": "code",
   "execution_count": 26,
   "id": "f71f07d5",
   "metadata": {},
   "outputs": [],
   "source": [
    "# we might forget the position in which values are to be passed"
   ]
  },
  {
   "cell_type": "code",
   "execution_count": 27,
   "id": "f3a1616c",
   "metadata": {},
   "outputs": [
    {
     "ename": "TypeError",
     "evalue": "greet() missing 1 required positional argument: 'name'",
     "output_type": "error",
     "traceback": [
      "\u001b[0;31m---------------------------------------------------------------------------\u001b[0m",
      "\u001b[0;31mTypeError\u001b[0m                                 Traceback (most recent call last)",
      "Input \u001b[0;32mIn [27]\u001b[0m, in \u001b[0;36m<cell line: 1>\u001b[0;34m()\u001b[0m\n\u001b[0;32m----> 1\u001b[0m \u001b[43mgreet\u001b[49m\u001b[43m(\u001b[49m\u001b[43mlocation\u001b[49m\u001b[38;5;241;43m=\u001b[39;49m\u001b[38;5;124;43m\"\u001b[39;49m\u001b[38;5;124;43mNowhere\u001b[39;49m\u001b[38;5;124;43m\"\u001b[39;49m\u001b[43m)\u001b[49m\n",
      "\u001b[0;31mTypeError\u001b[0m: greet() missing 1 required positional argument: 'name'"
     ]
    }
   ],
   "source": [
    "greet(location=\"Nowhere\")"
   ]
  },
  {
   "cell_type": "code",
   "execution_count": 28,
   "id": "632f4b69",
   "metadata": {},
   "outputs": [
    {
     "ename": "TypeError",
     "evalue": "greet() got an unexpected keyword argument 'other'",
     "output_type": "error",
     "traceback": [
      "\u001b[0;31m---------------------------------------------------------------------------\u001b[0m",
      "\u001b[0;31mTypeError\u001b[0m                                 Traceback (most recent call last)",
      "Input \u001b[0;32mIn [28]\u001b[0m, in \u001b[0;36m<cell line: 1>\u001b[0;34m()\u001b[0m\n\u001b[0;32m----> 1\u001b[0m \u001b[43mgreet\u001b[49m\u001b[43m(\u001b[49m\u001b[43mlocation\u001b[49m\u001b[38;5;241;43m=\u001b[39;49m\u001b[38;5;124;43m\"\u001b[39;49m\u001b[38;5;124;43mNowhere\u001b[39;49m\u001b[38;5;124;43m\"\u001b[39;49m\u001b[43m,\u001b[49m\u001b[43m \u001b[49m\u001b[43mname\u001b[49m\u001b[38;5;241;43m=\u001b[39;49m\u001b[38;5;124;43m'\u001b[39;49m\u001b[38;5;124;43mKarthik\u001b[39;49m\u001b[38;5;124;43m'\u001b[39;49m\u001b[43m,\u001b[49m\u001b[43m \u001b[49m\u001b[43mother\u001b[49m\u001b[38;5;241;43m=\u001b[39;49m\u001b[38;5;124;43m'\u001b[39;49m\u001b[38;5;124;43mSudha\u001b[39;49m\u001b[38;5;124;43m'\u001b[39;49m\u001b[43m)\u001b[49m\n",
      "\u001b[0;31mTypeError\u001b[0m: greet() got an unexpected keyword argument 'other'"
     ]
    }
   ],
   "source": [
    "greet(location=\"Nowhere\", name='Karthik', other='Sudha')"
   ]
  },
  {
   "cell_type": "markdown",
   "id": "6a0978cf",
   "metadata": {},
   "source": [
    "## Quizzes"
   ]
  },
  {
   "cell_type": "code",
   "execution_count": 29,
   "id": "d0334556",
   "metadata": {},
   "outputs": [
    {
     "name": "stdout",
     "output_type": "stream",
     "text": [
      "5.0\n"
     ]
    }
   ],
   "source": [
    "def f(a, b, c):\n",
    "    print((a + b + c)/3)\n",
    "    \n",
    "f(3, 5, 7)"
   ]
  },
  {
   "cell_type": "code",
   "execution_count": 30,
   "id": "17b9293e",
   "metadata": {},
   "outputs": [
    {
     "ename": "TypeError",
     "evalue": "f() missing 1 required positional argument: 'c'",
     "output_type": "error",
     "traceback": [
      "\u001b[0;31m---------------------------------------------------------------------------\u001b[0m",
      "\u001b[0;31mTypeError\u001b[0m                                 Traceback (most recent call last)",
      "Input \u001b[0;32mIn [30]\u001b[0m, in \u001b[0;36m<cell line: 7>\u001b[0;34m()\u001b[0m\n\u001b[1;32m      4\u001b[0m     \u001b[38;5;28mprint\u001b[39m(\u001b[38;5;124m'\u001b[39m\u001b[38;5;124mThird number: \u001b[39m\u001b[38;5;124m'\u001b[39m, c)\n\u001b[1;32m      5\u001b[0m     \u001b[38;5;28mprint\u001b[39m(\u001b[38;5;124m'\u001b[39m\u001b[38;5;124mThe result is: \u001b[39m\u001b[38;5;124m'\u001b[39m, \u001b[38;5;241m2\u001b[39m\u001b[38;5;241m*\u001b[39ma \u001b[38;5;241m+\u001b[39m b \u001b[38;5;241m-\u001b[39m \u001b[38;5;241m3\u001b[39m\u001b[38;5;241m*\u001b[39mc)\n\u001b[0;32m----> 7\u001b[0m \u001b[43mf\u001b[49m\u001b[43m(\u001b[49m\u001b[38;5;241;43m1\u001b[39;49m\u001b[43m,\u001b[49m\u001b[43m \u001b[49m\u001b[38;5;241;43m2\u001b[39;49m\u001b[43m)\u001b[49m\n",
      "\u001b[0;31mTypeError\u001b[0m: f() missing 1 required positional argument: 'c'"
     ]
    }
   ],
   "source": [
    "def f(a, b, c):\n",
    "    print('First number: ', a)\n",
    "    print('Second number: ', b)\n",
    "    print('Third number: ', c)\n",
    "    print('The result is: ', 2*a + b - 3*c)\n",
    "\n",
    "f(1, 2)"
   ]
  },
  {
   "cell_type": "code",
   "execution_count": 31,
   "id": "9f0a7681",
   "metadata": {},
   "outputs": [
    {
     "name": "stdout",
     "output_type": "stream",
     "text": [
      "Even\n"
     ]
    }
   ],
   "source": [
    "def check(a):\n",
    "    print(\"Even\" if a % 2 == 0 else \"Odd\")\n",
    "   \n",
    "check(12)"
   ]
  },
  {
   "cell_type": "code",
   "execution_count": null,
   "id": "b8cd4151",
   "metadata": {},
   "outputs": [],
   "source": []
  },
  {
   "cell_type": "code",
   "execution_count": null,
   "id": "614327d6",
   "metadata": {},
   "outputs": [],
   "source": []
  },
  {
   "cell_type": "markdown",
   "id": "208ea2ad",
   "metadata": {},
   "source": [
    "## Power function"
   ]
  },
  {
   "cell_type": "code",
   "execution_count": 32,
   "id": "2bbf8c5f",
   "metadata": {},
   "outputs": [
    {
     "name": "stdout",
     "output_type": "stream",
     "text": [
      "9\n"
     ]
    }
   ],
   "source": [
    "def power(number,exponent):\n",
    "    print(number**exponent)\n",
    "\n",
    "power(3, 2)"
   ]
  },
  {
   "cell_type": "code",
   "execution_count": 33,
   "id": "b103bf57",
   "metadata": {},
   "outputs": [
    {
     "name": "stdout",
     "output_type": "stream",
     "text": [
      "9\n"
     ]
    }
   ],
   "source": [
    "def power(number,exponent):\n",
    "    print(number**exponent)\n",
    "\n",
    "power(exponent=2,number=3)"
   ]
  },
  {
   "cell_type": "code",
   "execution_count": 34,
   "id": "1b08bc36",
   "metadata": {},
   "outputs": [
    {
     "ename": "TypeError",
     "evalue": "power() missing 1 required positional argument: 'exponent'",
     "output_type": "error",
     "traceback": [
      "\u001b[0;31m---------------------------------------------------------------------------\u001b[0m",
      "\u001b[0;31mTypeError\u001b[0m                                 Traceback (most recent call last)",
      "Input \u001b[0;32mIn [34]\u001b[0m, in \u001b[0;36m<cell line: 4>\u001b[0;34m()\u001b[0m\n\u001b[1;32m      1\u001b[0m \u001b[38;5;28;01mdef\u001b[39;00m \u001b[38;5;21mpower\u001b[39m(number,exponent):\n\u001b[1;32m      2\u001b[0m     \u001b[38;5;28mprint\u001b[39m(number\u001b[38;5;241m*\u001b[39m\u001b[38;5;241m*\u001b[39mexponent)\n\u001b[0;32m----> 4\u001b[0m \u001b[43mpower\u001b[49m\u001b[43m(\u001b[49m\u001b[38;5;241;43m2\u001b[39;49m\u001b[43m)\u001b[49m\n",
      "\u001b[0;31mTypeError\u001b[0m: power() missing 1 required positional argument: 'exponent'"
     ]
    }
   ],
   "source": [
    "def power(number,exponent):\n",
    "    print(number**exponent)\n",
    "\n",
    "power(2)"
   ]
  },
  {
   "cell_type": "code",
   "execution_count": null,
   "id": "d38a9f3d",
   "metadata": {},
   "outputs": [],
   "source": []
  },
  {
   "cell_type": "code",
   "execution_count": null,
   "id": "717c2188",
   "metadata": {},
   "outputs": [],
   "source": []
  },
  {
   "cell_type": "code",
   "execution_count": null,
   "id": "d2f5d9e8",
   "metadata": {},
   "outputs": [],
   "source": []
  },
  {
   "cell_type": "code",
   "execution_count": null,
   "id": "a79eaf18",
   "metadata": {},
   "outputs": [],
   "source": []
  },
  {
   "cell_type": "code",
   "execution_count": null,
   "id": "c22b0473",
   "metadata": {},
   "outputs": [],
   "source": []
  },
  {
   "cell_type": "markdown",
   "id": "9cc4f213",
   "metadata": {},
   "source": [
    "## Default arguments"
   ]
  },
  {
   "cell_type": "code",
   "execution_count": 35,
   "id": "e0198ea6",
   "metadata": {},
   "outputs": [
    {
     "name": "stdout",
     "output_type": "stream",
     "text": [
      "2\n"
     ]
    }
   ],
   "source": [
    "def power(number,exponent=1):\n",
    "    print(number**exponent)\n",
    "\n",
    "power(2)"
   ]
  },
  {
   "cell_type": "code",
   "execution_count": 36,
   "id": "ae29595c",
   "metadata": {},
   "outputs": [
    {
     "name": "stdout",
     "output_type": "stream",
     "text": [
      "3\n"
     ]
    }
   ],
   "source": [
    "power(3)"
   ]
  },
  {
   "cell_type": "code",
   "execution_count": 37,
   "id": "d38d5948",
   "metadata": {},
   "outputs": [
    {
     "name": "stdout",
     "output_type": "stream",
     "text": [
      "9\n"
     ]
    }
   ],
   "source": [
    "power(3, 2) # it will override the default value of exponent"
   ]
  },
  {
   "cell_type": "code",
   "execution_count": 38,
   "id": "c6fa118e",
   "metadata": {},
   "outputs": [
    {
     "name": "stdout",
     "output_type": "stream",
     "text": [
      "27\n"
     ]
    }
   ],
   "source": [
    "def power(x,e=1):\n",
    "    print(x**e)\n",
    "\n",
    "power(3, 3)"
   ]
  },
  {
   "cell_type": "code",
   "execution_count": 40,
   "id": "b7080f75",
   "metadata": {},
   "outputs": [
    {
     "name": "stdout",
     "output_type": "stream",
     "text": [
      "3\n"
     ]
    }
   ],
   "source": [
    "power(3) # default value of e = 1 taken"
   ]
  },
  {
   "cell_type": "code",
   "execution_count": null,
   "id": "fe462efe",
   "metadata": {},
   "outputs": [],
   "source": []
  },
  {
   "cell_type": "code",
   "execution_count": null,
   "id": "8a534618",
   "metadata": {},
   "outputs": [],
   "source": []
  },
  {
   "cell_type": "code",
   "execution_count": null,
   "id": "b885d518",
   "metadata": {},
   "outputs": [],
   "source": []
  },
  {
   "cell_type": "markdown",
   "id": "c58ffb73",
   "metadata": {},
   "source": [
    "## Rules"
   ]
  },
  {
   "cell_type": "code",
   "execution_count": 41,
   "id": "4e015c48",
   "metadata": {},
   "outputs": [
    {
     "ename": "SyntaxError",
     "evalue": "non-default argument follows default argument (673898327.py, line 1)",
     "output_type": "error",
     "traceback": [
      "\u001b[0;36m  Input \u001b[0;32mIn [41]\u001b[0;36m\u001b[0m\n\u001b[0;31m    def random(a, b, c, d=4, e):\u001b[0m\n\u001b[0m                              ^\u001b[0m\n\u001b[0;31mSyntaxError\u001b[0m\u001b[0;31m:\u001b[0m non-default argument follows default argument\n"
     ]
    }
   ],
   "source": [
    "def random(a, b, c, d=4, e, f, g):\n",
    "    print(a + b + c + d + e)"
   ]
  },
  {
   "cell_type": "code",
   "execution_count": 42,
   "id": "4c654ae9",
   "metadata": {},
   "outputs": [
    {
     "ename": "NameError",
     "evalue": "name 'random' is not defined",
     "output_type": "error",
     "traceback": [
      "\u001b[0;31m---------------------------------------------------------------------------\u001b[0m",
      "\u001b[0;31mNameError\u001b[0m                                 Traceback (most recent call last)",
      "Input \u001b[0;32mIn [42]\u001b[0m, in \u001b[0;36m<cell line: 1>\u001b[0;34m()\u001b[0m\n\u001b[0;32m----> 1\u001b[0m \u001b[43mrandom\u001b[49m(\u001b[38;5;241m1\u001b[39m, \u001b[38;5;241m2\u001b[39m, \u001b[38;5;241m3\u001b[39m, \u001b[38;5;241m4\u001b[39m, \u001b[38;5;241m5\u001b[39m)\n",
      "\u001b[0;31mNameError\u001b[0m: name 'random' is not defined"
     ]
    }
   ],
   "source": [
    "random(1, 2, 3, 4, 5, 6, 7) # used at 1000 places"
   ]
  },
  {
   "cell_type": "markdown",
   "id": "fa26d30a",
   "metadata": {},
   "source": [
    "### Rule 1: All default argument at the end"
   ]
  },
  {
   "cell_type": "code",
   "execution_count": 43,
   "id": "419db3c8",
   "metadata": {},
   "outputs": [],
   "source": [
    "def random(a, b, c, d=4, e=5, f=6, g=7):\n",
    "    print(a + b + c + d + e)"
   ]
  },
  {
   "cell_type": "code",
   "execution_count": 44,
   "id": "78b93cdd",
   "metadata": {},
   "outputs": [
    {
     "name": "stdout",
     "output_type": "stream",
     "text": [
      "15\n"
     ]
    }
   ],
   "source": [
    "random(1, 2, 3)"
   ]
  },
  {
   "cell_type": "code",
   "execution_count": 47,
   "id": "e0959d0d",
   "metadata": {},
   "outputs": [
    {
     "name": "stdout",
     "output_type": "stream",
     "text": [
      "21\n"
     ]
    }
   ],
   "source": [
    "random(1, 2, 3, 10)"
   ]
  },
  {
   "cell_type": "code",
   "execution_count": 48,
   "id": "377d7588",
   "metadata": {},
   "outputs": [
    {
     "name": "stdout",
     "output_type": "stream",
     "text": [
      "27\n"
     ]
    }
   ],
   "source": [
    "random(1, 2, 3, 10, 11)"
   ]
  },
  {
   "cell_type": "code",
   "execution_count": null,
   "id": "f913dcb4",
   "metadata": {},
   "outputs": [],
   "source": [
    "# def random(a, b, c, bb, d=4, e=5, f=6, g=7):\n",
    "#     print(a + b + c + d + e)"
   ]
  },
  {
   "cell_type": "code",
   "execution_count": 49,
   "id": "ab98967d",
   "metadata": {},
   "outputs": [],
   "source": [
    "def random(a, b, c, d=4, e=5, f=6, g=7, bb=9):\n",
    "    print(a + b + c + d + e)"
   ]
  },
  {
   "cell_type": "markdown",
   "id": "9423080a",
   "metadata": {},
   "source": [
    "### Rule 2"
   ]
  },
  {
   "cell_type": "code",
   "execution_count": 50,
   "id": "df8cf4fa",
   "metadata": {},
   "outputs": [],
   "source": [
    "def random(a, b, c, d=4):\n",
    "    print(a + b + c + d)"
   ]
  },
  {
   "cell_type": "code",
   "execution_count": 51,
   "id": "312e8eaa",
   "metadata": {},
   "outputs": [
    {
     "name": "stdout",
     "output_type": "stream",
     "text": [
      "8\n"
     ]
    }
   ],
   "source": [
    "random(1, c=2, b=1)"
   ]
  },
  {
   "cell_type": "code",
   "execution_count": 52,
   "id": "504fc4c1",
   "metadata": {},
   "outputs": [
    {
     "ename": "TypeError",
     "evalue": "random() missing 1 required positional argument: 'a'",
     "output_type": "error",
     "traceback": [
      "\u001b[0;31m---------------------------------------------------------------------------\u001b[0m",
      "\u001b[0;31mTypeError\u001b[0m                                 Traceback (most recent call last)",
      "Input \u001b[0;32mIn [52]\u001b[0m, in \u001b[0;36m<cell line: 1>\u001b[0;34m()\u001b[0m\n\u001b[0;32m----> 1\u001b[0m \u001b[43mrandom\u001b[49m\u001b[43m(\u001b[49m\u001b[43mc\u001b[49m\u001b[38;5;241;43m=\u001b[39;49m\u001b[38;5;241;43m2\u001b[39;49m\u001b[43m,\u001b[49m\u001b[43m \u001b[49m\u001b[43mb\u001b[49m\u001b[38;5;241;43m=\u001b[39;49m\u001b[38;5;241;43m1\u001b[39;49m\u001b[43m)\u001b[49m\n",
      "\u001b[0;31mTypeError\u001b[0m: random() missing 1 required positional argument: 'a'"
     ]
    }
   ],
   "source": [
    "random(c=2, b=1)"
   ]
  },
  {
   "cell_type": "code",
   "execution_count": 53,
   "id": "cec998ae",
   "metadata": {},
   "outputs": [
    {
     "name": "stdout",
     "output_type": "stream",
     "text": [
      "10\n"
     ]
    }
   ],
   "source": [
    "random(c=2, b=1, a=3)"
   ]
  },
  {
   "cell_type": "code",
   "execution_count": 54,
   "id": "29509426",
   "metadata": {},
   "outputs": [
    {
     "ename": "SyntaxError",
     "evalue": "positional argument follows keyword argument (3517829836.py, line 1)",
     "output_type": "error",
     "traceback": [
      "\u001b[0;36m  Input \u001b[0;32mIn [54]\u001b[0;36m\u001b[0m\n\u001b[0;31m    random(c=2, b=1, 3)\u001b[0m\n\u001b[0m                      ^\u001b[0m\n\u001b[0;31mSyntaxError\u001b[0m\u001b[0;31m:\u001b[0m positional argument follows keyword argument\n"
     ]
    }
   ],
   "source": [
    "random(c=2, b=1, 3)"
   ]
  },
  {
   "cell_type": "code",
   "execution_count": 55,
   "id": "09ea168d",
   "metadata": {},
   "outputs": [
    {
     "name": "stdout",
     "output_type": "stream",
     "text": [
      "First number:  3\n",
      "Second number:  2\n",
      "Third number:  1\n",
      "The result is:  5\n"
     ]
    }
   ],
   "source": [
    "def f(a, b, c):\n",
    "    print('First number: ', a)\n",
    "    print('Second number: ', b)\n",
    "    print('Third number: ', c)\n",
    "    print('The result is: ', 2*a + b - 3*c)\n",
    "\n",
    "f(c=1, b=2, a=3)"
   ]
  },
  {
   "cell_type": "code",
   "execution_count": 56,
   "id": "32d7b14a",
   "metadata": {},
   "outputs": [
    {
     "ename": "SyntaxError",
     "evalue": "positional argument follows keyword argument (2541150482.py, line 7)",
     "output_type": "error",
     "traceback": [
      "\u001b[0;36m  Input \u001b[0;32mIn [56]\u001b[0;36m\u001b[0m\n\u001b[0;31m    f(c=1, b=2, 3)\u001b[0m\n\u001b[0m                 ^\u001b[0m\n\u001b[0;31mSyntaxError\u001b[0m\u001b[0;31m:\u001b[0m positional argument follows keyword argument\n"
     ]
    }
   ],
   "source": [
    "def f(a, b, c):\n",
    "    print('First number: ', a)\n",
    "    print('Second number: ', b)\n",
    "    print('Third number: ', c)\n",
    "    print('The result is: ', 2*a + b - 3*c)\n",
    "\n",
    "f(c=1, b=2, 3)"
   ]
  },
  {
   "cell_type": "markdown",
   "id": "65bb9185",
   "metadata": {},
   "source": [
    "### Rule 2: Keyword arguments should be at the end"
   ]
  },
  {
   "cell_type": "code",
   "execution_count": 59,
   "id": "6fa6603e",
   "metadata": {},
   "outputs": [
    {
     "name": "stdout",
     "output_type": "stream",
     "text": [
      "First number (a):  3\n",
      "Second number (b):  2\n",
      "Third number (c):  1\n",
      "The result is:  5\n"
     ]
    }
   ],
   "source": [
    "def f(a, b, c):\n",
    "    print('First number (a): ', a)\n",
    "    print('Second number (b): ', b)\n",
    "    print('Third number (c): ', c)\n",
    "    print('The result is: ', 2*a + b - 3*c)\n",
    "\n",
    "f(3, b=2, c=1)"
   ]
  },
  {
   "cell_type": "code",
   "execution_count": 60,
   "id": "2cc17087",
   "metadata": {},
   "outputs": [
    {
     "name": "stdout",
     "output_type": "stream",
     "text": [
      "First number (a):  3\n",
      "Second number (b):  2\n",
      "Third number (c):  5\n",
      "The result is:  -7\n"
     ]
    }
   ],
   "source": [
    "f(3, 2, c=5)"
   ]
  },
  {
   "cell_type": "code",
   "execution_count": 62,
   "id": "2045a589",
   "metadata": {},
   "outputs": [
    {
     "ename": "TypeError",
     "evalue": "f() got multiple values for argument 'b'",
     "output_type": "error",
     "traceback": [
      "\u001b[0;31m---------------------------------------------------------------------------\u001b[0m",
      "\u001b[0;31mTypeError\u001b[0m                                 Traceback (most recent call last)",
      "Input \u001b[0;32mIn [62]\u001b[0m, in \u001b[0;36m<cell line: 1>\u001b[0;34m()\u001b[0m\n\u001b[0;32m----> 1\u001b[0m \u001b[43mf\u001b[49m\u001b[43m(\u001b[49m\u001b[38;5;241;43m3\u001b[39;49m\u001b[43m,\u001b[49m\u001b[43m \u001b[49m\u001b[38;5;241;43m2\u001b[39;49m\u001b[43m,\u001b[49m\u001b[43m \u001b[49m\u001b[43mb\u001b[49m\u001b[38;5;241;43m=\u001b[39;49m\u001b[38;5;241;43m5\u001b[39;49m\u001b[43m)\u001b[49m\n",
      "\u001b[0;31mTypeError\u001b[0m: f() got multiple values for argument 'b'"
     ]
    }
   ],
   "source": [
    "f(3, 2, b=5) # it was not able to get correct value for b"
   ]
  },
  {
   "cell_type": "markdown",
   "id": "d268723f",
   "metadata": {},
   "source": [
    "### Rule 3: Only one value for a parameter (variable in function)"
   ]
  },
  {
   "cell_type": "code",
   "execution_count": 64,
   "id": "82347f92",
   "metadata": {},
   "outputs": [
    {
     "ename": "TypeError",
     "evalue": "f() got multiple values for argument 'b'",
     "output_type": "error",
     "traceback": [
      "\u001b[0;31m---------------------------------------------------------------------------\u001b[0m",
      "\u001b[0;31mTypeError\u001b[0m                                 Traceback (most recent call last)",
      "Input \u001b[0;32mIn [64]\u001b[0m, in \u001b[0;36m<cell line: 7>\u001b[0;34m()\u001b[0m\n\u001b[1;32m      4\u001b[0m     \u001b[38;5;28mprint\u001b[39m(\u001b[38;5;124m'\u001b[39m\u001b[38;5;124mThird number (c): \u001b[39m\u001b[38;5;124m'\u001b[39m, c)\n\u001b[1;32m      5\u001b[0m     \u001b[38;5;28mprint\u001b[39m(\u001b[38;5;124m'\u001b[39m\u001b[38;5;124mThe result is: \u001b[39m\u001b[38;5;124m'\u001b[39m, \u001b[38;5;241m2\u001b[39m\u001b[38;5;241m*\u001b[39ma \u001b[38;5;241m+\u001b[39m b \u001b[38;5;241m-\u001b[39m \u001b[38;5;241m3\u001b[39m\u001b[38;5;241m*\u001b[39mc)\n\u001b[0;32m----> 7\u001b[0m \u001b[43mf\u001b[49m\u001b[43m(\u001b[49m\u001b[38;5;241;43m3\u001b[39;49m\u001b[43m,\u001b[49m\u001b[43m \u001b[49m\u001b[38;5;241;43m2\u001b[39;49m\u001b[43m,\u001b[49m\u001b[43m \u001b[49m\u001b[43mb\u001b[49m\u001b[38;5;241;43m=\u001b[39;49m\u001b[38;5;241;43m5\u001b[39;49m\u001b[43m)\u001b[49m\n",
      "\u001b[0;31mTypeError\u001b[0m: f() got multiple values for argument 'b'"
     ]
    }
   ],
   "source": [
    "def f(a, b, c=5):\n",
    "    print('First number (a): ', a)\n",
    "    print('Second number (b): ', b)\n",
    "    print('Third number (c): ', c)\n",
    "    print('The result is: ', 2*a + b - 3*c)\n",
    "\n",
    "f(3, 2, b=5)"
   ]
  },
  {
   "cell_type": "markdown",
   "id": "d1a0cbc6",
   "metadata": {},
   "source": [
    "## print_date quiz"
   ]
  },
  {
   "cell_type": "code",
   "execution_count": 63,
   "id": "19b18ebc",
   "metadata": {},
   "outputs": [
    {
     "name": "stdout",
     "output_type": "stream",
     "text": [
      "5 / 30 / 2022\n"
     ]
    }
   ],
   "source": [
    "def print_date(d, m, y, style=0):\n",
    "    if style == 0:  # American\n",
    "        print(m, '/', d, '/', y)\n",
    "    elif style == 1:  # European\n",
    "        print(d, '/', m, '/', y)\n",
    "    else:\n",
    "        print('Invalid Style')\n",
    "print_date(30, 5, 2022)"
   ]
  },
  {
   "cell_type": "code",
   "execution_count": null,
   "id": "30da0ae3",
   "metadata": {},
   "outputs": [],
   "source": []
  },
  {
   "cell_type": "code",
   "execution_count": 65,
   "id": "52c54906",
   "metadata": {},
   "outputs": [
    {
     "name": "stdout",
     "output_type": "stream",
     "text": [
      "1 / 30 / 2022\n"
     ]
    }
   ],
   "source": [
    "def print_date(d=1, m=1, y=2022, s=0):\n",
    "    if s == 0:  # American\n",
    "        print(m, '/', d, '/', y)\n",
    "    elif s == 1:  # European\n",
    "        print(d, '/', m, '/', y)\n",
    "    else:\n",
    "        print('Invalid Style')\n",
    "\n",
    "print_date(d=30, y=2022)"
   ]
  },
  {
   "cell_type": "code",
   "execution_count": null,
   "id": "bb1ab9a8",
   "metadata": {},
   "outputs": [],
   "source": []
  },
  {
   "cell_type": "code",
   "execution_count": null,
   "id": "db63cf87",
   "metadata": {},
   "outputs": [],
   "source": []
  },
  {
   "cell_type": "markdown",
   "id": "4036b8ae",
   "metadata": {},
   "source": [
    "## return statement\n",
    "\n",
    "- use case to give an output from the function and store it for later use"
   ]
  },
  {
   "cell_type": "code",
   "execution_count": 66,
   "id": "cddb7b8e",
   "metadata": {},
   "outputs": [],
   "source": [
    "def add(a, b):\n",
    "    print(a + b)"
   ]
  },
  {
   "cell_type": "code",
   "execution_count": 69,
   "id": "e18055c9",
   "metadata": {},
   "outputs": [
    {
     "name": "stdout",
     "output_type": "stream",
     "text": [
      "8\n"
     ]
    }
   ],
   "source": [
    "res1 = add(3, 5)"
   ]
  },
  {
   "cell_type": "code",
   "execution_count": 70,
   "id": "53c2e69e",
   "metadata": {},
   "outputs": [
    {
     "name": "stdout",
     "output_type": "stream",
     "text": [
      "14\n"
     ]
    }
   ],
   "source": [
    "res2 = add(6, 8)"
   ]
  },
  {
   "cell_type": "code",
   "execution_count": 71,
   "id": "1bf94b7e",
   "metadata": {},
   "outputs": [
    {
     "name": "stdout",
     "output_type": "stream",
     "text": [
      "None\n"
     ]
    }
   ],
   "source": [
    "print(res1)"
   ]
  },
  {
   "cell_type": "code",
   "execution_count": 72,
   "id": "100d709b",
   "metadata": {},
   "outputs": [
    {
     "name": "stdout",
     "output_type": "stream",
     "text": [
      "None\n"
     ]
    }
   ],
   "source": [
    "print(res2)"
   ]
  },
  {
   "cell_type": "code",
   "execution_count": 73,
   "id": "2341e8fd",
   "metadata": {},
   "outputs": [],
   "source": [
    "def add(a, b):\n",
    "    return a+b"
   ]
  },
  {
   "cell_type": "code",
   "execution_count": 74,
   "id": "32e6c292",
   "metadata": {},
   "outputs": [
    {
     "name": "stdout",
     "output_type": "stream",
     "text": [
      "11\n"
     ]
    }
   ],
   "source": [
    "res1 = add(5, 6)\n",
    "print(res1)"
   ]
  },
  {
   "cell_type": "code",
   "execution_count": 75,
   "id": "f949c3c5",
   "metadata": {},
   "outputs": [
    {
     "data": {
      "text/plain": [
       "8"
      ]
     },
     "execution_count": 75,
     "metadata": {},
     "output_type": "execute_result"
    }
   ],
   "source": [
    "add(3, 5)"
   ]
  },
  {
   "cell_type": "markdown",
   "id": "daf613fc",
   "metadata": {},
   "source": [
    "## Flow of function"
   ]
  },
  {
   "cell_type": "markdown",
   "id": "03267f94",
   "metadata": {},
   "source": [
    "### 1. Define function before using it"
   ]
  },
  {
   "cell_type": "code",
   "execution_count": 1,
   "id": "e4054804",
   "metadata": {},
   "outputs": [
    {
     "ename": "NameError",
     "evalue": "name 'add' is not defined",
     "output_type": "error",
     "traceback": [
      "\u001b[0;31m---------------------------------------------------------------------------\u001b[0m",
      "\u001b[0;31mNameError\u001b[0m                                 Traceback (most recent call last)",
      "Input \u001b[0;32mIn [1]\u001b[0m, in \u001b[0;36m<cell line: 1>\u001b[0;34m()\u001b[0m\n\u001b[0;32m----> 1\u001b[0m res \u001b[38;5;241m=\u001b[39m \u001b[43madd\u001b[49m(\u001b[38;5;241m3\u001b[39m, \u001b[38;5;241m5\u001b[39m)\n\u001b[1;32m      2\u001b[0m \u001b[38;5;28mprint\u001b[39m(res)\n\u001b[1;32m      4\u001b[0m \u001b[38;5;28;01mdef\u001b[39;00m \u001b[38;5;21madd\u001b[39m(x, y):\n",
      "\u001b[0;31mNameError\u001b[0m: name 'add' is not defined"
     ]
    }
   ],
   "source": [
    "res = add(3, 5)\n",
    "print(res)\n",
    "\n",
    "def add(x, y):\n",
    "    return x + y"
   ]
  },
  {
   "cell_type": "markdown",
   "id": "7c3692bf",
   "metadata": {},
   "source": [
    "### 2. The return statement is used to exit a function and go back to the place from where it was called"
   ]
  },
  {
   "cell_type": "code",
   "execution_count": 2,
   "id": "2c8b969b",
   "metadata": {},
   "outputs": [
    {
     "name": "stdout",
     "output_type": "stream",
     "text": [
      "Foo\n",
      "1\n"
     ]
    }
   ],
   "source": [
    "def foo_bar():\n",
    "    # inside the function\n",
    "    print('Foo')\n",
    "    return 1 # exit the function here itself, go back to the keeper\n",
    "    print('Bar')\n",
    "\n",
    "res = foo_bar()\n",
    "print(res)"
   ]
  },
  {
   "cell_type": "markdown",
   "id": "6c441a41",
   "metadata": {},
   "source": [
    "## Quizzes"
   ]
  },
  {
   "cell_type": "code",
   "execution_count": 3,
   "id": "165218bb",
   "metadata": {},
   "outputs": [
    {
     "name": "stdout",
     "output_type": "stream",
     "text": [
      "34\n"
     ]
    }
   ],
   "source": [
    "def square(x):\n",
    "    return x*x\n",
    "\n",
    "x = square(3)\n",
    "y = square(5)\n",
    "\n",
    "print(x + y)"
   ]
  },
  {
   "cell_type": "code",
   "execution_count": 5,
   "id": "3070b2a3",
   "metadata": {},
   "outputs": [
    {
     "name": "stdout",
     "output_type": "stream",
     "text": [
      "4 is maximum\n"
     ]
    }
   ],
   "source": [
    "def print_max(a, b):\n",
    "    if a > b:\n",
    "        print(a, 'is maximum')\n",
    "    elif a == b:\n",
    "        print(a, 'is equal to', b)\n",
    "    else:\n",
    "        print(b, 'is maximum')\n",
    "\n",
    "print_max(3, 4)"
   ]
  },
  {
   "cell_type": "markdown",
   "id": "e323e051",
   "metadata": {},
   "source": [
    "## Challenge problem"
   ]
  },
  {
   "cell_type": "markdown",
   "id": "a64a79fe",
   "metadata": {},
   "source": [
    "\n",
    "1.) Write a function to covert the input temperature on fahrenheit scale to celcius scale using the following formula\n",
    "\n",
    "C = 5/9 ( F - 32 )"
   ]
  },
  {
   "cell_type": "markdown",
   "id": "f5fb6c95",
   "metadata": {},
   "source": [
    "# Happy news: no need to take input in assignment unless mentioned in today's assignment onwards :D"
   ]
  },
  {
   "cell_type": "code",
   "execution_count": 11,
   "id": "637ee901",
   "metadata": {},
   "outputs": [],
   "source": [
    "def fahrenheit_to_celsius(f):\n",
    "    return 5/9 * (f - 32)"
   ]
  },
  {
   "cell_type": "code",
   "execution_count": 12,
   "id": "b5bdd7a3",
   "metadata": {},
   "outputs": [
    {
     "data": {
      "text/plain": [
       "37.77777777777778"
      ]
     },
     "execution_count": 12,
     "metadata": {},
     "output_type": "execute_result"
    }
   ],
   "source": [
    "fahrenheit_to_celsius(100)"
   ]
  },
  {
   "cell_type": "code",
   "execution_count": 13,
   "id": "d6e43233",
   "metadata": {},
   "outputs": [
    {
     "data": {
      "text/plain": [
       "37.13"
      ]
     },
     "execution_count": 13,
     "metadata": {},
     "output_type": "execute_result"
    }
   ],
   "source": [
    "round(37.1255252, 2)"
   ]
  },
  {
   "cell_type": "code",
   "execution_count": 10,
   "id": "a363baea",
   "metadata": {},
   "outputs": [
    {
     "name": "stdout",
     "output_type": "stream",
     "text": [
      "Help on built-in function round in module builtins:\n",
      "\n",
      "round(number, ndigits=None)\n",
      "    Round a number to a given precision in decimal digits.\n",
      "    \n",
      "    The return value is an integer if ndigits is omitted or None.  Otherwise\n",
      "    the return value has the same type as the number.  ndigits may be negative.\n",
      "\n"
     ]
    }
   ],
   "source": [
    "help(round)"
   ]
  },
  {
   "cell_type": "code",
   "execution_count": null,
   "id": "a7cb15c2",
   "metadata": {},
   "outputs": [],
   "source": []
  },
  {
   "cell_type": "code",
   "execution_count": null,
   "id": "80065a10",
   "metadata": {},
   "outputs": [],
   "source": []
  },
  {
   "cell_type": "markdown",
   "id": "22ca791a",
   "metadata": {},
   "source": [
    "## Doubts"
   ]
  },
  {
   "cell_type": "code",
   "execution_count": 14,
   "id": "51f3f1cb",
   "metadata": {},
   "outputs": [],
   "source": [
    "def square(x):\n",
    "    return x*x"
   ]
  },
  {
   "cell_type": "code",
   "execution_count": 19,
   "id": "58ea8ccf",
   "metadata": {},
   "outputs": [],
   "source": [
    "import math\n",
    "\n",
    "def hypotenuse(a, b):\n",
    "    x = square(a)\n",
    "    y = square(b)\n",
    "    return math.sqrt(x + y)"
   ]
  },
  {
   "cell_type": "code",
   "execution_count": 20,
   "id": "7f487dd8",
   "metadata": {},
   "outputs": [
    {
     "data": {
      "text/plain": [
       "5.0"
      ]
     },
     "execution_count": 20,
     "metadata": {},
     "output_type": "execute_result"
    }
   ],
   "source": [
    "hypotenuse(3, 4)"
   ]
  },
  {
   "cell_type": "code",
   "execution_count": 21,
   "id": "0a17ebc9",
   "metadata": {},
   "outputs": [
    {
     "name": "stdout",
     "output_type": "stream",
     "text": [
      "sai\n",
      "teja\n"
     ]
    }
   ],
   "source": [
    "print('sai')\n",
    "print('teja')"
   ]
  },
  {
   "cell_type": "code",
   "execution_count": 22,
   "id": "47e3fd76",
   "metadata": {},
   "outputs": [
    {
     "name": "stdout",
     "output_type": "stream",
     "text": [
      "sai teja\n"
     ]
    }
   ],
   "source": [
    "print('sai', end=' ')\n",
    "print('teja')"
   ]
  },
  {
   "cell_type": "code",
   "execution_count": 24,
   "id": "faa77901",
   "metadata": {},
   "outputs": [
    {
     "name": "stdout",
     "output_type": "stream",
     "text": [
      "sai, teja\n"
     ]
    }
   ],
   "source": [
    "print('sai', 'teja', sep=', ')"
   ]
  },
  {
   "cell_type": "code",
   "execution_count": 26,
   "id": "bf9fd629",
   "metadata": {},
   "outputs": [
    {
     "data": {
      "text/plain": [
       "3"
      ]
     },
     "execution_count": 26,
     "metadata": {},
     "output_type": "execute_result"
    }
   ],
   "source": [
    "import math\n",
    "\n",
    "math.floor(3.5)"
   ]
  },
  {
   "cell_type": "code",
   "execution_count": 30,
   "id": "fadbbfd8",
   "metadata": {},
   "outputs": [
    {
     "data": {
      "text/plain": [
       "4"
      ]
     },
     "execution_count": 30,
     "metadata": {},
     "output_type": "execute_result"
    }
   ],
   "source": [
    "math.ceil(3.5)"
   ]
  },
  {
   "cell_type": "code",
   "execution_count": 32,
   "id": "41515947",
   "metadata": {},
   "outputs": [
    {
     "data": {
      "text/plain": [
       "3"
      ]
     },
     "execution_count": 32,
     "metadata": {},
     "output_type": "execute_result"
    }
   ],
   "source": [
    "math.floor(3.9)"
   ]
  },
  {
   "cell_type": "code",
   "execution_count": 33,
   "id": "5b391a76",
   "metadata": {},
   "outputs": [
    {
     "data": {
      "text/plain": [
       "4"
      ]
     },
     "execution_count": 33,
     "metadata": {},
     "output_type": "execute_result"
    }
   ],
   "source": [
    "math.ceil(3.9)"
   ]
  },
  {
   "cell_type": "code",
   "execution_count": 28,
   "id": "30605582",
   "metadata": {},
   "outputs": [
    {
     "data": {
      "text/plain": [
       "3"
      ]
     },
     "execution_count": 28,
     "metadata": {},
     "output_type": "execute_result"
    }
   ],
   "source": [
    "math.floor(3.2)"
   ]
  },
  {
   "cell_type": "code",
   "execution_count": 35,
   "id": "ed601789",
   "metadata": {},
   "outputs": [
    {
     "data": {
      "text/plain": [
       "4"
      ]
     },
     "execution_count": 35,
     "metadata": {},
     "output_type": "execute_result"
    }
   ],
   "source": [
    "math.ceil(3.2)"
   ]
  },
  {
   "cell_type": "code",
   "execution_count": 36,
   "id": "9bb26ed2",
   "metadata": {},
   "outputs": [
    {
     "data": {
      "text/plain": [
       "-4"
      ]
     },
     "execution_count": 36,
     "metadata": {},
     "output_type": "execute_result"
    }
   ],
   "source": [
    "math.floor(-3.2)"
   ]
  },
  {
   "cell_type": "code",
   "execution_count": 37,
   "id": "73d8d6d3",
   "metadata": {},
   "outputs": [
    {
     "data": {
      "text/plain": [
       "-3"
      ]
     },
     "execution_count": 37,
     "metadata": {},
     "output_type": "execute_result"
    }
   ],
   "source": [
    "math.ceil(-3.2)"
   ]
  },
  {
   "cell_type": "code",
   "execution_count": null,
   "id": "30fb871a",
   "metadata": {},
   "outputs": [],
   "source": []
  }
 ],
 "metadata": {
  "kernelspec": {
   "display_name": "Python 3 (ipykernel)",
   "language": "python",
   "name": "python3"
  },
  "language_info": {
   "codemirror_mode": {
    "name": "ipython",
    "version": 3
   },
   "file_extension": ".py",
   "mimetype": "text/x-python",
   "name": "python",
   "nbconvert_exporter": "python",
   "pygments_lexer": "ipython3",
   "version": "3.9.12"
  }
 },
 "nbformat": 4,
 "nbformat_minor": 5
}
