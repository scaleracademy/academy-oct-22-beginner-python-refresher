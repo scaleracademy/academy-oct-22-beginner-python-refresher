{
 "cells": [
  {
   "cell_type": "markdown",
   "id": "86de38de",
   "metadata": {},
   "source": [
    "## Lecture 12 - Sets and Dictionaries"
   ]
  },
  {
   "cell_type": "code",
   "execution_count": 12,
   "id": "3e1222ec",
   "metadata": {},
   "outputs": [],
   "source": [
    "\n",
    "s = {\"Rahul\", \"Amrit\", \"Krishan\", \"Cornel\", \"Gowtham\", \"Vini\",\n",
    "     \"Sudha\", \"Nishant\", \"Rahul\", \"Harit\", \"Krishan\", \"Jayesh\"}"
   ]
  },
  {
   "cell_type": "code",
   "execution_count": 14,
   "id": "ad07ab87",
   "metadata": {},
   "outputs": [],
   "source": [
    "# s.append(\"Aradhna\") -> adding to the end, but it is unordered!"
   ]
  },
  {
   "cell_type": "code",
   "execution_count": 2,
   "id": "9bb60c50",
   "metadata": {},
   "outputs": [
    {
     "name": "stdout",
     "output_type": "stream",
     "text": [
      "{'Rahul', 'Vini', 'Amrit', 'Sudha', 'Cornel', 'Krishan', 'Harit', 'Jayesh', 'Nishant', 'Gowtham'}\n"
     ]
    }
   ],
   "source": [
    "print(s)"
   ]
  },
  {
   "cell_type": "code",
   "execution_count": 3,
   "id": "90724e0e",
   "metadata": {},
   "outputs": [
    {
     "data": {
      "text/plain": [
       "set"
      ]
     },
     "execution_count": 3,
     "metadata": {},
     "output_type": "execute_result"
    }
   ],
   "source": [
    "type(s)"
   ]
  },
  {
   "cell_type": "code",
   "execution_count": 4,
   "id": "d0aaae31",
   "metadata": {},
   "outputs": [
    {
     "data": {
      "text/plain": [
       "True"
      ]
     },
     "execution_count": 4,
     "metadata": {},
     "output_type": "execute_result"
    }
   ],
   "source": [
    "\"Harit\" in s"
   ]
  },
  {
   "cell_type": "code",
   "execution_count": 5,
   "id": "e7877546",
   "metadata": {},
   "outputs": [
    {
     "data": {
      "text/plain": [
       "True"
      ]
     },
     "execution_count": 5,
     "metadata": {},
     "output_type": "execute_result"
    }
   ],
   "source": [
    "\"Sudha\" in s"
   ]
  },
  {
   "cell_type": "code",
   "execution_count": 6,
   "id": "2fff9283",
   "metadata": {},
   "outputs": [
    {
     "data": {
      "text/plain": [
       "False"
      ]
     },
     "execution_count": 6,
     "metadata": {},
     "output_type": "execute_result"
    }
   ],
   "source": [
    "\"Manish\" in s"
   ]
  },
  {
   "cell_type": "code",
   "execution_count": 7,
   "id": "f4330621",
   "metadata": {},
   "outputs": [
    {
     "data": {
      "text/plain": [
       "10"
      ]
     },
     "execution_count": 7,
     "metadata": {},
     "output_type": "execute_result"
    }
   ],
   "source": [
    "len(s)"
   ]
  },
  {
   "cell_type": "markdown",
   "id": "da171bed",
   "metadata": {},
   "source": [
    "## Changing data in a set"
   ]
  },
  {
   "cell_type": "code",
   "execution_count": 17,
   "id": "d1b167b8",
   "metadata": {},
   "outputs": [],
   "source": [
    "s = set()"
   ]
  },
  {
   "cell_type": "code",
   "execution_count": 18,
   "id": "9552052a",
   "metadata": {},
   "outputs": [
    {
     "data": {
      "text/plain": [
       "set"
      ]
     },
     "execution_count": 18,
     "metadata": {},
     "output_type": "execute_result"
    }
   ],
   "source": [
    "type(s)"
   ]
  },
  {
   "cell_type": "code",
   "execution_count": 19,
   "id": "aa46c61b",
   "metadata": {},
   "outputs": [
    {
     "name": "stdout",
     "output_type": "stream",
     "text": [
      "set()\n"
     ]
    }
   ],
   "source": [
    "print(s)"
   ]
  },
  {
   "cell_type": "code",
   "execution_count": 20,
   "id": "73044bea",
   "metadata": {},
   "outputs": [
    {
     "ename": "AttributeError",
     "evalue": "'set' object has no attribute 'append'",
     "output_type": "error",
     "traceback": [
      "\u001b[0;31m---------------------------------------------------------------------------\u001b[0m",
      "\u001b[0;31mAttributeError\u001b[0m                            Traceback (most recent call last)",
      "Input \u001b[0;32mIn [20]\u001b[0m, in \u001b[0;36m<cell line: 1>\u001b[0;34m()\u001b[0m\n\u001b[0;32m----> 1\u001b[0m \u001b[43ms\u001b[49m\u001b[38;5;241;43m.\u001b[39;49m\u001b[43mappend\u001b[49m(\u001b[38;5;241m100\u001b[39m)\n",
      "\u001b[0;31mAttributeError\u001b[0m: 'set' object has no attribute 'append'"
     ]
    }
   ],
   "source": [
    "s.append(100)"
   ]
  },
  {
   "cell_type": "code",
   "execution_count": 21,
   "id": "722093e9",
   "metadata": {},
   "outputs": [],
   "source": [
    "s.add(5)"
   ]
  },
  {
   "cell_type": "code",
   "execution_count": 22,
   "id": "58753eca",
   "metadata": {},
   "outputs": [
    {
     "name": "stdout",
     "output_type": "stream",
     "text": [
      "{5}\n"
     ]
    }
   ],
   "source": [
    "print(s)"
   ]
  },
  {
   "cell_type": "code",
   "execution_count": 23,
   "id": "5ac9de73",
   "metadata": {},
   "outputs": [],
   "source": [
    "s.add(10)"
   ]
  },
  {
   "cell_type": "code",
   "execution_count": 24,
   "id": "10e6ab2e",
   "metadata": {},
   "outputs": [
    {
     "name": "stdout",
     "output_type": "stream",
     "text": [
      "{10, 5}\n"
     ]
    }
   ],
   "source": [
    "print(s)"
   ]
  },
  {
   "cell_type": "code",
   "execution_count": 25,
   "id": "96a8d82c",
   "metadata": {},
   "outputs": [],
   "source": [
    "s.add('Manish')"
   ]
  },
  {
   "cell_type": "code",
   "execution_count": 26,
   "id": "3a200c78",
   "metadata": {},
   "outputs": [
    {
     "name": "stdout",
     "output_type": "stream",
     "text": [
      "{'Manish', 10, 5}\n"
     ]
    }
   ],
   "source": [
    "print(s)"
   ]
  },
  {
   "cell_type": "code",
   "execution_count": 27,
   "id": "3bd72144",
   "metadata": {},
   "outputs": [],
   "source": [
    "s.add(1.5)"
   ]
  },
  {
   "cell_type": "code",
   "execution_count": 28,
   "id": "11f81233",
   "metadata": {},
   "outputs": [
    {
     "name": "stdout",
     "output_type": "stream",
     "text": [
      "{'Manish', 1.5, 10, 5}\n"
     ]
    }
   ],
   "source": [
    "print(s)"
   ]
  },
  {
   "cell_type": "markdown",
   "id": "dc8dc861",
   "metadata": {},
   "source": [
    "## Indexes?"
   ]
  },
  {
   "cell_type": "code",
   "execution_count": 30,
   "id": "4bae7c5d",
   "metadata": {},
   "outputs": [],
   "source": [
    "# s[0] -> no position information"
   ]
  },
  {
   "cell_type": "code",
   "execution_count": 31,
   "id": "37292f47",
   "metadata": {},
   "outputs": [
    {
     "name": "stdout",
     "output_type": "stream",
     "text": [
      "Manish\n",
      "1.5\n",
      "10\n",
      "5\n"
     ]
    }
   ],
   "source": [
    "for i in s: # just iterate on the dat\n",
    "    print(i) "
   ]
  },
  {
   "cell_type": "markdown",
   "id": "aca8959f",
   "metadata": {},
   "source": [
    "## Can we get a set from list?"
   ]
  },
  {
   "cell_type": "code",
   "execution_count": 32,
   "id": "ecf650e6",
   "metadata": {},
   "outputs": [],
   "source": [
    "L = [1, 1, 2, 3, 3, 2]"
   ]
  },
  {
   "cell_type": "code",
   "execution_count": 33,
   "id": "4b7471c8",
   "metadata": {},
   "outputs": [],
   "source": [
    "s = set(L)"
   ]
  },
  {
   "cell_type": "code",
   "execution_count": 34,
   "id": "b782f45c",
   "metadata": {},
   "outputs": [
    {
     "name": "stdout",
     "output_type": "stream",
     "text": [
      "{1, 2, 3}\n"
     ]
    }
   ],
   "source": [
    "print(s) # all duplicates removed, only uniq elements present"
   ]
  },
  {
   "cell_type": "code",
   "execution_count": 35,
   "id": "9853b101",
   "metadata": {},
   "outputs": [
    {
     "name": "stdout",
     "output_type": "stream",
     "text": [
      "[1, 2, 3]\n"
     ]
    }
   ],
   "source": [
    "L2 = list(s)\n",
    "print(L2)"
   ]
  },
  {
   "cell_type": "code",
   "execution_count": 36,
   "id": "42e18631",
   "metadata": {},
   "outputs": [],
   "source": [
    "L = [1,2,2,3,4,4,6,6,7,7,8,9,19,3,21,4,5]"
   ]
  },
  {
   "cell_type": "code",
   "execution_count": 37,
   "id": "4b5013f4",
   "metadata": {},
   "outputs": [],
   "source": [
    "s = set(L)"
   ]
  },
  {
   "cell_type": "code",
   "execution_count": 38,
   "id": "1a215243",
   "metadata": {},
   "outputs": [
    {
     "name": "stdout",
     "output_type": "stream",
     "text": [
      "{1, 2, 3, 4, 5, 6, 7, 8, 9, 19, 21}\n"
     ]
    }
   ],
   "source": [
    "print(s)"
   ]
  },
  {
   "cell_type": "code",
   "execution_count": 39,
   "id": "faefb3b9",
   "metadata": {},
   "outputs": [
    {
     "name": "stdout",
     "output_type": "stream",
     "text": [
      "11\n"
     ]
    }
   ],
   "source": [
    "print(len(s))"
   ]
  },
  {
   "cell_type": "markdown",
   "id": "aca12756",
   "metadata": {},
   "source": [
    "## Challenge"
   ]
  },
  {
   "cell_type": "markdown",
   "id": "d2b2bc41",
   "metadata": {},
   "source": [
    "Count the no of unique words in the sentence:\n"
   ]
  },
  {
   "cell_type": "code",
   "execution_count": 40,
   "id": "e0997834",
   "metadata": {},
   "outputs": [],
   "source": [
    "sentence = \"be the change you wish to see in the world\""
   ]
  },
  {
   "cell_type": "code",
   "execution_count": 42,
   "id": "d37b5a63",
   "metadata": {},
   "outputs": [],
   "source": [
    "words = sentence.split()"
   ]
  },
  {
   "cell_type": "code",
   "execution_count": 43,
   "id": "193b4fb8",
   "metadata": {},
   "outputs": [
    {
     "name": "stdout",
     "output_type": "stream",
     "text": [
      "['be', 'the', 'change', 'you', 'wish', 'to', 'see', 'in', 'the', 'world']\n"
     ]
    }
   ],
   "source": [
    "print(words)"
   ]
  },
  {
   "cell_type": "code",
   "execution_count": 44,
   "id": "72d4aa98",
   "metadata": {},
   "outputs": [],
   "source": [
    "s = set(words)"
   ]
  },
  {
   "cell_type": "code",
   "execution_count": 45,
   "id": "0a086a63",
   "metadata": {},
   "outputs": [
    {
     "name": "stdout",
     "output_type": "stream",
     "text": [
      "{'you', 'the', 'wish', 'be', 'to', 'see', 'in', 'world', 'change'}\n"
     ]
    }
   ],
   "source": [
    "print(s)"
   ]
  },
  {
   "cell_type": "code",
   "execution_count": 46,
   "id": "5cadbe75",
   "metadata": {},
   "outputs": [
    {
     "data": {
      "text/plain": [
       "9"
      ]
     },
     "execution_count": 46,
     "metadata": {},
     "output_type": "execute_result"
    }
   ],
   "source": [
    "len(s)"
   ]
  },
  {
   "cell_type": "markdown",
   "id": "48ed7697",
   "metadata": {},
   "source": [
    "## Tour example"
   ]
  },
  {
   "cell_type": "code",
   "execution_count": 72,
   "id": "fd0d534b",
   "metadata": {},
   "outputs": [],
   "source": [
    "tour_bag = {\"Blanket\", \"Clothes\", \"Torch\", \"Power Bank\", \"First Aid Kit\"}"
   ]
  },
  {
   "cell_type": "code",
   "execution_count": 73,
   "id": "e1cb47fb",
   "metadata": {},
   "outputs": [
    {
     "name": "stdout",
     "output_type": "stream",
     "text": [
      "{'Power Bank', 'Blanket', 'Torch', 'Clothes', 'First Aid Kit'}\n"
     ]
    }
   ],
   "source": [
    "print(tour_bag)"
   ]
  },
  {
   "cell_type": "code",
   "execution_count": 74,
   "id": "f953dd38",
   "metadata": {},
   "outputs": [],
   "source": [
    "tour_bag.add('Charger')"
   ]
  },
  {
   "cell_type": "code",
   "execution_count": 75,
   "id": "3debba82",
   "metadata": {},
   "outputs": [
    {
     "name": "stdout",
     "output_type": "stream",
     "text": [
      "{'Power Bank', 'Blanket', 'Torch', 'Charger', 'Clothes', 'First Aid Kit'}\n"
     ]
    }
   ],
   "source": [
    "print(tour_bag)"
   ]
  },
  {
   "cell_type": "code",
   "execution_count": 76,
   "id": "724fe3c0",
   "metadata": {},
   "outputs": [],
   "source": [
    "utilities_kit = ['soap', 'face wash', 'brush', 'perfume', 'hair oil',\n",
    "             'comb', 'shaver', 'tooth paste', 'sunscreen']"
   ]
  },
  {
   "cell_type": "code",
   "execution_count": 77,
   "id": "d9c4f4b9",
   "metadata": {},
   "outputs": [],
   "source": [
    "tour_bag.update(utilities_kit)"
   ]
  },
  {
   "cell_type": "code",
   "execution_count": 78,
   "id": "a904d4e0",
   "metadata": {},
   "outputs": [
    {
     "name": "stdout",
     "output_type": "stream",
     "text": [
      "{'perfume', 'soap', 'First Aid Kit', 'Power Bank', 'face wash', 'sunscreen', 'Torch', 'tooth paste', 'hair oil', 'Blanket', 'Charger', 'comb', 'Clothes', 'brush', 'shaver'}\n"
     ]
    }
   ],
   "source": [
    "print(tour_bag)"
   ]
  },
  {
   "cell_type": "code",
   "execution_count": 79,
   "id": "be5814e1",
   "metadata": {},
   "outputs": [],
   "source": [
    "# tour_bag.add(utilities_kit) => error"
   ]
  },
  {
   "cell_type": "code",
   "execution_count": 80,
   "id": "42d6a052",
   "metadata": {},
   "outputs": [],
   "source": [
    "tour_bag.add(\"Utilities Kit\")"
   ]
  },
  {
   "cell_type": "code",
   "execution_count": 81,
   "id": "0b832041",
   "metadata": {},
   "outputs": [
    {
     "name": "stdout",
     "output_type": "stream",
     "text": [
      "{'Utilities Kit', 'perfume', 'soap', 'First Aid Kit', 'Power Bank', 'face wash', 'sunscreen', 'Torch', 'tooth paste', 'hair oil', 'Blanket', 'Charger', 'comb', 'Clothes', 'brush', 'shaver'}\n"
     ]
    }
   ],
   "source": [
    "print(tour_bag)"
   ]
  },
  {
   "cell_type": "markdown",
   "id": "5a67f7f5",
   "metadata": {},
   "source": [
    "## Remove data"
   ]
  },
  {
   "cell_type": "code",
   "execution_count": 82,
   "id": "c2a1817d",
   "metadata": {},
   "outputs": [
    {
     "data": {
      "text/plain": [
       "'Utilities Kit'"
      ]
     },
     "execution_count": 82,
     "metadata": {},
     "output_type": "execute_result"
    }
   ],
   "source": [
    "tour_bag.pop() # random"
   ]
  },
  {
   "cell_type": "code",
   "execution_count": 83,
   "id": "41f35669",
   "metadata": {},
   "outputs": [
    {
     "ename": "KeyError",
     "evalue": "'Utilities Kit'",
     "output_type": "error",
     "traceback": [
      "\u001b[0;31m---------------------------------------------------------------------------\u001b[0m",
      "\u001b[0;31mKeyError\u001b[0m                                  Traceback (most recent call last)",
      "Input \u001b[0;32mIn [83]\u001b[0m, in \u001b[0;36m<cell line: 1>\u001b[0;34m()\u001b[0m\n\u001b[0;32m----> 1\u001b[0m \u001b[43mtour_bag\u001b[49m\u001b[38;5;241;43m.\u001b[39;49m\u001b[43mremove\u001b[49m\u001b[43m(\u001b[49m\u001b[38;5;124;43m'\u001b[39;49m\u001b[38;5;124;43mUtilities Kit\u001b[39;49m\u001b[38;5;124;43m'\u001b[39;49m\u001b[43m)\u001b[49m\n",
      "\u001b[0;31mKeyError\u001b[0m: 'Utilities Kit'"
     ]
    }
   ],
   "source": [
    "tour_bag.remove('Utilities Kit')"
   ]
  },
  {
   "cell_type": "code",
   "execution_count": 84,
   "id": "a18de8e4",
   "metadata": {},
   "outputs": [],
   "source": [
    "tour_bag.remove('First Aid Kit')"
   ]
  },
  {
   "cell_type": "code",
   "execution_count": 85,
   "id": "44789722",
   "metadata": {},
   "outputs": [
    {
     "name": "stdout",
     "output_type": "stream",
     "text": [
      "{'perfume', 'soap', 'Power Bank', 'face wash', 'sunscreen', 'Torch', 'tooth paste', 'hair oil', 'Blanket', 'Charger', 'comb', 'Clothes', 'brush', 'shaver'}\n"
     ]
    }
   ],
   "source": [
    "print(tour_bag)"
   ]
  },
  {
   "cell_type": "markdown",
   "id": "b0dd2e4b",
   "metadata": {},
   "source": [
    "## Quiz"
   ]
  },
  {
   "cell_type": "code",
   "execution_count": 88,
   "id": "c5ab0c4e",
   "metadata": {},
   "outputs": [],
   "source": [
    "s = {\"be\", \"the\", \"change\", \"you\", \"wish\", \"to\", \"see\", \"in\", \"the\", \"world\"}"
   ]
  },
  {
   "cell_type": "code",
   "execution_count": 89,
   "id": "04f86dbd",
   "metadata": {},
   "outputs": [
    {
     "name": "stdout",
     "output_type": "stream",
     "text": [
      "{'you', 'the', 'wish', 'be', 'to', 'see', 'in', 'world', 'change'}\n"
     ]
    }
   ],
   "source": [
    "print(s)"
   ]
  },
  {
   "cell_type": "code",
   "execution_count": 90,
   "id": "b2275f9d",
   "metadata": {},
   "outputs": [
    {
     "data": {
      "text/plain": [
       "True"
      ]
     },
     "execution_count": 90,
     "metadata": {},
     "output_type": "execute_result"
    }
   ],
   "source": [
    "\"wish\" in s"
   ]
  },
  {
   "cell_type": "code",
   "execution_count": 91,
   "id": "c0361f18",
   "metadata": {},
   "outputs": [
    {
     "data": {
      "text/plain": [
       "9"
      ]
     },
     "execution_count": 91,
     "metadata": {},
     "output_type": "execute_result"
    }
   ],
   "source": [
    "len(s)"
   ]
  },
  {
   "cell_type": "code",
   "execution_count": 93,
   "id": "960989a3",
   "metadata": {},
   "outputs": [
    {
     "data": {
      "text/plain": [
       "{' ', 'a', 'b', 'c', 'e', 'g', 'h', 'n', 't'}"
      ]
     },
     "execution_count": 93,
     "metadata": {},
     "output_type": "execute_result"
    }
   ],
   "source": [
    "set(\"be the change\")"
   ]
  },
  {
   "cell_type": "code",
   "execution_count": 92,
   "id": "728b869f",
   "metadata": {},
   "outputs": [
    {
     "data": {
      "text/plain": [
       "{1, 2, 3}"
      ]
     },
     "execution_count": 92,
     "metadata": {},
     "output_type": "execute_result"
    }
   ],
   "source": [
    "set([1, 2, 3, 1, 2, 3])"
   ]
  },
  {
   "cell_type": "code",
   "execution_count": 94,
   "id": "9f3e75cf",
   "metadata": {},
   "outputs": [
    {
     "data": {
      "text/plain": [
       "{' ', 'd', 'e', 'h', 'l', 'o', 'r', 'w'}"
      ]
     },
     "execution_count": 94,
     "metadata": {},
     "output_type": "execute_result"
    }
   ],
   "source": [
    "set('hello world')"
   ]
  },
  {
   "cell_type": "code",
   "execution_count": 95,
   "id": "8c0d35b9",
   "metadata": {},
   "outputs": [
    {
     "name": "stdout",
     "output_type": "stream",
     "text": [
      "{1, 2, 3, 4, 5, 6}\n"
     ]
    }
   ],
   "source": [
    "s = {1, 2, 3, 4, 5, 6}\n",
    "print(s)"
   ]
  },
  {
   "cell_type": "markdown",
   "id": "1bb1a7ee",
   "metadata": {},
   "source": [
    "## Set Operation"
   ]
  },
  {
   "cell_type": "markdown",
   "id": "f72c5fb3",
   "metadata": {},
   "source": [
    "### Intersection\n",
    "- learners enrolled in both the Calculus and Linear Algebra course"
   ]
  },
  {
   "cell_type": "code",
   "execution_count": 96,
   "id": "3bdcbca7",
   "metadata": {},
   "outputs": [],
   "source": [
    "calculus = {\"Rahul\", \"Amrit\", \"Radha\", \"Aakash\"}\n",
    "\n",
    "linear = {\"Amir\", \"Amol\", \"Rahul\", \"Satya\", \"Sahil\", \"Radha\"}"
   ]
  },
  {
   "cell_type": "code",
   "execution_count": 97,
   "id": "ddb6452d",
   "metadata": {},
   "outputs": [
    {
     "data": {
      "text/plain": [
       "{'Radha', 'Rahul'}"
      ]
     },
     "execution_count": 97,
     "metadata": {},
     "output_type": "execute_result"
    }
   ],
   "source": [
    "calculus.intersection(linear)"
   ]
  },
  {
   "cell_type": "code",
   "execution_count": 98,
   "id": "6da3edd3",
   "metadata": {},
   "outputs": [
    {
     "data": {
      "text/plain": [
       "{'Radha', 'Rahul'}"
      ]
     },
     "execution_count": 98,
     "metadata": {},
     "output_type": "execute_result"
    }
   ],
   "source": [
    "linear.intersection(calculus)"
   ]
  },
  {
   "cell_type": "markdown",
   "id": "d4ed6e78",
   "metadata": {},
   "source": [
    "## Union\n",
    "- students enrolled in either of the two courses"
   ]
  },
  {
   "cell_type": "code",
   "execution_count": 99,
   "id": "191de536",
   "metadata": {},
   "outputs": [
    {
     "data": {
      "text/plain": [
       "{'Aakash', 'Amir', 'Amol', 'Amrit', 'Radha', 'Rahul', 'Sahil', 'Satya'}"
      ]
     },
     "execution_count": 99,
     "metadata": {},
     "output_type": "execute_result"
    }
   ],
   "source": [
    "calculus.union(linear)"
   ]
  },
  {
   "cell_type": "code",
   "execution_count": 100,
   "id": "5ff920e3",
   "metadata": {},
   "outputs": [],
   "source": [
    "res = calculus.union(linear)"
   ]
  },
  {
   "cell_type": "code",
   "execution_count": 101,
   "id": "4e87a765",
   "metadata": {},
   "outputs": [
    {
     "data": {
      "text/plain": [
       "8"
      ]
     },
     "execution_count": 101,
     "metadata": {},
     "output_type": "execute_result"
    }
   ],
   "source": [
    "len(res)"
   ]
  },
  {
   "cell_type": "code",
   "execution_count": 102,
   "id": "34b7ad74",
   "metadata": {},
   "outputs": [
    {
     "data": {
      "text/plain": [
       "{'Aakash', 'Amir', 'Amol', 'Amrit', 'Radha', 'Rahul', 'Sahil', 'Satya'}"
      ]
     },
     "execution_count": 102,
     "metadata": {},
     "output_type": "execute_result"
    }
   ],
   "source": [
    "linear.union(calculus) # new set as output"
   ]
  },
  {
   "cell_type": "code",
   "execution_count": 106,
   "id": "403305d4",
   "metadata": {},
   "outputs": [],
   "source": [
    "# linear.update(calculus) => it will update the linear set!!"
   ]
  },
  {
   "cell_type": "markdown",
   "id": "d3c06cd4",
   "metadata": {},
   "source": [
    "## Quizzes"
   ]
  },
  {
   "cell_type": "code",
   "execution_count": 103,
   "id": "46e725cf",
   "metadata": {},
   "outputs": [
    {
     "data": {
      "text/plain": [
       "{'Amir', 'Amol', 'Radha', 'Rahul', 'Sahil', 'Satya'}"
      ]
     },
     "execution_count": 103,
     "metadata": {},
     "output_type": "execute_result"
    }
   ],
   "source": [
    "linear"
   ]
  },
  {
   "cell_type": "code",
   "execution_count": 104,
   "id": "7eae21b1",
   "metadata": {},
   "outputs": [],
   "source": [
    "linear.add(\"Radha\")"
   ]
  },
  {
   "cell_type": "code",
   "execution_count": 105,
   "id": "23f7cd1a",
   "metadata": {},
   "outputs": [
    {
     "data": {
      "text/plain": [
       "{'Amir', 'Amol', 'Radha', 'Rahul', 'Sahil', 'Satya'}"
      ]
     },
     "execution_count": 105,
     "metadata": {},
     "output_type": "execute_result"
    }
   ],
   "source": [
    "linear"
   ]
  },
  {
   "cell_type": "code",
   "execution_count": null,
   "id": "c5ec4677",
   "metadata": {},
   "outputs": [],
   "source": []
  },
  {
   "cell_type": "code",
   "execution_count": 107,
   "id": "eb4d660b",
   "metadata": {},
   "outputs": [],
   "source": [
    "a = {1, 2, 3}\n",
    "b = {4, 5, 6}\n",
    "\n",
    "a.update(b)"
   ]
  },
  {
   "cell_type": "code",
   "execution_count": 108,
   "id": "56a9db37",
   "metadata": {},
   "outputs": [
    {
     "name": "stdout",
     "output_type": "stream",
     "text": [
      "{1, 2, 3, 4, 5, 6}\n"
     ]
    }
   ],
   "source": [
    "print(a)"
   ]
  },
  {
   "cell_type": "code",
   "execution_count": 109,
   "id": "c66b8f74",
   "metadata": {},
   "outputs": [
    {
     "name": "stdout",
     "output_type": "stream",
     "text": [
      "{4, 5, 6}\n"
     ]
    }
   ],
   "source": [
    "print(b)"
   ]
  },
  {
   "cell_type": "code",
   "execution_count": 110,
   "id": "2c039b52",
   "metadata": {},
   "outputs": [
    {
     "name": "stdout",
     "output_type": "stream",
     "text": [
      "{1, 2, 3, 4, 5}\n"
     ]
    }
   ],
   "source": [
    "c = {1, 2, 3}\n",
    "d = {3, 4, 5}\n",
    "\n",
    "res = c.union(d)\n",
    "print(res)"
   ]
  },
  {
   "cell_type": "code",
   "execution_count": 111,
   "id": "754ef5dc",
   "metadata": {},
   "outputs": [
    {
     "name": "stdout",
     "output_type": "stream",
     "text": [
      "{1, 2, 3}\n"
     ]
    }
   ],
   "source": [
    "print(c)"
   ]
  },
  {
   "cell_type": "code",
   "execution_count": 112,
   "id": "83d0c696",
   "metadata": {},
   "outputs": [
    {
     "name": "stdout",
     "output_type": "stream",
     "text": [
      "{3, 4, 5}\n"
     ]
    }
   ],
   "source": [
    "print(d)"
   ]
  },
  {
   "cell_type": "markdown",
   "id": "eb0f7f05",
   "metadata": {},
   "source": [
    "## Dictionaries"
   ]
  },
  {
   "cell_type": "code",
   "execution_count": 114,
   "id": "2186d61f",
   "metadata": {},
   "outputs": [],
   "source": [
    "fruits = {\"Apple\": 120, \"Mango\": 200, \"Banana\": 60,\n",
    "          \"Papaya\": 50, \"Kiwi\": 400, \"Lichi\": 60,\n",
    "          \"Watermelon\": 80, \"Guava\": 100\n",
    "         }"
   ]
  },
  {
   "cell_type": "code",
   "execution_count": 115,
   "id": "f28931fc",
   "metadata": {},
   "outputs": [],
   "source": [
    "# all unique keys"
   ]
  },
  {
   "cell_type": "code",
   "execution_count": 116,
   "id": "660c8184",
   "metadata": {},
   "outputs": [
    {
     "name": "stdout",
     "output_type": "stream",
     "text": [
      "{'Apple': 120, 'Mango': 200, 'Banana': 60, 'Papaya': 50, 'Kiwi': 400, 'Lichi': 60, 'Watermelon': 80, 'Guava': 100}\n"
     ]
    }
   ],
   "source": [
    "print(fruits)"
   ]
  },
  {
   "cell_type": "code",
   "execution_count": 117,
   "id": "ede6a732",
   "metadata": {},
   "outputs": [
    {
     "name": "stdout",
     "output_type": "stream",
     "text": [
      "Python 3.9.12\r\n"
     ]
    }
   ],
   "source": [
    "!python --version"
   ]
  },
  {
   "cell_type": "code",
   "execution_count": 118,
   "id": "6b7ab3f0",
   "metadata": {},
   "outputs": [
    {
     "ename": "KeyError",
     "evalue": "0",
     "output_type": "error",
     "traceback": [
      "\u001b[0;31m---------------------------------------------------------------------------\u001b[0m",
      "\u001b[0;31mKeyError\u001b[0m                                  Traceback (most recent call last)",
      "Input \u001b[0;32mIn [118]\u001b[0m, in \u001b[0;36m<cell line: 1>\u001b[0;34m()\u001b[0m\n\u001b[0;32m----> 1\u001b[0m \u001b[43mfruits\u001b[49m\u001b[43m[\u001b[49m\u001b[38;5;241;43m0\u001b[39;49m\u001b[43m]\u001b[49m\n",
      "\u001b[0;31mKeyError\u001b[0m: 0"
     ]
    }
   ],
   "source": [
    "# fruits[0] => no indexing"
   ]
  },
  {
   "cell_type": "code",
   "execution_count": 120,
   "id": "c762d616",
   "metadata": {},
   "outputs": [
    {
     "data": {
      "text/plain": [
       "120"
      ]
     },
     "execution_count": 120,
     "metadata": {},
     "output_type": "execute_result"
    }
   ],
   "source": [
    "fruits['Apple']"
   ]
  },
  {
   "cell_type": "code",
   "execution_count": 121,
   "id": "8a45e374",
   "metadata": {},
   "outputs": [
    {
     "data": {
      "text/plain": [
       "60"
      ]
     },
     "execution_count": 121,
     "metadata": {},
     "output_type": "execute_result"
    }
   ],
   "source": [
    "fruits['Banana']"
   ]
  },
  {
   "cell_type": "markdown",
   "id": "473004c8",
   "metadata": {},
   "source": [
    "## Add data"
   ]
  },
  {
   "cell_type": "code",
   "execution_count": 122,
   "id": "ab8032f6",
   "metadata": {},
   "outputs": [
    {
     "name": "stdout",
     "output_type": "stream",
     "text": [
      "{'a': 1, 'b': 2, 'c': 3}\n"
     ]
    }
   ],
   "source": [
    "d = {\"a\": 1, \"b\": 2, \"c\": 3}\n",
    "print(d)"
   ]
  },
  {
   "cell_type": "code",
   "execution_count": 123,
   "id": "9f69dde1",
   "metadata": {},
   "outputs": [],
   "source": [
    "d['d'] = 55"
   ]
  },
  {
   "cell_type": "code",
   "execution_count": 124,
   "id": "9317124c",
   "metadata": {},
   "outputs": [
    {
     "name": "stdout",
     "output_type": "stream",
     "text": [
      "{'a': 1, 'b': 2, 'c': 3, 'd': 55}\n"
     ]
    }
   ],
   "source": [
    "print(d)"
   ]
  },
  {
   "cell_type": "code",
   "execution_count": 125,
   "id": "19ce608d",
   "metadata": {},
   "outputs": [
    {
     "name": "stdout",
     "output_type": "stream",
     "text": [
      "55\n"
     ]
    }
   ],
   "source": [
    "print(d['d'])"
   ]
  },
  {
   "cell_type": "code",
   "execution_count": 126,
   "id": "f2bd770c",
   "metadata": {},
   "outputs": [
    {
     "data": {
      "text/plain": [
       "{'Apple': 120,\n",
       " 'Mango': 200,\n",
       " 'Banana': 60,\n",
       " 'Papaya': 50,\n",
       " 'Kiwi': 400,\n",
       " 'Lichi': 60,\n",
       " 'Watermelon': 80,\n",
       " 'Guava': 100}"
      ]
     },
     "execution_count": 126,
     "metadata": {},
     "output_type": "execute_result"
    }
   ],
   "source": [
    "fruits"
   ]
  },
  {
   "cell_type": "code",
   "execution_count": 127,
   "id": "2a034be7",
   "metadata": {},
   "outputs": [],
   "source": [
    "fruits['Grapes'] = 50"
   ]
  },
  {
   "cell_type": "code",
   "execution_count": 128,
   "id": "c0f901ce",
   "metadata": {},
   "outputs": [
    {
     "data": {
      "text/plain": [
       "{'Apple': 120,\n",
       " 'Mango': 200,\n",
       " 'Banana': 60,\n",
       " 'Papaya': 50,\n",
       " 'Kiwi': 400,\n",
       " 'Lichi': 60,\n",
       " 'Watermelon': 80,\n",
       " 'Guava': 100,\n",
       " 'Grapes': 50}"
      ]
     },
     "execution_count": 128,
     "metadata": {},
     "output_type": "execute_result"
    }
   ],
   "source": [
    "fruits"
   ]
  },
  {
   "cell_type": "code",
   "execution_count": 129,
   "id": "c9d3b009",
   "metadata": {},
   "outputs": [],
   "source": [
    "# Both sets and dictionaries are mutable"
   ]
  },
  {
   "cell_type": "code",
   "execution_count": 130,
   "id": "1cb57d92",
   "metadata": {},
   "outputs": [
    {
     "data": {
      "text/plain": [
       "dict"
      ]
     },
     "execution_count": 130,
     "metadata": {},
     "output_type": "execute_result"
    }
   ],
   "source": [
    "type(fruits)"
   ]
  },
  {
   "cell_type": "markdown",
   "id": "7bbd52d0",
   "metadata": {},
   "source": [
    "## Empty curly braces"
   ]
  },
  {
   "cell_type": "code",
   "execution_count": 131,
   "id": "893d1375",
   "metadata": {},
   "outputs": [
    {
     "data": {
      "text/plain": [
       "dict"
      ]
     },
     "execution_count": 131,
     "metadata": {},
     "output_type": "execute_result"
    }
   ],
   "source": [
    "d = {}\n",
    "type(d)"
   ]
  },
  {
   "cell_type": "code",
   "execution_count": 133,
   "id": "f366757f",
   "metadata": {},
   "outputs": [
    {
     "data": {
      "text/plain": [
       "set"
      ]
     },
     "execution_count": 133,
     "metadata": {},
     "output_type": "execute_result"
    }
   ],
   "source": [
    "s = set()\n",
    "type(s)"
   ]
  },
  {
   "cell_type": "code",
   "execution_count": 134,
   "id": "bbe8b54f",
   "metadata": {},
   "outputs": [
    {
     "data": {
      "text/plain": [
       "{'Apple': 120,\n",
       " 'Mango': 200,\n",
       " 'Banana': 60,\n",
       " 'Papaya': 50,\n",
       " 'Kiwi': 400,\n",
       " 'Lichi': 60,\n",
       " 'Watermelon': 80,\n",
       " 'Guava': 100,\n",
       " 'Grapes': 50}"
      ]
     },
     "execution_count": 134,
     "metadata": {},
     "output_type": "execute_result"
    }
   ],
   "source": [
    "fruits"
   ]
  },
  {
   "cell_type": "code",
   "execution_count": 135,
   "id": "7d694604",
   "metadata": {},
   "outputs": [
    {
     "ename": "KeyError",
     "evalue": "'Orange'",
     "output_type": "error",
     "traceback": [
      "\u001b[0;31m---------------------------------------------------------------------------\u001b[0m",
      "\u001b[0;31mKeyError\u001b[0m                                  Traceback (most recent call last)",
      "Input \u001b[0;32mIn [135]\u001b[0m, in \u001b[0;36m<cell line: 1>\u001b[0;34m()\u001b[0m\n\u001b[0;32m----> 1\u001b[0m \u001b[43mfruits\u001b[49m\u001b[43m[\u001b[49m\u001b[38;5;124;43m'\u001b[39;49m\u001b[38;5;124;43mOrange\u001b[39;49m\u001b[38;5;124;43m'\u001b[39;49m\u001b[43m]\u001b[49m\n",
      "\u001b[0;31mKeyError\u001b[0m: 'Orange'"
     ]
    }
   ],
   "source": [
    "fruits['Orange']"
   ]
  },
  {
   "cell_type": "code",
   "execution_count": 136,
   "id": "c2e102b2",
   "metadata": {},
   "outputs": [
    {
     "data": {
      "text/plain": [
       "False"
      ]
     },
     "execution_count": 136,
     "metadata": {},
     "output_type": "execute_result"
    }
   ],
   "source": [
    "'Orange' in fruits"
   ]
  },
  {
   "cell_type": "code",
   "execution_count": 137,
   "id": "f5022199",
   "metadata": {},
   "outputs": [
    {
     "data": {
      "text/plain": [
       "True"
      ]
     },
     "execution_count": 137,
     "metadata": {},
     "output_type": "execute_result"
    }
   ],
   "source": [
    "'Grapes' in fruits"
   ]
  },
  {
   "cell_type": "markdown",
   "id": "64810fa2",
   "metadata": {},
   "source": [
    "## get method"
   ]
  },
  {
   "cell_type": "code",
   "execution_count": 140,
   "id": "d4f524c0",
   "metadata": {},
   "outputs": [],
   "source": [
    "fruits.get('Orange') # nothing => does not exist"
   ]
  },
  {
   "cell_type": "code",
   "execution_count": 139,
   "id": "9ccb7059",
   "metadata": {},
   "outputs": [
    {
     "data": {
      "text/plain": [
       "50"
      ]
     },
     "execution_count": 139,
     "metadata": {},
     "output_type": "execute_result"
    }
   ],
   "source": [
    "fruits.get('Grapes') # returns the value"
   ]
  },
  {
   "cell_type": "code",
   "execution_count": 141,
   "id": "158366a9",
   "metadata": {},
   "outputs": [
    {
     "data": {
      "text/plain": [
       "-1"
      ]
     },
     "execution_count": 141,
     "metadata": {},
     "output_type": "execute_result"
    }
   ],
   "source": [
    "fruits.get('Orange', -1) # set the default value if doesn't exist"
   ]
  },
  {
   "cell_type": "code",
   "execution_count": 142,
   "id": "93232522",
   "metadata": {},
   "outputs": [
    {
     "data": {
      "text/plain": [
       "50"
      ]
     },
     "execution_count": 142,
     "metadata": {},
     "output_type": "execute_result"
    }
   ],
   "source": [
    "fruits.get('Grapes', 0) # returns the value"
   ]
  },
  {
   "cell_type": "code",
   "execution_count": 143,
   "id": "acf8d805",
   "metadata": {},
   "outputs": [
    {
     "name": "stdout",
     "output_type": "stream",
     "text": [
      "1\n",
      "2\n",
      "3\n",
      "0\n"
     ]
    }
   ],
   "source": [
    "d = {\"a\": 1, \"b\": 2, \"c\": 3}\n",
    "print(d.get(\"a\", 0)) # 1\n",
    "print(d.get(\"b\", 0)) # 2\n",
    "print(d.get(\"c\", 0)) # 3\n",
    "print(d.get(\"d\", 0)) # 0"
   ]
  },
  {
   "cell_type": "markdown",
   "id": "a13fd2b3",
   "metadata": {},
   "source": [
    "## Update the data"
   ]
  },
  {
   "cell_type": "code",
   "execution_count": 144,
   "id": "c32952e4",
   "metadata": {},
   "outputs": [
    {
     "data": {
      "text/plain": [
       "{'Apple': 120,\n",
       " 'Mango': 200,\n",
       " 'Banana': 60,\n",
       " 'Papaya': 50,\n",
       " 'Kiwi': 400,\n",
       " 'Lichi': 60,\n",
       " 'Watermelon': 80,\n",
       " 'Guava': 100,\n",
       " 'Grapes': 50}"
      ]
     },
     "execution_count": 144,
     "metadata": {},
     "output_type": "execute_result"
    }
   ],
   "source": [
    "fruits"
   ]
  },
  {
   "cell_type": "code",
   "execution_count": 146,
   "id": "8c866f39",
   "metadata": {},
   "outputs": [
    {
     "data": {
      "text/plain": [
       "{'Apple': 150,\n",
       " 'Mango': 200,\n",
       " 'Banana': 60,\n",
       " 'Papaya': 50,\n",
       " 'Kiwi': 400,\n",
       " 'Lichi': 60,\n",
       " 'Watermelon': 80,\n",
       " 'Guava': 100,\n",
       " 'Grapes': 50}"
      ]
     },
     "execution_count": 146,
     "metadata": {},
     "output_type": "execute_result"
    }
   ],
   "source": [
    "fruits['Apple'] = 150\n",
    "fruits"
   ]
  },
  {
   "cell_type": "code",
   "execution_count": 148,
   "id": "b58eb954",
   "metadata": {},
   "outputs": [],
   "source": [
    "fruits.update({'Lichi': 70, \"Jackfruit\": 50, \"Orange\": 90, \"Pear\": 70})"
   ]
  },
  {
   "cell_type": "code",
   "execution_count": 149,
   "id": "17d91e3d",
   "metadata": {},
   "outputs": [
    {
     "data": {
      "text/plain": [
       "{'Apple': 150,\n",
       " 'Mango': 200,\n",
       " 'Banana': 60,\n",
       " 'Papaya': 50,\n",
       " 'Kiwi': 400,\n",
       " 'Lichi': 70,\n",
       " 'Watermelon': 80,\n",
       " 'Guava': 100,\n",
       " 'Grapes': 50,\n",
       " 'Jackfruit': 50,\n",
       " 'Orange': 90,\n",
       " 'Pear': 70}"
      ]
     },
     "execution_count": 149,
     "metadata": {},
     "output_type": "execute_result"
    }
   ],
   "source": [
    "fruits"
   ]
  },
  {
   "cell_type": "code",
   "execution_count": 150,
   "id": "d9d59fb6",
   "metadata": {},
   "outputs": [
    {
     "data": {
      "text/plain": [
       "12"
      ]
     },
     "execution_count": 150,
     "metadata": {},
     "output_type": "execute_result"
    }
   ],
   "source": [
    "len(fruits)"
   ]
  },
  {
   "cell_type": "code",
   "execution_count": 152,
   "id": "c7e08d60",
   "metadata": {},
   "outputs": [],
   "source": [
    "# dir(d)"
   ]
  },
  {
   "cell_type": "code",
   "execution_count": 153,
   "id": "c6eb264d",
   "metadata": {},
   "outputs": [
    {
     "data": {
      "text/plain": [
       "100"
      ]
     },
     "execution_count": 153,
     "metadata": {},
     "output_type": "execute_result"
    }
   ],
   "source": [
    "fruits.pop('Guava')"
   ]
  },
  {
   "cell_type": "code",
   "execution_count": 154,
   "id": "759602b7",
   "metadata": {},
   "outputs": [
    {
     "data": {
      "text/plain": [
       "{'Apple': 150,\n",
       " 'Mango': 200,\n",
       " 'Banana': 60,\n",
       " 'Papaya': 50,\n",
       " 'Kiwi': 400,\n",
       " 'Lichi': 70,\n",
       " 'Watermelon': 80,\n",
       " 'Grapes': 50,\n",
       " 'Jackfruit': 50,\n",
       " 'Orange': 90,\n",
       " 'Pear': 70}"
      ]
     },
     "execution_count": 154,
     "metadata": {},
     "output_type": "execute_result"
    }
   ],
   "source": [
    "fruits"
   ]
  },
  {
   "cell_type": "markdown",
   "id": "2de01266",
   "metadata": {},
   "source": [
    "## Iterate on dict"
   ]
  },
  {
   "cell_type": "code",
   "execution_count": 156,
   "id": "d245abfc",
   "metadata": {},
   "outputs": [
    {
     "name": "stdout",
     "output_type": "stream",
     "text": [
      "Apple\n",
      "Mango\n",
      "Banana\n",
      "Papaya\n",
      "Kiwi\n",
      "Lichi\n",
      "Watermelon\n",
      "Grapes\n",
      "Jackfruit\n",
      "Orange\n",
      "Pear\n"
     ]
    }
   ],
   "source": [
    "for i in fruits:\n",
    "    print(i) # key"
   ]
  },
  {
   "cell_type": "code",
   "execution_count": 157,
   "id": "360d6c7c",
   "metadata": {},
   "outputs": [
    {
     "name": "stdout",
     "output_type": "stream",
     "text": [
      "Apple 150\n",
      "Mango 200\n",
      "Banana 60\n",
      "Papaya 50\n",
      "Kiwi 400\n",
      "Lichi 70\n",
      "Watermelon 80\n",
      "Grapes 50\n",
      "Jackfruit 50\n",
      "Orange 90\n",
      "Pear 70\n"
     ]
    }
   ],
   "source": [
    "for i in fruits:\n",
    "    print(i, fruits[i]) # key"
   ]
  },
  {
   "cell_type": "markdown",
   "id": "fee62756",
   "metadata": {},
   "source": [
    "## Quiz"
   ]
  },
  {
   "cell_type": "code",
   "execution_count": 158,
   "id": "a0039863",
   "metadata": {},
   "outputs": [
    {
     "name": "stdout",
     "output_type": "stream",
     "text": [
      "<class 'dict'>\n"
     ]
    }
   ],
   "source": [
    "d = {}\n",
    "print(type(d))"
   ]
  },
  {
   "cell_type": "code",
   "execution_count": 160,
   "id": "0f86dc5e",
   "metadata": {},
   "outputs": [
    {
     "name": "stdout",
     "output_type": "stream",
     "text": [
      "1 4 9 "
     ]
    }
   ],
   "source": [
    "a = {1: 1, 2: 4, 3: 9}\n",
    "\n",
    "for x in a:\n",
    "#     print(x)\n",
    "    print(a[x], end=' ')"
   ]
  },
  {
   "cell_type": "markdown",
   "id": "d8d11a74",
   "metadata": {},
   "source": [
    "## Challenge:\n",
    "\n",
    "Take an input string\n",
    "\n",
    "Find the freq of each letter and return the letter and their freq\n",
    "- ex: \"Hello\"\n",
    "\n",
    "'H' -> 1\n",
    "\n",
    "'e' -> 1\n",
    "\n",
    "'l' -> 2\n",
    "\n",
    "'o' -> 1\n"
   ]
  },
  {
   "cell_type": "code",
   "execution_count": 161,
   "id": "64852799",
   "metadata": {},
   "outputs": [
    {
     "name": "stdout",
     "output_type": "stream",
     "text": [
      "helloworld\n"
     ]
    }
   ],
   "source": [
    "s = input()"
   ]
  },
  {
   "cell_type": "code",
   "execution_count": 163,
   "id": "e2b14abb",
   "metadata": {},
   "outputs": [],
   "source": [
    "d = {}\n",
    "\n",
    "for i in s:\n",
    "    if i in d: # increment the value\n",
    "        d[i] += 1\n",
    "    else: # not present => add to the dictionary\n",
    "        d[i] = 1"
   ]
  },
  {
   "cell_type": "code",
   "execution_count": 164,
   "id": "6f419a77",
   "metadata": {},
   "outputs": [
    {
     "name": "stdout",
     "output_type": "stream",
     "text": [
      "{'h': 1, 'e': 1, 'l': 3, 'o': 2, 'w': 1, 'r': 1, 'd': 1}\n"
     ]
    }
   ],
   "source": [
    "print(d)"
   ]
  },
  {
   "cell_type": "markdown",
   "id": "6def30fd",
   "metadata": {},
   "source": [
    "## Doubts"
   ]
  },
  {
   "cell_type": "code",
   "execution_count": 166,
   "id": "f6ad166e",
   "metadata": {},
   "outputs": [],
   "source": [
    "t = \"112334\"\n",
    "\n",
    "s = set(t)"
   ]
  },
  {
   "cell_type": "code",
   "execution_count": 167,
   "id": "7a5da984",
   "metadata": {},
   "outputs": [
    {
     "name": "stdout",
     "output_type": "stream",
     "text": [
      "{'4', '2', '3', '1'}\n"
     ]
    }
   ],
   "source": [
    "print(s)"
   ]
  },
  {
   "cell_type": "code",
   "execution_count": 171,
   "id": "2deed139",
   "metadata": {},
   "outputs": [],
   "source": [
    "L = [{'a': 1, 'b': 5}, 5, 7]"
   ]
  },
  {
   "cell_type": "code",
   "execution_count": 172,
   "id": "0916018b",
   "metadata": {},
   "outputs": [
    {
     "data": {
      "text/plain": [
       "1"
      ]
     },
     "execution_count": 172,
     "metadata": {},
     "output_type": "execute_result"
    }
   ],
   "source": [
    "L[0]['a']"
   ]
  },
  {
   "cell_type": "code",
   "execution_count": 173,
   "id": "80ebd439",
   "metadata": {},
   "outputs": [
    {
     "data": {
      "text/plain": [
       "5"
      ]
     },
     "execution_count": 173,
     "metadata": {},
     "output_type": "execute_result"
    }
   ],
   "source": [
    "L[0]['b']"
   ]
  },
  {
   "cell_type": "code",
   "execution_count": null,
   "id": "c8f28833",
   "metadata": {},
   "outputs": [],
   "source": []
  }
 ],
 "metadata": {
  "kernelspec": {
   "display_name": "Python 3 (ipykernel)",
   "language": "python",
   "name": "python3"
  },
  "language_info": {
   "codemirror_mode": {
    "name": "ipython",
    "version": 3
   },
   "file_extension": ".py",
   "mimetype": "text/x-python",
   "name": "python",
   "nbconvert_exporter": "python",
   "pygments_lexer": "ipython3",
   "version": "3.9.12"
  }
 },
 "nbformat": 4,
 "nbformat_minor": 5
}
