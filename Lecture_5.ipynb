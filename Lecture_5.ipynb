{
 "cells": [
  {
   "cell_type": "markdown",
   "id": "8474b6a3",
   "metadata": {},
   "source": [
    "## Lecture 5 - Iteration 2"
   ]
  },
  {
   "cell_type": "markdown",
   "id": "c94add66",
   "metadata": {},
   "source": [
    "1. Warm up\n",
    "2. Loop Jump Statements\n",
    "3. Nested Loops and Pattern Printing"
   ]
  },
  {
   "cell_type": "markdown",
   "id": "7aaf2d50",
   "metadata": {},
   "source": [
    "## Warm up - while and for loops"
   ]
  },
  {
   "cell_type": "markdown",
   "id": "9fedb5fd",
   "metadata": {},
   "source": [
    "Print the following numbers:\n",
    "1, 3, 5, 7, 9, 11"
   ]
  },
  {
   "cell_type": "code",
   "execution_count": 3,
   "id": "5d37e724",
   "metadata": {},
   "outputs": [
    {
     "name": "stdout",
     "output_type": "stream",
     "text": [
      "1, 3, 5, 7, 9, 11"
     ]
    }
   ],
   "source": [
    "for i in range(1, 12, 2):\n",
    "    if i == 11:\n",
    "        print(i, end='')\n",
    "    else:\n",
    "        print(i, end=', ')"
   ]
  },
  {
   "cell_type": "markdown",
   "id": "22f1835c",
   "metadata": {},
   "source": [
    "### Quiz"
   ]
  },
  {
   "cell_type": "code",
   "execution_count": 4,
   "id": "12212fb9",
   "metadata": {},
   "outputs": [
    {
     "name": "stdout",
     "output_type": "stream",
     "text": [
      "1 3 5 7 9 11 "
     ]
    }
   ],
   "source": [
    "i = 1\n",
    "step = 2\n",
    "\n",
    "while i <= 11:\n",
    "    print(i, end=' ')\n",
    "    \n",
    "    i += step"
   ]
  },
  {
   "cell_type": "markdown",
   "id": "877d8aa4",
   "metadata": {},
   "source": [
    "Print the following numbers:\n",
    "1, 3, 6, 10, 15, 21"
   ]
  },
  {
   "cell_type": "code",
   "execution_count": 8,
   "id": "82516e6c",
   "metadata": {},
   "outputs": [
    {
     "name": "stdout",
     "output_type": "stream",
     "text": [
      "1 3 6 10 15 21 "
     ]
    }
   ],
   "source": [
    "i = 1\n",
    "step = 2\n",
    "\n",
    "while i <= 21:\n",
    "    print(i, end=' ')\n",
    "    \n",
    "    i += step\n",
    "    step += 1\n",
    "\n",
    "# for loop => try as an exercise"
   ]
  },
  {
   "cell_type": "markdown",
   "id": "7394ca88",
   "metadata": {},
   "source": [
    "## Loop Jump Statements"
   ]
  },
  {
   "cell_type": "markdown",
   "id": "ce3b043c",
   "metadata": {},
   "source": [
    "## break statement"
   ]
  },
  {
   "cell_type": "code",
   "execution_count": 10,
   "id": "fb2f180e",
   "metadata": {},
   "outputs": [
    {
     "name": "stdout",
     "output_type": "stream",
     "text": [
      "1 2 3 4 5 6 7 8 9 Done\n"
     ]
    }
   ],
   "source": [
    "for i in range(1, 10):\n",
    "    print(i, end=' ')\n",
    "print('Done')"
   ]
  },
  {
   "cell_type": "code",
   "execution_count": 11,
   "id": "43c1eae6",
   "metadata": {},
   "outputs": [
    {
     "name": "stdout",
     "output_type": "stream",
     "text": [
      "1 2 3 4 Done\n"
     ]
    }
   ],
   "source": [
    "for i in range(1, 10):\n",
    "    if i == 5:\n",
    "        break\n",
    "    print(i, end=' ')\n",
    "print('Done')"
   ]
  },
  {
   "cell_type": "markdown",
   "id": "c663dbca",
   "metadata": {},
   "source": [
    "## Problem 1"
   ]
  },
  {
   "cell_type": "markdown",
   "id": "c75e3d29",
   "metadata": {},
   "source": [
    "Write a program that continually asks the user to enter a number until they enter a number 5.\n",
    "\n",
    "At this point the program should print how many numbers the user has entered.\n",
    "\n",
    "You may assume the user will only enter numbers.\n"
   ]
  },
  {
   "cell_type": "code",
   "execution_count": 2,
   "id": "e93d6d4d",
   "metadata": {},
   "outputs": [
    {
     "name": "stdout",
     "output_type": "stream",
     "text": [
      "6\n",
      "1\n",
      "2\n",
      "3\n",
      "4\n",
      "8\n",
      "3\n",
      "5\n",
      "8\n"
     ]
    }
   ],
   "source": [
    "cnt = 0\n",
    "while True:\n",
    "    n = int(input())\n",
    "    cnt += 1\n",
    "    if n == 5:\n",
    "        break\n",
    "\n",
    "print(cnt)"
   ]
  },
  {
   "cell_type": "code",
   "execution_count": 7,
   "id": "5ae80d17",
   "metadata": {},
   "outputs": [
    {
     "name": "stdout",
     "output_type": "stream",
     "text": [
      "7\n",
      "3\n",
      "5\n",
      "3\n"
     ]
    }
   ],
   "source": [
    "cnt = 0\n",
    "while True:\n",
    "    n = int(input())\n",
    "    cnt += 1\n",
    "    if n == 5:\n",
    "        break\n",
    "\n",
    "print(cnt)"
   ]
  },
  {
   "cell_type": "markdown",
   "id": "844b16ce",
   "metadata": {},
   "source": [
    "### Quiz - 2"
   ]
  },
  {
   "cell_type": "code",
   "execution_count": 8,
   "id": "11948f66",
   "metadata": {},
   "outputs": [
    {
     "name": "stdout",
     "output_type": "stream",
     "text": [
      "1 2 3 4 "
     ]
    }
   ],
   "source": [
    "for i in range(1, 10):\n",
    "    if i == 5:\n",
    "        break\n",
    "    print(i, end=' ')"
   ]
  },
  {
   "cell_type": "markdown",
   "id": "9172afef",
   "metadata": {},
   "source": [
    "## continue statement"
   ]
  },
  {
   "cell_type": "markdown",
   "id": "e4e365a3",
   "metadata": {},
   "source": [
    "print all except 5 (it's our unlucky number)"
   ]
  },
  {
   "cell_type": "code",
   "execution_count": 10,
   "id": "480f7ea3",
   "metadata": {},
   "outputs": [
    {
     "name": "stdout",
     "output_type": "stream",
     "text": [
      "1 2 3 4 6 7 8 9 "
     ]
    }
   ],
   "source": [
    "for i in range(1, 10):\n",
    "    if i == 5:\n",
    "        continue\n",
    "    print(i, end=' ')"
   ]
  },
  {
   "cell_type": "markdown",
   "id": "dc123af5",
   "metadata": {},
   "source": [
    "### Quiz"
   ]
  },
  {
   "cell_type": "code",
   "execution_count": 13,
   "id": "399cba4c",
   "metadata": {},
   "outputs": [
    {
     "name": "stdout",
     "output_type": "stream",
     "text": [
      "1 2 4 5 7 8 "
     ]
    }
   ],
   "source": [
    "for i in range(0,10):\n",
    "    if(i%3==0):\n",
    "        continue\n",
    "    print(i, end=' ')"
   ]
  },
  {
   "cell_type": "code",
   "execution_count": 14,
   "id": "589edcfd",
   "metadata": {},
   "outputs": [
    {
     "name": "stdout",
     "output_type": "stream",
     "text": [
      "10,7,4,1,"
     ]
    }
   ],
   "source": [
    "for i in range(10, -1, -3):\n",
    "    print(i, end = ',')"
   ]
  },
  {
   "cell_type": "code",
   "execution_count": 15,
   "id": "1d4c53d4",
   "metadata": {},
   "outputs": [
    {
     "name": "stdout",
     "output_type": "stream",
     "text": [
      "10,"
     ]
    }
   ],
   "source": [
    "for i in range(10, -1, -3):\n",
    "    print(i, end = ',')\n",
    "    break"
   ]
  },
  {
   "cell_type": "code",
   "execution_count": 16,
   "id": "a8faa391",
   "metadata": {},
   "outputs": [
    {
     "name": "stdout",
     "output_type": "stream",
     "text": [
      "10,7,4,1,"
     ]
    }
   ],
   "source": [
    "for i in range(10, -1, -3):\n",
    "    print(i, end = ',')\n",
    "    continue"
   ]
  },
  {
   "cell_type": "code",
   "execution_count": 17,
   "id": "5a415058",
   "metadata": {},
   "outputs": [
    {
     "name": "stdout",
     "output_type": "stream",
     "text": [
      "0\n",
      "0\n",
      "0\n",
      "0\n"
     ]
    }
   ],
   "source": [
    "for i in range(10, -1, -3):\n",
    "    print(0)\n",
    "    continue\n",
    "    print(i, end = ',')"
   ]
  },
  {
   "cell_type": "markdown",
   "id": "d599ee65",
   "metadata": {},
   "source": [
    "## Problem 2: Check Prime Number"
   ]
  },
  {
   "cell_type": "code",
   "execution_count": 40,
   "id": "b12cfcf3",
   "metadata": {},
   "outputs": [
    {
     "name": "stdout",
     "output_type": "stream",
     "text": [
      "17\n",
      "1 17 Prime\n"
     ]
    }
   ],
   "source": [
    "n = int(input())\n",
    "\n",
    "cnt = 0\n",
    "for i in range(1, n + 1):\n",
    "    if n % i == 0:\n",
    "        print(i, end=' ')\n",
    "        cnt += 1\n",
    "    if cnt > 2:\n",
    "        break\n",
    "\n",
    "if cnt == 2:\n",
    "    print('Prime')\n",
    "else:\n",
    "    print('Not prime')"
   ]
  },
  {
   "cell_type": "code",
   "execution_count": 41,
   "id": "b3869f5d",
   "metadata": {},
   "outputs": [],
   "source": [
    "# exercise: try to write the same code in your own way"
   ]
  },
  {
   "cell_type": "markdown",
   "id": "da20f40f",
   "metadata": {},
   "source": [
    "## pass statement"
   ]
  },
  {
   "cell_type": "code",
   "execution_count": 42,
   "id": "d614afaa",
   "metadata": {},
   "outputs": [],
   "source": [
    "# pass does nothing"
   ]
  },
  {
   "cell_type": "code",
   "execution_count": 43,
   "id": "5fca1c9e",
   "metadata": {},
   "outputs": [],
   "source": [
    "if i == 3:\n",
    "    pass"
   ]
  },
  {
   "cell_type": "code",
   "execution_count": 44,
   "id": "daf7f4cd",
   "metadata": {},
   "outputs": [],
   "source": [
    "for i in range(3):\n",
    "    pass"
   ]
  },
  {
   "cell_type": "code",
   "execution_count": 46,
   "id": "bee53521",
   "metadata": {},
   "outputs": [
    {
     "name": "stdout",
     "output_type": "stream",
     "text": [
      "0\n",
      "1\n",
      "2\n"
     ]
    }
   ],
   "source": [
    "for i in range(3):\n",
    "    if i == 0:\n",
    "        pass # a filler code => will be filed by you later on\n",
    "    print(i)"
   ]
  },
  {
   "cell_type": "code",
   "execution_count": null,
   "id": "73d8c93c",
   "metadata": {},
   "outputs": [],
   "source": []
  },
  {
   "cell_type": "code",
   "execution_count": null,
   "id": "c5072278",
   "metadata": {},
   "outputs": [],
   "source": []
  },
  {
   "cell_type": "code",
   "execution_count": null,
   "id": "24555e47",
   "metadata": {},
   "outputs": [],
   "source": []
  },
  {
   "cell_type": "markdown",
   "id": "4f209360",
   "metadata": {},
   "source": [
    "## Nested Loops and Pattern Printing"
   ]
  },
  {
   "cell_type": "markdown",
   "id": "bbfd6938",
   "metadata": {},
   "source": [
    "## Problem 3: Print N Stars"
   ]
  },
  {
   "cell_type": "code",
   "execution_count": 47,
   "id": "cf34d4c3",
   "metadata": {},
   "outputs": [
    {
     "name": "stdout",
     "output_type": "stream",
     "text": [
      "*\n",
      "*\n",
      "*\n"
     ]
    }
   ],
   "source": [
    "n = 3\n",
    "\n",
    "# ***\n",
    "\n",
    "for i in range(3):\n",
    "    print('*')"
   ]
  },
  {
   "cell_type": "code",
   "execution_count": 48,
   "id": "5bbff66a",
   "metadata": {},
   "outputs": [
    {
     "name": "stdout",
     "output_type": "stream",
     "text": [
      "* * * "
     ]
    }
   ],
   "source": [
    "for i in range(3):\n",
    "    print('*', end=' ')"
   ]
  },
  {
   "cell_type": "code",
   "execution_count": 49,
   "id": "c0f44c4e",
   "metadata": {},
   "outputs": [
    {
     "name": "stdout",
     "output_type": "stream",
     "text": [
      "***"
     ]
    }
   ],
   "source": [
    "for i in range(3):\n",
    "    print('*', end='')"
   ]
  },
  {
   "cell_type": "code",
   "execution_count": null,
   "id": "b502147f",
   "metadata": {},
   "outputs": [],
   "source": []
  },
  {
   "cell_type": "markdown",
   "id": "20e3165a",
   "metadata": {},
   "source": [
    "## Problem 4: Print square of stars"
   ]
  },
  {
   "cell_type": "code",
   "execution_count": 50,
   "id": "cb79a714",
   "metadata": {},
   "outputs": [],
   "source": [
    "# 4*4 square of stars\n"
   ]
  },
  {
   "cell_type": "markdown",
   "id": "c74e0330",
   "metadata": {},
   "source": [
    "```\n",
    "****\n",
    "****\n",
    "****\n",
    "****\n",
    "```"
   ]
  },
  {
   "cell_type": "code",
   "execution_count": 52,
   "id": "7cfdc354",
   "metadata": {},
   "outputs": [
    {
     "name": "stdout",
     "output_type": "stream",
     "text": [
      "****************"
     ]
    }
   ],
   "source": [
    "for i in range(4):\n",
    "    print('*', end='')\n",
    "for i in range(4):\n",
    "    print('*', end='')\n",
    "for i in range(4):\n",
    "    print('*', end='')\n",
    "for i in range(4):\n",
    "    print('*', end='')"
   ]
  },
  {
   "cell_type": "code",
   "execution_count": 53,
   "id": "9e879b9c",
   "metadata": {},
   "outputs": [
    {
     "name": "stdout",
     "output_type": "stream",
     "text": [
      "****\n",
      "****\n",
      "****\n",
      "****"
     ]
    }
   ],
   "source": [
    "for i in range(4):\n",
    "    print('*', end='')\n",
    "print()\n",
    "for i in range(4):\n",
    "    print('*', end='')\n",
    "print()\n",
    "for i in range(4):\n",
    "    print('*', end='')\n",
    "print()\n",
    "for i in range(4):\n",
    "    print('*', end='')"
   ]
  },
  {
   "cell_type": "code",
   "execution_count": 54,
   "id": "43f436de",
   "metadata": {},
   "outputs": [
    {
     "name": "stdout",
     "output_type": "stream",
     "text": [
      "****\n"
     ]
    }
   ],
   "source": [
    "for i in range(4):\n",
    "    print('*', end='')\n",
    "print()"
   ]
  },
  {
   "cell_type": "code",
   "execution_count": 55,
   "id": "d944a7d9",
   "metadata": {},
   "outputs": [
    {
     "name": "stdout",
     "output_type": "stream",
     "text": [
      "****\n",
      "****\n",
      "****\n",
      "****\n"
     ]
    }
   ],
   "source": [
    "# nested loop\n",
    "for j in range(4):\n",
    "    for i in range(4):\n",
    "        print('*', end='')\n",
    "    print()"
   ]
  },
  {
   "cell_type": "markdown",
   "id": "f0f22cae",
   "metadata": {},
   "source": [
    "### Quizzes"
   ]
  },
  {
   "cell_type": "code",
   "execution_count": 57,
   "id": "dcf5d18d",
   "metadata": {},
   "outputs": [
    {
     "name": "stdout",
     "output_type": "stream",
     "text": [
      "*\n"
     ]
    }
   ],
   "source": [
    "N = 1\n",
    "for i in range(N):\n",
    "    for j in range(N):\n",
    "        print('*', end='')\n",
    "    print('')"
   ]
  },
  {
   "cell_type": "code",
   "execution_count": 58,
   "id": "aa8f093d",
   "metadata": {},
   "outputs": [
    {
     "name": "stdout",
     "output_type": "stream",
     "text": [
      "*********"
     ]
    }
   ],
   "source": [
    "for i in range(3):\n",
    "    print('*', end='')\n",
    "for i in range(3):\n",
    "    print('*', end='')\n",
    "for i in range(3):\n",
    "    print('*', end='')"
   ]
  },
  {
   "cell_type": "code",
   "execution_count": 59,
   "id": "09c6a710",
   "metadata": {},
   "outputs": [
    {
     "name": "stdout",
     "output_type": "stream",
     "text": [
      "**\n"
     ]
    }
   ],
   "source": [
    "for i in range(1):\n",
    "    for j in range(2):\n",
    "        print('*', end='')\n",
    "    print()"
   ]
  },
  {
   "cell_type": "code",
   "execution_count": 60,
   "id": "2e6237fa",
   "metadata": {},
   "outputs": [
    {
     "name": "stdout",
     "output_type": "stream",
     "text": [
      "*\n",
      "*\n"
     ]
    }
   ],
   "source": [
    "for i in range(2):\n",
    "    for j in range(1):\n",
    "        print('*', end='')\n",
    "    print()"
   ]
  },
  {
   "cell_type": "code",
   "execution_count": 62,
   "id": "c46a69e4",
   "metadata": {},
   "outputs": [
    {
     "name": "stdout",
     "output_type": "stream",
     "text": [
      "***\n",
      "***\n",
      "***\n"
     ]
    }
   ],
   "source": [
    "for i in range(3):\n",
    "    for j in range(3):\n",
    "        print('*', end='')\n",
    "    print()"
   ]
  },
  {
   "cell_type": "code",
   "execution_count": 63,
   "id": "37f661e3",
   "metadata": {},
   "outputs": [
    {
     "name": "stdout",
     "output_type": "stream",
     "text": [
      "***\n",
      "***\n",
      "***\n",
      "***\n"
     ]
    }
   ],
   "source": [
    "for i in range(4):\n",
    "    for j in range(3):\n",
    "        print('*', end='')\n",
    "    print()"
   ]
  },
  {
   "cell_type": "code",
   "execution_count": 64,
   "id": "ba4ba58a",
   "metadata": {},
   "outputs": [
    {
     "name": "stdout",
     "output_type": "stream",
     "text": [
      "****\n",
      "****\n",
      "****\n"
     ]
    }
   ],
   "source": [
    "for i in range(3):\n",
    "    for j in range(4):\n",
    "        print('*', end='')\n",
    "    print()"
   ]
  },
  {
   "cell_type": "markdown",
   "id": "386ee652",
   "metadata": {},
   "source": [
    "## Quiz"
   ]
  },
  {
   "cell_type": "code",
   "execution_count": 65,
   "id": "5694efda",
   "metadata": {},
   "outputs": [
    {
     "name": "stdout",
     "output_type": "stream",
     "text": [
      "3\n",
      "1\n",
      "1*\n",
      "1*3\n"
     ]
    }
   ],
   "source": [
    "N = int(input())\n",
    "for i in range(1, N + 1):\n",
    "    for j in range(1, i + 1):\n",
    "        if j % 2 == 0:\n",
    "            print('*', end='')\n",
    "        else:\n",
    "            print(j, end='')\n",
    "    print()"
   ]
  },
  {
   "cell_type": "code",
   "execution_count": null,
   "id": "50a40f42",
   "metadata": {},
   "outputs": [],
   "source": []
  },
  {
   "cell_type": "markdown",
   "id": "23a6b445",
   "metadata": {},
   "source": [
    "## Problem 5: Staircase pattern"
   ]
  },
  {
   "cell_type": "markdown",
   "id": "703a5aa9",
   "metadata": {},
   "source": [
    "N = 4\n",
    "```\n",
    "*\n",
    "**\n",
    "***\n",
    "****\n",
    "```"
   ]
  },
  {
   "cell_type": "code",
   "execution_count": 69,
   "id": "04abb301",
   "metadata": {},
   "outputs": [
    {
     "name": "stdout",
     "output_type": "stream",
     "text": [
      "*\n",
      "**\n",
      "***\n",
      "****\n"
     ]
    }
   ],
   "source": [
    "N = 4\n",
    "for i in range(1, N + 1):\n",
    "#     print(i)\n",
    "    # want to print i stars\n",
    "    for j in range(i):\n",
    "        print('*', end='')\n",
    "    print()"
   ]
  },
  {
   "cell_type": "code",
   "execution_count": 73,
   "id": "988712d5",
   "metadata": {},
   "outputs": [
    {
     "name": "stdout",
     "output_type": "stream",
     "text": [
      "*\n",
      "**\n",
      "***\n",
      "****\n",
      "*****\n",
      "******\n",
      "*******\n",
      "********\n",
      "*********\n",
      "**********\n"
     ]
    }
   ],
   "source": [
    "N = 10\n",
    "\n",
    "for i in range(1, N + 1):\n",
    "    # want to print i stars\n",
    "    for j in range(1, i+1):\n",
    "        print('*', end='')\n",
    "    print()"
   ]
  },
  {
   "cell_type": "markdown",
   "id": "8194ea14",
   "metadata": {},
   "source": [
    "## Doubts"
   ]
  },
  {
   "cell_type": "code",
   "execution_count": 75,
   "id": "337dbabe",
   "metadata": {},
   "outputs": [
    {
     "name": "stdout",
     "output_type": "stream",
     "text": [
      "*\n",
      "**\n",
      "***\n",
      "****\n"
     ]
    }
   ],
   "source": [
    "N = 4\n",
    "for i in range(1, N + 1):\n",
    "    for j in range(i):\n",
    "        print('*', end='')\n",
    "    print()"
   ]
  },
  {
   "cell_type": "code",
   "execution_count": 76,
   "id": "9b63a214",
   "metadata": {},
   "outputs": [
    {
     "name": "stdout",
     "output_type": "stream",
     "text": [
      "*\n",
      "**\n",
      "***\n"
     ]
    }
   ],
   "source": [
    "N = 4\n",
    "for i in range(1, N):\n",
    "    for j in range(i):\n",
    "        print('*', end='')\n",
    "    print()"
   ]
  },
  {
   "cell_type": "code",
   "execution_count": null,
   "id": "61d1cd23",
   "metadata": {},
   "outputs": [],
   "source": []
  },
  {
   "cell_type": "code",
   "execution_count": null,
   "id": "9706fb76",
   "metadata": {},
   "outputs": [],
   "source": []
  }
 ],
 "metadata": {
  "kernelspec": {
   "display_name": "Python 3 (ipykernel)",
   "language": "python",
   "name": "python3"
  },
  "language_info": {
   "codemirror_mode": {
    "name": "ipython",
    "version": 3
   },
   "file_extension": ".py",
   "mimetype": "text/x-python",
   "name": "python",
   "nbconvert_exporter": "python",
   "pygments_lexer": "ipython3",
   "version": "3.9.12"
  }
 },
 "nbformat": 4,
 "nbformat_minor": 5
}
