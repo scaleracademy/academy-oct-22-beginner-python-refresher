{
 "cells": [
  {
   "cell_type": "markdown",
   "id": "a19d8d7a",
   "metadata": {},
   "source": [
    "## Lecture 11 - Strings 2"
   ]
  },
  {
   "cell_type": "markdown",
   "id": "480c1fc6",
   "metadata": {},
   "source": [
    "- Inbuilt Methods\n",
    "  - split\n",
    "  - join\n",
    "  - replace\n",
    "  - find\n",
    "  - count\n",
    "- in operator\n",
    "- Pattern Printing problem in one for loop\n",
    "- Formatted strings\n",
    "- Len Function\n",
    "- Count upper case\n",
    "- Convert upper case to lower case\n",
    "- Given a list of strings, concatenate them and repeat that N times\n",
    "- other methods\n",
    "   - isdigit\n",
    "   - isalpha\n",
    "   - islower\n",
    "   - isupper\n",
    "   - isspace\n",
    "   - lower\n",
    "   - upper\n",
    "- Count digits"
   ]
  },
  {
   "cell_type": "markdown",
   "id": "f7d373d1",
   "metadata": {},
   "source": [
    "## Recap and Inbuilt Methods"
   ]
  },
  {
   "cell_type": "code",
   "execution_count": 11,
   "id": "437ce779",
   "metadata": {},
   "outputs": [
    {
     "name": "stdout",
     "output_type": "stream",
     "text": [
      "HelloWorld\n"
     ]
    }
   ],
   "source": [
    "s1 = \"Hello\"\n",
    "s2 = \"World\"\n",
    "print(s1 + s2)"
   ]
  },
  {
   "cell_type": "code",
   "execution_count": 10,
   "id": "6ab24f1b",
   "metadata": {},
   "outputs": [
    {
     "name": "stdout",
     "output_type": "stream",
     "text": [
      "HelloHelloHello\n"
     ]
    }
   ],
   "source": [
    "s1 = \"Hello\"*3\n",
    "print(s1)"
   ]
  },
  {
   "cell_type": "code",
   "execution_count": 4,
   "id": "65eb9150",
   "metadata": {},
   "outputs": [],
   "source": [
    "s1 = \"hello\",\"world\""
   ]
  },
  {
   "cell_type": "code",
   "execution_count": 5,
   "id": "94a8298a",
   "metadata": {},
   "outputs": [
    {
     "name": "stdout",
     "output_type": "stream",
     "text": [
      "('hello', 'world')\n"
     ]
    }
   ],
   "source": [
    "print(s1)"
   ]
  },
  {
   "cell_type": "code",
   "execution_count": 8,
   "id": "466aaa25",
   "metadata": {},
   "outputs": [
    {
     "data": {
      "text/plain": [
       "tuple"
      ]
     },
     "execution_count": 8,
     "metadata": {},
     "output_type": "execute_result"
    }
   ],
   "source": [
    "type(s1)"
   ]
  },
  {
   "cell_type": "code",
   "execution_count": 6,
   "id": "ebdc70d6",
   "metadata": {},
   "outputs": [],
   "source": [
    "a = 1,2"
   ]
  },
  {
   "cell_type": "code",
   "execution_count": 7,
   "id": "a5f301ee",
   "metadata": {},
   "outputs": [
    {
     "name": "stdout",
     "output_type": "stream",
     "text": [
      "(1, 2)\n"
     ]
    }
   ],
   "source": [
    "print(a)"
   ]
  },
  {
   "cell_type": "code",
   "execution_count": 9,
   "id": "e49705fc",
   "metadata": {
    "scrolled": false
   },
   "outputs": [
    {
     "name": "stdout",
     "output_type": "stream",
     "text": [
      "hello world\n"
     ]
    }
   ],
   "source": [
    "print('hello', 'world')"
   ]
  },
  {
   "cell_type": "code",
   "execution_count": null,
   "id": "de1ca84c",
   "metadata": {},
   "outputs": [],
   "source": [
    "s1 = \"Hello\"\n",
    "s2 = \"World\""
   ]
  },
  {
   "cell_type": "code",
   "execution_count": 12,
   "id": "5e93faad",
   "metadata": {},
   "outputs": [
    {
     "data": {
      "text/plain": [
       "65"
      ]
     },
     "execution_count": 12,
     "metadata": {},
     "output_type": "execute_result"
    }
   ],
   "source": [
    "ord('A')"
   ]
  },
  {
   "cell_type": "code",
   "execution_count": 13,
   "id": "6e5b5eb2",
   "metadata": {},
   "outputs": [
    {
     "data": {
      "text/plain": [
       "97"
      ]
     },
     "execution_count": 13,
     "metadata": {},
     "output_type": "execute_result"
    }
   ],
   "source": [
    "ord('a')"
   ]
  },
  {
   "cell_type": "code",
   "execution_count": 14,
   "id": "361f8249",
   "metadata": {},
   "outputs": [
    {
     "data": {
      "text/plain": [
       "48"
      ]
     },
     "execution_count": 14,
     "metadata": {},
     "output_type": "execute_result"
    }
   ],
   "source": [
    "ord('0')"
   ]
  },
  {
   "cell_type": "code",
   "execution_count": 17,
   "id": "eec6a498",
   "metadata": {},
   "outputs": [],
   "source": [
    "s = 'Alexa, Switch off the lights.'"
   ]
  },
  {
   "cell_type": "code",
   "execution_count": 18,
   "id": "87fb4512",
   "metadata": {},
   "outputs": [
    {
     "name": "stdout",
     "output_type": "stream",
     "text": [
      "Switch off\n"
     ]
    }
   ],
   "source": [
    "print(s[7:17])"
   ]
  },
  {
   "cell_type": "code",
   "execution_count": 19,
   "id": "a704f7f9",
   "metadata": {},
   "outputs": [
    {
     "name": "stdout",
     "output_type": "stream",
     "text": [
      "Switch of\n"
     ]
    }
   ],
   "source": [
    "print(s[7:16])"
   ]
  },
  {
   "cell_type": "code",
   "execution_count": 20,
   "id": "c6cbd91a",
   "metadata": {},
   "outputs": [
    {
     "name": "stdout",
     "output_type": "stream",
     "text": [
      "Switch off the lights.\n"
     ]
    }
   ],
   "source": [
    "print(s[7:])"
   ]
  },
  {
   "cell_type": "code",
   "execution_count": 22,
   "id": "fa7688b6",
   "metadata": {},
   "outputs": [],
   "source": [
    "a = \"Hello\"\n",
    "b = a\n",
    "a = \"Yello\""
   ]
  },
  {
   "cell_type": "code",
   "execution_count": 23,
   "id": "76913f92",
   "metadata": {},
   "outputs": [
    {
     "name": "stdout",
     "output_type": "stream",
     "text": [
      "Hello\n"
     ]
    }
   ],
   "source": [
    "print(b)"
   ]
  },
  {
   "cell_type": "code",
   "execution_count": 24,
   "id": "054481b1",
   "metadata": {},
   "outputs": [
    {
     "name": "stdout",
     "output_type": "stream",
     "text": [
      "Yello\n"
     ]
    }
   ],
   "source": [
    "print(a)"
   ]
  },
  {
   "cell_type": "markdown",
   "id": "5d1fa693",
   "metadata": {},
   "source": [
    "## Case Conversions"
   ]
  },
  {
   "cell_type": "markdown",
   "id": "f856e282",
   "metadata": {},
   "source": [
    "### Given a string, convert from upper case to lower case"
   ]
  },
  {
   "cell_type": "code",
   "execution_count": 25,
   "id": "1a778bd9",
   "metadata": {},
   "outputs": [],
   "source": [
    "s = \"India\""
   ]
  },
  {
   "cell_type": "code",
   "execution_count": 26,
   "id": "6d841633",
   "metadata": {},
   "outputs": [
    {
     "name": "stdout",
     "output_type": "stream",
     "text": [
      "india\n"
     ]
    }
   ],
   "source": [
    "print(\"india\")"
   ]
  },
  {
   "cell_type": "code",
   "execution_count": 27,
   "id": "13f636d3",
   "metadata": {},
   "outputs": [],
   "source": [
    "s = \"SAHIL@scaler.com\""
   ]
  },
  {
   "cell_type": "code",
   "execution_count": 28,
   "id": "fd3042e1",
   "metadata": {},
   "outputs": [
    {
     "name": "stdout",
     "output_type": "stream",
     "text": [
      "sahil@scaler.com\n"
     ]
    }
   ],
   "source": [
    "print(\"sahil@scaler.com\")"
   ]
  },
  {
   "cell_type": "code",
   "execution_count": 30,
   "id": "8db953dd",
   "metadata": {},
   "outputs": [],
   "source": [
    "s = \"This is A very LARGE String!\""
   ]
  },
  {
   "cell_type": "code",
   "execution_count": 32,
   "id": "a2ba6e42",
   "metadata": {},
   "outputs": [
    {
     "name": "stdout",
     "output_type": "stream",
     "text": [
      "this is a very large string!\n"
     ]
    }
   ],
   "source": [
    "print(\"this is a very large string!\")"
   ]
  },
  {
   "cell_type": "markdown",
   "id": "0d28e89d",
   "metadata": {},
   "source": [
    "## Solution code"
   ]
  },
  {
   "cell_type": "code",
   "execution_count": 33,
   "id": "e3138b20",
   "metadata": {},
   "outputs": [],
   "source": [
    "s = \"This is A very LARGE String!\""
   ]
  },
  {
   "cell_type": "code",
   "execution_count": 41,
   "id": "af02957b",
   "metadata": {},
   "outputs": [
    {
     "name": "stdout",
     "output_type": "stream",
     "text": [
      "T A L A R G E S "
     ]
    }
   ],
   "source": [
    "for c in s:\n",
    "    if ord(c) >= 65 and ord(c) <= 90:\n",
    "        print(c, end=' ')"
   ]
  },
  {
   "cell_type": "code",
   "execution_count": 43,
   "id": "14463fb8",
   "metadata": {},
   "outputs": [
    {
     "name": "stdout",
     "output_type": "stream",
     "text": [
      "116 97 108 97 114 103 101 115 "
     ]
    }
   ],
   "source": [
    "for c in s:\n",
    "    if ord(c) >= 65 and ord(c) <= 90:\n",
    "        new_c = ord(c) + 32\n",
    "        print(new_c, end=' ')"
   ]
  },
  {
   "cell_type": "code",
   "execution_count": 44,
   "id": "6f015686",
   "metadata": {},
   "outputs": [
    {
     "name": "stdout",
     "output_type": "stream",
     "text": [
      "t a l a r g e s "
     ]
    }
   ],
   "source": [
    "for c in s:\n",
    "    if ord(c) >= 65 and ord(c) <= 90:\n",
    "        new_c = ord(c) + 32\n",
    "        res = chr(new_c)\n",
    "        print(res, end=' ')"
   ]
  },
  {
   "cell_type": "markdown",
   "id": "27ab3581",
   "metadata": {},
   "source": [
    "## build res string"
   ]
  },
  {
   "cell_type": "code",
   "execution_count": 49,
   "id": "965e3057",
   "metadata": {},
   "outputs": [
    {
     "name": "stdout",
     "output_type": "stream",
     "text": [
      "nishant\n"
     ]
    }
   ],
   "source": [
    "s = \"NishanT\"\n",
    "res_s = \"\"\n",
    "for c in s:\n",
    "    if ord(c) >= 65 and ord(c) <= 90:\n",
    "        new_c = ord(c) + 32\n",
    "        res = chr(new_c)\n",
    "        \n",
    "        res_s += res # add the lower case char\n",
    "    else:\n",
    "        res_s += c\n",
    "\n",
    "print(res_s)"
   ]
  },
  {
   "cell_type": "code",
   "execution_count": 50,
   "id": "66781495",
   "metadata": {},
   "outputs": [],
   "source": [
    "s = \"INDIA Rocks\""
   ]
  },
  {
   "cell_type": "code",
   "execution_count": 51,
   "id": "560c934c",
   "metadata": {},
   "outputs": [
    {
     "data": {
      "text/plain": [
       "'india rocks'"
      ]
     },
     "execution_count": 51,
     "metadata": {},
     "output_type": "execute_result"
    }
   ],
   "source": [
    "s.lower()"
   ]
  },
  {
   "cell_type": "code",
   "execution_count": 52,
   "id": "cb335aa6",
   "metadata": {},
   "outputs": [
    {
     "data": {
      "text/plain": [
       "'INDIA ROCKS'"
      ]
     },
     "execution_count": 52,
     "metadata": {},
     "output_type": "execute_result"
    }
   ],
   "source": [
    "s.upper()"
   ]
  },
  {
   "cell_type": "code",
   "execution_count": 53,
   "id": "86e69862",
   "metadata": {},
   "outputs": [
    {
     "data": {
      "text/plain": [
       "'India Rocks'"
      ]
     },
     "execution_count": 53,
     "metadata": {},
     "output_type": "execute_result"
    }
   ],
   "source": [
    "s.title()"
   ]
  },
  {
   "cell_type": "markdown",
   "id": "81eb70bd",
   "metadata": {},
   "source": [
    "## Check if a string islower or isupper"
   ]
  },
  {
   "cell_type": "code",
   "execution_count": 54,
   "id": "7e169d8e",
   "metadata": {},
   "outputs": [],
   "source": [
    "s = \"this is a all lower case string\""
   ]
  },
  {
   "cell_type": "code",
   "execution_count": 55,
   "id": "5aaab8a6",
   "metadata": {},
   "outputs": [
    {
     "data": {
      "text/plain": [
       "True"
      ]
     },
     "execution_count": 55,
     "metadata": {},
     "output_type": "execute_result"
    }
   ],
   "source": [
    "s.islower()"
   ]
  },
  {
   "cell_type": "code",
   "execution_count": 56,
   "id": "45f3a7db",
   "metadata": {},
   "outputs": [
    {
     "data": {
      "text/plain": [
       "False"
      ]
     },
     "execution_count": 56,
     "metadata": {},
     "output_type": "execute_result"
    }
   ],
   "source": [
    "s.isupper()"
   ]
  },
  {
   "cell_type": "code",
   "execution_count": 57,
   "id": "7f0019fc",
   "metadata": {},
   "outputs": [],
   "source": [
    "s2 = \"ALLCAPS STRING\""
   ]
  },
  {
   "cell_type": "code",
   "execution_count": 59,
   "id": "ce09f58b",
   "metadata": {},
   "outputs": [
    {
     "data": {
      "text/plain": [
       "True"
      ]
     },
     "execution_count": 59,
     "metadata": {},
     "output_type": "execute_result"
    }
   ],
   "source": [
    "s2.isupper()"
   ]
  },
  {
   "cell_type": "code",
   "execution_count": 60,
   "id": "fb4b907d",
   "metadata": {},
   "outputs": [
    {
     "data": {
      "text/plain": [
       "False"
      ]
     },
     "execution_count": 60,
     "metadata": {},
     "output_type": "execute_result"
    }
   ],
   "source": [
    "s2.islower()"
   ]
  },
  {
   "cell_type": "code",
   "execution_count": 66,
   "id": "c8565669",
   "metadata": {},
   "outputs": [],
   "source": [
    "s3 = \"Mixed Case String\""
   ]
  },
  {
   "cell_type": "code",
   "execution_count": 67,
   "id": "85a33fa9",
   "metadata": {},
   "outputs": [
    {
     "data": {
      "text/plain": [
       "False"
      ]
     },
     "execution_count": 67,
     "metadata": {},
     "output_type": "execute_result"
    }
   ],
   "source": [
    "s3.islower()"
   ]
  },
  {
   "cell_type": "code",
   "execution_count": 68,
   "id": "c0a7614a",
   "metadata": {},
   "outputs": [
    {
     "data": {
      "text/plain": [
       "False"
      ]
     },
     "execution_count": 68,
     "metadata": {},
     "output_type": "execute_result"
    }
   ],
   "source": [
    "s3.isupper()"
   ]
  },
  {
   "cell_type": "code",
   "execution_count": 70,
   "id": "fdc47e8a",
   "metadata": {},
   "outputs": [
    {
     "data": {
      "text/plain": [
       "True"
      ]
     },
     "execution_count": 70,
     "metadata": {},
     "output_type": "execute_result"
    }
   ],
   "source": [
    "s3.istitle()"
   ]
  },
  {
   "cell_type": "markdown",
   "id": "5beb2e4d",
   "metadata": {},
   "source": [
    "## Quiz"
   ]
  },
  {
   "cell_type": "code",
   "execution_count": 71,
   "id": "f9abf688",
   "metadata": {},
   "outputs": [],
   "source": [
    "s = \"Alexa, Switch off the lights.\""
   ]
  },
  {
   "cell_type": "code",
   "execution_count": 73,
   "id": "cd74fbd5",
   "metadata": {},
   "outputs": [
    {
     "data": {
      "text/plain": [
       "'Alexa, Switch Off The Lights.'"
      ]
     },
     "execution_count": 73,
     "metadata": {},
     "output_type": "execute_result"
    }
   ],
   "source": [
    "s.title() # capitalize 1st letter of each word"
   ]
  },
  {
   "cell_type": "markdown",
   "id": "123b02cf",
   "metadata": {},
   "source": [
    "## URL matching problem"
   ]
  },
  {
   "cell_type": "markdown",
   "id": "4874afcb",
   "metadata": {},
   "source": [
    "Given a string containing url, https, HTTPS, Https etc are all valid addresses, how will you check if given address web is valid?"
   ]
  },
  {
   "cell_type": "code",
   "execution_count": 77,
   "id": "c6773cb7",
   "metadata": {},
   "outputs": [],
   "source": [
    "u = \"HttPs://www.scaler.com\""
   ]
  },
  {
   "cell_type": "code",
   "execution_count": 75,
   "id": "fe174fd1",
   "metadata": {},
   "outputs": [],
   "source": [
    "# if s == \"https\" or s == \"HTTPS\" or s =\"Https\""
   ]
  },
  {
   "cell_type": "code",
   "execution_count": 79,
   "id": "86df6508",
   "metadata": {},
   "outputs": [
    {
     "data": {
      "text/plain": [
       "'https://www.scaler.com'"
      ]
     },
     "execution_count": 79,
     "metadata": {},
     "output_type": "execute_result"
    }
   ],
   "source": [
    "u.lower()"
   ]
  },
  {
   "cell_type": "code",
   "execution_count": 81,
   "id": "be707cb7",
   "metadata": {},
   "outputs": [
    {
     "data": {
      "text/plain": [
       "'https'"
      ]
     },
     "execution_count": 81,
     "metadata": {},
     "output_type": "execute_result"
    }
   ],
   "source": [
    "u[:5].lower()"
   ]
  },
  {
   "cell_type": "code",
   "execution_count": 82,
   "id": "d8682ffa",
   "metadata": {},
   "outputs": [
    {
     "data": {
      "text/plain": [
       "True"
      ]
     },
     "execution_count": 82,
     "metadata": {},
     "output_type": "execute_result"
    }
   ],
   "source": [
    "u[:5].lower() == 'https'"
   ]
  },
  {
   "cell_type": "markdown",
   "id": "143476c1",
   "metadata": {},
   "source": [
    "## startswith"
   ]
  },
  {
   "cell_type": "code",
   "execution_count": 83,
   "id": "18eaa50d",
   "metadata": {},
   "outputs": [],
   "source": [
    "s = \"rangam\""
   ]
  },
  {
   "cell_type": "code",
   "execution_count": 84,
   "id": "32ba5bbe",
   "metadata": {},
   "outputs": [
    {
     "data": {
      "text/plain": [
       "True"
      ]
     },
     "execution_count": 84,
     "metadata": {},
     "output_type": "execute_result"
    }
   ],
   "source": [
    "s.startswith('r')"
   ]
  },
  {
   "cell_type": "code",
   "execution_count": 85,
   "id": "de8195db",
   "metadata": {},
   "outputs": [
    {
     "data": {
      "text/plain": [
       "True"
      ]
     },
     "execution_count": 85,
     "metadata": {},
     "output_type": "execute_result"
    }
   ],
   "source": [
    "s.startswith('ra')"
   ]
  },
  {
   "cell_type": "code",
   "execution_count": 86,
   "id": "573b92c2",
   "metadata": {},
   "outputs": [
    {
     "data": {
      "text/plain": [
       "True"
      ]
     },
     "execution_count": 86,
     "metadata": {},
     "output_type": "execute_result"
    }
   ],
   "source": [
    "s.startswith('ran')"
   ]
  },
  {
   "cell_type": "code",
   "execution_count": 87,
   "id": "ecc61237",
   "metadata": {},
   "outputs": [
    {
     "data": {
      "text/plain": [
       "False"
      ]
     },
     "execution_count": 87,
     "metadata": {},
     "output_type": "execute_result"
    }
   ],
   "source": [
    "s.startswith('s')"
   ]
  },
  {
   "cell_type": "markdown",
   "id": "0a74e2a6",
   "metadata": {},
   "source": [
    "## Quiz"
   ]
  },
  {
   "cell_type": "code",
   "execution_count": 88,
   "id": "cc872adf",
   "metadata": {},
   "outputs": [],
   "source": [
    "web = \"HttpS://www.scaler.com\""
   ]
  },
  {
   "cell_type": "code",
   "execution_count": 89,
   "id": "5defc3b3",
   "metadata": {},
   "outputs": [
    {
     "data": {
      "text/plain": [
       "False"
      ]
     },
     "execution_count": 89,
     "metadata": {},
     "output_type": "execute_result"
    }
   ],
   "source": [
    "web.startswith('https')"
   ]
  },
  {
   "cell_type": "markdown",
   "id": "667ccd24",
   "metadata": {},
   "source": [
    "## Method chaining"
   ]
  },
  {
   "cell_type": "code",
   "execution_count": 92,
   "id": "42f78a0e",
   "metadata": {},
   "outputs": [
    {
     "data": {
      "text/plain": [
       "'https://www.scaler.com'"
      ]
     },
     "execution_count": 92,
     "metadata": {},
     "output_type": "execute_result"
    }
   ],
   "source": [
    "web.lower()"
   ]
  },
  {
   "cell_type": "code",
   "execution_count": 93,
   "id": "4209a3f3",
   "metadata": {},
   "outputs": [],
   "source": [
    "s2 = web.lower()"
   ]
  },
  {
   "cell_type": "code",
   "execution_count": 94,
   "id": "9b20522d",
   "metadata": {},
   "outputs": [
    {
     "data": {
      "text/plain": [
       "'https://www.scaler.com'"
      ]
     },
     "execution_count": 94,
     "metadata": {},
     "output_type": "execute_result"
    }
   ],
   "source": [
    "s2"
   ]
  },
  {
   "cell_type": "code",
   "execution_count": 95,
   "id": "e6f3561f",
   "metadata": {},
   "outputs": [
    {
     "data": {
      "text/plain": [
       "True"
      ]
     },
     "execution_count": 95,
     "metadata": {},
     "output_type": "execute_result"
    }
   ],
   "source": [
    "s2.startswith('https')"
   ]
  },
  {
   "cell_type": "code",
   "execution_count": 96,
   "id": "7fa17bcf",
   "metadata": {},
   "outputs": [
    {
     "data": {
      "text/plain": [
       "True"
      ]
     },
     "execution_count": 96,
     "metadata": {},
     "output_type": "execute_result"
    }
   ],
   "source": [
    "web.lower().startswith('https')"
   ]
  },
  {
   "cell_type": "markdown",
   "id": "2b328a2b",
   "metadata": {},
   "source": [
    "## Pattern Printing problem using strings"
   ]
  },
  {
   "cell_type": "code",
   "execution_count": 97,
   "id": "393cc335",
   "metadata": {},
   "outputs": [],
   "source": [
    "# The sigma way to print the pattern:\n",
    "\n",
    "# # # # #\n",
    "# # # # #\n",
    "# # # # #\n",
    "# # # # #\n",
    "# # # # #"
   ]
  },
  {
   "cell_type": "code",
   "execution_count": 98,
   "id": "76b5f5c3",
   "metadata": {},
   "outputs": [
    {
     "name": "stdout",
     "output_type": "stream",
     "text": [
      "# # # # "
     ]
    }
   ],
   "source": [
    "for i in range(4):\n",
    "    print('#', end=' ')"
   ]
  },
  {
   "cell_type": "code",
   "execution_count": 103,
   "id": "c70b0e97",
   "metadata": {},
   "outputs": [
    {
     "name": "stdout",
     "output_type": "stream",
     "text": [
      "# # # # \n"
     ]
    }
   ],
   "source": [
    "print('# '* 4)"
   ]
  },
  {
   "cell_type": "code",
   "execution_count": 101,
   "id": "5a0c27de",
   "metadata": {},
   "outputs": [
    {
     "name": "stdout",
     "output_type": "stream",
     "text": [
      "# # # # # \n",
      "# # # # # \n",
      "# # # # # \n",
      "# # # # # \n",
      "# # # # # \n"
     ]
    }
   ],
   "source": [
    "for i in range(5): # rows\n",
    "    for j in range(5): # columns\n",
    "        print('#', end=' ')\n",
    "    print()"
   ]
  },
  {
   "cell_type": "code",
   "execution_count": 106,
   "id": "1ce92c4a",
   "metadata": {},
   "outputs": [
    {
     "name": "stdout",
     "output_type": "stream",
     "text": [
      "# # # # # \n",
      "# # # # # \n",
      "# # # # # \n",
      "# # # # # \n",
      "# # # # # \n"
     ]
    }
   ],
   "source": [
    "for i in range(5): # rows\n",
    "    print('# '* 5) # default end = '\\n'"
   ]
  },
  {
   "cell_type": "markdown",
   "id": "b217d43a",
   "metadata": {},
   "source": [
    "## Mystery quiz"
   ]
  },
  {
   "cell_type": "code",
   "execution_count": 110,
   "id": "038eab9b",
   "metadata": {},
   "outputs": [],
   "source": [
    "def mystery(s):\n",
    "    i = len(s)//2\n",
    "    a = s[:i]\n",
    "    b = s[i:]\n",
    "    return a.upper() + b.lower()"
   ]
  },
  {
   "cell_type": "code",
   "execution_count": 111,
   "id": "e2e455d3",
   "metadata": {},
   "outputs": [
    {
     "data": {
      "text/plain": [
       "'ABRACadabra'"
      ]
     },
     "execution_count": 111,
     "metadata": {},
     "output_type": "execute_result"
    }
   ],
   "source": [
    "mystery(\"abracadabra\")"
   ]
  },
  {
   "cell_type": "markdown",
   "id": "b74e4540",
   "metadata": {},
   "source": [
    "## Pattern Printing - 2"
   ]
  },
  {
   "cell_type": "code",
   "execution_count": 112,
   "id": "30c19613",
   "metadata": {},
   "outputs": [],
   "source": [
    "#\n",
    "# #\n",
    "# # #\n",
    "# # # #"
   ]
  },
  {
   "cell_type": "code",
   "execution_count": 115,
   "id": "4f91b3da",
   "metadata": {},
   "outputs": [
    {
     "name": "stdout",
     "output_type": "stream",
     "text": [
      "# \n",
      "# # \n",
      "# # # \n",
      "# # # # \n"
     ]
    }
   ],
   "source": [
    "for i in range(4):\n",
    "    print('# '*(i + 1))"
   ]
  },
  {
   "cell_type": "code",
   "execution_count": 114,
   "id": "2ac72b42",
   "metadata": {
    "scrolled": true
   },
   "outputs": [
    {
     "name": "stdout",
     "output_type": "stream",
     "text": [
      "#\n",
      "# #\n",
      "# # #\n",
      "# # # #\n"
     ]
    }
   ],
   "source": [
    "for i in range(4):\n",
    "    s = '# ' * (i+1)\n",
    "    print(s[:-1]) # doesn't pick the last space"
   ]
  },
  {
   "cell_type": "code",
   "execution_count": null,
   "id": "35fd1e50",
   "metadata": {},
   "outputs": [],
   "source": []
  },
  {
   "cell_type": "code",
   "execution_count": null,
   "id": "d067d2f3",
   "metadata": {},
   "outputs": [],
   "source": []
  },
  {
   "cell_type": "markdown",
   "id": "f754a2b9",
   "metadata": {},
   "source": [
    "## Formatted Strings"
   ]
  },
  {
   "cell_type": "code",
   "execution_count": 118,
   "id": "4ffd53b2",
   "metadata": {},
   "outputs": [
    {
     "name": "stdout",
     "output_type": "stream",
     "text": [
      "Hi my name is Sahil I am 24 years old\n"
     ]
    }
   ],
   "source": [
    "name = 'Sahil'\n",
    "age = 24\n",
    "\n",
    "print('Hi my name is', name, 'I am', age, 'years old')"
   ]
  },
  {
   "cell_type": "code",
   "execution_count": 120,
   "id": "0fd0eb3b",
   "metadata": {},
   "outputs": [],
   "source": [
    "# print('Hi my name is' + name + 'I am' + age + 'years old')"
   ]
  },
  {
   "cell_type": "code",
   "execution_count": 125,
   "id": "c275e858",
   "metadata": {},
   "outputs": [
    {
     "name": "stdout",
     "output_type": "stream",
     "text": [
      "Hi my name is Sahil. I am 24 years old\n"
     ]
    }
   ],
   "source": [
    "print('Hi my name is ' + name + '. I am ' + str(age) + ' years old')"
   ]
  },
  {
   "cell_type": "markdown",
   "id": "1f28263b",
   "metadata": {},
   "source": [
    "## Format method"
   ]
  },
  {
   "cell_type": "code",
   "execution_count": 126,
   "id": "b65caab2",
   "metadata": {},
   "outputs": [
    {
     "name": "stdout",
     "output_type": "stream",
     "text": [
      "Hi my name is Saiteja. I am 28 years old\n"
     ]
    }
   ],
   "source": [
    "name = 'Saiteja'\n",
    "age = 28\n",
    "\n",
    "print('Hi my name is {}. I am {} years old'.format(name, age))"
   ]
  },
  {
   "cell_type": "code",
   "execution_count": 127,
   "id": "c51588e5",
   "metadata": {},
   "outputs": [
    {
     "ename": "IndexError",
     "evalue": "Replacement index 1 out of range for positional args tuple",
     "output_type": "error",
     "traceback": [
      "\u001b[0;31m---------------------------------------------------------------------------\u001b[0m",
      "\u001b[0;31mIndexError\u001b[0m                                Traceback (most recent call last)",
      "Input \u001b[0;32mIn [127]\u001b[0m, in \u001b[0;36m<cell line: 3>\u001b[0;34m()\u001b[0m\n\u001b[1;32m      1\u001b[0m name \u001b[38;5;241m=\u001b[39m \u001b[38;5;124m'\u001b[39m\u001b[38;5;124mEmma Watson\u001b[39m\u001b[38;5;124m'\u001b[39m\n\u001b[1;32m      2\u001b[0m age \u001b[38;5;241m=\u001b[39m \u001b[38;5;241m32\u001b[39m\n\u001b[0;32m----> 3\u001b[0m \u001b[38;5;28mprint\u001b[39m(\u001b[38;5;124;43m\"\u001b[39;49m\u001b[38;5;124;43mHey my name is \u001b[39;49m\u001b[38;5;132;43;01m{}\u001b[39;49;00m\u001b[38;5;124;43m, and my age is \u001b[39;49m\u001b[38;5;132;43;01m{}\u001b[39;49;00m\u001b[38;5;124;43m.\u001b[39;49m\u001b[38;5;124;43m\"\u001b[39;49m\u001b[38;5;241;43m.\u001b[39;49m\u001b[43mformat\u001b[49m\u001b[43m(\u001b[49m\u001b[43mage\u001b[49m\u001b[43m)\u001b[49m)\n",
      "\u001b[0;31mIndexError\u001b[0m: Replacement index 1 out of range for positional args tuple"
     ]
    }
   ],
   "source": [
    "name = 'Emma Watson'\n",
    "age = 32\n",
    "print(\"Hey my name is {}, and my age is {}.\".format(age))"
   ]
  },
  {
   "cell_type": "code",
   "execution_count": 131,
   "id": "ff2b57a0",
   "metadata": {},
   "outputs": [
    {
     "name": "stdout",
     "output_type": "stream",
     "text": [
      "Hey my name is 32, and my age is Emma Watson.\n"
     ]
    }
   ],
   "source": [
    "name = 'Emma Watson'\n",
    "age = 32\n",
    "print(\"Hey my name is {}, and my age is {}.\".format(age, name))"
   ]
  },
  {
   "cell_type": "code",
   "execution_count": 132,
   "id": "74581724",
   "metadata": {},
   "outputs": [],
   "source": [
    "# order matters\n",
    "# you might miss filling a blank"
   ]
  },
  {
   "cell_type": "markdown",
   "id": "8feb0147",
   "metadata": {},
   "source": [
    "## formatted strings: f-strings (Python 3.6+)"
   ]
  },
  {
   "cell_type": "code",
   "execution_count": 133,
   "id": "11d63794",
   "metadata": {},
   "outputs": [
    {
     "name": "stdout",
     "output_type": "stream",
     "text": [
      "Sahil\n",
      "24\n",
      "Hi my name is {name} and I am {age} years old.\n"
     ]
    }
   ],
   "source": [
    "name = input()\n",
    "age = int(input())\n",
    "\n",
    "print('Hi my name is {name} and I am {age} years old.')"
   ]
  },
  {
   "cell_type": "code",
   "execution_count": 134,
   "id": "844bb14e",
   "metadata": {},
   "outputs": [
    {
     "name": "stdout",
     "output_type": "stream",
     "text": [
      "Hi my name is Sahil and I am 24 years old.\n"
     ]
    }
   ],
   "source": [
    "print(f'Hi my name is {name} and I am {age} years old.')"
   ]
  },
  {
   "cell_type": "code",
   "execution_count": 135,
   "id": "e7480b20",
   "metadata": {},
   "outputs": [],
   "source": [
    "# string interpolation"
   ]
  },
  {
   "cell_type": "code",
   "execution_count": 138,
   "id": "d2ca6925",
   "metadata": {},
   "outputs": [
    {
     "ename": "SyntaxError",
     "evalue": "f-string: empty expression not allowed (699940393.py, line 3)",
     "output_type": "error",
     "traceback": [
      "\u001b[0;36m  Input \u001b[0;32mIn [138]\u001b[0;36m\u001b[0m\n\u001b[0;31m    print(f\"Hey my name is {} and my age is {age}\")\u001b[0m\n\u001b[0m                                                  ^\u001b[0m\n\u001b[0;31mSyntaxError\u001b[0m\u001b[0;31m:\u001b[0m f-string: empty expression not allowed\n"
     ]
    }
   ],
   "source": [
    "name = \"Emma\"\n",
    "age = 32\n",
    "print(f\"Hey my name is {} and my age is {age}\")"
   ]
  },
  {
   "cell_type": "code",
   "execution_count": 139,
   "id": "14061c7c",
   "metadata": {},
   "outputs": [
    {
     "name": "stdout",
     "output_type": "stream",
     "text": [
      "Hey my name is -32 and my age is 32\n"
     ]
    }
   ],
   "source": [
    "name = \"Emma\"\n",
    "age = 32\n",
    "print(f\"Hey my name is {1+2-5*7} and my age is {age}\")"
   ]
  },
  {
   "cell_type": "code",
   "execution_count": null,
   "id": "d35260c8",
   "metadata": {},
   "outputs": [],
   "source": []
  },
  {
   "cell_type": "code",
   "execution_count": null,
   "id": "91eb965f",
   "metadata": {},
   "outputs": [],
   "source": []
  },
  {
   "cell_type": "code",
   "execution_count": null,
   "id": "fa8b2985",
   "metadata": {},
   "outputs": [],
   "source": []
  },
  {
   "cell_type": "markdown",
   "id": "a90dc4f0",
   "metadata": {},
   "source": [
    "## Challenge"
   ]
  },
  {
   "cell_type": "markdown",
   "id": "a6cd59b8",
   "metadata": {},
   "source": [
    "### split and join"
   ]
  },
  {
   "cell_type": "code",
   "execution_count": 140,
   "id": "419ace5c",
   "metadata": {},
   "outputs": [],
   "source": [
    "s = \"be the change you wish to see in the world\""
   ]
  },
  {
   "cell_type": "code",
   "execution_count": 141,
   "id": "d08a1dd9",
   "metadata": {},
   "outputs": [
    {
     "data": {
      "text/plain": [
       "['be', 'the', 'change', 'you', 'wish', 'to', 'see', 'in', 'the', 'world']"
      ]
     },
     "execution_count": 141,
     "metadata": {},
     "output_type": "execute_result"
    }
   ],
   "source": [
    "s.split()"
   ]
  },
  {
   "cell_type": "code",
   "execution_count": 144,
   "id": "3ea12742",
   "metadata": {},
   "outputs": [],
   "source": [
    "L = s.split(' ') # default delimiter = ' ' (space)"
   ]
  },
  {
   "cell_type": "code",
   "execution_count": 145,
   "id": "b51f7855",
   "metadata": {},
   "outputs": [
    {
     "name": "stdout",
     "output_type": "stream",
     "text": [
      "['be', 'the', 'change', 'you', 'wish', 'to', 'see', 'in', 'the', 'world']\n"
     ]
    }
   ],
   "source": [
    "print(L)"
   ]
  },
  {
   "cell_type": "code",
   "execution_count": 148,
   "id": "8672b41f",
   "metadata": {},
   "outputs": [],
   "source": [
    "res = \"\"\n",
    "for w in L:\n",
    "    res += w\n",
    "    res += \" \""
   ]
  },
  {
   "cell_type": "code",
   "execution_count": 149,
   "id": "34b8dd36",
   "metadata": {},
   "outputs": [
    {
     "name": "stdout",
     "output_type": "stream",
     "text": [
      "be the change you wish to see in the world \n"
     ]
    }
   ],
   "source": [
    "print(res)"
   ]
  },
  {
   "cell_type": "code",
   "execution_count": 152,
   "id": "5103425d",
   "metadata": {},
   "outputs": [
    {
     "name": "stdout",
     "output_type": "stream",
     "text": [
      "bethechangeyouwishtoseeintheworld\n"
     ]
    }
   ],
   "source": [
    "res2 = \"\".join(L)\n",
    "print(res2)"
   ]
  },
  {
   "cell_type": "code",
   "execution_count": 153,
   "id": "b1358248",
   "metadata": {},
   "outputs": [
    {
     "name": "stdout",
     "output_type": "stream",
     "text": [
      "be the change you wish to see in the world\n"
     ]
    }
   ],
   "source": [
    "res2 = \" \".join(L)\n",
    "print(res2)"
   ]
  },
  {
   "cell_type": "code",
   "execution_count": 155,
   "id": "30102c13",
   "metadata": {},
   "outputs": [
    {
     "name": "stdout",
     "output_type": "stream",
     "text": [
      "be/the/change/you/wish/to/see/in/the/world\n"
     ]
    }
   ],
   "source": [
    "res3 = \"/\".join(L)\n",
    "print(res3)"
   ]
  },
  {
   "cell_type": "markdown",
   "id": "c96c84c4",
   "metadata": {},
   "source": [
    "## Quizzes"
   ]
  },
  {
   "cell_type": "code",
   "execution_count": 156,
   "id": "efde850e",
   "metadata": {},
   "outputs": [
    {
     "name": "stdout",
     "output_type": "stream",
     "text": [
      "['1', '2', '3', '4']\n"
     ]
    }
   ],
   "source": [
    "s = \"1 2 3 4\"\n",
    "print(s.split())"
   ]
  },
  {
   "cell_type": "code",
   "execution_count": 157,
   "id": "39284052",
   "metadata": {},
   "outputs": [
    {
     "name": "stdout",
     "output_type": "stream",
     "text": [
      "string1+string2\n"
     ]
    }
   ],
   "source": [
    "n = ['string1', 'string2']\n",
    "print(\"+\".join(n))"
   ]
  },
  {
   "cell_type": "markdown",
   "id": "a63ca03d",
   "metadata": {},
   "source": [
    "#### Challenge\n",
    "Write the code for a Python function expand(x) that takes a list of strings, concatenates them, and returns the resulting string repeated three times.\n",
    "\n",
    "Example 1:\n",
    "\n",
    "Input: ['string1', 'string2']\n",
    "\n",
    "Output: 'string1string2string1string2string1string2'\n",
    "\n",
    "Example 2:\n",
    "\n",
    "Input: ['a', 'b', 'c']\n",
    "\n",
    "Output: 'abcabcabc'"
   ]
  },
  {
   "cell_type": "code",
   "execution_count": 158,
   "id": "615370e5",
   "metadata": {},
   "outputs": [],
   "source": [
    "L = ['be', 'the', 'change']"
   ]
  },
  {
   "cell_type": "code",
   "execution_count": 159,
   "id": "bf3184c0",
   "metadata": {},
   "outputs": [
    {
     "data": {
      "text/plain": [
       "'bethechange'"
      ]
     },
     "execution_count": 159,
     "metadata": {},
     "output_type": "execute_result"
    }
   ],
   "source": [
    "\"\".join(L) # concatenate all of them"
   ]
  },
  {
   "cell_type": "code",
   "execution_count": 160,
   "id": "3a346acc",
   "metadata": {},
   "outputs": [
    {
     "data": {
      "text/plain": [
       "'bethechangebethechangebethechange'"
      ]
     },
     "execution_count": 160,
     "metadata": {},
     "output_type": "execute_result"
    }
   ],
   "source": [
    "(\"\".join(L)) * 3"
   ]
  },
  {
   "cell_type": "code",
   "execution_count": null,
   "id": "c2be6aa7",
   "metadata": {},
   "outputs": [],
   "source": []
  },
  {
   "cell_type": "markdown",
   "id": "784ea6aa",
   "metadata": {},
   "source": [
    "## Other inbuilt methods\n",
    "\n",
    "- find\n",
    "- replace\n",
    "- checking characters\n",
    "- strip"
   ]
  },
  {
   "cell_type": "code",
   "execution_count": 162,
   "id": "179461dd",
   "metadata": {},
   "outputs": [],
   "source": [
    "s = \"But I must explain to you how all this mistaken idea of denouncing pleasure and praising pain was born and I will give you a complete account of the system, and expound the actual teachings of the great explorer of the truth, the master-builder of human happiness. No one rejects, dislikes, or avoids pleasure itself, because it is pleasure, but because those who do not know how to pursue pleasure rationally encounter consequences that are extremely painful. Nor again is there anyone who loves or pursues or desires to obtain pain of itself, because it is pain, but because occasionally circumstances occur in which toil and pain can procure him some great pleasure. To take a trivial example, which of us ever undertakes laborious physical exercise, except to obtain some advantage from it? But who has any right to find fault with a man who chooses to enjoy a pleasure that has no annoying consequences, or one who avoids a pain that produces no resultant pleasure?\""
   ]
  },
  {
   "cell_type": "code",
   "execution_count": 163,
   "id": "a6b72cf1",
   "metadata": {},
   "outputs": [
    {
     "name": "stdout",
     "output_type": "stream",
     "text": [
      "But I must explain to you how all this mistaken idea of denouncing pleasure and praising pain was born and I will give you a complete account of the system, and expound the actual teachings of the great explorer of the truth, the master-builder of human happiness. No one rejects, dislikes, or avoids pleasure itself, because it is pleasure, but because those who do not know how to pursue pleasure rationally encounter consequences that are extremely painful. Nor again is there anyone who loves or pursues or desires to obtain pain of itself, because it is pain, but because occasionally circumstances occur in which toil and pain can procure him some great pleasure. To take a trivial example, which of us ever undertakes laborious physical exercise, except to obtain some advantage from it? But who has any right to find fault with a man who chooses to enjoy a pleasure that has no annoying consequences, or one who avoids a pain that produces no resultant pleasure?\n"
     ]
    }
   ],
   "source": [
    "print(s)"
   ]
  },
  {
   "cell_type": "code",
   "execution_count": 164,
   "id": "aaf8d75f",
   "metadata": {},
   "outputs": [
    {
     "data": {
      "text/plain": [
       "True"
      ]
     },
     "execution_count": 164,
     "metadata": {},
     "output_type": "execute_result"
    }
   ],
   "source": [
    "\"the\" in s"
   ]
  },
  {
   "cell_type": "code",
   "execution_count": 165,
   "id": "9fa32578",
   "metadata": {},
   "outputs": [
    {
     "data": {
      "text/plain": [
       "False"
      ]
     },
     "execution_count": 165,
     "metadata": {},
     "output_type": "execute_result"
    }
   ],
   "source": [
    "\"python\" in s"
   ]
  },
  {
   "cell_type": "code",
   "execution_count": 166,
   "id": "d71cb7e5",
   "metadata": {},
   "outputs": [
    {
     "data": {
      "text/plain": [
       "True"
      ]
     },
     "execution_count": 166,
     "metadata": {},
     "output_type": "execute_result"
    }
   ],
   "source": [
    "\"it\" in s"
   ]
  },
  {
   "cell_type": "code",
   "execution_count": 167,
   "id": "c8ac8032",
   "metadata": {},
   "outputs": [
    {
     "data": {
      "text/plain": [
       "99"
      ]
     },
     "execution_count": 167,
     "metadata": {},
     "output_type": "execute_result"
    }
   ],
   "source": [
    "s.index('or') # the 1st occurence idx"
   ]
  },
  {
   "cell_type": "code",
   "execution_count": 168,
   "id": "8859c506",
   "metadata": {},
   "outputs": [
    {
     "ename": "ValueError",
     "evalue": "substring not found",
     "output_type": "error",
     "traceback": [
      "\u001b[0;31m---------------------------------------------------------------------------\u001b[0m",
      "\u001b[0;31mValueError\u001b[0m                                Traceback (most recent call last)",
      "Input \u001b[0;32mIn [168]\u001b[0m, in \u001b[0;36m<cell line: 1>\u001b[0;34m()\u001b[0m\n\u001b[0;32m----> 1\u001b[0m \u001b[43ms\u001b[49m\u001b[38;5;241;43m.\u001b[39;49m\u001b[43mindex\u001b[49m\u001b[43m(\u001b[49m\u001b[38;5;124;43m'\u001b[39;49m\u001b[38;5;124;43mOR\u001b[39;49m\u001b[38;5;124;43m'\u001b[39;49m\u001b[43m)\u001b[49m\n",
      "\u001b[0;31mValueError\u001b[0m: substring not found"
     ]
    }
   ],
   "source": [
    "s.index('OR')"
   ]
  },
  {
   "cell_type": "code",
   "execution_count": 169,
   "id": "24531d83",
   "metadata": {},
   "outputs": [
    {
     "data": {
      "text/plain": [
       "99"
      ]
     },
     "execution_count": 169,
     "metadata": {},
     "output_type": "execute_result"
    }
   ],
   "source": [
    "s.find('or') # returns >= 0 index if found"
   ]
  },
  {
   "cell_type": "code",
   "execution_count": 170,
   "id": "0fdc7edc",
   "metadata": {},
   "outputs": [
    {
     "data": {
      "text/plain": [
       "-1"
      ]
     },
     "execution_count": 170,
     "metadata": {},
     "output_type": "execute_result"
    }
   ],
   "source": [
    "s.find('OR') # returns -1 if not found"
   ]
  },
  {
   "cell_type": "code",
   "execution_count": 173,
   "id": "4d9bb135",
   "metadata": {},
   "outputs": [
    {
     "data": {
      "text/plain": [
       "0"
      ]
     },
     "execution_count": 173,
     "metadata": {},
     "output_type": "execute_result"
    }
   ],
   "source": [
    "s.find(\"But\")"
   ]
  },
  {
   "cell_type": "code",
   "execution_count": 174,
   "id": "eb1a53f0",
   "metadata": {},
   "outputs": [
    {
     "data": {
      "text/plain": [
       "True"
      ]
     },
     "execution_count": 174,
     "metadata": {},
     "output_type": "execute_result"
    }
   ],
   "source": [
    "s.startswith(\"But\")"
   ]
  },
  {
   "cell_type": "code",
   "execution_count": 175,
   "id": "2565522c",
   "metadata": {},
   "outputs": [
    {
     "data": {
      "text/plain": [
       "False"
      ]
     },
     "execution_count": 175,
     "metadata": {},
     "output_type": "execute_result"
    }
   ],
   "source": [
    "s.endswith(\"But\")"
   ]
  },
  {
   "cell_type": "code",
   "execution_count": 176,
   "id": "c035e6e8",
   "metadata": {},
   "outputs": [
    {
     "data": {
      "text/plain": [
       "True"
      ]
     },
     "execution_count": 176,
     "metadata": {},
     "output_type": "execute_result"
    }
   ],
   "source": [
    "s.endswith(\"pleasure?\")"
   ]
  },
  {
   "cell_type": "code",
   "execution_count": 177,
   "id": "b336597e",
   "metadata": {},
   "outputs": [
    {
     "data": {
      "text/plain": [
       "67"
      ]
     },
     "execution_count": 177,
     "metadata": {},
     "output_type": "execute_result"
    }
   ],
   "source": [
    "s.find(\"pleasure\")"
   ]
  },
  {
   "cell_type": "code",
   "execution_count": 178,
   "id": "15940156",
   "metadata": {},
   "outputs": [
    {
     "data": {
      "text/plain": [
       "-1"
      ]
     },
     "execution_count": 178,
     "metadata": {},
     "output_type": "execute_result"
    }
   ],
   "source": [
    "s.find(\"PLEASURE\")"
   ]
  },
  {
   "cell_type": "code",
   "execution_count": 179,
   "id": "8fd0c86e",
   "metadata": {},
   "outputs": [
    {
     "name": "stdout",
     "output_type": "stream",
     "text": [
      "1\n"
     ]
    }
   ],
   "source": [
    "s = 'hello world'\n",
    "print(s.index('e'))"
   ]
  },
  {
   "cell_type": "markdown",
   "id": "5fa77fd6",
   "metadata": {},
   "source": [
    "## Replace"
   ]
  },
  {
   "cell_type": "code",
   "execution_count": 180,
   "id": "82918c4c",
   "metadata": {},
   "outputs": [],
   "source": [
    "s = \"hello world\""
   ]
  },
  {
   "cell_type": "code",
   "execution_count": 181,
   "id": "6a9594a7",
   "metadata": {},
   "outputs": [
    {
     "data": {
      "text/plain": [
       "'herro worrd'"
      ]
     },
     "execution_count": 181,
     "metadata": {},
     "output_type": "execute_result"
    }
   ],
   "source": [
    "s.replace('l', 'r') # replaces all occurrences"
   ]
  },
  {
   "cell_type": "code",
   "execution_count": 182,
   "id": "b1a2621c",
   "metadata": {},
   "outputs": [],
   "source": [
    "s = \"But I must explain to you how all this mistaken idea of denouncing pleasure and praising pain was born and I will give you a complete account of the system, and expound the actual teachings of the great explorer of the truth, the master-builder of human happiness. No one rejects, dislikes, or avoids pleasure itself, because it is pleasure, but because those who do not know how to pursue pleasure rationally encounter consequences that are extremely painful. Nor again is there anyone who loves or pursues or desires to obtain pain of itself, because it is pain, but because occasionally circumstances occur in which toil and pain can procure him some great pleasure. To take a trivial example, which of us ever undertakes laborious physical exercise, except to obtain some advantage from it? But who has any right to find fault with a man who chooses to enjoy a pleasure that has no annoying consequences, or one who avoids a pain that produces no resultant pleasure?\""
   ]
  },
  {
   "cell_type": "code",
   "execution_count": 183,
   "id": "d44965de",
   "metadata": {},
   "outputs": [
    {
     "name": "stdout",
     "output_type": "stream",
     "text": [
      "But I must explain to you how all this mistaken idea of denouncing pleasure and praising pain was born and I will give you a complete account of the system, and expound the actual teachings of the great explorer of the truth, the master-builder of human happiness. No one rejects, dislikes, or avoids pleasure itself, because it is pleasure, but because those who do not know how to pursue pleasure rationally encounter consequences that are extremely painful. Nor again is there anyone who loves or pursues or desires to obtain pain of itself, because it is pain, but because occasionally circumstances occur in which toil and pain can procure him some great pleasure. To take a trivial example, which of us ever undertakes laborious physical exercise, except to obtain some advantage from it? But who has any right to find fault with a man who chooses to enjoy a pleasure that has no annoying consequences, or one who avoids a pain that produces no resultant pleasure?\n"
     ]
    }
   ],
   "source": [
    "print(s)"
   ]
  },
  {
   "cell_type": "code",
   "execution_count": 184,
   "id": "500b6e95",
   "metadata": {},
   "outputs": [
    {
     "data": {
      "text/plain": [
       "'But You must explain to you how all this mistaken idea of denouncing pleasure and praising pain was born and You will give you a complete account of the system, and expound the actual teachings of the great explorer of the truth, the master-builder of human happiness. No one rejects, dislikes, or avoids pleasure itself, because it is pleasure, but because those who do not know how to pursue pleasure rationally encounter consequences that are extremely painful. Nor again is there anyone who loves or pursues or desires to obtain pain of itself, because it is pain, but because occasionally circumstances occur in which toil and pain can procure him some great pleasure. To take a trivial example, which of us ever undertakes laborious physical exercise, except to obtain some advantage from it? But who has any right to find fault with a man who chooses to enjoy a pleasure that has no annoying consequences, or one who avoids a pain that produces no resultant pleasure?'"
      ]
     },
     "execution_count": 184,
     "metadata": {},
     "output_type": "execute_result"
    }
   ],
   "source": [
    "s.replace(\"I\", \"You\")"
   ]
  },
  {
   "cell_type": "code",
   "execution_count": 186,
   "id": "d92267e6",
   "metadata": {},
   "outputs": [
    {
     "data": {
      "text/plain": [
       "'But I must explain to you how all this mistaken idea of denouncing pleasure and praising pain was born and I will give you a complete account of the system, and expound the actual teachings of the great explorer of the truth, the master-builder of human happiness. No one rejects, dislikes, or avoids pleasure itself, because it is pleasure, but because those who do not know how to pursue pleasure rationally encounter consequences that are extremely painful. Nor again is there anyone who loves or pursues or desires to obtain pain of itself, because it is pain, but because occasionally circumstances occur in which toil and pain can procure him some great pleasure. To take a trivial example, which of us ever undertakes laborious physical exercise, except to obtain some advantage from it? But who has any right to find fault with a man who chooses to enjoy a pleasure that has no annoying consequences, or one who avoids a pain that produces no resultant pleasure?'"
      ]
     },
     "execution_count": 186,
     "metadata": {},
     "output_type": "execute_result"
    }
   ],
   "source": [
    "s.replace(\"PLEASURE\", \"pain\") # case sensitive"
   ]
  },
  {
   "cell_type": "markdown",
   "id": "6afba84f",
   "metadata": {},
   "source": [
    "## Count numbers in a string"
   ]
  },
  {
   "cell_type": "code",
   "execution_count": 187,
   "id": "e29ac01c",
   "metadata": {},
   "outputs": [],
   "source": [
    "s = \"Rah1h2 7 h\""
   ]
  },
  {
   "cell_type": "code",
   "execution_count": 188,
   "id": "9fab64ce",
   "metadata": {},
   "outputs": [
    {
     "name": "stdout",
     "output_type": "stream",
     "text": [
      "3\n"
     ]
    }
   ],
   "source": [
    "cnt = 0\n",
    "for i in s:\n",
    "    if ord(i) >= 48 and ord(i) <= 57:\n",
    "        cnt += 1\n",
    "print(cnt)"
   ]
  },
  {
   "cell_type": "code",
   "execution_count": 189,
   "id": "a11b414f",
   "metadata": {},
   "outputs": [
    {
     "data": {
      "text/plain": [
       "True"
      ]
     },
     "execution_count": 189,
     "metadata": {},
     "output_type": "execute_result"
    }
   ],
   "source": [
    "'s'.islower()"
   ]
  },
  {
   "cell_type": "code",
   "execution_count": 191,
   "id": "7ada986d",
   "metadata": {},
   "outputs": [
    {
     "data": {
      "text/plain": [
       "True"
      ]
     },
     "execution_count": 191,
     "metadata": {},
     "output_type": "execute_result"
    }
   ],
   "source": [
    "'S'.isupper()"
   ]
  },
  {
   "cell_type": "code",
   "execution_count": 192,
   "id": "0e663239",
   "metadata": {},
   "outputs": [
    {
     "data": {
      "text/plain": [
       "True"
      ]
     },
     "execution_count": 192,
     "metadata": {},
     "output_type": "execute_result"
    }
   ],
   "source": [
    "'1'.isdigit()"
   ]
  },
  {
   "cell_type": "code",
   "execution_count": 193,
   "id": "82d49a45",
   "metadata": {},
   "outputs": [
    {
     "data": {
      "text/plain": [
       "False"
      ]
     },
     "execution_count": 193,
     "metadata": {},
     "output_type": "execute_result"
    }
   ],
   "source": [
    "'a'.isdigit()"
   ]
  },
  {
   "cell_type": "code",
   "execution_count": 194,
   "id": "05eb773c",
   "metadata": {},
   "outputs": [],
   "source": [
    "s = \"th2s con5a8nns n7mb3rs\""
   ]
  },
  {
   "cell_type": "code",
   "execution_count": 197,
   "id": "304095a5",
   "metadata": {},
   "outputs": [
    {
     "name": "stdout",
     "output_type": "stream",
     "text": [
      "5\n"
     ]
    }
   ],
   "source": [
    "cnt = 0\n",
    "for i in s:\n",
    "    if i.isdigit():\n",
    "        cnt += 1\n",
    "print(cnt)"
   ]
  },
  {
   "cell_type": "markdown",
   "id": "f5610040",
   "metadata": {},
   "source": [
    "## strip method"
   ]
  },
  {
   "cell_type": "code",
   "execution_count": 203,
   "id": "ee9a9ed3",
   "metadata": {},
   "outputs": [],
   "source": [
    "s = \"   some      spaces are presnet.   \""
   ]
  },
  {
   "cell_type": "code",
   "execution_count": 205,
   "id": "3eb1dd96",
   "metadata": {},
   "outputs": [
    {
     "data": {
      "text/plain": [
       "'some      spaces are presnet.'"
      ]
     },
     "execution_count": 205,
     "metadata": {},
     "output_type": "execute_result"
    }
   ],
   "source": [
    "s.strip() # cleans up the whitespaces at begin and end"
   ]
  },
  {
   "cell_type": "markdown",
   "id": "8b91474a",
   "metadata": {},
   "source": [
    "## Doubts"
   ]
  },
  {
   "cell_type": "code",
   "execution_count": 208,
   "id": "04553f35",
   "metadata": {},
   "outputs": [
    {
     "name": "stdout",
     "output_type": "stream",
     "text": [
      "Hello, my name is 32 and iam Emma years old.\n"
     ]
    }
   ],
   "source": [
    "print('Hello, my name is {1} and iam {0} years old.'.format(name,age))"
   ]
  },
  {
   "cell_type": "code",
   "execution_count": 209,
   "id": "b70a3184",
   "metadata": {},
   "outputs": [],
   "source": [
    "def f(*args):\n",
    "    # can pass as many as arguments as required\n",
    "    print(args)"
   ]
  },
  {
   "cell_type": "code",
   "execution_count": 210,
   "id": "bed33891",
   "metadata": {},
   "outputs": [
    {
     "name": "stdout",
     "output_type": "stream",
     "text": [
      "(1,)\n"
     ]
    }
   ],
   "source": [
    "f(1)"
   ]
  },
  {
   "cell_type": "code",
   "execution_count": 211,
   "id": "81023583",
   "metadata": {},
   "outputs": [
    {
     "name": "stdout",
     "output_type": "stream",
     "text": [
      "(1, 2)\n"
     ]
    }
   ],
   "source": [
    "f(1, 2)"
   ]
  },
  {
   "cell_type": "code",
   "execution_count": 212,
   "id": "9e61347d",
   "metadata": {},
   "outputs": [
    {
     "name": "stdout",
     "output_type": "stream",
     "text": [
      "(1, 2, 3)\n"
     ]
    }
   ],
   "source": [
    "f(1, 2, 3)"
   ]
  },
  {
   "cell_type": "code",
   "execution_count": 213,
   "id": "e0e5b09e",
   "metadata": {},
   "outputs": [],
   "source": [
    "def g(**kwargs):\n",
    "    print(kwargs)"
   ]
  },
  {
   "cell_type": "code",
   "execution_count": 214,
   "id": "1a8a3cd0",
   "metadata": {},
   "outputs": [
    {
     "name": "stdout",
     "output_type": "stream",
     "text": [
      "{'name': 'Sahil', 'age': 24}\n"
     ]
    }
   ],
   "source": [
    "g(name='Sahil', age=24)"
   ]
  },
  {
   "cell_type": "code",
   "execution_count": 215,
   "id": "2c2e7039",
   "metadata": {},
   "outputs": [
    {
     "name": "stdout",
     "output_type": "stream",
     "text": [
      "True\n"
     ]
    }
   ],
   "source": [
    "a=(10,20)\n",
    "b = a\n",
    "print(a is b)"
   ]
  },
  {
   "cell_type": "code",
   "execution_count": 216,
   "id": "8b8dd9ca",
   "metadata": {},
   "outputs": [
    {
     "name": "stdout",
     "output_type": "stream",
     "text": [
      "False\n"
     ]
    }
   ],
   "source": [
    "b = list(a) # reassign to a list\n",
    "print(a is b)"
   ]
  },
  {
   "cell_type": "code",
   "execution_count": 217,
   "id": "838b58fb",
   "metadata": {},
   "outputs": [
    {
     "name": "stdout",
     "output_type": "stream",
     "text": [
      "False\n"
     ]
    }
   ],
   "source": [
    "c = a\n",
    "print(a is b)"
   ]
  },
  {
   "cell_type": "code",
   "execution_count": 218,
   "id": "a7f7cb7f",
   "metadata": {},
   "outputs": [
    {
     "data": {
      "text/plain": [
       "False"
      ]
     },
     "execution_count": 218,
     "metadata": {},
     "output_type": "execute_result"
    }
   ],
   "source": [
    "s1 = \"this\"\n",
    "s2 = \"that\"\n",
    "\n",
    "id(s1) == id(s2)"
   ]
  },
  {
   "cell_type": "code",
   "execution_count": 219,
   "id": "b9576e76",
   "metadata": {},
   "outputs": [
    {
     "data": {
      "text/plain": [
       "True"
      ]
     },
     "execution_count": 219,
     "metadata": {},
     "output_type": "execute_result"
    }
   ],
   "source": [
    "s1 = \"string1\"\n",
    "s2 = \"string1\"\n",
    "\n",
    "id(s1) == id(s2)"
   ]
  },
  {
   "cell_type": "code",
   "execution_count": 220,
   "id": "e0984723",
   "metadata": {},
   "outputs": [
    {
     "data": {
      "text/plain": [
       "True"
      ]
     },
     "execution_count": 220,
     "metadata": {},
     "output_type": "execute_result"
    }
   ],
   "source": [
    "a = 3\n",
    "b = 3\n",
    "id(a) == id(b)"
   ]
  },
  {
   "cell_type": "code",
   "execution_count": 221,
   "id": "fbc01167",
   "metadata": {},
   "outputs": [
    {
     "data": {
      "text/plain": [
       "False"
      ]
     },
     "execution_count": 221,
     "metadata": {},
     "output_type": "execute_result"
    }
   ],
   "source": [
    "a = 23572093572895\n",
    "b = 23572093572895\n",
    "id(a) == id(b)"
   ]
  },
  {
   "cell_type": "code",
   "execution_count": 224,
   "id": "1613fc70",
   "metadata": {},
   "outputs": [
    {
     "name": "stdout",
     "output_type": "stream",
     "text": [
      "5 6 1 -2 3 4 5\n",
      "6 -2"
     ]
    }
   ],
   "source": [
    "inp=list(map(int,input().split()))\n",
    "\n",
    "N=inp[0]\n",
    "inp=inp[1:]\n",
    "\n",
    "max=-1\n",
    "min=10001\n",
    "\n",
    "for x in inp:\n",
    "    if x>max:\n",
    "        max=x\n",
    "    if x<min:\n",
    "        min=x\n",
    "\n",
    "print(max, end=\" \")\n",
    "print(min, end='')"
   ]
  },
  {
   "cell_type": "code",
   "execution_count": 228,
   "id": "19323baa",
   "metadata": {},
   "outputs": [
    {
     "name": "stdout",
     "output_type": "stream",
     "text": [
      "5\n",
      "10 -55 124 5 1\n",
      "['10', '-55', '124', '5', '1']\n",
      "[10, -55, 124, 5, 1]\n"
     ]
    }
   ],
   "source": [
    "N = int(input())\n",
    "X = input().split()\n",
    "print(X)\n",
    "res = []\n",
    "\n",
    "for i in X:\n",
    "    res.append(int(i))\n",
    "print(res)"
   ]
  },
  {
   "cell_type": "code",
   "execution_count": null,
   "id": "bd3cfc4e",
   "metadata": {},
   "outputs": [],
   "source": []
  }
 ],
 "metadata": {
  "kernelspec": {
   "display_name": "Python 3 (ipykernel)",
   "language": "python",
   "name": "python3"
  },
  "language_info": {
   "codemirror_mode": {
    "name": "ipython",
    "version": 3
   },
   "file_extension": ".py",
   "mimetype": "text/x-python",
   "name": "python",
   "nbconvert_exporter": "python",
   "pygments_lexer": "ipython3",
   "version": "3.9.12"
  }
 },
 "nbformat": 4,
 "nbformat_minor": 5
}
